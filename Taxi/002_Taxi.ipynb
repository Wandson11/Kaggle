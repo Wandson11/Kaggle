{
  "nbformat": 4,
  "nbformat_minor": 0,
  "metadata": {
    "colab": {
      "provenance": []
    },
    "kernelspec": {
      "name": "python3",
      "display_name": "Python 3"
    },
    "language_info": {
      "name": "python"
    }
  },
  "cells": [
    {
      "cell_type": "code",
      "source": [
        "a = []\n",
        "while(1):\n",
        "  a.append(1)"
      ],
      "metadata": {
        "id": "PDfIr44QjMng"
      },
      "execution_count": null,
      "outputs": []
    },
    {
      "cell_type": "code",
      "execution_count": 1,
      "metadata": {
        "id": "VzUJtXsWCTzv"
      },
      "outputs": [],
      "source": [
        "import pandas as pd\n",
        "import seaborn as sns\n",
        "import matplotlib.pyplot as plt\n",
        "import numpy as np\n",
        "import zipfile"
      ]
    },
    {
      "cell_type": "code",
      "source": [
        "with zipfile.ZipFile('/content/drive/MyDrive/train.zip') as primeira:\n",
        "  print(*primeira.namelist(), sep='\\n')"
      ],
      "metadata": {
        "id": "82vgwfN9EWSy"
      },
      "execution_count": null,
      "outputs": []
    },
    {
      "cell_type": "code",
      "source": [
        "with zipfile.ZipFile('/content/drive/MyDrive/train.zip') as primeira:\n",
        "  with primeira.open('train.csv') as segunda:\n",
        "    train = pd.read_csv(segunda, nrows = 10000)"
      ],
      "metadata": {
        "id": "1cXGPve9H4Fk"
      },
      "execution_count": null,
      "outputs": []
    },
    {
      "cell_type": "code",
      "source": [
        "train"
      ],
      "metadata": {
        "id": "ILKKXh2HsoNC"
      },
      "execution_count": null,
      "outputs": []
    },
    {
      "cell_type": "code",
      "source": [
        "train.shape"
      ],
      "metadata": {
        "id": "PjAak5naI-AD"
      },
      "execution_count": null,
      "outputs": []
    },
    {
      "cell_type": "code",
      "source": [
        "train.duplicated().sum()"
      ],
      "metadata": {
        "id": "F5nkc3fWNRFs"
      },
      "execution_count": null,
      "outputs": []
    },
    {
      "cell_type": "code",
      "source": [
        "train.isnull().sum()"
      ],
      "metadata": {
        "id": "ouHdZqxaNV1G"
      },
      "execution_count": null,
      "outputs": []
    },
    {
      "cell_type": "code",
      "source": [
        "train.info()"
      ],
      "metadata": {
        "id": "mwiY8jFjNZUx"
      },
      "execution_count": null,
      "outputs": []
    },
    {
      "cell_type": "code",
      "source": [
        "train.describe()"
      ],
      "metadata": {
        "id": "7Z-xiALrNbdI"
      },
      "execution_count": null,
      "outputs": []
    },
    {
      "cell_type": "code",
      "source": [
        "plt.figure(figsize=(16,8))\n",
        "sns.heatmap(train.corr(), annot = True)"
      ],
      "metadata": {
        "id": "69oHvF_cNeYv"
      },
      "execution_count": null,
      "outputs": []
    },
    {
      "cell_type": "code",
      "source": [
        "'''\n",
        "Usando o corr(), nota-se que a maioria dos valores se encontram próximos de 0, representados pelo otm roxo escuro\n",
        "nesse caso, o heatmap demonstra que os mesmos não possuem correlação\n",
        "Numa escala, um bom parâmetro para enteder a correção é a seguinte:\n",
        "ρ = 0,9 a 1 (positivo ou negativo): correlação muito forte;\n",
        "ρ = 0,7 a 09 (positivo ou negativo): correlação forte;\n",
        "ρ = 0,5 a 0,7 (positivo ou negativo): correlação moderada;\n",
        "ρ = 0,3 a 0,5 (positivo ou negativo): correlação fraca;\n",
        "ρ = 0 a 0,3 (positivo ou negativo): não possui correlação.\n",
        "\n",
        "Em posse dessas informações registra-se que \"dropoff_longitude\" tem correlação forte com \"pickup_longitude\", que significam a longitude que o medidor foi desligado com a\n",
        "longitude que o medidor foi ligado, o que faz total sentido.\n",
        "O mesmo se aplica ao dropoff_latitude com pickup_latitude, latitude que o medidor foi desligado com a latitude que o medidor foi ligado, no entanto, esse caso, \n",
        "a correlacao é fraca\n",
        "'''"
      ],
      "metadata": {
        "id": "sXiF7DCLQlmk"
      },
      "execution_count": null,
      "outputs": []
    },
    {
      "cell_type": "code",
      "source": [
        "with zipfile.ZipFile('/content/drive/MyDrive/test.zip') as terceira:\n",
        "  print(*terceira.namelist(), sep='\\n')"
      ],
      "metadata": {
        "id": "F96sktju2tWu"
      },
      "execution_count": null,
      "outputs": []
    },
    {
      "cell_type": "code",
      "source": [
        "with zipfile.ZipFile('/content/drive/MyDrive/test.zip') as terceira:\n",
        "  with terceira.open('test.csv') as quarta:\n",
        "    test = pd.read_csv(quarta)"
      ],
      "metadata": {
        "id": "uWoJlNvU3flA"
      },
      "execution_count": null,
      "outputs": []
    },
    {
      "cell_type": "code",
      "source": [
        "test"
      ],
      "metadata": {
        "id": "vJa4AJSP3uqI"
      },
      "execution_count": null,
      "outputs": []
    },
    {
      "cell_type": "code",
      "source": [
        "test.shape"
      ],
      "metadata": {
        "id": "hnZ7Cx704FTK"
      },
      "execution_count": null,
      "outputs": []
    },
    {
      "cell_type": "code",
      "source": [
        "test.isnull().sum()"
      ],
      "metadata": {
        "id": "PeskfRh-4T06"
      },
      "execution_count": null,
      "outputs": []
    },
    {
      "cell_type": "code",
      "source": [
        "test.duplicated().sum()"
      ],
      "metadata": {
        "id": "vfdgFfJd4T_X"
      },
      "execution_count": null,
      "outputs": []
    },
    {
      "cell_type": "code",
      "source": [
        "test.describe()"
      ],
      "metadata": {
        "id": "IFrPnLmZ4Hfi"
      },
      "execution_count": null,
      "outputs": []
    },
    {
      "cell_type": "code",
      "source": [
        "test.info()"
      ],
      "metadata": {
        "id": "vbLrqM_y3whh"
      },
      "execution_count": null,
      "outputs": []
    },
    {
      "cell_type": "code",
      "source": [
        "#Nota-se que em test, existem 2 colunas a menos: trip_duration (duracao da viagem) e dropoff_datetime (hora que o passageiro saiu do taxi.)\n",
        "#ambas correlacioandas com a demanda de apurar o tempo de duracao das corridas (variável alvo.)"
      ],
      "metadata": {
        "id": "XgnrKaaC3zj7"
      },
      "execution_count": null,
      "outputs": []
    },
    {
      "cell_type": "code",
      "source": [
        "plt.figure(figsize=(16,8))\n",
        "sns.heatmap(test.corr(), annot = True)"
      ],
      "metadata": {
        "id": "6MDpT_b44xsV"
      },
      "execution_count": null,
      "outputs": []
    },
    {
      "cell_type": "code",
      "source": [
        "#o comportamento das variáveis e de seus dependências com as demais, são similares ao de train, onde \"dropff_longitude\" tem forte correlacao com \"pickup_longitude\"\n",
        "# e \"dropoff_latitude\" com correlacao fraca com \"pickup_latitude\"\n",
        "# as demais, não possuem correlacao"
      ],
      "metadata": {
        "id": "lCwJ1Stb41Tc"
      },
      "execution_count": null,
      "outputs": []
    },
    {
      "cell_type": "markdown",
      "source": [
        "# Juntando em um dataframe"
      ],
      "metadata": {
        "id": "YY4g49-HXxg5"
      }
    },
    {
      "cell_type": "code",
      "source": [
        "df_completo = train.append(test, ignore_index = True)\n",
        "df_completo"
      ],
      "metadata": {
        "id": "WMc_aEB5X37G"
      },
      "execution_count": null,
      "outputs": []
    },
    {
      "cell_type": "code",
      "source": [],
      "metadata": {
        "id": "WjORKfiwX4Jt"
      },
      "execution_count": null,
      "outputs": []
    },
    {
      "cell_type": "code",
      "source": [],
      "metadata": {
        "id": "s7F9FEnBX4Uc"
      },
      "execution_count": null,
      "outputs": []
    },
    {
      "cell_type": "code",
      "source": [],
      "metadata": {
        "id": "YB-zM_jwX4dT"
      },
      "execution_count": null,
      "outputs": []
    },
    {
      "cell_type": "markdown",
      "source": [
        "# Modificações"
      ],
      "metadata": {
        "id": "VKNx_fP5CCqs"
      }
    },
    {
      "cell_type": "code",
      "source": [
        "#a ideia agora é a de modificar as colunas pickup_datetime e\tdropoff_datetime, onde a mesma consta como \"Object\", sendo que a sua saida corresponde as datas e horarios das corridas\n",
        "# e para melhor funcionamento da machine learning, preferiu-se arrumar tais informações em colunas distintas."
      ],
      "metadata": {
        "id": "21r2sWi5CHBS"
      },
      "execution_count": null,
      "outputs": []
    },
    {
      "cell_type": "code",
      "source": [
        "#feita essa análise preliminar, onde foi constatado pela inexistencia de valores nulos nas colunas aqui chamade de \"features\",\n",
        "#nao existem proedimentos para imputar ou padronizar valores."
      ],
      "metadata": {
        "id": "HuXQ7UHr6W80"
      },
      "execution_count": null,
      "outputs": []
    },
    {
      "cell_type": "code",
      "source": [
        "df_completo['pickup_datetime']"
      ],
      "metadata": {
        "id": "LXCjUUTeCHKr"
      },
      "execution_count": null,
      "outputs": []
    },
    {
      "cell_type": "code",
      "source": [
        "df_completo['Mes Embarque'] = pd.DatetimeIndex(df_completo['pickup_datetime']).month"
      ],
      "metadata": {
        "id": "ZhFZ_HXKDvoP"
      },
      "execution_count": null,
      "outputs": []
    },
    {
      "cell_type": "code",
      "source": [
        "df_completo"
      ],
      "metadata": {
        "id": "cQ0FouOEEvZQ"
      },
      "execution_count": null,
      "outputs": []
    },
    {
      "cell_type": "code",
      "source": [
        "df_completo['Ano Embarque'] = pd.DatetimeIndex(df_completo['pickup_datetime']).year"
      ],
      "metadata": {
        "id": "0fWB38CrEvcu"
      },
      "execution_count": null,
      "outputs": []
    },
    {
      "cell_type": "code",
      "source": [
        "df_completo['Dia Embarque'] =pd.DatetimeIndex(df_completo['pickup_datetime']).day"
      ],
      "metadata": {
        "id": "c0OFC81hYPAu"
      },
      "execution_count": null,
      "outputs": []
    },
    {
      "cell_type": "code",
      "source": [
        "df_completo['Ano Embarque'].unique()"
      ],
      "metadata": {
        "id": "NB5N6nRkE7V9"
      },
      "execution_count": null,
      "outputs": []
    },
    {
      "cell_type": "code",
      "source": [
        "#pesquisando no stackoverflow, vi que uma maneira de separar a hora da data é transformando a coluna em \"datetime\"\n",
        "#e em seguida, usando o \"dt.strftime('%H:%M:%S')\"\n",
        "#tentei usar o \"dt.strftime\" mas é necessário primeiro transformar a coluna em \"datetime\", caso contrário, dará erro."
      ],
      "metadata": {
        "id": "i_EvFg90UKDK"
      },
      "execution_count": null,
      "outputs": []
    },
    {
      "cell_type": "code",
      "source": [
        "df_completo['pickup_datetime'] = pd.to_datetime(df_completo['pickup_datetime'])"
      ],
      "metadata": {
        "id": "i1ZAj4ILT4Ws"
      },
      "execution_count": null,
      "outputs": []
    },
    {
      "cell_type": "code",
      "source": [
        "df_completo['pickup_datetime'] = df_completo['pickup_datetime'].dt.strftime('%H:%M:%S')"
      ],
      "metadata": {
        "id": "hIPE1_i4Evf1"
      },
      "execution_count": null,
      "outputs": []
    },
    {
      "cell_type": "code",
      "source": [
        "df_completo.head()"
      ],
      "metadata": {
        "id": "3n99b4ZnVHn2"
      },
      "execution_count": null,
      "outputs": []
    },
    {
      "cell_type": "markdown",
      "source": [
        "Segunda coluna"
      ],
      "metadata": {
        "id": "rBqSAO-zVwiG"
      }
    },
    {
      "cell_type": "code",
      "source": [
        "df_completo['Mes Desembarque'] = pd.DatetimeIndex(df_completo['dropoff_datetime']).month\n",
        "df_completo['Ano Desembarque'] = pd.DatetimeIndex(df_completo['dropoff_datetime']).year\n",
        "df_completo['Dia Desembarque'] = pd.DatetimeIndex(df_completo['dropoff_datetime']).day\n",
        "df_completo.head()"
      ],
      "metadata": {
        "id": "ouiA_ptaVzZm"
      },
      "execution_count": null,
      "outputs": []
    },
    {
      "cell_type": "code",
      "source": [
        "df_completo['dropoff_datetime'] = pd.to_datetime(df_completo['dropoff_datetime'])\n",
        "df_completo.info()"
      ],
      "metadata": {
        "id": "99h_928_Vzh5"
      },
      "execution_count": null,
      "outputs": []
    },
    {
      "cell_type": "code",
      "source": [
        "df_completo['dropoff_datetime'] = df_completo['dropoff_datetime'].dt.strftime(\"%H:%M:%S\")"
      ],
      "metadata": {
        "id": "LnVmgghOVzlV"
      },
      "execution_count": null,
      "outputs": []
    },
    {
      "cell_type": "code",
      "source": [
        "df_completo"
      ],
      "metadata": {
        "id": "gIyBkxV-VzpF"
      },
      "execution_count": null,
      "outputs": []
    },
    {
      "cell_type": "markdown",
      "source": [
        "# Separando as variáveis alvos e features"
      ],
      "metadata": {
        "id": "I6KKgiT_BFzV"
      }
    },
    {
      "cell_type": "code",
      "source": [
        "train_index = len(train)\n",
        "train_index"
      ],
      "metadata": {
        "id": "Dxx5_vjrbK9o"
      },
      "execution_count": null,
      "outputs": []
    },
    {
      "cell_type": "code",
      "source": [
        "test_index = len(df_completo) - len(test)\n",
        "test_index"
      ],
      "metadata": {
        "id": "sEAF5RhjbLAr"
      },
      "execution_count": null,
      "outputs": []
    },
    {
      "cell_type": "code",
      "source": [
        "train = df_completo[:train_index].copy()\n",
        "train"
      ],
      "metadata": {
        "id": "FQh1v7BcbLD1"
      },
      "execution_count": null,
      "outputs": []
    },
    {
      "cell_type": "code",
      "source": [
        "test = df_completo[test_index:].copy()\n",
        "test"
      ],
      "metadata": {
        "id": "5uzbg8Y9bLHt"
      },
      "execution_count": null,
      "outputs": []
    },
    {
      "cell_type": "code",
      "source": [],
      "metadata": {
        "id": "96kMlojMbLKZ"
      },
      "execution_count": null,
      "outputs": []
    },
    {
      "cell_type": "code",
      "source": [],
      "metadata": {
        "id": "NMXugcfqbLNJ"
      },
      "execution_count": null,
      "outputs": []
    },
    {
      "cell_type": "code",
      "source": [],
      "metadata": {
        "id": "B6YoHSDkbLRn"
      },
      "execution_count": null,
      "outputs": []
    },
    {
      "cell_type": "code",
      "source": [
        "train"
      ],
      "metadata": {
        "id": "wYRsuVZNBEvX"
      },
      "execution_count": null,
      "outputs": []
    },
    {
      "cell_type": "code",
      "source": [
        "X = train.drop(['id', 'vendor_id', 'trip_duration'], axis = 1)\n",
        "y = train['trip_duration']"
      ],
      "metadata": {
        "id": "SByB2NquVzsu"
      },
      "execution_count": null,
      "outputs": []
    },
    {
      "cell_type": "code",
      "source": [
        "X"
      ],
      "metadata": {
        "id": "NPEtAbVoBJjN"
      },
      "execution_count": null,
      "outputs": []
    },
    {
      "cell_type": "code",
      "source": [
        "y"
      ],
      "metadata": {
        "id": "BoQfmqMDaco2"
      },
      "execution_count": null,
      "outputs": []
    },
    {
      "cell_type": "markdown",
      "source": [
        "# Machine Learning"
      ],
      "metadata": {
        "id": "wJCif3Q5bB0x"
      }
    },
    {
      "cell_type": "code",
      "source": [
        "from sklearn.preprocessing import OneHotEncoder, LabelEncoder\n",
        "from sklearn.model_selection import train_test_split\n",
        "from sklearn import model_selection, tree, preprocessing, metrics, linear_model\n",
        "from sklearn.svm import LinearSVC\n",
        "from sklearn.ensemble import GradientBoostingClassifier, RandomForestClassifier\n",
        "from sklearn.neighbors import KNeighborsClassifier\n",
        "\n",
        "from sklearn.naive_bayes import GaussianNB\n",
        "from sklearn.linear_model import LinearRegression, LogisticRegression, SGDClassifier\n",
        "from sklearn.tree import DecisionTreeClassifier\n",
        "!pip install catboost\n",
        "import catboost\n",
        "from catboost import CatBoostClassifier, Pool, cv"
      ],
      "metadata": {
        "id": "rKaVrQcbadE1"
      },
      "execution_count": null,
      "outputs": []
    },
    {
      "cell_type": "code",
      "source": [
        "from xgboost import XGBRegressor"
      ],
      "metadata": {
        "id": "GI9ClJ4bc5AR"
      },
      "execution_count": null,
      "outputs": []
    },
    {
      "cell_type": "code",
      "source": [
        "X_train, X_valid, y_train, y_valid = train_test_split(X, y, train_size=0.7, test_size = 0.3)"
      ],
      "metadata": {
        "id": "2radeFXmdxQ6"
      },
      "execution_count": null,
      "outputs": []
    },
    {
      "cell_type": "code",
      "source": [
        "X_train.shape, X_valid.shape, y_train.shape, y_valid.shape"
      ],
      "metadata": {
        "id": "4divcPiLeD4r"
      },
      "execution_count": null,
      "outputs": []
    },
    {
      "cell_type": "code",
      "source": [
        "colunas_categoricas = [categoricas for categoricas in X_train.columns if X_train[categoricas].dtype == 'object']"
      ],
      "metadata": {
        "id": "ePU7sFwceKag"
      },
      "execution_count": null,
      "outputs": []
    },
    {
      "cell_type": "code",
      "source": [
        "colunas_categoricas"
      ],
      "metadata": {
        "id": "jdfl3cHEv4oW"
      },
      "execution_count": null,
      "outputs": []
    },
    {
      "cell_type": "code",
      "source": [
        "colunas_numericas = [numero for numero in X_train.columns if X_train[numero].dtype in ['int64', 'float64']]"
      ],
      "metadata": {
        "id": "PZfJ6--Cv5_x"
      },
      "execution_count": null,
      "outputs": []
    },
    {
      "cell_type": "code",
      "source": [
        "colunas_numericas"
      ],
      "metadata": {
        "id": "mvl3vqafwcQg"
      },
      "execution_count": null,
      "outputs": []
    },
    {
      "cell_type": "code",
      "source": [
        "todas_colunas = colunas_categoricas + colunas_numericas\n",
        "X_train = X_train[todas_colunas].copy()\n",
        "X_valid = X_valid[todas_colunas].copy()"
      ],
      "metadata": {
        "id": "rKGyl3PCwfn_"
      },
      "execution_count": null,
      "outputs": []
    },
    {
      "cell_type": "code",
      "source": [
        "from sklearn.pipeline import Pipeline"
      ],
      "metadata": {
        "id": "YXD98_f7xsiD"
      },
      "execution_count": null,
      "outputs": []
    },
    {
      "cell_type": "code",
      "source": [
        "from sklearn.compose import ColumnTransformer"
      ],
      "metadata": {
        "id": "YMCdKVl7x44D"
      },
      "execution_count": null,
      "outputs": []
    },
    {
      "cell_type": "code",
      "source": [
        "from sklearn.impute import SimpleImputer"
      ],
      "metadata": {
        "id": "Co5daV-0yagl"
      },
      "execution_count": null,
      "outputs": []
    },
    {
      "cell_type": "code",
      "source": [
        "imputacao = SimpleImputer(strategy='median')"
      ],
      "metadata": {
        "id": "Ze2xiFfZ0UPR"
      },
      "execution_count": null,
      "outputs": []
    },
    {
      "cell_type": "code",
      "source": [
        "cat = Pipeline(steps = [\n",
        "    ('imputacao', SimpleImputer(strategy='most_frequent')),\n",
        "    ('OneHot', OneHotEncoder(handle_unknown = 'ignore', sparse = False))\n",
        "])"
      ],
      "metadata": {
        "id": "Zma8dYuF0Zrl"
      },
      "execution_count": null,
      "outputs": []
    },
    {
      "cell_type": "code",
      "source": [
        "preprocessamento = ColumnTransformer(transformers = [\n",
        "    ('imp', imputacao, colunas_numericas),\n",
        "    ('cat', cat, colunas_categoricas)\n",
        "])"
      ],
      "metadata": {
        "id": "YSOuxWZD0ugl"
      },
      "execution_count": null,
      "outputs": []
    },
    {
      "cell_type": "code",
      "source": [
        "from sklearn.ensemble import AdaBoostClassifier\n",
        "from sklearn import tree\n",
        "from xgboost import XGBRegressor"
      ],
      "metadata": {
        "id": "8RYM5YCk3Gob"
      },
      "execution_count": null,
      "outputs": []
    },
    {
      "cell_type": "code",
      "source": [
        "modelo = XGBRegressor(booster = 'gbtree', njobs = -1, verbosity = 0)"
      ],
      "metadata": {
        "id": "z1eA-SnA1wkD"
      },
      "execution_count": null,
      "outputs": []
    },
    {
      "cell_type": "code",
      "source": [
        "my_pipeline = Pipeline(steps = [\n",
        "    ('pre', preprocessamento),\n",
        "    ('mod', modelo)\n",
        "])"
      ],
      "metadata": {
        "id": "BwZXzgNi2GXZ"
      },
      "execution_count": null,
      "outputs": []
    },
    {
      "cell_type": "code",
      "source": [
        "my_pipeline.fit(X_train, y_train)"
      ],
      "metadata": {
        "id": "yB0AeAWf2S_h"
      },
      "execution_count": null,
      "outputs": []
    },
    {
      "cell_type": "code",
      "source": [
        "predicao = my_pipeline.predict(X_valid)\n",
        "predicao"
      ],
      "metadata": {
        "id": "CaVf1O062V_Y"
      },
      "execution_count": null,
      "outputs": []
    },
    {
      "cell_type": "code",
      "source": [
        "from sklearn.metrics import mean_absolute_error"
      ],
      "metadata": {
        "id": "LDRKpfMFDCr2"
      },
      "execution_count": null,
      "outputs": []
    },
    {
      "cell_type": "code",
      "source": [
        "mean_absolute_error(y_valid, predicao)"
      ],
      "metadata": {
        "id": "UvaI98OCDZ8y"
      },
      "execution_count": null,
      "outputs": []
    },
    {
      "cell_type": "code",
      "source": [
        "from sklearn.model_selection import cross_val_score"
      ],
      "metadata": {
        "id": "rm-_tqQHDejL"
      },
      "execution_count": null,
      "outputs": []
    },
    {
      "cell_type": "code",
      "source": [
        "#validacao = -1 * cross_val_score(my_pipeline, X, y, cv = 3, scoring='neg_mean_absolute_error')"
      ],
      "metadata": {
        "id": "qp7N5u8gFPo9"
      },
      "execution_count": null,
      "outputs": []
    },
    {
      "cell_type": "markdown",
      "source": [
        "# Test"
      ],
      "metadata": {
        "id": "BOJijSicPjgM"
      }
    },
    {
      "cell_type": "code",
      "source": [
        "test"
      ],
      "metadata": {
        "id": "YEyzkkKoFjA5"
      },
      "execution_count": null,
      "outputs": []
    },
    {
      "cell_type": "code",
      "source": [
        "#transformar \"pickup_datetime\" em datetime"
      ],
      "metadata": {
        "id": "-PbyCdI5Mp10"
      },
      "execution_count": null,
      "outputs": []
    },
    {
      "cell_type": "code",
      "source": [
        "X_test = test[todas_colunas].copy()"
      ],
      "metadata": {
        "id": "bPXcqZt9OhXD"
      },
      "execution_count": null,
      "outputs": []
    },
    {
      "cell_type": "code",
      "source": [
        "preds = my_pipeline.predict(X_test)\n",
        "preds"
      ],
      "metadata": {
        "id": "UvNR6OVmPWsv"
      },
      "execution_count": null,
      "outputs": []
    },
    {
      "cell_type": "code",
      "source": [],
      "metadata": {
        "id": "Bkt6WiT6Pebf"
      },
      "execution_count": null,
      "outputs": []
    }
  ]
}