{
  "nbformat": 4,
  "nbformat_minor": 0,
  "metadata": {
    "colab": {
      "provenance": []
    },
    "kernelspec": {
      "name": "python3",
      "display_name": "Python 3"
    },
    "language_info": {
      "name": "python"
    }
  },
  "cells": [
    {
      "cell_type": "code",
      "execution_count": 1,
      "metadata": {
        "id": "PtStpZbSekHD"
      },
      "outputs": [],
      "source": [
        "import pandas as pd\n",
        "import seaborn as sns\n",
        "import matplotlib.pyplot as plt\n",
        "import numpy as np"
      ]
    },
    {
      "cell_type": "code",
      "source": [
        "import zipfile"
      ],
      "metadata": {
        "id": "Hz4XLmFofh5M"
      },
      "execution_count": 2,
      "outputs": []
    },
    {
      "cell_type": "code",
      "source": [
        "with zipfile.ZipFile('/content/archive.zip') as a:\n",
        "  print(*a.namelist())"
      ],
      "metadata": {
        "colab": {
          "base_uri": "https://localhost:8080/"
        },
        "id": "WEzeYIGCfql-",
        "outputId": "812ddee5-91a0-4f2a-9e8a-b5a3986e8bdd"
      },
      "execution_count": 3,
      "outputs": [
        {
          "output_type": "stream",
          "name": "stdout",
          "text": [
            "WA_Fn-UseC_-Telco-Customer-Churn.csv\n"
          ]
        }
      ]
    },
    {
      "cell_type": "code",
      "source": [
        "with zipfile.ZipFile('/content/archive.zip') as a:\n",
        "  with a.open('WA_Fn-UseC_-Telco-Customer-Churn.csv') as b:\n",
        "    train = pd.read_csv(b)"
      ],
      "metadata": {
        "id": "i183f2AzgBVj"
      },
      "execution_count": 4,
      "outputs": []
    },
    {
      "cell_type": "code",
      "source": [
        "train"
      ],
      "metadata": {
        "colab": {
          "base_uri": "https://localhost:8080/",
          "height": 661
        },
        "id": "JQjHpPYXgdxe",
        "outputId": "171cebca-cc90-46dd-b27d-5f74d9433156"
      },
      "execution_count": 5,
      "outputs": [
        {
          "output_type": "execute_result",
          "data": {
            "text/plain": [
              "      customerID  gender  SeniorCitizen Partner Dependents  tenure  \\\n",
              "0     7590-VHVEG  Female              0     Yes         No       1   \n",
              "1     5575-GNVDE    Male              0      No         No      34   \n",
              "2     3668-QPYBK    Male              0      No         No       2   \n",
              "3     7795-CFOCW    Male              0      No         No      45   \n",
              "4     9237-HQITU  Female              0      No         No       2   \n",
              "...          ...     ...            ...     ...        ...     ...   \n",
              "7038  6840-RESVB    Male              0     Yes        Yes      24   \n",
              "7039  2234-XADUH  Female              0     Yes        Yes      72   \n",
              "7040  4801-JZAZL  Female              0     Yes        Yes      11   \n",
              "7041  8361-LTMKD    Male              1     Yes         No       4   \n",
              "7042  3186-AJIEK    Male              0      No         No      66   \n",
              "\n",
              "     PhoneService     MultipleLines InternetService OnlineSecurity  ...  \\\n",
              "0              No  No phone service             DSL             No  ...   \n",
              "1             Yes                No             DSL            Yes  ...   \n",
              "2             Yes                No             DSL            Yes  ...   \n",
              "3              No  No phone service             DSL            Yes  ...   \n",
              "4             Yes                No     Fiber optic             No  ...   \n",
              "...           ...               ...             ...            ...  ...   \n",
              "7038          Yes               Yes             DSL            Yes  ...   \n",
              "7039          Yes               Yes     Fiber optic             No  ...   \n",
              "7040           No  No phone service             DSL            Yes  ...   \n",
              "7041          Yes               Yes     Fiber optic             No  ...   \n",
              "7042          Yes                No     Fiber optic            Yes  ...   \n",
              "\n",
              "     DeviceProtection TechSupport StreamingTV StreamingMovies        Contract  \\\n",
              "0                  No          No          No              No  Month-to-month   \n",
              "1                 Yes          No          No              No        One year   \n",
              "2                  No          No          No              No  Month-to-month   \n",
              "3                 Yes         Yes          No              No        One year   \n",
              "4                  No          No          No              No  Month-to-month   \n",
              "...               ...         ...         ...             ...             ...   \n",
              "7038              Yes         Yes         Yes             Yes        One year   \n",
              "7039              Yes          No         Yes             Yes        One year   \n",
              "7040               No          No          No              No  Month-to-month   \n",
              "7041               No          No          No              No  Month-to-month   \n",
              "7042              Yes         Yes         Yes             Yes        Two year   \n",
              "\n",
              "     PaperlessBilling              PaymentMethod MonthlyCharges  TotalCharges  \\\n",
              "0                 Yes           Electronic check          29.85         29.85   \n",
              "1                  No               Mailed check          56.95        1889.5   \n",
              "2                 Yes               Mailed check          53.85        108.15   \n",
              "3                  No  Bank transfer (automatic)          42.30       1840.75   \n",
              "4                 Yes           Electronic check          70.70        151.65   \n",
              "...               ...                        ...            ...           ...   \n",
              "7038              Yes               Mailed check          84.80        1990.5   \n",
              "7039              Yes    Credit card (automatic)         103.20        7362.9   \n",
              "7040              Yes           Electronic check          29.60        346.45   \n",
              "7041              Yes               Mailed check          74.40         306.6   \n",
              "7042              Yes  Bank transfer (automatic)         105.65        6844.5   \n",
              "\n",
              "     Churn  \n",
              "0       No  \n",
              "1       No  \n",
              "2      Yes  \n",
              "3       No  \n",
              "4      Yes  \n",
              "...    ...  \n",
              "7038    No  \n",
              "7039    No  \n",
              "7040    No  \n",
              "7041   Yes  \n",
              "7042    No  \n",
              "\n",
              "[7043 rows x 21 columns]"
            ],
            "text/html": [
              "\n",
              "  <div id=\"df-e8d28a8e-0a51-4a1f-ba3e-722c6d60957c\">\n",
              "    <div class=\"colab-df-container\">\n",
              "      <div>\n",
              "<style scoped>\n",
              "    .dataframe tbody tr th:only-of-type {\n",
              "        vertical-align: middle;\n",
              "    }\n",
              "\n",
              "    .dataframe tbody tr th {\n",
              "        vertical-align: top;\n",
              "    }\n",
              "\n",
              "    .dataframe thead th {\n",
              "        text-align: right;\n",
              "    }\n",
              "</style>\n",
              "<table border=\"1\" class=\"dataframe\">\n",
              "  <thead>\n",
              "    <tr style=\"text-align: right;\">\n",
              "      <th></th>\n",
              "      <th>customerID</th>\n",
              "      <th>gender</th>\n",
              "      <th>SeniorCitizen</th>\n",
              "      <th>Partner</th>\n",
              "      <th>Dependents</th>\n",
              "      <th>tenure</th>\n",
              "      <th>PhoneService</th>\n",
              "      <th>MultipleLines</th>\n",
              "      <th>InternetService</th>\n",
              "      <th>OnlineSecurity</th>\n",
              "      <th>...</th>\n",
              "      <th>DeviceProtection</th>\n",
              "      <th>TechSupport</th>\n",
              "      <th>StreamingTV</th>\n",
              "      <th>StreamingMovies</th>\n",
              "      <th>Contract</th>\n",
              "      <th>PaperlessBilling</th>\n",
              "      <th>PaymentMethod</th>\n",
              "      <th>MonthlyCharges</th>\n",
              "      <th>TotalCharges</th>\n",
              "      <th>Churn</th>\n",
              "    </tr>\n",
              "  </thead>\n",
              "  <tbody>\n",
              "    <tr>\n",
              "      <th>0</th>\n",
              "      <td>7590-VHVEG</td>\n",
              "      <td>Female</td>\n",
              "      <td>0</td>\n",
              "      <td>Yes</td>\n",
              "      <td>No</td>\n",
              "      <td>1</td>\n",
              "      <td>No</td>\n",
              "      <td>No phone service</td>\n",
              "      <td>DSL</td>\n",
              "      <td>No</td>\n",
              "      <td>...</td>\n",
              "      <td>No</td>\n",
              "      <td>No</td>\n",
              "      <td>No</td>\n",
              "      <td>No</td>\n",
              "      <td>Month-to-month</td>\n",
              "      <td>Yes</td>\n",
              "      <td>Electronic check</td>\n",
              "      <td>29.85</td>\n",
              "      <td>29.85</td>\n",
              "      <td>No</td>\n",
              "    </tr>\n",
              "    <tr>\n",
              "      <th>1</th>\n",
              "      <td>5575-GNVDE</td>\n",
              "      <td>Male</td>\n",
              "      <td>0</td>\n",
              "      <td>No</td>\n",
              "      <td>No</td>\n",
              "      <td>34</td>\n",
              "      <td>Yes</td>\n",
              "      <td>No</td>\n",
              "      <td>DSL</td>\n",
              "      <td>Yes</td>\n",
              "      <td>...</td>\n",
              "      <td>Yes</td>\n",
              "      <td>No</td>\n",
              "      <td>No</td>\n",
              "      <td>No</td>\n",
              "      <td>One year</td>\n",
              "      <td>No</td>\n",
              "      <td>Mailed check</td>\n",
              "      <td>56.95</td>\n",
              "      <td>1889.5</td>\n",
              "      <td>No</td>\n",
              "    </tr>\n",
              "    <tr>\n",
              "      <th>2</th>\n",
              "      <td>3668-QPYBK</td>\n",
              "      <td>Male</td>\n",
              "      <td>0</td>\n",
              "      <td>No</td>\n",
              "      <td>No</td>\n",
              "      <td>2</td>\n",
              "      <td>Yes</td>\n",
              "      <td>No</td>\n",
              "      <td>DSL</td>\n",
              "      <td>Yes</td>\n",
              "      <td>...</td>\n",
              "      <td>No</td>\n",
              "      <td>No</td>\n",
              "      <td>No</td>\n",
              "      <td>No</td>\n",
              "      <td>Month-to-month</td>\n",
              "      <td>Yes</td>\n",
              "      <td>Mailed check</td>\n",
              "      <td>53.85</td>\n",
              "      <td>108.15</td>\n",
              "      <td>Yes</td>\n",
              "    </tr>\n",
              "    <tr>\n",
              "      <th>3</th>\n",
              "      <td>7795-CFOCW</td>\n",
              "      <td>Male</td>\n",
              "      <td>0</td>\n",
              "      <td>No</td>\n",
              "      <td>No</td>\n",
              "      <td>45</td>\n",
              "      <td>No</td>\n",
              "      <td>No phone service</td>\n",
              "      <td>DSL</td>\n",
              "      <td>Yes</td>\n",
              "      <td>...</td>\n",
              "      <td>Yes</td>\n",
              "      <td>Yes</td>\n",
              "      <td>No</td>\n",
              "      <td>No</td>\n",
              "      <td>One year</td>\n",
              "      <td>No</td>\n",
              "      <td>Bank transfer (automatic)</td>\n",
              "      <td>42.30</td>\n",
              "      <td>1840.75</td>\n",
              "      <td>No</td>\n",
              "    </tr>\n",
              "    <tr>\n",
              "      <th>4</th>\n",
              "      <td>9237-HQITU</td>\n",
              "      <td>Female</td>\n",
              "      <td>0</td>\n",
              "      <td>No</td>\n",
              "      <td>No</td>\n",
              "      <td>2</td>\n",
              "      <td>Yes</td>\n",
              "      <td>No</td>\n",
              "      <td>Fiber optic</td>\n",
              "      <td>No</td>\n",
              "      <td>...</td>\n",
              "      <td>No</td>\n",
              "      <td>No</td>\n",
              "      <td>No</td>\n",
              "      <td>No</td>\n",
              "      <td>Month-to-month</td>\n",
              "      <td>Yes</td>\n",
              "      <td>Electronic check</td>\n",
              "      <td>70.70</td>\n",
              "      <td>151.65</td>\n",
              "      <td>Yes</td>\n",
              "    </tr>\n",
              "    <tr>\n",
              "      <th>...</th>\n",
              "      <td>...</td>\n",
              "      <td>...</td>\n",
              "      <td>...</td>\n",
              "      <td>...</td>\n",
              "      <td>...</td>\n",
              "      <td>...</td>\n",
              "      <td>...</td>\n",
              "      <td>...</td>\n",
              "      <td>...</td>\n",
              "      <td>...</td>\n",
              "      <td>...</td>\n",
              "      <td>...</td>\n",
              "      <td>...</td>\n",
              "      <td>...</td>\n",
              "      <td>...</td>\n",
              "      <td>...</td>\n",
              "      <td>...</td>\n",
              "      <td>...</td>\n",
              "      <td>...</td>\n",
              "      <td>...</td>\n",
              "      <td>...</td>\n",
              "    </tr>\n",
              "    <tr>\n",
              "      <th>7038</th>\n",
              "      <td>6840-RESVB</td>\n",
              "      <td>Male</td>\n",
              "      <td>0</td>\n",
              "      <td>Yes</td>\n",
              "      <td>Yes</td>\n",
              "      <td>24</td>\n",
              "      <td>Yes</td>\n",
              "      <td>Yes</td>\n",
              "      <td>DSL</td>\n",
              "      <td>Yes</td>\n",
              "      <td>...</td>\n",
              "      <td>Yes</td>\n",
              "      <td>Yes</td>\n",
              "      <td>Yes</td>\n",
              "      <td>Yes</td>\n",
              "      <td>One year</td>\n",
              "      <td>Yes</td>\n",
              "      <td>Mailed check</td>\n",
              "      <td>84.80</td>\n",
              "      <td>1990.5</td>\n",
              "      <td>No</td>\n",
              "    </tr>\n",
              "    <tr>\n",
              "      <th>7039</th>\n",
              "      <td>2234-XADUH</td>\n",
              "      <td>Female</td>\n",
              "      <td>0</td>\n",
              "      <td>Yes</td>\n",
              "      <td>Yes</td>\n",
              "      <td>72</td>\n",
              "      <td>Yes</td>\n",
              "      <td>Yes</td>\n",
              "      <td>Fiber optic</td>\n",
              "      <td>No</td>\n",
              "      <td>...</td>\n",
              "      <td>Yes</td>\n",
              "      <td>No</td>\n",
              "      <td>Yes</td>\n",
              "      <td>Yes</td>\n",
              "      <td>One year</td>\n",
              "      <td>Yes</td>\n",
              "      <td>Credit card (automatic)</td>\n",
              "      <td>103.20</td>\n",
              "      <td>7362.9</td>\n",
              "      <td>No</td>\n",
              "    </tr>\n",
              "    <tr>\n",
              "      <th>7040</th>\n",
              "      <td>4801-JZAZL</td>\n",
              "      <td>Female</td>\n",
              "      <td>0</td>\n",
              "      <td>Yes</td>\n",
              "      <td>Yes</td>\n",
              "      <td>11</td>\n",
              "      <td>No</td>\n",
              "      <td>No phone service</td>\n",
              "      <td>DSL</td>\n",
              "      <td>Yes</td>\n",
              "      <td>...</td>\n",
              "      <td>No</td>\n",
              "      <td>No</td>\n",
              "      <td>No</td>\n",
              "      <td>No</td>\n",
              "      <td>Month-to-month</td>\n",
              "      <td>Yes</td>\n",
              "      <td>Electronic check</td>\n",
              "      <td>29.60</td>\n",
              "      <td>346.45</td>\n",
              "      <td>No</td>\n",
              "    </tr>\n",
              "    <tr>\n",
              "      <th>7041</th>\n",
              "      <td>8361-LTMKD</td>\n",
              "      <td>Male</td>\n",
              "      <td>1</td>\n",
              "      <td>Yes</td>\n",
              "      <td>No</td>\n",
              "      <td>4</td>\n",
              "      <td>Yes</td>\n",
              "      <td>Yes</td>\n",
              "      <td>Fiber optic</td>\n",
              "      <td>No</td>\n",
              "      <td>...</td>\n",
              "      <td>No</td>\n",
              "      <td>No</td>\n",
              "      <td>No</td>\n",
              "      <td>No</td>\n",
              "      <td>Month-to-month</td>\n",
              "      <td>Yes</td>\n",
              "      <td>Mailed check</td>\n",
              "      <td>74.40</td>\n",
              "      <td>306.6</td>\n",
              "      <td>Yes</td>\n",
              "    </tr>\n",
              "    <tr>\n",
              "      <th>7042</th>\n",
              "      <td>3186-AJIEK</td>\n",
              "      <td>Male</td>\n",
              "      <td>0</td>\n",
              "      <td>No</td>\n",
              "      <td>No</td>\n",
              "      <td>66</td>\n",
              "      <td>Yes</td>\n",
              "      <td>No</td>\n",
              "      <td>Fiber optic</td>\n",
              "      <td>Yes</td>\n",
              "      <td>...</td>\n",
              "      <td>Yes</td>\n",
              "      <td>Yes</td>\n",
              "      <td>Yes</td>\n",
              "      <td>Yes</td>\n",
              "      <td>Two year</td>\n",
              "      <td>Yes</td>\n",
              "      <td>Bank transfer (automatic)</td>\n",
              "      <td>105.65</td>\n",
              "      <td>6844.5</td>\n",
              "      <td>No</td>\n",
              "    </tr>\n",
              "  </tbody>\n",
              "</table>\n",
              "<p>7043 rows × 21 columns</p>\n",
              "</div>\n",
              "      <button class=\"colab-df-convert\" onclick=\"convertToInteractive('df-e8d28a8e-0a51-4a1f-ba3e-722c6d60957c')\"\n",
              "              title=\"Convert this dataframe to an interactive table.\"\n",
              "              style=\"display:none;\">\n",
              "        \n",
              "  <svg xmlns=\"http://www.w3.org/2000/svg\" height=\"24px\"viewBox=\"0 0 24 24\"\n",
              "       width=\"24px\">\n",
              "    <path d=\"M0 0h24v24H0V0z\" fill=\"none\"/>\n",
              "    <path d=\"M18.56 5.44l.94 2.06.94-2.06 2.06-.94-2.06-.94-.94-2.06-.94 2.06-2.06.94zm-11 1L8.5 8.5l.94-2.06 2.06-.94-2.06-.94L8.5 2.5l-.94 2.06-2.06.94zm10 10l.94 2.06.94-2.06 2.06-.94-2.06-.94-.94-2.06-.94 2.06-2.06.94z\"/><path d=\"M17.41 7.96l-1.37-1.37c-.4-.4-.92-.59-1.43-.59-.52 0-1.04.2-1.43.59L10.3 9.45l-7.72 7.72c-.78.78-.78 2.05 0 2.83L4 21.41c.39.39.9.59 1.41.59.51 0 1.02-.2 1.41-.59l7.78-7.78 2.81-2.81c.8-.78.8-2.07 0-2.86zM5.41 20L4 18.59l7.72-7.72 1.47 1.35L5.41 20z\"/>\n",
              "  </svg>\n",
              "      </button>\n",
              "      \n",
              "  <style>\n",
              "    .colab-df-container {\n",
              "      display:flex;\n",
              "      flex-wrap:wrap;\n",
              "      gap: 12px;\n",
              "    }\n",
              "\n",
              "    .colab-df-convert {\n",
              "      background-color: #E8F0FE;\n",
              "      border: none;\n",
              "      border-radius: 50%;\n",
              "      cursor: pointer;\n",
              "      display: none;\n",
              "      fill: #1967D2;\n",
              "      height: 32px;\n",
              "      padding: 0 0 0 0;\n",
              "      width: 32px;\n",
              "    }\n",
              "\n",
              "    .colab-df-convert:hover {\n",
              "      background-color: #E2EBFA;\n",
              "      box-shadow: 0px 1px 2px rgba(60, 64, 67, 0.3), 0px 1px 3px 1px rgba(60, 64, 67, 0.15);\n",
              "      fill: #174EA6;\n",
              "    }\n",
              "\n",
              "    [theme=dark] .colab-df-convert {\n",
              "      background-color: #3B4455;\n",
              "      fill: #D2E3FC;\n",
              "    }\n",
              "\n",
              "    [theme=dark] .colab-df-convert:hover {\n",
              "      background-color: #434B5C;\n",
              "      box-shadow: 0px 1px 3px 1px rgba(0, 0, 0, 0.15);\n",
              "      filter: drop-shadow(0px 1px 2px rgba(0, 0, 0, 0.3));\n",
              "      fill: #FFFFFF;\n",
              "    }\n",
              "  </style>\n",
              "\n",
              "      <script>\n",
              "        const buttonEl =\n",
              "          document.querySelector('#df-e8d28a8e-0a51-4a1f-ba3e-722c6d60957c button.colab-df-convert');\n",
              "        buttonEl.style.display =\n",
              "          google.colab.kernel.accessAllowed ? 'block' : 'none';\n",
              "\n",
              "        async function convertToInteractive(key) {\n",
              "          const element = document.querySelector('#df-e8d28a8e-0a51-4a1f-ba3e-722c6d60957c');\n",
              "          const dataTable =\n",
              "            await google.colab.kernel.invokeFunction('convertToInteractive',\n",
              "                                                     [key], {});\n",
              "          if (!dataTable) return;\n",
              "\n",
              "          const docLinkHtml = 'Like what you see? Visit the ' +\n",
              "            '<a target=\"_blank\" href=https://colab.research.google.com/notebooks/data_table.ipynb>data table notebook</a>'\n",
              "            + ' to learn more about interactive tables.';\n",
              "          element.innerHTML = '';\n",
              "          dataTable['output_type'] = 'display_data';\n",
              "          await google.colab.output.renderOutput(dataTable, element);\n",
              "          const docLink = document.createElement('div');\n",
              "          docLink.innerHTML = docLinkHtml;\n",
              "          element.appendChild(docLink);\n",
              "        }\n",
              "      </script>\n",
              "    </div>\n",
              "  </div>\n",
              "  "
            ]
          },
          "metadata": {},
          "execution_count": 5
        }
      ]
    },
    {
      "cell_type": "code",
      "source": [
        "train.columns"
      ],
      "metadata": {
        "colab": {
          "base_uri": "https://localhost:8080/"
        },
        "id": "ABwVK-rXr2m9",
        "outputId": "dbeb6e72-cff6-4bf2-e117-4a85f3cb99cd"
      },
      "execution_count": 6,
      "outputs": [
        {
          "output_type": "execute_result",
          "data": {
            "text/plain": [
              "Index(['customerID', 'gender', 'SeniorCitizen', 'Partner', 'Dependents',\n",
              "       'tenure', 'PhoneService', 'MultipleLines', 'InternetService',\n",
              "       'OnlineSecurity', 'OnlineBackup', 'DeviceProtection', 'TechSupport',\n",
              "       'StreamingTV', 'StreamingMovies', 'Contract', 'PaperlessBilling',\n",
              "       'PaymentMethod', 'MonthlyCharges', 'TotalCharges', 'Churn'],\n",
              "      dtype='object')"
            ]
          },
          "metadata": {},
          "execution_count": 6
        }
      ]
    },
    {
      "cell_type": "code",
      "source": [
        "'''\n",
        "'customerID': Id individual;\n",
        "'gender': sexo do cliente;\n",
        "'SeniorCitizen': se o cliente é idoso ou não (1: idoso, 0: não idoso);\n",
        "'Partner': se o cliente tem companheiro (yes e no);\n",
        "'Dependents': se o cliente possue dependentes (yes e no);\n",
        "'tenure': números de meses que o cliente esteve vinculado a empresa;\n",
        "'PhoneService': Se o cliente tem atendimento telefônico ou não (yes e no);\n",
        "'MultipleLines': Se que o cliente possui varias linhas telefonicas (yes, no e \"No phone service\")\n",
        "'InternetService': Provedor de internet do cliente (DSL, Fiber optic, No);\n",
        "'OnlineSecurity': se o cliente tem serviço de segurança de internet (yes, no e \"No internet service\");\n",
        "'OnlineBackup': se o cliente possui serviço de backup online;\n",
        "'DeviceProtection': se o cliente possui proteção do dispositivo;\n",
        "'TechSupport': suporte técnico;\n",
        "'StreamingTV': se o cliente possui serviço de streaming pra tv;\n",
        "'StreamingMovies': se o cliente possui servço de streaming de filme\n",
        "'Contract': tipo de contrato (mensal, anual)\n",
        "'PaperlessBilling': se a fatura é em papel;\n",
        "'PaymentMethod': forma de pagamento;\n",
        "'MonthlyCharges': o valor da cobrança/plano;\n",
        "'TotalCharges': cobrança total;\n",
        "'Churn': se a empresa perdeu o cliente.\n",
        "'''"
      ],
      "metadata": {
        "colab": {
          "base_uri": "https://localhost:8080/",
          "height": 105
        },
        "id": "xP6qbxeBr8Sk",
        "outputId": "05ca14ab-29dc-4bdc-c609-f56c3e378dae"
      },
      "execution_count": 7,
      "outputs": [
        {
          "output_type": "execute_result",
          "data": {
            "text/plain": [
              "'\\n\\'customerID\\': Id individual;\\n\\'gender\\': sexo do cliente;\\n\\'SeniorCitizen\\': se o cliente é idoso ou não (1: idoso, 0: não idoso);\\n\\'Partner\\': se o cliente tem companheiro (yes e no);\\n\\'Dependents\\': se o cliente possue dependentes (yes e no);\\n\\'tenure\\': números de meses que o cliente esteve vinculado a empresa;\\n\\'PhoneService\\': Se o cliente tem atendimento telefônico ou não (yes e no);\\n\\'MultipleLines\\': Se que o cliente possui varias linhas telefonicas (yes, no e \"No phone service\")\\n\\'InternetService\\': Provedor de internet do cliente (DSL, Fiber optic, No);\\n\\'OnlineSecurity\\': se o cliente tem serviço de segurança de internet (yes, no e \"No internet service\");\\n\\'OnlineBackup\\': se o cliente possui serviço de backup online;\\n\\'DeviceProtection\\': se o cliente possui proteção do dispositivo;\\n\\'TechSupport\\': suporte técnico;\\n\\'StreamingTV\\': se o cliente possui serviço de streaming pra tv;\\n\\'StreamingMovies\\': se o cliente possui servço de streaming de filme\\n\\'Contract\\': tipo de contrato (mensal, anual)\\n\\'PaperlessBilling\\': se a fatura é em papel;\\n\\'PaymentMethod\\': forma de pagamento;\\n\\'MonthlyCharges\\': o valor da cobrança/plano;\\n\\'TotalCharges\\': cobrança total;\\n\\'Churn\\': se a empresa perdeu o cliente.\\n'"
            ],
            "application/vnd.google.colaboratory.intrinsic+json": {
              "type": "string"
            }
          },
          "metadata": {},
          "execution_count": 7
        }
      ]
    },
    {
      "cell_type": "code",
      "source": [
        "pd.get_option('max_columns')"
      ],
      "metadata": {
        "colab": {
          "base_uri": "https://localhost:8080/"
        },
        "id": "-T8HMUoxge4v",
        "outputId": "a1337bb1-69e1-4cb9-d22f-6997ab2c5aed"
      },
      "execution_count": 8,
      "outputs": [
        {
          "output_type": "execute_result",
          "data": {
            "text/plain": [
              "20"
            ]
          },
          "metadata": {},
          "execution_count": 8
        }
      ]
    },
    {
      "cell_type": "code",
      "source": [
        "pd.set_option('max_columns', 50)"
      ],
      "metadata": {
        "id": "NVv4sTdRhMZs"
      },
      "execution_count": 9,
      "outputs": []
    },
    {
      "cell_type": "code",
      "source": [
        "train"
      ],
      "metadata": {
        "colab": {
          "base_uri": "https://localhost:8080/",
          "height": 661
        },
        "id": "6LQWx9KQhSUN",
        "outputId": "999ceb6b-79b4-49dc-aa27-626ea8f25f3b"
      },
      "execution_count": 10,
      "outputs": [
        {
          "output_type": "execute_result",
          "data": {
            "text/plain": [
              "      customerID  gender  SeniorCitizen Partner Dependents  tenure  \\\n",
              "0     7590-VHVEG  Female              0     Yes         No       1   \n",
              "1     5575-GNVDE    Male              0      No         No      34   \n",
              "2     3668-QPYBK    Male              0      No         No       2   \n",
              "3     7795-CFOCW    Male              0      No         No      45   \n",
              "4     9237-HQITU  Female              0      No         No       2   \n",
              "...          ...     ...            ...     ...        ...     ...   \n",
              "7038  6840-RESVB    Male              0     Yes        Yes      24   \n",
              "7039  2234-XADUH  Female              0     Yes        Yes      72   \n",
              "7040  4801-JZAZL  Female              0     Yes        Yes      11   \n",
              "7041  8361-LTMKD    Male              1     Yes         No       4   \n",
              "7042  3186-AJIEK    Male              0      No         No      66   \n",
              "\n",
              "     PhoneService     MultipleLines InternetService OnlineSecurity  \\\n",
              "0              No  No phone service             DSL             No   \n",
              "1             Yes                No             DSL            Yes   \n",
              "2             Yes                No             DSL            Yes   \n",
              "3              No  No phone service             DSL            Yes   \n",
              "4             Yes                No     Fiber optic             No   \n",
              "...           ...               ...             ...            ...   \n",
              "7038          Yes               Yes             DSL            Yes   \n",
              "7039          Yes               Yes     Fiber optic             No   \n",
              "7040           No  No phone service             DSL            Yes   \n",
              "7041          Yes               Yes     Fiber optic             No   \n",
              "7042          Yes                No     Fiber optic            Yes   \n",
              "\n",
              "     OnlineBackup DeviceProtection TechSupport StreamingTV StreamingMovies  \\\n",
              "0             Yes               No          No          No              No   \n",
              "1              No              Yes          No          No              No   \n",
              "2             Yes               No          No          No              No   \n",
              "3              No              Yes         Yes          No              No   \n",
              "4              No               No          No          No              No   \n",
              "...           ...              ...         ...         ...             ...   \n",
              "7038           No              Yes         Yes         Yes             Yes   \n",
              "7039          Yes              Yes          No         Yes             Yes   \n",
              "7040           No               No          No          No              No   \n",
              "7041           No               No          No          No              No   \n",
              "7042           No              Yes         Yes         Yes             Yes   \n",
              "\n",
              "            Contract PaperlessBilling              PaymentMethod  \\\n",
              "0     Month-to-month              Yes           Electronic check   \n",
              "1           One year               No               Mailed check   \n",
              "2     Month-to-month              Yes               Mailed check   \n",
              "3           One year               No  Bank transfer (automatic)   \n",
              "4     Month-to-month              Yes           Electronic check   \n",
              "...              ...              ...                        ...   \n",
              "7038        One year              Yes               Mailed check   \n",
              "7039        One year              Yes    Credit card (automatic)   \n",
              "7040  Month-to-month              Yes           Electronic check   \n",
              "7041  Month-to-month              Yes               Mailed check   \n",
              "7042        Two year              Yes  Bank transfer (automatic)   \n",
              "\n",
              "      MonthlyCharges TotalCharges Churn  \n",
              "0              29.85        29.85    No  \n",
              "1              56.95       1889.5    No  \n",
              "2              53.85       108.15   Yes  \n",
              "3              42.30      1840.75    No  \n",
              "4              70.70       151.65   Yes  \n",
              "...              ...          ...   ...  \n",
              "7038           84.80       1990.5    No  \n",
              "7039          103.20       7362.9    No  \n",
              "7040           29.60       346.45    No  \n",
              "7041           74.40        306.6   Yes  \n",
              "7042          105.65       6844.5    No  \n",
              "\n",
              "[7043 rows x 21 columns]"
            ],
            "text/html": [
              "\n",
              "  <div id=\"df-4e57eebd-3694-4f8f-b7b6-29d25194b5da\">\n",
              "    <div class=\"colab-df-container\">\n",
              "      <div>\n",
              "<style scoped>\n",
              "    .dataframe tbody tr th:only-of-type {\n",
              "        vertical-align: middle;\n",
              "    }\n",
              "\n",
              "    .dataframe tbody tr th {\n",
              "        vertical-align: top;\n",
              "    }\n",
              "\n",
              "    .dataframe thead th {\n",
              "        text-align: right;\n",
              "    }\n",
              "</style>\n",
              "<table border=\"1\" class=\"dataframe\">\n",
              "  <thead>\n",
              "    <tr style=\"text-align: right;\">\n",
              "      <th></th>\n",
              "      <th>customerID</th>\n",
              "      <th>gender</th>\n",
              "      <th>SeniorCitizen</th>\n",
              "      <th>Partner</th>\n",
              "      <th>Dependents</th>\n",
              "      <th>tenure</th>\n",
              "      <th>PhoneService</th>\n",
              "      <th>MultipleLines</th>\n",
              "      <th>InternetService</th>\n",
              "      <th>OnlineSecurity</th>\n",
              "      <th>OnlineBackup</th>\n",
              "      <th>DeviceProtection</th>\n",
              "      <th>TechSupport</th>\n",
              "      <th>StreamingTV</th>\n",
              "      <th>StreamingMovies</th>\n",
              "      <th>Contract</th>\n",
              "      <th>PaperlessBilling</th>\n",
              "      <th>PaymentMethod</th>\n",
              "      <th>MonthlyCharges</th>\n",
              "      <th>TotalCharges</th>\n",
              "      <th>Churn</th>\n",
              "    </tr>\n",
              "  </thead>\n",
              "  <tbody>\n",
              "    <tr>\n",
              "      <th>0</th>\n",
              "      <td>7590-VHVEG</td>\n",
              "      <td>Female</td>\n",
              "      <td>0</td>\n",
              "      <td>Yes</td>\n",
              "      <td>No</td>\n",
              "      <td>1</td>\n",
              "      <td>No</td>\n",
              "      <td>No phone service</td>\n",
              "      <td>DSL</td>\n",
              "      <td>No</td>\n",
              "      <td>Yes</td>\n",
              "      <td>No</td>\n",
              "      <td>No</td>\n",
              "      <td>No</td>\n",
              "      <td>No</td>\n",
              "      <td>Month-to-month</td>\n",
              "      <td>Yes</td>\n",
              "      <td>Electronic check</td>\n",
              "      <td>29.85</td>\n",
              "      <td>29.85</td>\n",
              "      <td>No</td>\n",
              "    </tr>\n",
              "    <tr>\n",
              "      <th>1</th>\n",
              "      <td>5575-GNVDE</td>\n",
              "      <td>Male</td>\n",
              "      <td>0</td>\n",
              "      <td>No</td>\n",
              "      <td>No</td>\n",
              "      <td>34</td>\n",
              "      <td>Yes</td>\n",
              "      <td>No</td>\n",
              "      <td>DSL</td>\n",
              "      <td>Yes</td>\n",
              "      <td>No</td>\n",
              "      <td>Yes</td>\n",
              "      <td>No</td>\n",
              "      <td>No</td>\n",
              "      <td>No</td>\n",
              "      <td>One year</td>\n",
              "      <td>No</td>\n",
              "      <td>Mailed check</td>\n",
              "      <td>56.95</td>\n",
              "      <td>1889.5</td>\n",
              "      <td>No</td>\n",
              "    </tr>\n",
              "    <tr>\n",
              "      <th>2</th>\n",
              "      <td>3668-QPYBK</td>\n",
              "      <td>Male</td>\n",
              "      <td>0</td>\n",
              "      <td>No</td>\n",
              "      <td>No</td>\n",
              "      <td>2</td>\n",
              "      <td>Yes</td>\n",
              "      <td>No</td>\n",
              "      <td>DSL</td>\n",
              "      <td>Yes</td>\n",
              "      <td>Yes</td>\n",
              "      <td>No</td>\n",
              "      <td>No</td>\n",
              "      <td>No</td>\n",
              "      <td>No</td>\n",
              "      <td>Month-to-month</td>\n",
              "      <td>Yes</td>\n",
              "      <td>Mailed check</td>\n",
              "      <td>53.85</td>\n",
              "      <td>108.15</td>\n",
              "      <td>Yes</td>\n",
              "    </tr>\n",
              "    <tr>\n",
              "      <th>3</th>\n",
              "      <td>7795-CFOCW</td>\n",
              "      <td>Male</td>\n",
              "      <td>0</td>\n",
              "      <td>No</td>\n",
              "      <td>No</td>\n",
              "      <td>45</td>\n",
              "      <td>No</td>\n",
              "      <td>No phone service</td>\n",
              "      <td>DSL</td>\n",
              "      <td>Yes</td>\n",
              "      <td>No</td>\n",
              "      <td>Yes</td>\n",
              "      <td>Yes</td>\n",
              "      <td>No</td>\n",
              "      <td>No</td>\n",
              "      <td>One year</td>\n",
              "      <td>No</td>\n",
              "      <td>Bank transfer (automatic)</td>\n",
              "      <td>42.30</td>\n",
              "      <td>1840.75</td>\n",
              "      <td>No</td>\n",
              "    </tr>\n",
              "    <tr>\n",
              "      <th>4</th>\n",
              "      <td>9237-HQITU</td>\n",
              "      <td>Female</td>\n",
              "      <td>0</td>\n",
              "      <td>No</td>\n",
              "      <td>No</td>\n",
              "      <td>2</td>\n",
              "      <td>Yes</td>\n",
              "      <td>No</td>\n",
              "      <td>Fiber optic</td>\n",
              "      <td>No</td>\n",
              "      <td>No</td>\n",
              "      <td>No</td>\n",
              "      <td>No</td>\n",
              "      <td>No</td>\n",
              "      <td>No</td>\n",
              "      <td>Month-to-month</td>\n",
              "      <td>Yes</td>\n",
              "      <td>Electronic check</td>\n",
              "      <td>70.70</td>\n",
              "      <td>151.65</td>\n",
              "      <td>Yes</td>\n",
              "    </tr>\n",
              "    <tr>\n",
              "      <th>...</th>\n",
              "      <td>...</td>\n",
              "      <td>...</td>\n",
              "      <td>...</td>\n",
              "      <td>...</td>\n",
              "      <td>...</td>\n",
              "      <td>...</td>\n",
              "      <td>...</td>\n",
              "      <td>...</td>\n",
              "      <td>...</td>\n",
              "      <td>...</td>\n",
              "      <td>...</td>\n",
              "      <td>...</td>\n",
              "      <td>...</td>\n",
              "      <td>...</td>\n",
              "      <td>...</td>\n",
              "      <td>...</td>\n",
              "      <td>...</td>\n",
              "      <td>...</td>\n",
              "      <td>...</td>\n",
              "      <td>...</td>\n",
              "      <td>...</td>\n",
              "    </tr>\n",
              "    <tr>\n",
              "      <th>7038</th>\n",
              "      <td>6840-RESVB</td>\n",
              "      <td>Male</td>\n",
              "      <td>0</td>\n",
              "      <td>Yes</td>\n",
              "      <td>Yes</td>\n",
              "      <td>24</td>\n",
              "      <td>Yes</td>\n",
              "      <td>Yes</td>\n",
              "      <td>DSL</td>\n",
              "      <td>Yes</td>\n",
              "      <td>No</td>\n",
              "      <td>Yes</td>\n",
              "      <td>Yes</td>\n",
              "      <td>Yes</td>\n",
              "      <td>Yes</td>\n",
              "      <td>One year</td>\n",
              "      <td>Yes</td>\n",
              "      <td>Mailed check</td>\n",
              "      <td>84.80</td>\n",
              "      <td>1990.5</td>\n",
              "      <td>No</td>\n",
              "    </tr>\n",
              "    <tr>\n",
              "      <th>7039</th>\n",
              "      <td>2234-XADUH</td>\n",
              "      <td>Female</td>\n",
              "      <td>0</td>\n",
              "      <td>Yes</td>\n",
              "      <td>Yes</td>\n",
              "      <td>72</td>\n",
              "      <td>Yes</td>\n",
              "      <td>Yes</td>\n",
              "      <td>Fiber optic</td>\n",
              "      <td>No</td>\n",
              "      <td>Yes</td>\n",
              "      <td>Yes</td>\n",
              "      <td>No</td>\n",
              "      <td>Yes</td>\n",
              "      <td>Yes</td>\n",
              "      <td>One year</td>\n",
              "      <td>Yes</td>\n",
              "      <td>Credit card (automatic)</td>\n",
              "      <td>103.20</td>\n",
              "      <td>7362.9</td>\n",
              "      <td>No</td>\n",
              "    </tr>\n",
              "    <tr>\n",
              "      <th>7040</th>\n",
              "      <td>4801-JZAZL</td>\n",
              "      <td>Female</td>\n",
              "      <td>0</td>\n",
              "      <td>Yes</td>\n",
              "      <td>Yes</td>\n",
              "      <td>11</td>\n",
              "      <td>No</td>\n",
              "      <td>No phone service</td>\n",
              "      <td>DSL</td>\n",
              "      <td>Yes</td>\n",
              "      <td>No</td>\n",
              "      <td>No</td>\n",
              "      <td>No</td>\n",
              "      <td>No</td>\n",
              "      <td>No</td>\n",
              "      <td>Month-to-month</td>\n",
              "      <td>Yes</td>\n",
              "      <td>Electronic check</td>\n",
              "      <td>29.60</td>\n",
              "      <td>346.45</td>\n",
              "      <td>No</td>\n",
              "    </tr>\n",
              "    <tr>\n",
              "      <th>7041</th>\n",
              "      <td>8361-LTMKD</td>\n",
              "      <td>Male</td>\n",
              "      <td>1</td>\n",
              "      <td>Yes</td>\n",
              "      <td>No</td>\n",
              "      <td>4</td>\n",
              "      <td>Yes</td>\n",
              "      <td>Yes</td>\n",
              "      <td>Fiber optic</td>\n",
              "      <td>No</td>\n",
              "      <td>No</td>\n",
              "      <td>No</td>\n",
              "      <td>No</td>\n",
              "      <td>No</td>\n",
              "      <td>No</td>\n",
              "      <td>Month-to-month</td>\n",
              "      <td>Yes</td>\n",
              "      <td>Mailed check</td>\n",
              "      <td>74.40</td>\n",
              "      <td>306.6</td>\n",
              "      <td>Yes</td>\n",
              "    </tr>\n",
              "    <tr>\n",
              "      <th>7042</th>\n",
              "      <td>3186-AJIEK</td>\n",
              "      <td>Male</td>\n",
              "      <td>0</td>\n",
              "      <td>No</td>\n",
              "      <td>No</td>\n",
              "      <td>66</td>\n",
              "      <td>Yes</td>\n",
              "      <td>No</td>\n",
              "      <td>Fiber optic</td>\n",
              "      <td>Yes</td>\n",
              "      <td>No</td>\n",
              "      <td>Yes</td>\n",
              "      <td>Yes</td>\n",
              "      <td>Yes</td>\n",
              "      <td>Yes</td>\n",
              "      <td>Two year</td>\n",
              "      <td>Yes</td>\n",
              "      <td>Bank transfer (automatic)</td>\n",
              "      <td>105.65</td>\n",
              "      <td>6844.5</td>\n",
              "      <td>No</td>\n",
              "    </tr>\n",
              "  </tbody>\n",
              "</table>\n",
              "<p>7043 rows × 21 columns</p>\n",
              "</div>\n",
              "      <button class=\"colab-df-convert\" onclick=\"convertToInteractive('df-4e57eebd-3694-4f8f-b7b6-29d25194b5da')\"\n",
              "              title=\"Convert this dataframe to an interactive table.\"\n",
              "              style=\"display:none;\">\n",
              "        \n",
              "  <svg xmlns=\"http://www.w3.org/2000/svg\" height=\"24px\"viewBox=\"0 0 24 24\"\n",
              "       width=\"24px\">\n",
              "    <path d=\"M0 0h24v24H0V0z\" fill=\"none\"/>\n",
              "    <path d=\"M18.56 5.44l.94 2.06.94-2.06 2.06-.94-2.06-.94-.94-2.06-.94 2.06-2.06.94zm-11 1L8.5 8.5l.94-2.06 2.06-.94-2.06-.94L8.5 2.5l-.94 2.06-2.06.94zm10 10l.94 2.06.94-2.06 2.06-.94-2.06-.94-.94-2.06-.94 2.06-2.06.94z\"/><path d=\"M17.41 7.96l-1.37-1.37c-.4-.4-.92-.59-1.43-.59-.52 0-1.04.2-1.43.59L10.3 9.45l-7.72 7.72c-.78.78-.78 2.05 0 2.83L4 21.41c.39.39.9.59 1.41.59.51 0 1.02-.2 1.41-.59l7.78-7.78 2.81-2.81c.8-.78.8-2.07 0-2.86zM5.41 20L4 18.59l7.72-7.72 1.47 1.35L5.41 20z\"/>\n",
              "  </svg>\n",
              "      </button>\n",
              "      \n",
              "  <style>\n",
              "    .colab-df-container {\n",
              "      display:flex;\n",
              "      flex-wrap:wrap;\n",
              "      gap: 12px;\n",
              "    }\n",
              "\n",
              "    .colab-df-convert {\n",
              "      background-color: #E8F0FE;\n",
              "      border: none;\n",
              "      border-radius: 50%;\n",
              "      cursor: pointer;\n",
              "      display: none;\n",
              "      fill: #1967D2;\n",
              "      height: 32px;\n",
              "      padding: 0 0 0 0;\n",
              "      width: 32px;\n",
              "    }\n",
              "\n",
              "    .colab-df-convert:hover {\n",
              "      background-color: #E2EBFA;\n",
              "      box-shadow: 0px 1px 2px rgba(60, 64, 67, 0.3), 0px 1px 3px 1px rgba(60, 64, 67, 0.15);\n",
              "      fill: #174EA6;\n",
              "    }\n",
              "\n",
              "    [theme=dark] .colab-df-convert {\n",
              "      background-color: #3B4455;\n",
              "      fill: #D2E3FC;\n",
              "    }\n",
              "\n",
              "    [theme=dark] .colab-df-convert:hover {\n",
              "      background-color: #434B5C;\n",
              "      box-shadow: 0px 1px 3px 1px rgba(0, 0, 0, 0.15);\n",
              "      filter: drop-shadow(0px 1px 2px rgba(0, 0, 0, 0.3));\n",
              "      fill: #FFFFFF;\n",
              "    }\n",
              "  </style>\n",
              "\n",
              "      <script>\n",
              "        const buttonEl =\n",
              "          document.querySelector('#df-4e57eebd-3694-4f8f-b7b6-29d25194b5da button.colab-df-convert');\n",
              "        buttonEl.style.display =\n",
              "          google.colab.kernel.accessAllowed ? 'block' : 'none';\n",
              "\n",
              "        async function convertToInteractive(key) {\n",
              "          const element = document.querySelector('#df-4e57eebd-3694-4f8f-b7b6-29d25194b5da');\n",
              "          const dataTable =\n",
              "            await google.colab.kernel.invokeFunction('convertToInteractive',\n",
              "                                                     [key], {});\n",
              "          if (!dataTable) return;\n",
              "\n",
              "          const docLinkHtml = 'Like what you see? Visit the ' +\n",
              "            '<a target=\"_blank\" href=https://colab.research.google.com/notebooks/data_table.ipynb>data table notebook</a>'\n",
              "            + ' to learn more about interactive tables.';\n",
              "          element.innerHTML = '';\n",
              "          dataTable['output_type'] = 'display_data';\n",
              "          await google.colab.output.renderOutput(dataTable, element);\n",
              "          const docLink = document.createElement('div');\n",
              "          docLink.innerHTML = docLinkHtml;\n",
              "          element.appendChild(docLink);\n",
              "        }\n",
              "      </script>\n",
              "    </div>\n",
              "  </div>\n",
              "  "
            ]
          },
          "metadata": {},
          "execution_count": 10
        }
      ]
    },
    {
      "cell_type": "code",
      "source": [
        "train.info()"
      ],
      "metadata": {
        "colab": {
          "base_uri": "https://localhost:8080/"
        },
        "id": "dWbIDS4DhTR1",
        "outputId": "bd1a9acc-75b0-4829-9fa6-43acbc55d361"
      },
      "execution_count": 11,
      "outputs": [
        {
          "output_type": "stream",
          "name": "stdout",
          "text": [
            "<class 'pandas.core.frame.DataFrame'>\n",
            "RangeIndex: 7043 entries, 0 to 7042\n",
            "Data columns (total 21 columns):\n",
            " #   Column            Non-Null Count  Dtype  \n",
            "---  ------            --------------  -----  \n",
            " 0   customerID        7043 non-null   object \n",
            " 1   gender            7043 non-null   object \n",
            " 2   SeniorCitizen     7043 non-null   int64  \n",
            " 3   Partner           7043 non-null   object \n",
            " 4   Dependents        7043 non-null   object \n",
            " 5   tenure            7043 non-null   int64  \n",
            " 6   PhoneService      7043 non-null   object \n",
            " 7   MultipleLines     7043 non-null   object \n",
            " 8   InternetService   7043 non-null   object \n",
            " 9   OnlineSecurity    7043 non-null   object \n",
            " 10  OnlineBackup      7043 non-null   object \n",
            " 11  DeviceProtection  7043 non-null   object \n",
            " 12  TechSupport       7043 non-null   object \n",
            " 13  StreamingTV       7043 non-null   object \n",
            " 14  StreamingMovies   7043 non-null   object \n",
            " 15  Contract          7043 non-null   object \n",
            " 16  PaperlessBilling  7043 non-null   object \n",
            " 17  PaymentMethod     7043 non-null   object \n",
            " 18  MonthlyCharges    7043 non-null   float64\n",
            " 19  TotalCharges      7043 non-null   object \n",
            " 20  Churn             7043 non-null   object \n",
            "dtypes: float64(1), int64(2), object(18)\n",
            "memory usage: 1.1+ MB\n"
          ]
        }
      ]
    },
    {
      "cell_type": "code",
      "source": [
        "[c for c in train.columns if train[c].dtype in ['int64']]"
      ],
      "metadata": {
        "colab": {
          "base_uri": "https://localhost:8080/"
        },
        "id": "tbniMoQRin28",
        "outputId": "05bbfdde-b83d-4943-8d3d-0ed7cbca0980"
      },
      "execution_count": 12,
      "outputs": [
        {
          "output_type": "execute_result",
          "data": {
            "text/plain": [
              "['SeniorCitizen', 'tenure']"
            ]
          },
          "metadata": {},
          "execution_count": 12
        }
      ]
    },
    {
      "cell_type": "code",
      "source": [
        "#2 colunas de valores inteiros"
      ],
      "metadata": {
        "id": "R_MzoPcejYVw"
      },
      "execution_count": 13,
      "outputs": []
    },
    {
      "cell_type": "code",
      "source": [
        "[c for c in train.columns if train[c].dtype in ['float64']]"
      ],
      "metadata": {
        "colab": {
          "base_uri": "https://localhost:8080/"
        },
        "id": "tylkTkIZjbHi",
        "outputId": "94ed9356-a04a-467e-fd72-c58e61cf1adf"
      },
      "execution_count": 14,
      "outputs": [
        {
          "output_type": "execute_result",
          "data": {
            "text/plain": [
              "['MonthlyCharges']"
            ]
          },
          "metadata": {},
          "execution_count": 14
        }
      ]
    },
    {
      "cell_type": "code",
      "source": [
        "#uma coluna de valor float"
      ],
      "metadata": {
        "id": "Dkm8aIjyjtKp"
      },
      "execution_count": 15,
      "outputs": []
    },
    {
      "cell_type": "code",
      "source": [
        "[c for c in train.columns if train[c].dtype in ['object']]"
      ],
      "metadata": {
        "colab": {
          "base_uri": "https://localhost:8080/"
        },
        "id": "oPF9UmqOjw8x",
        "outputId": "9d8ed706-3d23-45d2-c370-1a177604a5c5"
      },
      "execution_count": 16,
      "outputs": [
        {
          "output_type": "execute_result",
          "data": {
            "text/plain": [
              "['customerID',\n",
              " 'gender',\n",
              " 'Partner',\n",
              " 'Dependents',\n",
              " 'PhoneService',\n",
              " 'MultipleLines',\n",
              " 'InternetService',\n",
              " 'OnlineSecurity',\n",
              " 'OnlineBackup',\n",
              " 'DeviceProtection',\n",
              " 'TechSupport',\n",
              " 'StreamingTV',\n",
              " 'StreamingMovies',\n",
              " 'Contract',\n",
              " 'PaperlessBilling',\n",
              " 'PaymentMethod',\n",
              " 'TotalCharges',\n",
              " 'Churn']"
            ]
          },
          "metadata": {},
          "execution_count": 16
        }
      ]
    },
    {
      "cell_type": "code",
      "source": [
        "#18 colunas object"
      ],
      "metadata": {
        "id": "tYY7HRGNp6bx"
      },
      "execution_count": 17,
      "outputs": []
    },
    {
      "cell_type": "code",
      "source": [
        "train.isnull().sum()"
      ],
      "metadata": {
        "colab": {
          "base_uri": "https://localhost:8080/"
        },
        "id": "JSb1mkn2iWCb",
        "outputId": "519be1b0-baec-441c-cd06-bac38ead6148"
      },
      "execution_count": 18,
      "outputs": [
        {
          "output_type": "execute_result",
          "data": {
            "text/plain": [
              "customerID          0\n",
              "gender              0\n",
              "SeniorCitizen       0\n",
              "Partner             0\n",
              "Dependents          0\n",
              "tenure              0\n",
              "PhoneService        0\n",
              "MultipleLines       0\n",
              "InternetService     0\n",
              "OnlineSecurity      0\n",
              "OnlineBackup        0\n",
              "DeviceProtection    0\n",
              "TechSupport         0\n",
              "StreamingTV         0\n",
              "StreamingMovies     0\n",
              "Contract            0\n",
              "PaperlessBilling    0\n",
              "PaymentMethod       0\n",
              "MonthlyCharges      0\n",
              "TotalCharges        0\n",
              "Churn               0\n",
              "dtype: int64"
            ]
          },
          "metadata": {},
          "execution_count": 18
        }
      ]
    },
    {
      "cell_type": "code",
      "source": [
        "train.duplicated().sum()"
      ],
      "metadata": {
        "colab": {
          "base_uri": "https://localhost:8080/"
        },
        "id": "IBpzEyFCibGK",
        "outputId": "9bba87a7-9a9d-4c86-f5e9-355f24e40758"
      },
      "execution_count": 19,
      "outputs": [
        {
          "output_type": "execute_result",
          "data": {
            "text/plain": [
              "0"
            ]
          },
          "metadata": {},
          "execution_count": 19
        }
      ]
    },
    {
      "cell_type": "code",
      "source": [
        "#sem valores nulos e duplicados"
      ],
      "metadata": {
        "id": "igJHbm-tieQn"
      },
      "execution_count": 20,
      "outputs": []
    },
    {
      "cell_type": "code",
      "source": [
        "train.describe()"
      ],
      "metadata": {
        "colab": {
          "base_uri": "https://localhost:8080/",
          "height": 300
        },
        "id": "Otd6SXTUigqm",
        "outputId": "1428a47f-4b00-4906-9a02-376f8c67c89d"
      },
      "execution_count": 21,
      "outputs": [
        {
          "output_type": "execute_result",
          "data": {
            "text/plain": [
              "       SeniorCitizen       tenure  MonthlyCharges\n",
              "count    7043.000000  7043.000000     7043.000000\n",
              "mean        0.162147    32.371149       64.761692\n",
              "std         0.368612    24.559481       30.090047\n",
              "min         0.000000     0.000000       18.250000\n",
              "25%         0.000000     9.000000       35.500000\n",
              "50%         0.000000    29.000000       70.350000\n",
              "75%         0.000000    55.000000       89.850000\n",
              "max         1.000000    72.000000      118.750000"
            ],
            "text/html": [
              "\n",
              "  <div id=\"df-5c26a541-858c-42db-bafc-8606a760d12b\">\n",
              "    <div class=\"colab-df-container\">\n",
              "      <div>\n",
              "<style scoped>\n",
              "    .dataframe tbody tr th:only-of-type {\n",
              "        vertical-align: middle;\n",
              "    }\n",
              "\n",
              "    .dataframe tbody tr th {\n",
              "        vertical-align: top;\n",
              "    }\n",
              "\n",
              "    .dataframe thead th {\n",
              "        text-align: right;\n",
              "    }\n",
              "</style>\n",
              "<table border=\"1\" class=\"dataframe\">\n",
              "  <thead>\n",
              "    <tr style=\"text-align: right;\">\n",
              "      <th></th>\n",
              "      <th>SeniorCitizen</th>\n",
              "      <th>tenure</th>\n",
              "      <th>MonthlyCharges</th>\n",
              "    </tr>\n",
              "  </thead>\n",
              "  <tbody>\n",
              "    <tr>\n",
              "      <th>count</th>\n",
              "      <td>7043.000000</td>\n",
              "      <td>7043.000000</td>\n",
              "      <td>7043.000000</td>\n",
              "    </tr>\n",
              "    <tr>\n",
              "      <th>mean</th>\n",
              "      <td>0.162147</td>\n",
              "      <td>32.371149</td>\n",
              "      <td>64.761692</td>\n",
              "    </tr>\n",
              "    <tr>\n",
              "      <th>std</th>\n",
              "      <td>0.368612</td>\n",
              "      <td>24.559481</td>\n",
              "      <td>30.090047</td>\n",
              "    </tr>\n",
              "    <tr>\n",
              "      <th>min</th>\n",
              "      <td>0.000000</td>\n",
              "      <td>0.000000</td>\n",
              "      <td>18.250000</td>\n",
              "    </tr>\n",
              "    <tr>\n",
              "      <th>25%</th>\n",
              "      <td>0.000000</td>\n",
              "      <td>9.000000</td>\n",
              "      <td>35.500000</td>\n",
              "    </tr>\n",
              "    <tr>\n",
              "      <th>50%</th>\n",
              "      <td>0.000000</td>\n",
              "      <td>29.000000</td>\n",
              "      <td>70.350000</td>\n",
              "    </tr>\n",
              "    <tr>\n",
              "      <th>75%</th>\n",
              "      <td>0.000000</td>\n",
              "      <td>55.000000</td>\n",
              "      <td>89.850000</td>\n",
              "    </tr>\n",
              "    <tr>\n",
              "      <th>max</th>\n",
              "      <td>1.000000</td>\n",
              "      <td>72.000000</td>\n",
              "      <td>118.750000</td>\n",
              "    </tr>\n",
              "  </tbody>\n",
              "</table>\n",
              "</div>\n",
              "      <button class=\"colab-df-convert\" onclick=\"convertToInteractive('df-5c26a541-858c-42db-bafc-8606a760d12b')\"\n",
              "              title=\"Convert this dataframe to an interactive table.\"\n",
              "              style=\"display:none;\">\n",
              "        \n",
              "  <svg xmlns=\"http://www.w3.org/2000/svg\" height=\"24px\"viewBox=\"0 0 24 24\"\n",
              "       width=\"24px\">\n",
              "    <path d=\"M0 0h24v24H0V0z\" fill=\"none\"/>\n",
              "    <path d=\"M18.56 5.44l.94 2.06.94-2.06 2.06-.94-2.06-.94-.94-2.06-.94 2.06-2.06.94zm-11 1L8.5 8.5l.94-2.06 2.06-.94-2.06-.94L8.5 2.5l-.94 2.06-2.06.94zm10 10l.94 2.06.94-2.06 2.06-.94-2.06-.94-.94-2.06-.94 2.06-2.06.94z\"/><path d=\"M17.41 7.96l-1.37-1.37c-.4-.4-.92-.59-1.43-.59-.52 0-1.04.2-1.43.59L10.3 9.45l-7.72 7.72c-.78.78-.78 2.05 0 2.83L4 21.41c.39.39.9.59 1.41.59.51 0 1.02-.2 1.41-.59l7.78-7.78 2.81-2.81c.8-.78.8-2.07 0-2.86zM5.41 20L4 18.59l7.72-7.72 1.47 1.35L5.41 20z\"/>\n",
              "  </svg>\n",
              "      </button>\n",
              "      \n",
              "  <style>\n",
              "    .colab-df-container {\n",
              "      display:flex;\n",
              "      flex-wrap:wrap;\n",
              "      gap: 12px;\n",
              "    }\n",
              "\n",
              "    .colab-df-convert {\n",
              "      background-color: #E8F0FE;\n",
              "      border: none;\n",
              "      border-radius: 50%;\n",
              "      cursor: pointer;\n",
              "      display: none;\n",
              "      fill: #1967D2;\n",
              "      height: 32px;\n",
              "      padding: 0 0 0 0;\n",
              "      width: 32px;\n",
              "    }\n",
              "\n",
              "    .colab-df-convert:hover {\n",
              "      background-color: #E2EBFA;\n",
              "      box-shadow: 0px 1px 2px rgba(60, 64, 67, 0.3), 0px 1px 3px 1px rgba(60, 64, 67, 0.15);\n",
              "      fill: #174EA6;\n",
              "    }\n",
              "\n",
              "    [theme=dark] .colab-df-convert {\n",
              "      background-color: #3B4455;\n",
              "      fill: #D2E3FC;\n",
              "    }\n",
              "\n",
              "    [theme=dark] .colab-df-convert:hover {\n",
              "      background-color: #434B5C;\n",
              "      box-shadow: 0px 1px 3px 1px rgba(0, 0, 0, 0.15);\n",
              "      filter: drop-shadow(0px 1px 2px rgba(0, 0, 0, 0.3));\n",
              "      fill: #FFFFFF;\n",
              "    }\n",
              "  </style>\n",
              "\n",
              "      <script>\n",
              "        const buttonEl =\n",
              "          document.querySelector('#df-5c26a541-858c-42db-bafc-8606a760d12b button.colab-df-convert');\n",
              "        buttonEl.style.display =\n",
              "          google.colab.kernel.accessAllowed ? 'block' : 'none';\n",
              "\n",
              "        async function convertToInteractive(key) {\n",
              "          const element = document.querySelector('#df-5c26a541-858c-42db-bafc-8606a760d12b');\n",
              "          const dataTable =\n",
              "            await google.colab.kernel.invokeFunction('convertToInteractive',\n",
              "                                                     [key], {});\n",
              "          if (!dataTable) return;\n",
              "\n",
              "          const docLinkHtml = 'Like what you see? Visit the ' +\n",
              "            '<a target=\"_blank\" href=https://colab.research.google.com/notebooks/data_table.ipynb>data table notebook</a>'\n",
              "            + ' to learn more about interactive tables.';\n",
              "          element.innerHTML = '';\n",
              "          dataTable['output_type'] = 'display_data';\n",
              "          await google.colab.output.renderOutput(dataTable, element);\n",
              "          const docLink = document.createElement('div');\n",
              "          docLink.innerHTML = docLinkHtml;\n",
              "          element.appendChild(docLink);\n",
              "        }\n",
              "      </script>\n",
              "    </div>\n",
              "  </div>\n",
              "  "
            ]
          },
          "metadata": {},
          "execution_count": 21
        }
      ]
    },
    {
      "cell_type": "code",
      "source": [
        "#talvez seja uma boa ideia renomear as colunas e deixar em portugues, para isso usarei o \"renome\""
      ],
      "metadata": {
        "id": "-GDCLlRiiiek"
      },
      "execution_count": 22,
      "outputs": []
    },
    {
      "cell_type": "code",
      "source": [
        "train.columns"
      ],
      "metadata": {
        "id": "CmcewnaB11Bm",
        "colab": {
          "base_uri": "https://localhost:8080/"
        },
        "outputId": "b13db3bd-d3fc-4797-f323-c17bc40b760e"
      },
      "execution_count": 23,
      "outputs": [
        {
          "output_type": "execute_result",
          "data": {
            "text/plain": [
              "Index(['customerID', 'gender', 'SeniorCitizen', 'Partner', 'Dependents',\n",
              "       'tenure', 'PhoneService', 'MultipleLines', 'InternetService',\n",
              "       'OnlineSecurity', 'OnlineBackup', 'DeviceProtection', 'TechSupport',\n",
              "       'StreamingTV', 'StreamingMovies', 'Contract', 'PaperlessBilling',\n",
              "       'PaymentMethod', 'MonthlyCharges', 'TotalCharges', 'Churn'],\n",
              "      dtype='object')"
            ]
          },
          "metadata": {},
          "execution_count": 23
        }
      ]
    },
    {
      "cell_type": "code",
      "source": [
        "train.rename(columns = {\n",
        "    'customerID': 'Id',\n",
        "    'gender': 'Sexo',\n",
        "    'SeniorCitizen': 'Idoso',\n",
        "    'Partner': 'Parceiro/a', \n",
        "    'Dependents': 'Dependentes',\n",
        "    'tenure': 'Meses sob contrato',\n",
        "    'PhoneService': 'Serviço de telefone',\n",
        "    'MultipleLines': '+de 1 linha phone',\n",
        "    'InternetService': 'Internet',\n",
        "    'OnlineSecurity': 'Segurança online',\n",
        "    'OnlineBackup': 'Serviço Backup',\n",
        "    'DeviceProtection': 'Proteção',\n",
        "    'TechSupport': 'Suporte técnico',\n",
        "    'Contract': 'Tipo de Contrato',\n",
        "    'PaperlessBilling': 'Fatura em papel',\n",
        "    'PaymentMethod': 'Forma de Pgto',\n",
        "    'MonthlyCharges': 'Valor do Plano', \n",
        "    'TotalCharges': 'Total da Fatura',\n",
        "    'Churn': 'Ainda Cliente?'\n",
        "}, inplace = True)"
      ],
      "metadata": {
        "id": "EsoN2vQ3K7Sc"
      },
      "execution_count": 24,
      "outputs": []
    },
    {
      "cell_type": "code",
      "source": [
        "train"
      ],
      "metadata": {
        "colab": {
          "base_uri": "https://localhost:8080/",
          "height": 766
        },
        "id": "JUmop1d1Nf54",
        "outputId": "d7b74dc3-ae4d-4dbf-b306-73966cd2e8c9"
      },
      "execution_count": 25,
      "outputs": [
        {
          "output_type": "execute_result",
          "data": {
            "text/plain": [
              "              Id    Sexo  Idoso Parceiro/a Dependentes  Meses sob contrato  \\\n",
              "0     7590-VHVEG  Female      0        Yes          No                   1   \n",
              "1     5575-GNVDE    Male      0         No          No                  34   \n",
              "2     3668-QPYBK    Male      0         No          No                   2   \n",
              "3     7795-CFOCW    Male      0         No          No                  45   \n",
              "4     9237-HQITU  Female      0         No          No                   2   \n",
              "...          ...     ...    ...        ...         ...                 ...   \n",
              "7038  6840-RESVB    Male      0        Yes         Yes                  24   \n",
              "7039  2234-XADUH  Female      0        Yes         Yes                  72   \n",
              "7040  4801-JZAZL  Female      0        Yes         Yes                  11   \n",
              "7041  8361-LTMKD    Male      1        Yes          No                   4   \n",
              "7042  3186-AJIEK    Male      0         No          No                  66   \n",
              "\n",
              "     Serviço de telefone +de 1 linha phone     Internet Segurança online  \\\n",
              "0                     No  No phone service          DSL               No   \n",
              "1                    Yes                No          DSL              Yes   \n",
              "2                    Yes                No          DSL              Yes   \n",
              "3                     No  No phone service          DSL              Yes   \n",
              "4                    Yes                No  Fiber optic               No   \n",
              "...                  ...               ...          ...              ...   \n",
              "7038                 Yes               Yes          DSL              Yes   \n",
              "7039                 Yes               Yes  Fiber optic               No   \n",
              "7040                  No  No phone service          DSL              Yes   \n",
              "7041                 Yes               Yes  Fiber optic               No   \n",
              "7042                 Yes                No  Fiber optic              Yes   \n",
              "\n",
              "     Serviço Backup Proteção Suporte técnico StreamingTV StreamingMovies  \\\n",
              "0               Yes       No              No          No              No   \n",
              "1                No      Yes              No          No              No   \n",
              "2               Yes       No              No          No              No   \n",
              "3                No      Yes             Yes          No              No   \n",
              "4                No       No              No          No              No   \n",
              "...             ...      ...             ...         ...             ...   \n",
              "7038             No      Yes             Yes         Yes             Yes   \n",
              "7039            Yes      Yes              No         Yes             Yes   \n",
              "7040             No       No              No          No              No   \n",
              "7041             No       No              No          No              No   \n",
              "7042             No      Yes             Yes         Yes             Yes   \n",
              "\n",
              "     Tipo de Contrato Fatura em papel              Forma de Pgto  \\\n",
              "0      Month-to-month             Yes           Electronic check   \n",
              "1            One year              No               Mailed check   \n",
              "2      Month-to-month             Yes               Mailed check   \n",
              "3            One year              No  Bank transfer (automatic)   \n",
              "4      Month-to-month             Yes           Electronic check   \n",
              "...               ...             ...                        ...   \n",
              "7038         One year             Yes               Mailed check   \n",
              "7039         One year             Yes    Credit card (automatic)   \n",
              "7040   Month-to-month             Yes           Electronic check   \n",
              "7041   Month-to-month             Yes               Mailed check   \n",
              "7042         Two year             Yes  Bank transfer (automatic)   \n",
              "\n",
              "      Valor do Plano Total da Fatura Ainda Cliente?  \n",
              "0              29.85           29.85             No  \n",
              "1              56.95          1889.5             No  \n",
              "2              53.85          108.15            Yes  \n",
              "3              42.30         1840.75             No  \n",
              "4              70.70          151.65            Yes  \n",
              "...              ...             ...            ...  \n",
              "7038           84.80          1990.5             No  \n",
              "7039          103.20          7362.9             No  \n",
              "7040           29.60          346.45             No  \n",
              "7041           74.40           306.6            Yes  \n",
              "7042          105.65          6844.5             No  \n",
              "\n",
              "[7043 rows x 21 columns]"
            ],
            "text/html": [
              "\n",
              "  <div id=\"df-02f0d847-7dbc-41bb-b1a6-0eb86ef10140\">\n",
              "    <div class=\"colab-df-container\">\n",
              "      <div>\n",
              "<style scoped>\n",
              "    .dataframe tbody tr th:only-of-type {\n",
              "        vertical-align: middle;\n",
              "    }\n",
              "\n",
              "    .dataframe tbody tr th {\n",
              "        vertical-align: top;\n",
              "    }\n",
              "\n",
              "    .dataframe thead th {\n",
              "        text-align: right;\n",
              "    }\n",
              "</style>\n",
              "<table border=\"1\" class=\"dataframe\">\n",
              "  <thead>\n",
              "    <tr style=\"text-align: right;\">\n",
              "      <th></th>\n",
              "      <th>Id</th>\n",
              "      <th>Sexo</th>\n",
              "      <th>Idoso</th>\n",
              "      <th>Parceiro/a</th>\n",
              "      <th>Dependentes</th>\n",
              "      <th>Meses sob contrato</th>\n",
              "      <th>Serviço de telefone</th>\n",
              "      <th>+de 1 linha phone</th>\n",
              "      <th>Internet</th>\n",
              "      <th>Segurança online</th>\n",
              "      <th>Serviço Backup</th>\n",
              "      <th>Proteção</th>\n",
              "      <th>Suporte técnico</th>\n",
              "      <th>StreamingTV</th>\n",
              "      <th>StreamingMovies</th>\n",
              "      <th>Tipo de Contrato</th>\n",
              "      <th>Fatura em papel</th>\n",
              "      <th>Forma de Pgto</th>\n",
              "      <th>Valor do Plano</th>\n",
              "      <th>Total da Fatura</th>\n",
              "      <th>Ainda Cliente?</th>\n",
              "    </tr>\n",
              "  </thead>\n",
              "  <tbody>\n",
              "    <tr>\n",
              "      <th>0</th>\n",
              "      <td>7590-VHVEG</td>\n",
              "      <td>Female</td>\n",
              "      <td>0</td>\n",
              "      <td>Yes</td>\n",
              "      <td>No</td>\n",
              "      <td>1</td>\n",
              "      <td>No</td>\n",
              "      <td>No phone service</td>\n",
              "      <td>DSL</td>\n",
              "      <td>No</td>\n",
              "      <td>Yes</td>\n",
              "      <td>No</td>\n",
              "      <td>No</td>\n",
              "      <td>No</td>\n",
              "      <td>No</td>\n",
              "      <td>Month-to-month</td>\n",
              "      <td>Yes</td>\n",
              "      <td>Electronic check</td>\n",
              "      <td>29.85</td>\n",
              "      <td>29.85</td>\n",
              "      <td>No</td>\n",
              "    </tr>\n",
              "    <tr>\n",
              "      <th>1</th>\n",
              "      <td>5575-GNVDE</td>\n",
              "      <td>Male</td>\n",
              "      <td>0</td>\n",
              "      <td>No</td>\n",
              "      <td>No</td>\n",
              "      <td>34</td>\n",
              "      <td>Yes</td>\n",
              "      <td>No</td>\n",
              "      <td>DSL</td>\n",
              "      <td>Yes</td>\n",
              "      <td>No</td>\n",
              "      <td>Yes</td>\n",
              "      <td>No</td>\n",
              "      <td>No</td>\n",
              "      <td>No</td>\n",
              "      <td>One year</td>\n",
              "      <td>No</td>\n",
              "      <td>Mailed check</td>\n",
              "      <td>56.95</td>\n",
              "      <td>1889.5</td>\n",
              "      <td>No</td>\n",
              "    </tr>\n",
              "    <tr>\n",
              "      <th>2</th>\n",
              "      <td>3668-QPYBK</td>\n",
              "      <td>Male</td>\n",
              "      <td>0</td>\n",
              "      <td>No</td>\n",
              "      <td>No</td>\n",
              "      <td>2</td>\n",
              "      <td>Yes</td>\n",
              "      <td>No</td>\n",
              "      <td>DSL</td>\n",
              "      <td>Yes</td>\n",
              "      <td>Yes</td>\n",
              "      <td>No</td>\n",
              "      <td>No</td>\n",
              "      <td>No</td>\n",
              "      <td>No</td>\n",
              "      <td>Month-to-month</td>\n",
              "      <td>Yes</td>\n",
              "      <td>Mailed check</td>\n",
              "      <td>53.85</td>\n",
              "      <td>108.15</td>\n",
              "      <td>Yes</td>\n",
              "    </tr>\n",
              "    <tr>\n",
              "      <th>3</th>\n",
              "      <td>7795-CFOCW</td>\n",
              "      <td>Male</td>\n",
              "      <td>0</td>\n",
              "      <td>No</td>\n",
              "      <td>No</td>\n",
              "      <td>45</td>\n",
              "      <td>No</td>\n",
              "      <td>No phone service</td>\n",
              "      <td>DSL</td>\n",
              "      <td>Yes</td>\n",
              "      <td>No</td>\n",
              "      <td>Yes</td>\n",
              "      <td>Yes</td>\n",
              "      <td>No</td>\n",
              "      <td>No</td>\n",
              "      <td>One year</td>\n",
              "      <td>No</td>\n",
              "      <td>Bank transfer (automatic)</td>\n",
              "      <td>42.30</td>\n",
              "      <td>1840.75</td>\n",
              "      <td>No</td>\n",
              "    </tr>\n",
              "    <tr>\n",
              "      <th>4</th>\n",
              "      <td>9237-HQITU</td>\n",
              "      <td>Female</td>\n",
              "      <td>0</td>\n",
              "      <td>No</td>\n",
              "      <td>No</td>\n",
              "      <td>2</td>\n",
              "      <td>Yes</td>\n",
              "      <td>No</td>\n",
              "      <td>Fiber optic</td>\n",
              "      <td>No</td>\n",
              "      <td>No</td>\n",
              "      <td>No</td>\n",
              "      <td>No</td>\n",
              "      <td>No</td>\n",
              "      <td>No</td>\n",
              "      <td>Month-to-month</td>\n",
              "      <td>Yes</td>\n",
              "      <td>Electronic check</td>\n",
              "      <td>70.70</td>\n",
              "      <td>151.65</td>\n",
              "      <td>Yes</td>\n",
              "    </tr>\n",
              "    <tr>\n",
              "      <th>...</th>\n",
              "      <td>...</td>\n",
              "      <td>...</td>\n",
              "      <td>...</td>\n",
              "      <td>...</td>\n",
              "      <td>...</td>\n",
              "      <td>...</td>\n",
              "      <td>...</td>\n",
              "      <td>...</td>\n",
              "      <td>...</td>\n",
              "      <td>...</td>\n",
              "      <td>...</td>\n",
              "      <td>...</td>\n",
              "      <td>...</td>\n",
              "      <td>...</td>\n",
              "      <td>...</td>\n",
              "      <td>...</td>\n",
              "      <td>...</td>\n",
              "      <td>...</td>\n",
              "      <td>...</td>\n",
              "      <td>...</td>\n",
              "      <td>...</td>\n",
              "    </tr>\n",
              "    <tr>\n",
              "      <th>7038</th>\n",
              "      <td>6840-RESVB</td>\n",
              "      <td>Male</td>\n",
              "      <td>0</td>\n",
              "      <td>Yes</td>\n",
              "      <td>Yes</td>\n",
              "      <td>24</td>\n",
              "      <td>Yes</td>\n",
              "      <td>Yes</td>\n",
              "      <td>DSL</td>\n",
              "      <td>Yes</td>\n",
              "      <td>No</td>\n",
              "      <td>Yes</td>\n",
              "      <td>Yes</td>\n",
              "      <td>Yes</td>\n",
              "      <td>Yes</td>\n",
              "      <td>One year</td>\n",
              "      <td>Yes</td>\n",
              "      <td>Mailed check</td>\n",
              "      <td>84.80</td>\n",
              "      <td>1990.5</td>\n",
              "      <td>No</td>\n",
              "    </tr>\n",
              "    <tr>\n",
              "      <th>7039</th>\n",
              "      <td>2234-XADUH</td>\n",
              "      <td>Female</td>\n",
              "      <td>0</td>\n",
              "      <td>Yes</td>\n",
              "      <td>Yes</td>\n",
              "      <td>72</td>\n",
              "      <td>Yes</td>\n",
              "      <td>Yes</td>\n",
              "      <td>Fiber optic</td>\n",
              "      <td>No</td>\n",
              "      <td>Yes</td>\n",
              "      <td>Yes</td>\n",
              "      <td>No</td>\n",
              "      <td>Yes</td>\n",
              "      <td>Yes</td>\n",
              "      <td>One year</td>\n",
              "      <td>Yes</td>\n",
              "      <td>Credit card (automatic)</td>\n",
              "      <td>103.20</td>\n",
              "      <td>7362.9</td>\n",
              "      <td>No</td>\n",
              "    </tr>\n",
              "    <tr>\n",
              "      <th>7040</th>\n",
              "      <td>4801-JZAZL</td>\n",
              "      <td>Female</td>\n",
              "      <td>0</td>\n",
              "      <td>Yes</td>\n",
              "      <td>Yes</td>\n",
              "      <td>11</td>\n",
              "      <td>No</td>\n",
              "      <td>No phone service</td>\n",
              "      <td>DSL</td>\n",
              "      <td>Yes</td>\n",
              "      <td>No</td>\n",
              "      <td>No</td>\n",
              "      <td>No</td>\n",
              "      <td>No</td>\n",
              "      <td>No</td>\n",
              "      <td>Month-to-month</td>\n",
              "      <td>Yes</td>\n",
              "      <td>Electronic check</td>\n",
              "      <td>29.60</td>\n",
              "      <td>346.45</td>\n",
              "      <td>No</td>\n",
              "    </tr>\n",
              "    <tr>\n",
              "      <th>7041</th>\n",
              "      <td>8361-LTMKD</td>\n",
              "      <td>Male</td>\n",
              "      <td>1</td>\n",
              "      <td>Yes</td>\n",
              "      <td>No</td>\n",
              "      <td>4</td>\n",
              "      <td>Yes</td>\n",
              "      <td>Yes</td>\n",
              "      <td>Fiber optic</td>\n",
              "      <td>No</td>\n",
              "      <td>No</td>\n",
              "      <td>No</td>\n",
              "      <td>No</td>\n",
              "      <td>No</td>\n",
              "      <td>No</td>\n",
              "      <td>Month-to-month</td>\n",
              "      <td>Yes</td>\n",
              "      <td>Mailed check</td>\n",
              "      <td>74.40</td>\n",
              "      <td>306.6</td>\n",
              "      <td>Yes</td>\n",
              "    </tr>\n",
              "    <tr>\n",
              "      <th>7042</th>\n",
              "      <td>3186-AJIEK</td>\n",
              "      <td>Male</td>\n",
              "      <td>0</td>\n",
              "      <td>No</td>\n",
              "      <td>No</td>\n",
              "      <td>66</td>\n",
              "      <td>Yes</td>\n",
              "      <td>No</td>\n",
              "      <td>Fiber optic</td>\n",
              "      <td>Yes</td>\n",
              "      <td>No</td>\n",
              "      <td>Yes</td>\n",
              "      <td>Yes</td>\n",
              "      <td>Yes</td>\n",
              "      <td>Yes</td>\n",
              "      <td>Two year</td>\n",
              "      <td>Yes</td>\n",
              "      <td>Bank transfer (automatic)</td>\n",
              "      <td>105.65</td>\n",
              "      <td>6844.5</td>\n",
              "      <td>No</td>\n",
              "    </tr>\n",
              "  </tbody>\n",
              "</table>\n",
              "<p>7043 rows × 21 columns</p>\n",
              "</div>\n",
              "      <button class=\"colab-df-convert\" onclick=\"convertToInteractive('df-02f0d847-7dbc-41bb-b1a6-0eb86ef10140')\"\n",
              "              title=\"Convert this dataframe to an interactive table.\"\n",
              "              style=\"display:none;\">\n",
              "        \n",
              "  <svg xmlns=\"http://www.w3.org/2000/svg\" height=\"24px\"viewBox=\"0 0 24 24\"\n",
              "       width=\"24px\">\n",
              "    <path d=\"M0 0h24v24H0V0z\" fill=\"none\"/>\n",
              "    <path d=\"M18.56 5.44l.94 2.06.94-2.06 2.06-.94-2.06-.94-.94-2.06-.94 2.06-2.06.94zm-11 1L8.5 8.5l.94-2.06 2.06-.94-2.06-.94L8.5 2.5l-.94 2.06-2.06.94zm10 10l.94 2.06.94-2.06 2.06-.94-2.06-.94-.94-2.06-.94 2.06-2.06.94z\"/><path d=\"M17.41 7.96l-1.37-1.37c-.4-.4-.92-.59-1.43-.59-.52 0-1.04.2-1.43.59L10.3 9.45l-7.72 7.72c-.78.78-.78 2.05 0 2.83L4 21.41c.39.39.9.59 1.41.59.51 0 1.02-.2 1.41-.59l7.78-7.78 2.81-2.81c.8-.78.8-2.07 0-2.86zM5.41 20L4 18.59l7.72-7.72 1.47 1.35L5.41 20z\"/>\n",
              "  </svg>\n",
              "      </button>\n",
              "      \n",
              "  <style>\n",
              "    .colab-df-container {\n",
              "      display:flex;\n",
              "      flex-wrap:wrap;\n",
              "      gap: 12px;\n",
              "    }\n",
              "\n",
              "    .colab-df-convert {\n",
              "      background-color: #E8F0FE;\n",
              "      border: none;\n",
              "      border-radius: 50%;\n",
              "      cursor: pointer;\n",
              "      display: none;\n",
              "      fill: #1967D2;\n",
              "      height: 32px;\n",
              "      padding: 0 0 0 0;\n",
              "      width: 32px;\n",
              "    }\n",
              "\n",
              "    .colab-df-convert:hover {\n",
              "      background-color: #E2EBFA;\n",
              "      box-shadow: 0px 1px 2px rgba(60, 64, 67, 0.3), 0px 1px 3px 1px rgba(60, 64, 67, 0.15);\n",
              "      fill: #174EA6;\n",
              "    }\n",
              "\n",
              "    [theme=dark] .colab-df-convert {\n",
              "      background-color: #3B4455;\n",
              "      fill: #D2E3FC;\n",
              "    }\n",
              "\n",
              "    [theme=dark] .colab-df-convert:hover {\n",
              "      background-color: #434B5C;\n",
              "      box-shadow: 0px 1px 3px 1px rgba(0, 0, 0, 0.15);\n",
              "      filter: drop-shadow(0px 1px 2px rgba(0, 0, 0, 0.3));\n",
              "      fill: #FFFFFF;\n",
              "    }\n",
              "  </style>\n",
              "\n",
              "      <script>\n",
              "        const buttonEl =\n",
              "          document.querySelector('#df-02f0d847-7dbc-41bb-b1a6-0eb86ef10140 button.colab-df-convert');\n",
              "        buttonEl.style.display =\n",
              "          google.colab.kernel.accessAllowed ? 'block' : 'none';\n",
              "\n",
              "        async function convertToInteractive(key) {\n",
              "          const element = document.querySelector('#df-02f0d847-7dbc-41bb-b1a6-0eb86ef10140');\n",
              "          const dataTable =\n",
              "            await google.colab.kernel.invokeFunction('convertToInteractive',\n",
              "                                                     [key], {});\n",
              "          if (!dataTable) return;\n",
              "\n",
              "          const docLinkHtml = 'Like what you see? Visit the ' +\n",
              "            '<a target=\"_blank\" href=https://colab.research.google.com/notebooks/data_table.ipynb>data table notebook</a>'\n",
              "            + ' to learn more about interactive tables.';\n",
              "          element.innerHTML = '';\n",
              "          dataTable['output_type'] = 'display_data';\n",
              "          await google.colab.output.renderOutput(dataTable, element);\n",
              "          const docLink = document.createElement('div');\n",
              "          docLink.innerHTML = docLinkHtml;\n",
              "          element.appendChild(docLink);\n",
              "        }\n",
              "      </script>\n",
              "    </div>\n",
              "  </div>\n",
              "  "
            ]
          },
          "metadata": {},
          "execution_count": 25
        }
      ]
    },
    {
      "cell_type": "code",
      "source": [],
      "metadata": {
        "id": "wzjAbFq1NhLt"
      },
      "execution_count": 25,
      "outputs": []
    },
    {
      "cell_type": "markdown",
      "source": [
        "# Primeira função: resumo das colunas"
      ],
      "metadata": {
        "id": "gqrbQUWkPUdN"
      }
    },
    {
      "cell_type": "code",
      "source": [
        "def resumo(dataframe, coluna, grafico = True):\n",
        "  print(f'Valores nulo: {dataframe[coluna].isnull().sum()}')\n",
        "  print(f'Quem são os valores únicos: {dataframe[coluna].unique()}')\n",
        "  print(f'Quantos são os valores únicos: {dataframe[coluna].nunique()}')\n",
        "  print(f'Como ficou dividida a quantidade: {dataframe[coluna].value_counts()}')\n",
        "  if grafico == 'True':\n",
        "    sns.countplot(data = dataframe, X = coluna, hue = 'Ainda Cliente?')\n",
        "  else:\n",
        "    sns.displot(data = dataframe, x = coluna, hue = 'Ainda Cliente?')"
      ],
      "metadata": {
        "id": "1Ogz5W0PPbRq"
      },
      "execution_count": 26,
      "outputs": []
    },
    {
      "cell_type": "code",
      "source": [
        "resumo(train, 'Sexo')"
      ],
      "metadata": {
        "colab": {
          "base_uri": "https://localhost:8080/",
          "height": 473
        },
        "id": "akIlSYuURXMN",
        "outputId": "f0c42027-df27-4a8d-e437-a9580ff3722f"
      },
      "execution_count": 27,
      "outputs": [
        {
          "output_type": "stream",
          "name": "stdout",
          "text": [
            "Valores nulo: 0\n",
            "Quem são os valores únicos: ['Female' 'Male']\n",
            "Quantos são os valores únicos: 2\n",
            "Como ficou dividida a quantidade: Male      3555\n",
            "Female    3488\n",
            "Name: Sexo, dtype: int64\n"
          ]
        },
        {
          "output_type": "display_data",
          "data": {
            "text/plain": [
              "<Figure size 440.125x360 with 1 Axes>"
            ],
            "image/png": "[encoded data removed]"
          },
          "metadata": {
            "needs_background": "light"
          }
        }
      ]
    },
    {
      "cell_type": "code",
      "source": [
        "#como já informado anteriormente, inexistem valores nulos para todas as colunas do dataframe \"train\"\n",
        "#pela imagem, nota-se que em ambos os sexos, a maioria da base de dados da telco, não é mais cliente da empresa (azul), em cinza, encontra- os ainda cliente\n",
        "#em termos técnicos, nota-se que a diferença de sexo daqueles que são clientes é mínima\n",
        "#a cor cinza é pq o yes e no estão se sobrepondo."
      ],
      "metadata": {
        "id": "OpOx0nmeRaiI"
      },
      "execution_count": 28,
      "outputs": []
    },
    {
      "cell_type": "code",
      "source": [
        "train.columns"
      ],
      "metadata": {
        "colab": {
          "base_uri": "https://localhost:8080/"
        },
        "id": "Y2I2VG19T0UV",
        "outputId": "6b6aa0ec-c2e0-4b91-e32c-30c089f0980e"
      },
      "execution_count": 29,
      "outputs": [
        {
          "output_type": "execute_result",
          "data": {
            "text/plain": [
              "Index(['Id', 'Sexo', 'Idoso', 'Parceiro/a', 'Dependentes',\n",
              "       'Meses sob contrato', 'Serviço de telefone', '+de 1 linha phone',\n",
              "       'Internet', 'Segurança online', 'Serviço Backup', 'Proteção',\n",
              "       'Suporte técnico', 'StreamingTV', 'StreamingMovies', 'Tipo de Contrato',\n",
              "       'Fatura em papel', 'Forma de Pgto', 'Valor do Plano', 'Total da Fatura',\n",
              "       'Ainda Cliente?'],\n",
              "      dtype='object')"
            ]
          },
          "metadata": {},
          "execution_count": 29
        }
      ]
    },
    {
      "cell_type": "code",
      "source": [
        "resumo(train, 'Idoso')"
      ],
      "metadata": {
        "colab": {
          "base_uri": "https://localhost:8080/",
          "height": 473
        },
        "id": "HAYHrXN-UXDe",
        "outputId": "f3281fc8-bdbc-4bc6-c295-48f1b92a2b0d"
      },
      "execution_count": 30,
      "outputs": [
        {
          "output_type": "stream",
          "name": "stdout",
          "text": [
            "Valores nulo: 0\n",
            "Quem são os valores únicos: [0 1]\n",
            "Quantos são os valores únicos: 2\n",
            "Como ficou dividida a quantidade: 0    5901\n",
            "1    1142\n",
            "Name: Idoso, dtype: int64\n"
          ]
        },
        {
          "output_type": "display_data",
          "data": {
            "text/plain": [
              "<Figure size 440.125x360 with 1 Axes>"
            ],
            "image/png": "[encoded data removed]"
          },
          "metadata": {
            "needs_background": "light"
          }
        }
      ]
    },
    {
      "cell_type": "code",
      "source": [
        "#Em idoso, atráves do sistema binário, 0 significa \"Não\" e, 1, \"Sim\"\n",
        "#em posse dessa informação, registra-se que a maioria da base de dados da telco não são idosos, conforme a primeira rente ao eixo X.\n",
        "#Além disso, para os \"não idosos\", a maioria esmagadora não é mais cliente e para o grupo de idosos, a maioria também não é mais cliente da telco, porém, porém\n",
        "#proporcionalmente, os idosos tendem a ser clientes, comparados com os não idosos."
      ],
      "metadata": {
        "id": "yB7JwmDOUkjc"
      },
      "execution_count": 31,
      "outputs": []
    },
    {
      "cell_type": "code",
      "source": [
        "train.groupby(train['Idoso'] == 0)['Ainda Cliente?'].value_counts()"
      ],
      "metadata": {
        "colab": {
          "base_uri": "https://localhost:8080/"
        },
        "id": "Ivavwqf0V84_",
        "outputId": "c0548f9e-f8b0-4d11-d154-653d7afa9de7"
      },
      "execution_count": 32,
      "outputs": [
        {
          "output_type": "execute_result",
          "data": {
            "text/plain": [
              "Idoso  Ainda Cliente?\n",
              "False  No                 666\n",
              "       Yes                476\n",
              "True   No                4508\n",
              "       Yes               1393\n",
              "Name: Ainda Cliente?, dtype: int64"
            ]
          },
          "metadata": {},
          "execution_count": 32
        }
      ]
    },
    {
      "cell_type": "code",
      "source": [
        "train.groupby(train['Idoso'] == 1)['Ainda Cliente?'].value_counts()"
      ],
      "metadata": {
        "colab": {
          "base_uri": "https://localhost:8080/"
        },
        "id": "By3tCuKdZHU7",
        "outputId": "8214995b-b289-4da0-bc83-7e9e3130853b"
      },
      "execution_count": 33,
      "outputs": [
        {
          "output_type": "execute_result",
          "data": {
            "text/plain": [
              "Idoso  Ainda Cliente?\n",
              "False  No                4508\n",
              "       Yes               1393\n",
              "True   No                 666\n",
              "       Yes                476\n",
              "Name: Ainda Cliente?, dtype: int64"
            ]
          },
          "metadata": {},
          "execution_count": 33
        }
      ]
    },
    {
      "cell_type": "code",
      "source": [
        "train[train['Idoso'] == 1]['Ainda Cliente?'].value_counts()"
      ],
      "metadata": {
        "colab": {
          "base_uri": "https://localhost:8080/"
        },
        "id": "bLsl5jevXfrv",
        "outputId": "c48e6b3f-75cb-4e4b-ab60-16e97629c3cb"
      },
      "execution_count": 34,
      "outputs": [
        {
          "output_type": "execute_result",
          "data": {
            "text/plain": [
              "No     666\n",
              "Yes    476\n",
              "Name: Ainda Cliente?, dtype: int64"
            ]
          },
          "metadata": {},
          "execution_count": 34
        }
      ]
    },
    {
      "cell_type": "code",
      "source": [
        "476/(666 + 476)\n",
        "#41% dos idosos ainda são clientes, os demais, 58% não mais"
      ],
      "metadata": {
        "colab": {
          "base_uri": "https://localhost:8080/"
        },
        "id": "ghol1PGDZtxZ",
        "outputId": "8aa3bc63-cc58-4996-bf4b-bcfc3464035a"
      },
      "execution_count": 35,
      "outputs": [
        {
          "output_type": "execute_result",
          "data": {
            "text/plain": [
              "0.4168126094570928"
            ]
          },
          "metadata": {},
          "execution_count": 35
        }
      ]
    },
    {
      "cell_type": "code",
      "source": [
        "#é melhor usar a segunda forma sem o groupby"
      ],
      "metadata": {
        "id": "WrfPvBK9Zalm"
      },
      "execution_count": 36,
      "outputs": []
    },
    {
      "cell_type": "code",
      "source": [
        "train[train['Idoso'] == 0]['Ainda Cliente?'].value_counts()"
      ],
      "metadata": {
        "colab": {
          "base_uri": "https://localhost:8080/"
        },
        "id": "X3XQPeb7ZeV_",
        "outputId": "45ee9ab5-c682-486e-f585-7c33141601ac"
      },
      "execution_count": 37,
      "outputs": [
        {
          "output_type": "execute_result",
          "data": {
            "text/plain": [
              "No     4508\n",
              "Yes    1393\n",
              "Name: Ainda Cliente?, dtype: int64"
            ]
          },
          "metadata": {},
          "execution_count": 37
        }
      ]
    },
    {
      "cell_type": "code",
      "source": [
        "1393/(4508+1393)\n",
        "#já para não idosos, 23% são clientes, os demais, 77% não são"
      ],
      "metadata": {
        "colab": {
          "base_uri": "https://localhost:8080/"
        },
        "id": "t1paXOzNaHG9",
        "outputId": "12712bef-65a3-4dd7-9428-d61d45e20460"
      },
      "execution_count": 38,
      "outputs": [
        {
          "output_type": "execute_result",
          "data": {
            "text/plain": [
              "0.23606168446026096"
            ]
          },
          "metadata": {},
          "execution_count": 38
        }
      ]
    },
    {
      "cell_type": "code",
      "source": [
        "train.columns"
      ],
      "metadata": {
        "colab": {
          "base_uri": "https://localhost:8080/"
        },
        "id": "R6Ih1moiY1o1",
        "outputId": "28931cfc-ca8d-4c0c-e141-6a0823486ebc"
      },
      "execution_count": 39,
      "outputs": [
        {
          "output_type": "execute_result",
          "data": {
            "text/plain": [
              "Index(['Id', 'Sexo', 'Idoso', 'Parceiro/a', 'Dependentes',\n",
              "       'Meses sob contrato', 'Serviço de telefone', '+de 1 linha phone',\n",
              "       'Internet', 'Segurança online', 'Serviço Backup', 'Proteção',\n",
              "       'Suporte técnico', 'StreamingTV', 'StreamingMovies', 'Tipo de Contrato',\n",
              "       'Fatura em papel', 'Forma de Pgto', 'Valor do Plano', 'Total da Fatura',\n",
              "       'Ainda Cliente?'],\n",
              "      dtype='object')"
            ]
          },
          "metadata": {},
          "execution_count": 39
        }
      ]
    },
    {
      "cell_type": "code",
      "source": [
        "resumo(train, 'Parceiro/a')"
      ],
      "metadata": {
        "colab": {
          "base_uri": "https://localhost:8080/",
          "height": 473
        },
        "id": "7dz1gA7Na88g",
        "outputId": "35f7f8cc-d8e0-4eff-d087-b90313c2e210"
      },
      "execution_count": 40,
      "outputs": [
        {
          "output_type": "stream",
          "name": "stdout",
          "text": [
            "Valores nulo: 0\n",
            "Quem são os valores únicos: ['Yes' 'No']\n",
            "Quantos são os valores únicos: 2\n",
            "Como ficou dividida a quantidade: No     3641\n",
            "Yes    3402\n",
            "Name: Parceiro/a, dtype: int64\n"
          ]
        },
        {
          "output_type": "display_data",
          "data": {
            "text/plain": [
              "<Figure size 440.125x360 with 1 Axes>"
            ],
            "image/png": "[encoded data removed]"
          },
          "metadata": {
            "needs_background": "light"
          }
        }
      ]
    },
    {
      "cell_type": "code",
      "source": [
        "#apenas respostas \"yes\" e \"no\"\n",
        "#existem mais \"No\" do que \"yes\", exatos 51,69%\n",
        "#em relação a cliente, a maioria não é mais mas para aqueles que responderam não, nota-se que a telco consegue reter mais do que o \"yes\""
      ],
      "metadata": {
        "id": "Rsb2Ts7fbB5p"
      },
      "execution_count": 41,
      "outputs": []
    },
    {
      "cell_type": "code",
      "source": [
        "3641/(3641+3402)"
      ],
      "metadata": {
        "colab": {
          "base_uri": "https://localhost:8080/"
        },
        "id": "r6AOa-yVbyDH",
        "outputId": "0bcdc2a8-d223-436c-a894-21dcdfefdea2"
      },
      "execution_count": 42,
      "outputs": [
        {
          "output_type": "execute_result",
          "data": {
            "text/plain": [
              "0.5169672014766434"
            ]
          },
          "metadata": {},
          "execution_count": 42
        }
      ]
    },
    {
      "cell_type": "code",
      "source": [
        "train[train['Parceiro/a'] == 'Yes']['Ainda Cliente?'].value_counts()"
      ],
      "metadata": {
        "colab": {
          "base_uri": "https://localhost:8080/"
        },
        "id": "seywrtNJb3t-",
        "outputId": "8777a6b2-8d57-4245-ce44-f6c535b3eb13"
      },
      "execution_count": 43,
      "outputs": [
        {
          "output_type": "execute_result",
          "data": {
            "text/plain": [
              "No     2733\n",
              "Yes     669\n",
              "Name: Ainda Cliente?, dtype: int64"
            ]
          },
          "metadata": {},
          "execution_count": 43
        }
      ]
    },
    {
      "cell_type": "code",
      "source": [
        "train.groupby(train['Parceiro/a'])['Ainda Cliente?'].value_counts()"
      ],
      "metadata": {
        "colab": {
          "base_uri": "https://localhost:8080/"
        },
        "id": "nRV3dfA2c_wD",
        "outputId": "736588ba-72e4-4849-967f-66a3bccdae4f"
      },
      "execution_count": 44,
      "outputs": [
        {
          "output_type": "execute_result",
          "data": {
            "text/plain": [
              "Parceiro/a  Ainda Cliente?\n",
              "No          No                2441\n",
              "            Yes               1200\n",
              "Yes         No                2733\n",
              "            Yes                669\n",
              "Name: Ainda Cliente?, dtype: int64"
            ]
          },
          "metadata": {},
          "execution_count": 44
        }
      ]
    },
    {
      "cell_type": "code",
      "source": [
        "1200/(2441+1200)\n",
        "#os sem parceiros, tendem a manter o plano da telco, onde sob o total, perfazem 32,95% "
      ],
      "metadata": {
        "colab": {
          "base_uri": "https://localhost:8080/"
        },
        "id": "UHzkVib1dPJZ",
        "outputId": "66cf2c69-c918-4b51-8c66-437c549a3339"
      },
      "execution_count": 45,
      "outputs": [
        {
          "output_type": "execute_result",
          "data": {
            "text/plain": [
              "0.32957978577313923"
            ]
          },
          "metadata": {},
          "execution_count": 45
        }
      ]
    },
    {
      "cell_type": "code",
      "source": [
        "669/(669+2733)\n",
        "#Já para oq ue tinham parceiros, esse percentual cai para 19,66%"
      ],
      "metadata": {
        "colab": {
          "base_uri": "https://localhost:8080/"
        },
        "id": "V_eD3w1zfsWh",
        "outputId": "ca5e1561-025b-4cd5-9de2-5dde05a42184"
      },
      "execution_count": 46,
      "outputs": [
        {
          "output_type": "execute_result",
          "data": {
            "text/plain": [
              "0.1966490299823633"
            ]
          },
          "metadata": {},
          "execution_count": 46
        }
      ]
    },
    {
      "cell_type": "code",
      "source": [
        "train.columns"
      ],
      "metadata": {
        "colab": {
          "base_uri": "https://localhost:8080/"
        },
        "id": "vxToFlhdf9C-",
        "outputId": "31d1a4d4-2703-4fcb-ce65-d1c6355ae839"
      },
      "execution_count": 47,
      "outputs": [
        {
          "output_type": "execute_result",
          "data": {
            "text/plain": [
              "Index(['Id', 'Sexo', 'Idoso', 'Parceiro/a', 'Dependentes',\n",
              "       'Meses sob contrato', 'Serviço de telefone', '+de 1 linha phone',\n",
              "       'Internet', 'Segurança online', 'Serviço Backup', 'Proteção',\n",
              "       'Suporte técnico', 'StreamingTV', 'StreamingMovies', 'Tipo de Contrato',\n",
              "       'Fatura em papel', 'Forma de Pgto', 'Valor do Plano', 'Total da Fatura',\n",
              "       'Ainda Cliente?'],\n",
              "      dtype='object')"
            ]
          },
          "metadata": {},
          "execution_count": 47
        }
      ]
    },
    {
      "cell_type": "code",
      "source": [
        "resumo(train, 'Dependentes')"
      ],
      "metadata": {
        "colab": {
          "base_uri": "https://localhost:8080/",
          "height": 473
        },
        "id": "kOYXESTJgkrg",
        "outputId": "5d59f3af-cffa-4fc9-8274-edbdcafa1dcb"
      },
      "execution_count": 48,
      "outputs": [
        {
          "output_type": "stream",
          "name": "stdout",
          "text": [
            "Valores nulo: 0\n",
            "Quem são os valores únicos: ['No' 'Yes']\n",
            "Quantos são os valores únicos: 2\n",
            "Como ficou dividida a quantidade: No     4933\n",
            "Yes    2110\n",
            "Name: Dependentes, dtype: int64\n"
          ]
        },
        {
          "output_type": "display_data",
          "data": {
            "text/plain": [
              "<Figure size 440.125x360 with 1 Axes>"
            ],
            "image/png": "[encoded data removed]"
          },
          "metadata": {
            "needs_background": "light"
          }
        }
      ]
    },
    {
      "cell_type": "code",
      "source": [
        "#sobre dependentes, existem apenas respostas \"Sim\" e \"Não\"\n",
        "#4933 responderam \"não\" para dependentes e 2110 para \"Sim\"\n",
        "#dos que responderam \"não\", nota-se que a maioria não é mais cliente,o mesmo ocorre com os que responderam \"yes\""
      ],
      "metadata": {
        "id": "DKPsenqMhL9x"
      },
      "execution_count": 49,
      "outputs": []
    },
    {
      "cell_type": "code",
      "source": [
        "train.groupby(train['Dependentes'])['Ainda Cliente?'].value_counts()"
      ],
      "metadata": {
        "colab": {
          "base_uri": "https://localhost:8080/"
        },
        "id": "9TT4D4r4nfAO",
        "outputId": "2dfe02af-e8fa-474f-cc75-a4540e57145b"
      },
      "execution_count": 50,
      "outputs": [
        {
          "output_type": "execute_result",
          "data": {
            "text/plain": [
              "Dependentes  Ainda Cliente?\n",
              "No           No                3390\n",
              "             Yes               1543\n",
              "Yes          No                1784\n",
              "             Yes                326\n",
              "Name: Ainda Cliente?, dtype: int64"
            ]
          },
          "metadata": {},
          "execution_count": 50
        }
      ]
    },
    {
      "cell_type": "code",
      "source": [
        "#para aqueles que responderam não para dependentes, 31,27% são clientes da telco\n",
        "1543/(3390+1543)\n",
        "#para aqueles que respodenram \"Sim\", apenas 15% ainda estavam vinculadas a emrpesa\n",
        "326/(326+1784)"
      ],
      "metadata": {
        "colab": {
          "base_uri": "https://localhost:8080/"
        },
        "id": "-hji59cZoGv4",
        "outputId": "36e0ac0a-ad78-4d49-edd9-2edfebbc999c"
      },
      "execution_count": 51,
      "outputs": [
        {
          "output_type": "execute_result",
          "data": {
            "text/plain": [
              "0.15450236966824646"
            ]
          },
          "metadata": {},
          "execution_count": 51
        }
      ]
    },
    {
      "cell_type": "code",
      "source": [
        "train.columns"
      ],
      "metadata": {
        "colab": {
          "base_uri": "https://localhost:8080/"
        },
        "id": "vp2zfZCHpAp8",
        "outputId": "97d5aaea-2cd0-4b31-fea6-91a8e50cacd8"
      },
      "execution_count": 52,
      "outputs": [
        {
          "output_type": "execute_result",
          "data": {
            "text/plain": [
              "Index(['Id', 'Sexo', 'Idoso', 'Parceiro/a', 'Dependentes',\n",
              "       'Meses sob contrato', 'Serviço de telefone', '+de 1 linha phone',\n",
              "       'Internet', 'Segurança online', 'Serviço Backup', 'Proteção',\n",
              "       'Suporte técnico', 'StreamingTV', 'StreamingMovies', 'Tipo de Contrato',\n",
              "       'Fatura em papel', 'Forma de Pgto', 'Valor do Plano', 'Total da Fatura',\n",
              "       'Ainda Cliente?'],\n",
              "      dtype='object')"
            ]
          },
          "metadata": {},
          "execution_count": 52
        }
      ]
    },
    {
      "cell_type": "code",
      "source": [
        "resumo(train, 'Meses sob contrato')"
      ],
      "metadata": {
        "colab": {
          "base_uri": "https://localhost:8080/",
          "height": 682
        },
        "id": "ZwYf6iTUpw7P",
        "outputId": "705268d7-771b-4066-cc5e-9e172cbdb994"
      },
      "execution_count": 53,
      "outputs": [
        {
          "output_type": "stream",
          "name": "stdout",
          "text": [
            "Valores nulo: 0\n",
            "Quem são os valores únicos: [ 1 34  2 45  8 22 10 28 62 13 16 58 49 25 69 52 71 21 12 30 47 72 17 27\n",
            "  5 46 11 70 63 43 15 60 18 66  9  3 31 50 64 56  7 42 35 48 29 65 38 68\n",
            " 32 55 37 36 41  6  4 33 67 23 57 61 14 20 53 40 59 24 44 19 54 51 26  0\n",
            " 39]\n",
            "Quantos são os valores únicos: 73\n",
            "Como ficou dividida a quantidade: 1     613\n",
            "72    362\n",
            "2     238\n",
            "3     200\n",
            "4     176\n",
            "     ... \n",
            "28     57\n",
            "39     56\n",
            "44     51\n",
            "36     50\n",
            "0      11\n",
            "Name: Meses sob contrato, Length: 73, dtype: int64\n"
          ]
        },
        {
          "output_type": "display_data",
          "data": {
            "text/plain": [
              "<Figure size 440.125x360 with 1 Axes>"
            ],
            "image/png": "[encoded data removed]"
          },
          "metadata": {
            "needs_background": "light"
          }
        }
      ]
    },
    {
      "cell_type": "code",
      "source": [
        "# ao todo são 73 valores únicos\n",
        "#a quantidade de meses mais frequente é \"1 mes\" com 613 aparições seguido por \"72 meses\" com 362.\n",
        "#os grupos etários foram divididos de 5 em 5 meses e a primeira faixa, é onde se tem a maior quantidade de gente que é cliente da telco, \n",
        "#em todas as demaisse sobresai o não como cliente, onde com o passar dos meses, há um claro aumento de clientes saindo do leque da telco."
      ],
      "metadata": {
        "id": "oJ363Bb-p19H"
      },
      "execution_count": 54,
      "outputs": []
    },
    {
      "cell_type": "code",
      "source": [
        "resumo(train, 'Serviço de telefone')"
      ],
      "metadata": {
        "colab": {
          "base_uri": "https://localhost:8080/",
          "height": 473
        },
        "id": "BcWU1N47sigG",
        "outputId": "a1b7a2d1-450a-434e-ec26-20ebeb847904"
      },
      "execution_count": 55,
      "outputs": [
        {
          "output_type": "stream",
          "name": "stdout",
          "text": [
            "Valores nulo: 0\n",
            "Quem são os valores únicos: ['No' 'Yes']\n",
            "Quantos são os valores únicos: 2\n",
            "Como ficou dividida a quantidade: Yes    6361\n",
            "No      682\n",
            "Name: Serviço de telefone, dtype: int64\n"
          ]
        },
        {
          "output_type": "display_data",
          "data": {
            "text/plain": [
              "<Figure size 440.125x360 with 1 Axes>"
            ],
            "image/png": "[encoded data removed]"
          },
          "metadata": {
            "needs_background": "light"
          }
        }
      ]
    },
    {
      "cell_type": "code",
      "source": [
        "#para serviço de telefone, existem apenas duas respsotas, sim e nao.\n",
        "#foram 6361 resposta para \"yes\" e apenas 682 para \"no\"\n",
        "#examinando o gráfico, nota-se que a base de clientes que responderam sim é muito maior que o não, até pelo volume"
      ],
      "metadata": {
        "id": "vHZr6IultaMM"
      },
      "execution_count": 56,
      "outputs": []
    },
    {
      "cell_type": "code",
      "source": [
        "train.groupby(train['Serviço de telefone'])['Ainda Cliente?'].value_counts()"
      ],
      "metadata": {
        "colab": {
          "base_uri": "https://localhost:8080/"
        },
        "id": "qurAEXbZuY1l",
        "outputId": "1d4c9626-1864-4b2d-f9cb-69ac64a0ec03"
      },
      "execution_count": 57,
      "outputs": [
        {
          "output_type": "execute_result",
          "data": {
            "text/plain": [
              "Serviço de telefone  Ainda Cliente?\n",
              "No                   No                 512\n",
              "                     Yes                170\n",
              "Yes                  No                4662\n",
              "                     Yes               1699\n",
              "Name: Ainda Cliente?, dtype: int64"
            ]
          },
          "metadata": {},
          "execution_count": 57
        }
      ]
    },
    {
      "cell_type": "code",
      "source": [
        "#dos que responderam \"Nao\", 24,92% são clientes.\n",
        "170/(170+512)\n",
        "#já para os que responderam \"sim\", 26,70% são clientes, ou seja, um percentual muito similar ao do não.\n",
        "1699/(1699+4662)"
      ],
      "metadata": {
        "colab": {
          "base_uri": "https://localhost:8080/"
        },
        "id": "YyWpkQggufOP",
        "outputId": "e9fd94f9-2fd3-4863-c39c-d30c57d0a5c7"
      },
      "execution_count": 58,
      "outputs": [
        {
          "output_type": "execute_result",
          "data": {
            "text/plain": [
              "0.2670963684955196"
            ]
          },
          "metadata": {},
          "execution_count": 58
        }
      ]
    },
    {
      "cell_type": "code",
      "source": [
        "train.columns"
      ],
      "metadata": {
        "id": "tqGeSuGcumWD",
        "colab": {
          "base_uri": "https://localhost:8080/"
        },
        "outputId": "f8a2a706-c258-4c22-d6ef-14f188f68edd"
      },
      "execution_count": 59,
      "outputs": [
        {
          "output_type": "execute_result",
          "data": {
            "text/plain": [
              "Index(['Id', 'Sexo', 'Idoso', 'Parceiro/a', 'Dependentes',\n",
              "       'Meses sob contrato', 'Serviço de telefone', '+de 1 linha phone',\n",
              "       'Internet', 'Segurança online', 'Serviço Backup', 'Proteção',\n",
              "       'Suporte técnico', 'StreamingTV', 'StreamingMovies', 'Tipo de Contrato',\n",
              "       'Fatura em papel', 'Forma de Pgto', 'Valor do Plano', 'Total da Fatura',\n",
              "       'Ainda Cliente?'],\n",
              "      dtype='object')"
            ]
          },
          "metadata": {},
          "execution_count": 59
        }
      ]
    },
    {
      "cell_type": "code",
      "source": [
        "resumo(train, '+de 1 linha phone')"
      ],
      "metadata": {
        "colab": {
          "base_uri": "https://localhost:8080/",
          "height": 491
        },
        "id": "bDbrwXOFVWQm",
        "outputId": "adaa16fc-5ec5-4909-f327-e78c1da8d5b2"
      },
      "execution_count": 60,
      "outputs": [
        {
          "output_type": "stream",
          "name": "stdout",
          "text": [
            "Valores nulo: 0\n",
            "Quem são os valores únicos: ['No phone service' 'No' 'Yes']\n",
            "Quantos são os valores únicos: 3\n",
            "Como ficou dividida a quantidade: No                  3390\n",
            "Yes                 2971\n",
            "No phone service     682\n",
            "Name: +de 1 linha phone, dtype: int64\n"
          ]
        },
        {
          "output_type": "display_data",
          "data": {
            "text/plain": [
              "<Figure size 440.125x360 with 1 Axes>"
            ],
            "image/png": "[encoded data removed]"
          },
          "metadata": {
            "needs_background": "light"
          }
        }
      ]
    },
    {
      "cell_type": "code",
      "source": [
        "#em \"+de 1 linha phone\" existem 3 respostas únicas, onde em todas as 3 nota-se uma grande quantidade de gente cadastrada não é mais cliente."
      ],
      "metadata": {
        "id": "e_d49PT1Vba5"
      },
      "execution_count": 61,
      "outputs": []
    },
    {
      "cell_type": "code",
      "source": [
        "train.groupby(train['+de 1 linha phone'])['Ainda Cliente?'].value_counts()"
      ],
      "metadata": {
        "colab": {
          "base_uri": "https://localhost:8080/"
        },
        "id": "3hTalp0KWbiY",
        "outputId": "4f2a1a22-16b9-4cea-85b9-dfbb89fd9553"
      },
      "execution_count": 62,
      "outputs": [
        {
          "output_type": "execute_result",
          "data": {
            "text/plain": [
              "+de 1 linha phone  Ainda Cliente?\n",
              "No                 No                2541\n",
              "                   Yes                849\n",
              "No phone service   No                 512\n",
              "                   Yes                170\n",
              "Yes                No                2121\n",
              "                   Yes                850\n",
              "Name: Ainda Cliente?, dtype: int64"
            ]
          },
          "metadata": {},
          "execution_count": 62
        }
      ]
    },
    {
      "cell_type": "code",
      "source": [
        "#para aqueles que não tem +de1 linha de telefone, 25% ainda são clientes da telco, os demais, não\n",
        "849/(2541+849)"
      ],
      "metadata": {
        "colab": {
          "base_uri": "https://localhost:8080/"
        },
        "id": "b_ie-jlnWgvT",
        "outputId": "bcec7d06-2218-4044-ef2b-5502c4a0da15"
      },
      "execution_count": 63,
      "outputs": [
        {
          "output_type": "execute_result",
          "data": {
            "text/plain": [
              "0.2504424778761062"
            ]
          },
          "metadata": {},
          "execution_count": 63
        }
      ]
    },
    {
      "cell_type": "code",
      "source": [
        "#para aqueles sem serviço de telefone, 24,92% são clientes da telco, ou seja, proporcionalmente muito similar ao \"não\"\n",
        "170/(170+512)"
      ],
      "metadata": {
        "colab": {
          "base_uri": "https://localhost:8080/"
        },
        "id": "BKaMPlJlXCcj",
        "outputId": "22b0d9a1-00cc-43b8-cc15-777cd55377f4"
      },
      "execution_count": 64,
      "outputs": [
        {
          "output_type": "execute_result",
          "data": {
            "text/plain": [
              "0.24926686217008798"
            ]
          },
          "metadata": {},
          "execution_count": 64
        }
      ]
    },
    {
      "cell_type": "code",
      "source": [
        "#Por fim, para os que possuem mais de uma linha telefonica, é notado que os mesmos estão levemente acima na quantidade de pessoas que são clientes da telco, com 28%. \n",
        "850/(850+2121)"
      ],
      "metadata": {
        "colab": {
          "base_uri": "https://localhost:8080/"
        },
        "id": "c7MoPbEOYNay",
        "outputId": "8901948d-9e8f-4779-eb7e-084534647d9f"
      },
      "execution_count": 65,
      "outputs": [
        {
          "output_type": "execute_result",
          "data": {
            "text/plain": [
              "0.286098956580276"
            ]
          },
          "metadata": {},
          "execution_count": 65
        }
      ]
    },
    {
      "cell_type": "code",
      "source": [
        "train.columns"
      ],
      "metadata": {
        "colab": {
          "base_uri": "https://localhost:8080/"
        },
        "outputId": "be5ba4ce-8f3c-40fb-d8a7-c79627f8a1de",
        "id": "X9hEFtpxZ2fr"
      },
      "execution_count": 66,
      "outputs": [
        {
          "output_type": "execute_result",
          "data": {
            "text/plain": [
              "Index(['Id', 'Sexo', 'Idoso', 'Parceiro/a', 'Dependentes',\n",
              "       'Meses sob contrato', 'Serviço de telefone', '+de 1 linha phone',\n",
              "       'Internet', 'Segurança online', 'Serviço Backup', 'Proteção',\n",
              "       'Suporte técnico', 'StreamingTV', 'StreamingMovies', 'Tipo de Contrato',\n",
              "       'Fatura em papel', 'Forma de Pgto', 'Valor do Plano', 'Total da Fatura',\n",
              "       'Ainda Cliente?'],\n",
              "      dtype='object')"
            ]
          },
          "metadata": {},
          "execution_count": 66
        }
      ]
    },
    {
      "cell_type": "code",
      "source": [
        "resumo(train, 'Internet')"
      ],
      "metadata": {
        "colab": {
          "base_uri": "https://localhost:8080/",
          "height": 491
        },
        "id": "jE_QGuldZzBX",
        "outputId": "afabf698-e2c1-4ba1-b7bb-70e83765f9d1"
      },
      "execution_count": 67,
      "outputs": [
        {
          "output_type": "stream",
          "name": "stdout",
          "text": [
            "Valores nulo: 0\n",
            "Quem são os valores únicos: ['DSL' 'Fiber optic' 'No']\n",
            "Quantos são os valores únicos: 3\n",
            "Como ficou dividida a quantidade: Fiber optic    3096\n",
            "DSL            2421\n",
            "No             1526\n",
            "Name: Internet, dtype: int64\n"
          ]
        },
        {
          "output_type": "display_data",
          "data": {
            "text/plain": [
              "<Figure size 440.125x360 with 1 Axes>"
            ],
            "image/png": "[encoded data removed]"
          },
          "metadata": {
            "needs_background": "light"
          }
        }
      ]
    },
    {
      "cell_type": "code",
      "source": [
        "#em relação ao serviço de internet 78% possuiam um serviço, os demais não.\n",
        "#além disso, nota-se que fibra ótica é o serviço mais assinado e o mesmo tem a maior retenção de clientes, como se nota no gráfico acima\n",
        "(3096+2421)/(3096+2421+1526)"
      ],
      "metadata": {
        "colab": {
          "base_uri": "https://localhost:8080/"
        },
        "id": "IlqcxHc2Z7qx",
        "outputId": "26d372e5-bef5-43fc-c8a5-b37b4510ab9a"
      },
      "execution_count": 68,
      "outputs": [
        {
          "output_type": "execute_result",
          "data": {
            "text/plain": [
              "0.7833309669175067"
            ]
          },
          "metadata": {},
          "execution_count": 68
        }
      ]
    },
    {
      "cell_type": "code",
      "source": [
        "train.groupby(train['Internet'])['Ainda Cliente?'].value_counts()"
      ],
      "metadata": {
        "colab": {
          "base_uri": "https://localhost:8080/"
        },
        "id": "2tGLfi1saMvD",
        "outputId": "bea97f2f-05c0-4bc1-deff-c3bb62418c1a"
      },
      "execution_count": 69,
      "outputs": [
        {
          "output_type": "execute_result",
          "data": {
            "text/plain": [
              "Internet     Ainda Cliente?\n",
              "DSL          No                1962\n",
              "             Yes                459\n",
              "Fiber optic  No                1799\n",
              "             Yes               1297\n",
              "No           No                1413\n",
              "             Yes                113\n",
              "Name: Ainda Cliente?, dtype: int64"
            ]
          },
          "metadata": {},
          "execution_count": 69
        }
      ]
    },
    {
      "cell_type": "code",
      "source": [
        "#para dsl, apenas 18% ainda são clientes da telco\n",
        "459/(1962+459)"
      ],
      "metadata": {
        "colab": {
          "base_uri": "https://localhost:8080/"
        },
        "id": "rVx6-HOqb0DP",
        "outputId": "2fe0402d-c611-410b-b12d-e1347ce252a6"
      },
      "execution_count": 70,
      "outputs": [
        {
          "output_type": "execute_result",
          "data": {
            "text/plain": [
              "0.1895910780669145"
            ]
          },
          "metadata": {},
          "execution_count": 70
        }
      ]
    },
    {
      "cell_type": "code",
      "source": [
        "# já para fiber optic, 41,89% estão vinculados ao telco, sendo esse, uma variável com percentual relevante para descobrir o caminho da retenção de clientes\n",
        "#o que no meu entendimento indica que o serviõ de fibra ótica da telco é bom, e isso tem segurado os clientes\n",
        "1297/(1297+1799)"
      ],
      "metadata": {
        "colab": {
          "base_uri": "https://localhost:8080/"
        },
        "id": "F_jeaFutcEEb",
        "outputId": "064b33e8-a807-4902-a48c-fc18ca0e80c1"
      },
      "execution_count": 71,
      "outputs": [
        {
          "output_type": "execute_result",
          "data": {
            "text/plain": [
              "0.4189276485788114"
            ]
          },
          "metadata": {},
          "execution_count": 71
        }
      ]
    },
    {
      "cell_type": "code",
      "source": [
        "#e para aqueles que não tinham qualquer serviço de internet, o percentual de retenção de clientes é baixissimo, de 7,40%\n",
        "#aqueles que NÃO tem o serviço de internet da telco, são claramente mais propensos e abandonar a empresa\n",
        "113/(113+1413)"
      ],
      "metadata": {
        "colab": {
          "base_uri": "https://localhost:8080/"
        },
        "id": "jwsmtXJqcan2",
        "outputId": "06e734c7-c7a4-4ec2-f6af-06395b780c17"
      },
      "execution_count": 72,
      "outputs": [
        {
          "output_type": "execute_result",
          "data": {
            "text/plain": [
              "0.07404980340760157"
            ]
          },
          "metadata": {},
          "execution_count": 72
        }
      ]
    },
    {
      "cell_type": "code",
      "source": [
        "train.columns"
      ],
      "metadata": {
        "colab": {
          "base_uri": "https://localhost:8080/"
        },
        "id": "B-RZfw6kcsmi",
        "outputId": "440b2aab-dce7-482e-9537-35c9d7b7fd14"
      },
      "execution_count": 73,
      "outputs": [
        {
          "output_type": "execute_result",
          "data": {
            "text/plain": [
              "Index(['Id', 'Sexo', 'Idoso', 'Parceiro/a', 'Dependentes',\n",
              "       'Meses sob contrato', 'Serviço de telefone', '+de 1 linha phone',\n",
              "       'Internet', 'Segurança online', 'Serviço Backup', 'Proteção',\n",
              "       'Suporte técnico', 'StreamingTV', 'StreamingMovies', 'Tipo de Contrato',\n",
              "       'Fatura em papel', 'Forma de Pgto', 'Valor do Plano', 'Total da Fatura',\n",
              "       'Ainda Cliente?'],\n",
              "      dtype='object')"
            ]
          },
          "metadata": {},
          "execution_count": 73
        }
      ]
    },
    {
      "cell_type": "code",
      "source": [
        "resumo(train, 'Segurança online')"
      ],
      "metadata": {
        "colab": {
          "base_uri": "https://localhost:8080/",
          "height": 491
        },
        "id": "yFY410Rne7wP",
        "outputId": "3a0ba26d-0392-49fa-c8c6-587e1d2b8edb"
      },
      "execution_count": 74,
      "outputs": [
        {
          "output_type": "stream",
          "name": "stdout",
          "text": [
            "Valores nulo: 0\n",
            "Quem são os valores únicos: ['No' 'Yes' 'No internet service']\n",
            "Quantos são os valores únicos: 3\n",
            "Como ficou dividida a quantidade: No                     3498\n",
            "Yes                    2019\n",
            "No internet service    1526\n",
            "Name: Segurança online, dtype: int64\n"
          ]
        },
        {
          "output_type": "display_data",
          "data": {
            "text/plain": [
              "<Figure size 440.125x360 with 1 Axes>"
            ],
            "image/png": "[encoded data removed]"
          },
          "metadata": {
            "needs_background": "light"
          }
        }
      ]
    },
    {
      "cell_type": "code",
      "source": [
        "#sobre segurança online, nota-se uma clara tendencia de que aqueles que não tem o serviço de segurança online em ficaram com a telco como empresa contratada\n",
        "#paralela a essa informação, aqueles que não possuem internet, teem forte tendencia em não continuar com a telco.\n",
        "# e para aqueles que tem o serviço de segurança online, nota-se que uma baixa quantidade de gente se mantém como cliente.\n",
        "#essa informação pode indicar que o serviço de segurança é ruim, talvez devendo ser descontinuada"
      ],
      "metadata": {
        "id": "s3iAbj1xfKSS"
      },
      "execution_count": 75,
      "outputs": []
    },
    {
      "cell_type": "code",
      "source": [
        "train.groupby(train['Segurança online'])['Ainda Cliente?'].value_counts()"
      ],
      "metadata": {
        "colab": {
          "base_uri": "https://localhost:8080/"
        },
        "id": "nJAVtjA8hYZ3",
        "outputId": "5801827d-eb0a-4afe-ef09-a0a02c23c320"
      },
      "execution_count": 76,
      "outputs": [
        {
          "output_type": "execute_result",
          "data": {
            "text/plain": [
              "Segurança online     Ainda Cliente?\n",
              "No                   No                2037\n",
              "                     Yes               1461\n",
              "No internet service  No                1413\n",
              "                     Yes                113\n",
              "Yes                  No                1724\n",
              "                     Yes                295\n",
              "Name: Ainda Cliente?, dtype: int64"
            ]
          },
          "metadata": {},
          "execution_count": 76
        }
      ]
    },
    {
      "cell_type": "code",
      "source": [
        "#para aqueles que não possuem o serviço de internet, 41% estavam sob o contrato da telco\n",
        "1461/(1461+2037)"
      ],
      "metadata": {
        "colab": {
          "base_uri": "https://localhost:8080/"
        },
        "id": "iiP2hgf5h0h0",
        "outputId": "c8f26636-d216-4aad-a4d0-17fc962ab3cb"
      },
      "execution_count": 77,
      "outputs": [
        {
          "output_type": "execute_result",
          "data": {
            "text/plain": [
              "0.4176672384219554"
            ]
          },
          "metadata": {},
          "execution_count": 77
        }
      ]
    },
    {
      "cell_type": "code",
      "source": [
        "#No internet service, existe um baixo percentualde clientes retidos, perfazendo em 7% para aqueles sem serviço de segurança devido a ausencia de internet\n",
        "113/(113+1413)"
      ],
      "metadata": {
        "colab": {
          "base_uri": "https://localhost:8080/"
        },
        "id": "m6FSyTrah6iJ",
        "outputId": "07707b99-e895-411e-ae60-b5e78a83c22e"
      },
      "execution_count": 78,
      "outputs": [
        {
          "output_type": "execute_result",
          "data": {
            "text/plain": [
              "0.07404980340760157"
            ]
          },
          "metadata": {},
          "execution_count": 78
        }
      ]
    },
    {
      "cell_type": "code",
      "source": [
        "#em yes, o percentual de retido fica em 14%, ainda baixo.\n",
        "295/(295+1724)"
      ],
      "metadata": {
        "colab": {
          "base_uri": "https://localhost:8080/"
        },
        "id": "K64ZbxgGjK3f",
        "outputId": "46b08aa7-d4d1-48f8-fee8-efafe2d7420a"
      },
      "execution_count": 79,
      "outputs": [
        {
          "output_type": "execute_result",
          "data": {
            "text/plain": [
              "0.14611193660227836"
            ]
          },
          "metadata": {},
          "execution_count": 79
        }
      ]
    },
    {
      "cell_type": "code",
      "source": [
        "train.columns"
      ],
      "metadata": {
        "colab": {
          "base_uri": "https://localhost:8080/"
        },
        "id": "4wwnQA2yjuYV",
        "outputId": "bbcae58c-4ab1-4898-a9b1-185bf287e515"
      },
      "execution_count": 80,
      "outputs": [
        {
          "output_type": "execute_result",
          "data": {
            "text/plain": [
              "Index(['Id', 'Sexo', 'Idoso', 'Parceiro/a', 'Dependentes',\n",
              "       'Meses sob contrato', 'Serviço de telefone', '+de 1 linha phone',\n",
              "       'Internet', 'Segurança online', 'Serviço Backup', 'Proteção',\n",
              "       'Suporte técnico', 'StreamingTV', 'StreamingMovies', 'Tipo de Contrato',\n",
              "       'Fatura em papel', 'Forma de Pgto', 'Valor do Plano', 'Total da Fatura',\n",
              "       'Ainda Cliente?'],\n",
              "      dtype='object')"
            ]
          },
          "metadata": {},
          "execution_count": 80
        }
      ]
    },
    {
      "cell_type": "code",
      "source": [
        "resumo(train, 'Serviço Backup')"
      ],
      "metadata": {
        "colab": {
          "base_uri": "https://localhost:8080/",
          "height": 491
        },
        "id": "DpDuqSmrkI0t",
        "outputId": "fe500ad6-92c4-47fe-dde4-05f694bd1448"
      },
      "execution_count": 81,
      "outputs": [
        {
          "output_type": "stream",
          "name": "stdout",
          "text": [
            "Valores nulo: 0\n",
            "Quem são os valores únicos: ['Yes' 'No' 'No internet service']\n",
            "Quantos são os valores únicos: 3\n",
            "Como ficou dividida a quantidade: No                     3088\n",
            "Yes                    2429\n",
            "No internet service    1526\n",
            "Name: Serviço Backup, dtype: int64\n"
          ]
        },
        {
          "output_type": "display_data",
          "data": {
            "text/plain": [
              "<Figure size 440.125x360 with 1 Axes>"
            ],
            "image/png": "[encoded data removed]"
          },
          "metadata": {
            "needs_background": "light"
          }
        }
      ]
    },
    {
      "cell_type": "code",
      "source": [
        "#das respostas, Nao, teve 43,56%, enquanto yes teve 34,48% e \"sem serviço de internet\" assumiu 21,66%\n",
        "#Examinando graficamente, nota-se que, para aqueles que não possuam o serviço de backup, a propensaão de continuar é muito maior que daqueles que contrataram o backup (cor cinza)\n",
        "#igualmente a segurança online, o percentual de retenção desse público é menor que o usual.\n",
        "1526/7043"
      ],
      "metadata": {
        "colab": {
          "base_uri": "https://localhost:8080/"
        },
        "id": "4dei1WMfkNEs",
        "outputId": "7b061e34-7357-4aed-ea5a-8028a5b8af28"
      },
      "execution_count": 82,
      "outputs": [
        {
          "output_type": "execute_result",
          "data": {
            "text/plain": [
              "0.21666903308249325"
            ]
          },
          "metadata": {},
          "execution_count": 82
        }
      ]
    },
    {
      "cell_type": "code",
      "source": [
        "train.groupby(train['Serviço Backup'])['Ainda Cliente?'].value_counts()"
      ],
      "metadata": {
        "colab": {
          "base_uri": "https://localhost:8080/"
        },
        "id": "Mogjr0JKm9d1",
        "outputId": "f31758af-3bd0-4240-b4e8-7a0272cd6ca1"
      },
      "execution_count": 83,
      "outputs": [
        {
          "output_type": "execute_result",
          "data": {
            "text/plain": [
              "Serviço Backup       Ainda Cliente?\n",
              "No                   No                1855\n",
              "                     Yes               1233\n",
              "No internet service  No                1413\n",
              "                     Yes                113\n",
              "Yes                  No                1906\n",
              "                     Yes                523\n",
              "Name: Ainda Cliente?, dtype: int64"
            ]
          },
          "metadata": {},
          "execution_count": 83
        }
      ]
    },
    {
      "cell_type": "code",
      "source": [
        "#para os que não contrataram o serviço de backup, 39,92% ainda são clientes da telco\n",
        "#Numero esse, muito mais favorável que \"yes\" e \"sem serviço de internet\"\n",
        "1233/(1233+1855)"
      ],
      "metadata": {
        "colab": {
          "base_uri": "https://localhost:8080/"
        },
        "id": "NJ5HfsyKpAQD",
        "outputId": "ae8f5785-5219-4b9e-c5ce-f109bb1fae64"
      },
      "execution_count": 84,
      "outputs": [
        {
          "output_type": "execute_result",
          "data": {
            "text/plain": [
              "0.39928756476683935"
            ]
          },
          "metadata": {},
          "execution_count": 84
        }
      ]
    },
    {
      "cell_type": "code",
      "source": [
        "#para os que disseram sim, a retença ficou em 21,51%\n",
        "523/(523+1906)"
      ],
      "metadata": {
        "colab": {
          "base_uri": "https://localhost:8080/"
        },
        "id": "6rdG1szYpknj",
        "outputId": "db547753-6e8f-4f2e-bfc3-921d213ac165"
      },
      "execution_count": 85,
      "outputs": [
        {
          "output_type": "execute_result",
          "data": {
            "text/plain": [
              "0.21531494442157267"
            ]
          },
          "metadata": {},
          "execution_count": 85
        }
      ]
    },
    {
      "cell_type": "code",
      "source": [
        "#e para os \"sem serviço de internet\", apenas 7% se mantiveram como cliente\n",
        "113/(113+1413)"
      ],
      "metadata": {
        "colab": {
          "base_uri": "https://localhost:8080/"
        },
        "id": "OXVl4dyFqAkG",
        "outputId": "12e791ae-a45e-4254-c652-e92f1a4604a5"
      },
      "execution_count": 86,
      "outputs": [
        {
          "output_type": "execute_result",
          "data": {
            "text/plain": [
              "0.07404980340760157"
            ]
          },
          "metadata": {},
          "execution_count": 86
        }
      ]
    },
    {
      "cell_type": "code",
      "source": [
        "train.columns"
      ],
      "metadata": {
        "colab": {
          "base_uri": "https://localhost:8080/"
        },
        "id": "2arU0hWlqeSz",
        "outputId": "2ec1cc04-591c-4ac4-975d-a11a5381e1b5"
      },
      "execution_count": 87,
      "outputs": [
        {
          "output_type": "execute_result",
          "data": {
            "text/plain": [
              "Index(['Id', 'Sexo', 'Idoso', 'Parceiro/a', 'Dependentes',\n",
              "       'Meses sob contrato', 'Serviço de telefone', '+de 1 linha phone',\n",
              "       'Internet', 'Segurança online', 'Serviço Backup', 'Proteção',\n",
              "       'Suporte técnico', 'StreamingTV', 'StreamingMovies', 'Tipo de Contrato',\n",
              "       'Fatura em papel', 'Forma de Pgto', 'Valor do Plano', 'Total da Fatura',\n",
              "       'Ainda Cliente?'],\n",
              "      dtype='object')"
            ]
          },
          "metadata": {},
          "execution_count": 87
        }
      ]
    },
    {
      "cell_type": "code",
      "source": [
        "resumo(train, 'Proteção')"
      ],
      "metadata": {
        "colab": {
          "base_uri": "https://localhost:8080/",
          "height": 491
        },
        "id": "tskTvcLcqki7",
        "outputId": "164c5bae-c976-4b1b-e8c1-e9fc2c61b255"
      },
      "execution_count": 88,
      "outputs": [
        {
          "output_type": "stream",
          "name": "stdout",
          "text": [
            "Valores nulo: 0\n",
            "Quem são os valores únicos: ['No' 'Yes' 'No internet service']\n",
            "Quantos são os valores únicos: 3\n",
            "Como ficou dividida a quantidade: No                     3095\n",
            "Yes                    2422\n",
            "No internet service    1526\n",
            "Name: Proteção, dtype: int64\n"
          ]
        },
        {
          "output_type": "display_data",
          "data": {
            "text/plain": [
              "<Figure size 440.125x360 with 1 Axes>"
            ],
            "image/png": "[encoded data removed]"
          },
          "metadata": {
            "needs_background": "light"
          }
        }
      ]
    },
    {
      "cell_type": "code",
      "source": [
        "#das 3 respostas possiveis para proteção, No é a que possui maior quantidade perfazendo quase 44% das respostas.\n",
        "#para \"sim\", a resposta foi dada em 34% dos casos e para \"no internet service\" foi de 21%\n",
        "#examinando o gráfico, registra-se que, para aqueles que não possuem a prorteção, uma maior quantidade de clientes são retidos.\n",
        "1526/7043"
      ],
      "metadata": {
        "colab": {
          "base_uri": "https://localhost:8080/"
        },
        "id": "fhWpsJqzqx-W",
        "outputId": "113eb1f7-54cb-48a6-fa6b-f5c448842e20"
      },
      "execution_count": 89,
      "outputs": [
        {
          "output_type": "execute_result",
          "data": {
            "text/plain": [
              "0.21666903308249325"
            ]
          },
          "metadata": {},
          "execution_count": 89
        }
      ]
    },
    {
      "cell_type": "code",
      "source": [
        "train.groupby(train['Proteção'])['Ainda Cliente?'].value_counts()"
      ],
      "metadata": {
        "colab": {
          "base_uri": "https://localhost:8080/"
        },
        "id": "PdPeETJcrBnz",
        "outputId": "3d54d194-47ba-49f2-bc65-7413712a7e9f"
      },
      "execution_count": 90,
      "outputs": [
        {
          "output_type": "execute_result",
          "data": {
            "text/plain": [
              "Proteção             Ainda Cliente?\n",
              "No                   No                1884\n",
              "                     Yes               1211\n",
              "No internet service  No                1413\n",
              "                     Yes                113\n",
              "Yes                  No                1877\n",
              "                     Yes                545\n",
              "Name: Ainda Cliente?, dtype: int64"
            ]
          },
          "metadata": {},
          "execution_count": 90
        }
      ]
    },
    {
      "cell_type": "code",
      "source": [
        "#para aqueles sem priteção, 1211 o equivalente a 39,12% ainda são clientes da telco\n",
        "#em contraponto, para os que responderam sim, 22,50% são clientes e os mesmos 7% para aqueles sem plano de internet\n",
        "#ou seja, quase o dobro de clientes retidos para aqueles que não contrataram a proteção da telco\n",
        "545/(545+1877)"
      ],
      "metadata": {
        "colab": {
          "base_uri": "https://localhost:8080/"
        },
        "id": "wvK4XWyEr2_f",
        "outputId": "77fcd9d6-3171-474e-d0f1-2ca7ff8c57a2"
      },
      "execution_count": 91,
      "outputs": [
        {
          "output_type": "execute_result",
          "data": {
            "text/plain": [
              "0.2250206440957886"
            ]
          },
          "metadata": {},
          "execution_count": 91
        }
      ]
    },
    {
      "cell_type": "code",
      "source": [
        "train.columns"
      ],
      "metadata": {
        "colab": {
          "base_uri": "https://localhost:8080/"
        },
        "id": "4CKlDBaSvQ1E",
        "outputId": "97876670-a8b6-4301-956f-2ebfa5142228"
      },
      "execution_count": 92,
      "outputs": [
        {
          "output_type": "execute_result",
          "data": {
            "text/plain": [
              "Index(['Id', 'Sexo', 'Idoso', 'Parceiro/a', 'Dependentes',\n",
              "       'Meses sob contrato', 'Serviço de telefone', '+de 1 linha phone',\n",
              "       'Internet', 'Segurança online', 'Serviço Backup', 'Proteção',\n",
              "       'Suporte técnico', 'StreamingTV', 'StreamingMovies', 'Tipo de Contrato',\n",
              "       'Fatura em papel', 'Forma de Pgto', 'Valor do Plano', 'Total da Fatura',\n",
              "       'Ainda Cliente?'],\n",
              "      dtype='object')"
            ]
          },
          "metadata": {},
          "execution_count": 92
        }
      ]
    },
    {
      "cell_type": "code",
      "source": [
        "resumo(train, 'Suporte técnico')"
      ],
      "metadata": {
        "colab": {
          "base_uri": "https://localhost:8080/",
          "height": 491
        },
        "id": "DA-jL6JeyZJn",
        "outputId": "304da599-b609-4637-f3b1-8e9a6e162532"
      },
      "execution_count": 93,
      "outputs": [
        {
          "output_type": "stream",
          "name": "stdout",
          "text": [
            "Valores nulo: 0\n",
            "Quem são os valores únicos: ['No' 'Yes' 'No internet service']\n",
            "Quantos são os valores únicos: 3\n",
            "Como ficou dividida a quantidade: No                     3473\n",
            "Yes                    2044\n",
            "No internet service    1526\n",
            "Name: Suporte técnico, dtype: int64\n"
          ]
        },
        {
          "output_type": "display_data",
          "data": {
            "text/plain": [
              "<Figure size 440.125x360 with 1 Axes>"
            ],
            "image/png": "[encoded data removed]"
          },
          "metadata": {
            "needs_background": "light"
          }
        }
      ]
    },
    {
      "cell_type": "code",
      "source": [
        "#seguindo a tendencia das variáveis anteriores, que não contrato os serviços a mais da telco, tem maior tendencia de continuar sendo cliente.\n",
        "#quase 50% das respostas foram não, seguido por sim que perfez 29%\n",
        "2044/7043"
      ],
      "metadata": {
        "colab": {
          "base_uri": "https://localhost:8080/"
        },
        "id": "FbR7_hgFyfa4",
        "outputId": "901a977d-8c6a-443a-c6fd-0867bada819f"
      },
      "execution_count": 94,
      "outputs": [
        {
          "output_type": "execute_result",
          "data": {
            "text/plain": [
              "0.2902172369728809"
            ]
          },
          "metadata": {},
          "execution_count": 94
        }
      ]
    },
    {
      "cell_type": "code",
      "source": [
        "train.groupby(train['Suporte técnico'])['Ainda Cliente?'].value_counts()"
      ],
      "metadata": {
        "colab": {
          "base_uri": "https://localhost:8080/"
        },
        "id": "3kmGUcFfzK91",
        "outputId": "e1d9d8a2-d35a-4bee-bb9e-fd144aa4b842"
      },
      "execution_count": 95,
      "outputs": [
        {
          "output_type": "execute_result",
          "data": {
            "text/plain": [
              "Suporte técnico      Ainda Cliente?\n",
              "No                   No                2027\n",
              "                     Yes               1446\n",
              "No internet service  No                1413\n",
              "                     Yes                113\n",
              "Yes                  No                1734\n",
              "                     Yes                310\n",
              "Name: Ainda Cliente?, dtype: int64"
            ]
          },
          "metadata": {},
          "execution_count": 95
        }
      ]
    },
    {
      "cell_type": "code",
      "source": [
        "#41% dos que não possuem serviço de suporte técnico, ainda são vinculados contratualmente a empresa telco\n",
        "1446/(2027+1446)"
      ],
      "metadata": {
        "colab": {
          "base_uri": "https://localhost:8080/"
        },
        "id": "tgqIByl_zsmz",
        "outputId": "0c594acb-b3cc-450f-ace9-a8d805f14fac"
      },
      "execution_count": 96,
      "outputs": [
        {
          "output_type": "execute_result",
          "data": {
            "text/plain": [
              "0.4163547365390153"
            ]
          },
          "metadata": {},
          "execution_count": 96
        }
      ]
    },
    {
      "cell_type": "code",
      "source": [
        "#para aqueles que contrataram o serviço, apenas 15% continuaram com a telco\n",
        "310/(310+1734)"
      ],
      "metadata": {
        "colab": {
          "base_uri": "https://localhost:8080/"
        },
        "id": "c0l4JX86zzrr",
        "outputId": "98f13ee3-5e0c-47e2-a580-c989a05529b0"
      },
      "execution_count": 97,
      "outputs": [
        {
          "output_type": "execute_result",
          "data": {
            "text/plain": [
              "0.15166340508806261"
            ]
          },
          "metadata": {},
          "execution_count": 97
        }
      ]
    },
    {
      "cell_type": "code",
      "source": [
        "resumo(train, 'StreamingTV')"
      ],
      "metadata": {
        "colab": {
          "base_uri": "https://localhost:8080/",
          "height": 491
        },
        "id": "1P9Zgoa60Bty",
        "outputId": "ce895434-7146-471f-8350-a6500f443d1a"
      },
      "execution_count": 98,
      "outputs": [
        {
          "output_type": "stream",
          "name": "stdout",
          "text": [
            "Valores nulo: 0\n",
            "Quem são os valores únicos: ['No' 'Yes' 'No internet service']\n",
            "Quantos são os valores únicos: 3\n",
            "Como ficou dividida a quantidade: No                     2810\n",
            "Yes                    2707\n",
            "No internet service    1526\n",
            "Name: StreamingTV, dtype: int64\n"
          ]
        },
        {
          "output_type": "display_data",
          "data": {
            "text/plain": [
              "<Figure size 440.125x360 with 1 Axes>"
            ],
            "image/png": "[encoded data removed]"
          },
          "metadata": {
            "needs_background": "light"
          }
        }
      ]
    },
    {
      "cell_type": "code",
      "source": [
        "#em streamingtv, 39,89% responderam que não possuem o serviço, enquanto outros 38,43% responderam possuir\n",
        "#com uma diferença pequena separando o no e o yes, verifica-se que em no, existe uma leve tendencia de retenção dos clientes.\n",
        "2707/7043"
      ],
      "metadata": {
        "colab": {
          "base_uri": "https://localhost:8080/"
        },
        "id": "UrGdFgYg0n3x",
        "outputId": "10f843e7-76e8-4381-970d-ff9a5bf0d362"
      },
      "execution_count": 99,
      "outputs": [
        {
          "output_type": "execute_result",
          "data": {
            "text/plain": [
              "0.38435325855459324"
            ]
          },
          "metadata": {},
          "execution_count": 99
        }
      ]
    },
    {
      "cell_type": "code",
      "source": [
        "train.groupby(train['StreamingTV'])['Ainda Cliente?'].value_counts()"
      ],
      "metadata": {
        "colab": {
          "base_uri": "https://localhost:8080/"
        },
        "id": "Nb56V9Q00wIj",
        "outputId": "3fe6770a-7002-4328-dc59-5fdded35d09b"
      },
      "execution_count": 100,
      "outputs": [
        {
          "output_type": "execute_result",
          "data": {
            "text/plain": [
              "StreamingTV          Ainda Cliente?\n",
              "No                   No                1868\n",
              "                     Yes                942\n",
              "No internet service  No                1413\n",
              "                     Yes                113\n",
              "Yes                  No                1893\n",
              "                     Yes                814\n",
              "Name: Ainda Cliente?, dtype: int64"
            ]
          },
          "metadata": {},
          "execution_count": 100
        }
      ]
    },
    {
      "cell_type": "code",
      "source": [
        "#para aqueles que não tem o serviço de streaming, 33,52% ainda são clientes\n",
        "#ja para aqueles que tem, o percentual é de 30,07%.\n",
        "814/(814+1893)"
      ],
      "metadata": {
        "colab": {
          "base_uri": "https://localhost:8080/"
        },
        "id": "6_FXz85I2Js9",
        "outputId": "5b8055f2-ae0c-4a82-f2fc-811ab0772eec"
      },
      "execution_count": 101,
      "outputs": [
        {
          "output_type": "execute_result",
          "data": {
            "text/plain": [
              "0.30070188400443293"
            ]
          },
          "metadata": {},
          "execution_count": 101
        }
      ]
    },
    {
      "cell_type": "code",
      "source": [
        "resumo(train, 'StreamingMovies')"
      ],
      "metadata": {
        "colab": {
          "base_uri": "https://localhost:8080/",
          "height": 491
        },
        "id": "F3UI7pbd2c0j",
        "outputId": "ebd4f94d-b54a-4d00-eeac-d99f342a6502"
      },
      "execution_count": 102,
      "outputs": [
        {
          "output_type": "stream",
          "name": "stdout",
          "text": [
            "Valores nulo: 0\n",
            "Quem são os valores únicos: ['No' 'Yes' 'No internet service']\n",
            "Quantos são os valores únicos: 3\n",
            "Como ficou dividida a quantidade: No                     2785\n",
            "Yes                    2732\n",
            "No internet service    1526\n",
            "Name: StreamingMovies, dtype: int64\n"
          ]
        },
        {
          "output_type": "display_data",
          "data": {
            "text/plain": [
              "<Figure size 440.125x360 with 1 Axes>"
            ],
            "image/png": "[encoded data removed]"
          },
          "metadata": {
            "needs_background": "light"
          }
        }
      ]
    },
    {
      "cell_type": "code",
      "source": [
        "train.groupby(train['StreamingMovies'])['Ainda Cliente?'].value_counts()"
      ],
      "metadata": {
        "colab": {
          "base_uri": "https://localhost:8080/"
        },
        "id": "Q51qQlWo3EwJ",
        "outputId": "8d7d9e9d-c1b2-4ebe-bfd9-252621252d33"
      },
      "execution_count": 103,
      "outputs": [
        {
          "output_type": "execute_result",
          "data": {
            "text/plain": [
              "StreamingMovies      Ainda Cliente?\n",
              "No                   No                1847\n",
              "                     Yes                938\n",
              "No internet service  No                1413\n",
              "                     Yes                113\n",
              "Yes                  No                1914\n",
              "                     Yes                818\n",
              "Name: Ainda Cliente?, dtype: int64"
            ]
          },
          "metadata": {},
          "execution_count": 103
        }
      ]
    },
    {
      "cell_type": "code",
      "source": [
        "#comparativamente aos demais serviços, nota-se uma diferença, o \"yes\" se aproximou do \"Não\"\n",
        "#Para os que não tinha o streaming movies, 33,68% ainda eram clientes\n",
        "#enquanato que o yes, ainda possui 29,94% de pessoas que estão sob contrato do telco\n",
        "818/(818+1914)"
      ],
      "metadata": {
        "colab": {
          "base_uri": "https://localhost:8080/"
        },
        "id": "0zLycGUC84yR",
        "outputId": "9f0708e4-c23b-4960-bdee-431139d1295e"
      },
      "execution_count": 104,
      "outputs": [
        {
          "output_type": "execute_result",
          "data": {
            "text/plain": [
              "0.29941434846266474"
            ]
          },
          "metadata": {},
          "execution_count": 104
        }
      ]
    },
    {
      "cell_type": "code",
      "source": [
        "resumo(train, 'Tipo de Contrato')"
      ],
      "metadata": {
        "colab": {
          "base_uri": "https://localhost:8080/",
          "height": 491
        },
        "id": "jWeF_AnE-1S-",
        "outputId": "703aa2ae-1193-40a5-ec20-22ac3eaf5896"
      },
      "execution_count": 105,
      "outputs": [
        {
          "output_type": "stream",
          "name": "stdout",
          "text": [
            "Valores nulo: 0\n",
            "Quem são os valores únicos: ['Month-to-month' 'One year' 'Two year']\n",
            "Quantos são os valores únicos: 3\n",
            "Como ficou dividida a quantidade: Month-to-month    3875\n",
            "Two year          1695\n",
            "One year          1473\n",
            "Name: Tipo de Contrato, dtype: int64\n"
          ]
        },
        {
          "output_type": "display_data",
          "data": {
            "text/plain": [
              "<Figure size 440.125x360 with 1 Axes>"
            ],
            "image/png": "[encoded data removed]"
          },
          "metadata": {
            "needs_background": "light"
          }
        }
      ]
    },
    {
      "cell_type": "code",
      "source": [
        "#em tipo de contrato existe 3 modelos: mes, anual e dois anos.\n",
        "#dessas 3 respostas possiveis, o mensal corresponde ao montante de 55%, seguido pelo contrato de 2 anos (24%) e por 1 ano (21%)\n",
        "#examinando o gráfico, verifica-se claramente que a maioria dos clientes estão vinculados ao plano mensal.\n",
        "1473/7043"
      ],
      "metadata": {
        "colab": {
          "base_uri": "https://localhost:8080/"
        },
        "id": "rKeqha1UAhTV",
        "outputId": "ef0050b5-4a4d-4d25-9a35-8cdd868cdcb7"
      },
      "execution_count": 106,
      "outputs": [
        {
          "output_type": "execute_result",
          "data": {
            "text/plain": [
              "0.20914383075394008"
            ]
          },
          "metadata": {},
          "execution_count": 106
        }
      ]
    },
    {
      "cell_type": "code",
      "source": [
        "train.groupby(train['Tipo de Contrato'])['Ainda Cliente?'].value_counts()"
      ],
      "metadata": {
        "colab": {
          "base_uri": "https://localhost:8080/"
        },
        "id": "aN9gWweUBFGK",
        "outputId": "f629604d-ab15-488a-96a0-fc99812df7b3"
      },
      "execution_count": 107,
      "outputs": [
        {
          "output_type": "execute_result",
          "data": {
            "text/plain": [
              "Tipo de Contrato  Ainda Cliente?\n",
              "Month-to-month    No                2220\n",
              "                  Yes               1655\n",
              "One year          No                1307\n",
              "                  Yes                166\n",
              "Two year          No                1647\n",
              "                  Yes                 48\n",
              "Name: Ainda Cliente?, dtype: int64"
            ]
          },
          "metadata": {},
          "execution_count": 107
        }
      ]
    },
    {
      "cell_type": "code",
      "source": [
        "#para o plano mensal, existem 42,70% de clientes retidos\n",
        "#já para o contrato de 2 anos, apenas 11,26% ainda estão com a telco\n",
        "#e para o contrato anual, apenas 2% são clientes\n",
        "1655/(1655+2220)"
      ],
      "metadata": {
        "colab": {
          "base_uri": "https://localhost:8080/"
        },
        "id": "JpKMWjDiCdGi",
        "outputId": "40cafe77-b700-4096-cde0-d115901859f2"
      },
      "execution_count": 108,
      "outputs": [
        {
          "output_type": "execute_result",
          "data": {
            "text/plain": [
              "0.4270967741935484"
            ]
          },
          "metadata": {},
          "execution_count": 108
        }
      ]
    },
    {
      "cell_type": "code",
      "source": [
        "166/(166+1307)"
      ],
      "metadata": {
        "colab": {
          "base_uri": "https://localhost:8080/"
        },
        "id": "5U8xDfAPDLUK",
        "outputId": "f5af432c-aecd-4865-d9cb-160781ec376b"
      },
      "execution_count": 109,
      "outputs": [
        {
          "output_type": "execute_result",
          "data": {
            "text/plain": [
              "0.11269517990495587"
            ]
          },
          "metadata": {},
          "execution_count": 109
        }
      ]
    },
    {
      "cell_type": "code",
      "source": [
        "48/(48+1647)"
      ],
      "metadata": {
        "colab": {
          "base_uri": "https://localhost:8080/"
        },
        "id": "DD7kTb3qDYrB",
        "outputId": "44e9c121-49e2-4ac8-97fb-9e979f51ee85"
      },
      "execution_count": 110,
      "outputs": [
        {
          "output_type": "execute_result",
          "data": {
            "text/plain": [
              "0.02831858407079646"
            ]
          },
          "metadata": {},
          "execution_count": 110
        }
      ]
    },
    {
      "cell_type": "code",
      "source": [
        "train.columns"
      ],
      "metadata": {
        "colab": {
          "base_uri": "https://localhost:8080/"
        },
        "id": "JMLc-S22DiJT",
        "outputId": "b4ca967e-43cd-4883-f1b0-1c0550b46d5b"
      },
      "execution_count": 111,
      "outputs": [
        {
          "output_type": "execute_result",
          "data": {
            "text/plain": [
              "Index(['Id', 'Sexo', 'Idoso', 'Parceiro/a', 'Dependentes',\n",
              "       'Meses sob contrato', 'Serviço de telefone', '+de 1 linha phone',\n",
              "       'Internet', 'Segurança online', 'Serviço Backup', 'Proteção',\n",
              "       'Suporte técnico', 'StreamingTV', 'StreamingMovies', 'Tipo de Contrato',\n",
              "       'Fatura em papel', 'Forma de Pgto', 'Valor do Plano', 'Total da Fatura',\n",
              "       'Ainda Cliente?'],\n",
              "      dtype='object')"
            ]
          },
          "metadata": {},
          "execution_count": 111
        }
      ]
    },
    {
      "cell_type": "code",
      "source": [
        "resumo(train, 'Fatura em papel')"
      ],
      "metadata": {
        "colab": {
          "base_uri": "https://localhost:8080/",
          "height": 473
        },
        "id": "5B6iUK2ND7_S",
        "outputId": "ac89d5a4-3cb6-4f96-9d16-b03adacbd667"
      },
      "execution_count": 112,
      "outputs": [
        {
          "output_type": "stream",
          "name": "stdout",
          "text": [
            "Valores nulo: 0\n",
            "Quem são os valores únicos: ['Yes' 'No']\n",
            "Quantos são os valores únicos: 2\n",
            "Como ficou dividida a quantidade: Yes    4171\n",
            "No     2872\n",
            "Name: Fatura em papel, dtype: int64\n"
          ]
        },
        {
          "output_type": "display_data",
          "data": {
            "text/plain": [
              "<Figure size 440.125x360 with 1 Axes>"
            ],
            "image/png": "[encoded data removed]"
          },
          "metadata": {
            "needs_background": "light"
          }
        }
      ]
    },
    {
      "cell_type": "code",
      "source": [
        "#59% dos clientes optaram pela fatura em papel, desses 33% ainda são clientes\n",
        "#os demais 41%, apenas 16% ainda são clientes da telco\n",
        "4171/(4171+2872)"
      ],
      "metadata": {
        "colab": {
          "base_uri": "https://localhost:8080/"
        },
        "id": "L_I1cefIEDde",
        "outputId": "193803cd-eea0-4d85-929f-73a4abba36f7"
      },
      "execution_count": 113,
      "outputs": [
        {
          "output_type": "execute_result",
          "data": {
            "text/plain": [
              "0.5922192247621753"
            ]
          },
          "metadata": {},
          "execution_count": 113
        }
      ]
    },
    {
      "cell_type": "code",
      "source": [
        "train.groupby(train['Fatura em papel'])['Ainda Cliente?'].value_counts()"
      ],
      "metadata": {
        "colab": {
          "base_uri": "https://localhost:8080/"
        },
        "id": "ADJmff7YESfK",
        "outputId": "15150e99-09c0-45ab-9b3f-3b7d07972818"
      },
      "execution_count": 114,
      "outputs": [
        {
          "output_type": "execute_result",
          "data": {
            "text/plain": [
              "Fatura em papel  Ainda Cliente?\n",
              "No               No                2403\n",
              "                 Yes                469\n",
              "Yes              No                2771\n",
              "                 Yes               1400\n",
              "Name: Ainda Cliente?, dtype: int64"
            ]
          },
          "metadata": {},
          "execution_count": 114
        }
      ]
    },
    {
      "cell_type": "code",
      "source": [
        "1400/(1400+2771)"
      ],
      "metadata": {
        "colab": {
          "base_uri": "https://localhost:8080/"
        },
        "id": "fMnBIUOUEhRz",
        "outputId": "0b6a8416-c6c9-4f60-9e6b-750b2471e4af"
      },
      "execution_count": 115,
      "outputs": [
        {
          "output_type": "execute_result",
          "data": {
            "text/plain": [
              "0.33565092304003835"
            ]
          },
          "metadata": {},
          "execution_count": 115
        }
      ]
    },
    {
      "cell_type": "code",
      "source": [
        "469/(469+2403)"
      ],
      "metadata": {
        "colab": {
          "base_uri": "https://localhost:8080/"
        },
        "id": "ntwN5orwEum2",
        "outputId": "020e4223-aafc-4c9b-b8ac-f8a97db657e2"
      },
      "execution_count": 116,
      "outputs": [
        {
          "output_type": "execute_result",
          "data": {
            "text/plain": [
              "0.1633008356545961"
            ]
          },
          "metadata": {},
          "execution_count": 116
        }
      ]
    },
    {
      "cell_type": "code",
      "source": [
        "resumo(train, 'Forma de Pgto')"
      ],
      "metadata": {
        "colab": {
          "base_uri": "https://localhost:8080/",
          "height": 525
        },
        "id": "VrLp2DhJE7Fr",
        "outputId": "2ef34455-a823-4fd3-b8e4-7e9ba7f7e877"
      },
      "execution_count": 117,
      "outputs": [
        {
          "output_type": "stream",
          "name": "stdout",
          "text": [
            "Valores nulo: 0\n",
            "Quem são os valores únicos: ['Electronic check' 'Mailed check' 'Bank transfer (automatic)'\n",
            " 'Credit card (automatic)']\n",
            "Quantos são os valores únicos: 4\n",
            "Como ficou dividida a quantidade: Electronic check             2365\n",
            "Mailed check                 1612\n",
            "Bank transfer (automatic)    1544\n",
            "Credit card (automatic)      1522\n",
            "Name: Forma de Pgto, dtype: int64\n"
          ]
        },
        {
          "output_type": "display_data",
          "data": {
            "text/plain": [
              "<Figure size 440.125x360 with 1 Axes>"
            ],
            "image/png": "[encoded data removed]"
          },
          "metadata": {
            "needs_background": "light"
          }
        }
      ]
    },
    {
      "cell_type": "code",
      "source": [
        "#são 4 respostas para \"Forma de Pgto\"\n",
        "#33,57% optou por Electronic check, onde 45% ainda são clientes, sendo esse o percentual mais alto de retenção;\n",
        "#22,88% por Mailed check, 19,10% são clientes da telco;\n",
        "#21,92% por Bank transfer (automatic) e 16,70% ainda são clientes;\n",
        "#21,61% por Credit card (automatic) onde 15,24% permanecem como clientes.\n",
        "1522/7043"
      ],
      "metadata": {
        "colab": {
          "base_uri": "https://localhost:8080/"
        },
        "id": "6GZCTIr9FTV1",
        "outputId": "1dbeca1c-41da-4e12-b521-43015b2e9740"
      },
      "execution_count": 118,
      "outputs": [
        {
          "output_type": "execute_result",
          "data": {
            "text/plain": [
              "0.2161010932841119"
            ]
          },
          "metadata": {},
          "execution_count": 118
        }
      ]
    },
    {
      "cell_type": "code",
      "source": [
        "train.groupby(train['Forma de Pgto'])['Ainda Cliente?'].value_counts()"
      ],
      "metadata": {
        "colab": {
          "base_uri": "https://localhost:8080/"
        },
        "id": "nEC3iDuAFjWm",
        "outputId": "9d773bde-5bbf-4d4f-d1bd-3f812502d1d2"
      },
      "execution_count": 119,
      "outputs": [
        {
          "output_type": "execute_result",
          "data": {
            "text/plain": [
              "Forma de Pgto              Ainda Cliente?\n",
              "Bank transfer (automatic)  No                1286\n",
              "                           Yes                258\n",
              "Credit card (automatic)    No                1290\n",
              "                           Yes                232\n",
              "Electronic check           No                1294\n",
              "                           Yes               1071\n",
              "Mailed check               No                1304\n",
              "                           Yes                308\n",
              "Name: Ainda Cliente?, dtype: int64"
            ]
          },
          "metadata": {},
          "execution_count": 119
        }
      ]
    },
    {
      "cell_type": "code",
      "source": [
        "232/(232+1290)"
      ],
      "metadata": {
        "colab": {
          "base_uri": "https://localhost:8080/"
        },
        "id": "7MIsqpwcGjY9",
        "outputId": "276d298a-4045-4bbc-b033-ebeabfe25bc8"
      },
      "execution_count": 120,
      "outputs": [
        {
          "output_type": "execute_result",
          "data": {
            "text/plain": [
              "0.15243101182654403"
            ]
          },
          "metadata": {},
          "execution_count": 120
        }
      ]
    },
    {
      "cell_type": "code",
      "source": [
        "resumo(train, 'Valor do Plano')"
      ],
      "metadata": {
        "colab": {
          "base_uri": "https://localhost:8080/",
          "height": 629
        },
        "id": "X_ik0CsYGrju",
        "outputId": "2ed17672-f8c4-4dbe-8ebf-cff1b247fd8c"
      },
      "execution_count": 121,
      "outputs": [
        {
          "output_type": "stream",
          "name": "stdout",
          "text": [
            "Valores nulo: 0\n",
            "Quem são os valores únicos: [29.85 56.95 53.85 ... 63.1  44.2  78.7 ]\n",
            "Quantos são os valores únicos: 1585\n",
            "Como ficou dividida a quantidade: 20.05     61\n",
            "19.85     45\n",
            "19.95     44\n",
            "19.90     44\n",
            "20.00     43\n",
            "          ..\n",
            "23.65      1\n",
            "114.70     1\n",
            "43.65      1\n",
            "87.80      1\n",
            "78.70      1\n",
            "Name: Valor do Plano, Length: 1585, dtype: int64\n"
          ]
        },
        {
          "output_type": "display_data",
          "data": {
            "text/plain": [
              "<Figure size 440.125x360 with 1 Axes>"
            ],
            "image/png": "[encoded data removed]"
          },
          "metadata": {
            "needs_background": "light"
          }
        }
      ]
    },
    {
      "cell_type": "code",
      "source": [
        "#o valor de plano com a maior faixa de não retenção, são justamente as duas iniciais, conforme visualizado no gráfico acima\n",
        "#a maior retenção se encontra próxima a faixa de 70 a 100"
      ],
      "metadata": {
        "id": "Of7xu7ekHXDM"
      },
      "execution_count": 122,
      "outputs": []
    },
    {
      "cell_type": "code",
      "source": [
        "train.columns"
      ],
      "metadata": {
        "colab": {
          "base_uri": "https://localhost:8080/"
        },
        "id": "rTk0wLGyI2Tf",
        "outputId": "cbab8ae0-84ec-4182-fbe2-637dd00c6135"
      },
      "execution_count": 123,
      "outputs": [
        {
          "output_type": "execute_result",
          "data": {
            "text/plain": [
              "Index(['Id', 'Sexo', 'Idoso', 'Parceiro/a', 'Dependentes',\n",
              "       'Meses sob contrato', 'Serviço de telefone', '+de 1 linha phone',\n",
              "       'Internet', 'Segurança online', 'Serviço Backup', 'Proteção',\n",
              "       'Suporte técnico', 'StreamingTV', 'StreamingMovies', 'Tipo de Contrato',\n",
              "       'Fatura em papel', 'Forma de Pgto', 'Valor do Plano', 'Total da Fatura',\n",
              "       'Ainda Cliente?'],\n",
              "      dtype='object')"
            ]
          },
          "metadata": {},
          "execution_count": 123
        }
      ]
    },
    {
      "cell_type": "code",
      "source": [
        "train.head()"
      ],
      "metadata": {
        "colab": {
          "base_uri": "https://localhost:8080/",
          "height": 427
        },
        "id": "HUJ1ydYT-eNW",
        "outputId": "66477178-9791-4d92-9996-b85d4c671c60"
      },
      "execution_count": 124,
      "outputs": [
        {
          "output_type": "execute_result",
          "data": {
            "text/plain": [
              "           Id    Sexo  Idoso Parceiro/a Dependentes  Meses sob contrato  \\\n",
              "0  7590-VHVEG  Female      0        Yes          No                   1   \n",
              "1  5575-GNVDE    Male      0         No          No                  34   \n",
              "2  3668-QPYBK    Male      0         No          No                   2   \n",
              "3  7795-CFOCW    Male      0         No          No                  45   \n",
              "4  9237-HQITU  Female      0         No          No                   2   \n",
              "\n",
              "  Serviço de telefone +de 1 linha phone     Internet Segurança online  \\\n",
              "0                  No  No phone service          DSL               No   \n",
              "1                 Yes                No          DSL              Yes   \n",
              "2                 Yes                No          DSL              Yes   \n",
              "3                  No  No phone service          DSL              Yes   \n",
              "4                 Yes                No  Fiber optic               No   \n",
              "\n",
              "  Serviço Backup Proteção Suporte técnico StreamingTV StreamingMovies  \\\n",
              "0            Yes       No              No          No              No   \n",
              "1             No      Yes              No          No              No   \n",
              "2            Yes       No              No          No              No   \n",
              "3             No      Yes             Yes          No              No   \n",
              "4             No       No              No          No              No   \n",
              "\n",
              "  Tipo de Contrato Fatura em papel              Forma de Pgto  Valor do Plano  \\\n",
              "0   Month-to-month             Yes           Electronic check           29.85   \n",
              "1         One year              No               Mailed check           56.95   \n",
              "2   Month-to-month             Yes               Mailed check           53.85   \n",
              "3         One year              No  Bank transfer (automatic)           42.30   \n",
              "4   Month-to-month             Yes           Electronic check           70.70   \n",
              "\n",
              "  Total da Fatura Ainda Cliente?  \n",
              "0           29.85             No  \n",
              "1          1889.5             No  \n",
              "2          108.15            Yes  \n",
              "3         1840.75             No  \n",
              "4          151.65            Yes  "
            ],
            "text/html": [
              "\n",
              "  <div id=\"df-4aa70c16-89fd-401d-9d5a-3135efdddb0b\">\n",
              "    <div class=\"colab-df-container\">\n",
              "      <div>\n",
              "<style scoped>\n",
              "    .dataframe tbody tr th:only-of-type {\n",
              "        vertical-align: middle;\n",
              "    }\n",
              "\n",
              "    .dataframe tbody tr th {\n",
              "        vertical-align: top;\n",
              "    }\n",
              "\n",
              "    .dataframe thead th {\n",
              "        text-align: right;\n",
              "    }\n",
              "</style>\n",
              "<table border=\"1\" class=\"dataframe\">\n",
              "  <thead>\n",
              "    <tr style=\"text-align: right;\">\n",
              "      <th></th>\n",
              "      <th>Id</th>\n",
              "      <th>Sexo</th>\n",
              "      <th>Idoso</th>\n",
              "      <th>Parceiro/a</th>\n",
              "      <th>Dependentes</th>\n",
              "      <th>Meses sob contrato</th>\n",
              "      <th>Serviço de telefone</th>\n",
              "      <th>+de 1 linha phone</th>\n",
              "      <th>Internet</th>\n",
              "      <th>Segurança online</th>\n",
              "      <th>Serviço Backup</th>\n",
              "      <th>Proteção</th>\n",
              "      <th>Suporte técnico</th>\n",
              "      <th>StreamingTV</th>\n",
              "      <th>StreamingMovies</th>\n",
              "      <th>Tipo de Contrato</th>\n",
              "      <th>Fatura em papel</th>\n",
              "      <th>Forma de Pgto</th>\n",
              "      <th>Valor do Plano</th>\n",
              "      <th>Total da Fatura</th>\n",
              "      <th>Ainda Cliente?</th>\n",
              "    </tr>\n",
              "  </thead>\n",
              "  <tbody>\n",
              "    <tr>\n",
              "      <th>0</th>\n",
              "      <td>7590-VHVEG</td>\n",
              "      <td>Female</td>\n",
              "      <td>0</td>\n",
              "      <td>Yes</td>\n",
              "      <td>No</td>\n",
              "      <td>1</td>\n",
              "      <td>No</td>\n",
              "      <td>No phone service</td>\n",
              "      <td>DSL</td>\n",
              "      <td>No</td>\n",
              "      <td>Yes</td>\n",
              "      <td>No</td>\n",
              "      <td>No</td>\n",
              "      <td>No</td>\n",
              "      <td>No</td>\n",
              "      <td>Month-to-month</td>\n",
              "      <td>Yes</td>\n",
              "      <td>Electronic check</td>\n",
              "      <td>29.85</td>\n",
              "      <td>29.85</td>\n",
              "      <td>No</td>\n",
              "    </tr>\n",
              "    <tr>\n",
              "      <th>1</th>\n",
              "      <td>5575-GNVDE</td>\n",
              "      <td>Male</td>\n",
              "      <td>0</td>\n",
              "      <td>No</td>\n",
              "      <td>No</td>\n",
              "      <td>34</td>\n",
              "      <td>Yes</td>\n",
              "      <td>No</td>\n",
              "      <td>DSL</td>\n",
              "      <td>Yes</td>\n",
              "      <td>No</td>\n",
              "      <td>Yes</td>\n",
              "      <td>No</td>\n",
              "      <td>No</td>\n",
              "      <td>No</td>\n",
              "      <td>One year</td>\n",
              "      <td>No</td>\n",
              "      <td>Mailed check</td>\n",
              "      <td>56.95</td>\n",
              "      <td>1889.5</td>\n",
              "      <td>No</td>\n",
              "    </tr>\n",
              "    <tr>\n",
              "      <th>2</th>\n",
              "      <td>3668-QPYBK</td>\n",
              "      <td>Male</td>\n",
              "      <td>0</td>\n",
              "      <td>No</td>\n",
              "      <td>No</td>\n",
              "      <td>2</td>\n",
              "      <td>Yes</td>\n",
              "      <td>No</td>\n",
              "      <td>DSL</td>\n",
              "      <td>Yes</td>\n",
              "      <td>Yes</td>\n",
              "      <td>No</td>\n",
              "      <td>No</td>\n",
              "      <td>No</td>\n",
              "      <td>No</td>\n",
              "      <td>Month-to-month</td>\n",
              "      <td>Yes</td>\n",
              "      <td>Mailed check</td>\n",
              "      <td>53.85</td>\n",
              "      <td>108.15</td>\n",
              "      <td>Yes</td>\n",
              "    </tr>\n",
              "    <tr>\n",
              "      <th>3</th>\n",
              "      <td>7795-CFOCW</td>\n",
              "      <td>Male</td>\n",
              "      <td>0</td>\n",
              "      <td>No</td>\n",
              "      <td>No</td>\n",
              "      <td>45</td>\n",
              "      <td>No</td>\n",
              "      <td>No phone service</td>\n",
              "      <td>DSL</td>\n",
              "      <td>Yes</td>\n",
              "      <td>No</td>\n",
              "      <td>Yes</td>\n",
              "      <td>Yes</td>\n",
              "      <td>No</td>\n",
              "      <td>No</td>\n",
              "      <td>One year</td>\n",
              "      <td>No</td>\n",
              "      <td>Bank transfer (automatic)</td>\n",
              "      <td>42.30</td>\n",
              "      <td>1840.75</td>\n",
              "      <td>No</td>\n",
              "    </tr>\n",
              "    <tr>\n",
              "      <th>4</th>\n",
              "      <td>9237-HQITU</td>\n",
              "      <td>Female</td>\n",
              "      <td>0</td>\n",
              "      <td>No</td>\n",
              "      <td>No</td>\n",
              "      <td>2</td>\n",
              "      <td>Yes</td>\n",
              "      <td>No</td>\n",
              "      <td>Fiber optic</td>\n",
              "      <td>No</td>\n",
              "      <td>No</td>\n",
              "      <td>No</td>\n",
              "      <td>No</td>\n",
              "      <td>No</td>\n",
              "      <td>No</td>\n",
              "      <td>Month-to-month</td>\n",
              "      <td>Yes</td>\n",
              "      <td>Electronic check</td>\n",
              "      <td>70.70</td>\n",
              "      <td>151.65</td>\n",
              "      <td>Yes</td>\n",
              "    </tr>\n",
              "  </tbody>\n",
              "</table>\n",
              "</div>\n",
              "      <button class=\"colab-df-convert\" onclick=\"convertToInteractive('df-4aa70c16-89fd-401d-9d5a-3135efdddb0b')\"\n",
              "              title=\"Convert this dataframe to an interactive table.\"\n",
              "              style=\"display:none;\">\n",
              "        \n",
              "  <svg xmlns=\"http://www.w3.org/2000/svg\" height=\"24px\"viewBox=\"0 0 24 24\"\n",
              "       width=\"24px\">\n",
              "    <path d=\"M0 0h24v24H0V0z\" fill=\"none\"/>\n",
              "    <path d=\"M18.56 5.44l.94 2.06.94-2.06 2.06-.94-2.06-.94-.94-2.06-.94 2.06-2.06.94zm-11 1L8.5 8.5l.94-2.06 2.06-.94-2.06-.94L8.5 2.5l-.94 2.06-2.06.94zm10 10l.94 2.06.94-2.06 2.06-.94-2.06-.94-.94-2.06-.94 2.06-2.06.94z\"/><path d=\"M17.41 7.96l-1.37-1.37c-.4-.4-.92-.59-1.43-.59-.52 0-1.04.2-1.43.59L10.3 9.45l-7.72 7.72c-.78.78-.78 2.05 0 2.83L4 21.41c.39.39.9.59 1.41.59.51 0 1.02-.2 1.41-.59l7.78-7.78 2.81-2.81c.8-.78.8-2.07 0-2.86zM5.41 20L4 18.59l7.72-7.72 1.47 1.35L5.41 20z\"/>\n",
              "  </svg>\n",
              "      </button>\n",
              "      \n",
              "  <style>\n",
              "    .colab-df-container {\n",
              "      display:flex;\n",
              "      flex-wrap:wrap;\n",
              "      gap: 12px;\n",
              "    }\n",
              "\n",
              "    .colab-df-convert {\n",
              "      background-color: #E8F0FE;\n",
              "      border: none;\n",
              "      border-radius: 50%;\n",
              "      cursor: pointer;\n",
              "      display: none;\n",
              "      fill: #1967D2;\n",
              "      height: 32px;\n",
              "      padding: 0 0 0 0;\n",
              "      width: 32px;\n",
              "    }\n",
              "\n",
              "    .colab-df-convert:hover {\n",
              "      background-color: #E2EBFA;\n",
              "      box-shadow: 0px 1px 2px rgba(60, 64, 67, 0.3), 0px 1px 3px 1px rgba(60, 64, 67, 0.15);\n",
              "      fill: #174EA6;\n",
              "    }\n",
              "\n",
              "    [theme=dark] .colab-df-convert {\n",
              "      background-color: #3B4455;\n",
              "      fill: #D2E3FC;\n",
              "    }\n",
              "\n",
              "    [theme=dark] .colab-df-convert:hover {\n",
              "      background-color: #434B5C;\n",
              "      box-shadow: 0px 1px 3px 1px rgba(0, 0, 0, 0.15);\n",
              "      filter: drop-shadow(0px 1px 2px rgba(0, 0, 0, 0.3));\n",
              "      fill: #FFFFFF;\n",
              "    }\n",
              "  </style>\n",
              "\n",
              "      <script>\n",
              "        const buttonEl =\n",
              "          document.querySelector('#df-4aa70c16-89fd-401d-9d5a-3135efdddb0b button.colab-df-convert');\n",
              "        buttonEl.style.display =\n",
              "          google.colab.kernel.accessAllowed ? 'block' : 'none';\n",
              "\n",
              "        async function convertToInteractive(key) {\n",
              "          const element = document.querySelector('#df-4aa70c16-89fd-401d-9d5a-3135efdddb0b');\n",
              "          const dataTable =\n",
              "            await google.colab.kernel.invokeFunction('convertToInteractive',\n",
              "                                                     [key], {});\n",
              "          if (!dataTable) return;\n",
              "\n",
              "          const docLinkHtml = 'Like what you see? Visit the ' +\n",
              "            '<a target=\"_blank\" href=https://colab.research.google.com/notebooks/data_table.ipynb>data table notebook</a>'\n",
              "            + ' to learn more about interactive tables.';\n",
              "          element.innerHTML = '';\n",
              "          dataTable['output_type'] = 'display_data';\n",
              "          await google.colab.output.renderOutput(dataTable, element);\n",
              "          const docLink = document.createElement('div');\n",
              "          docLink.innerHTML = docLinkHtml;\n",
              "          element.appendChild(docLink);\n",
              "        }\n",
              "      </script>\n",
              "    </div>\n",
              "  </div>\n",
              "  "
            ]
          },
          "metadata": {},
          "execution_count": 124
        }
      ]
    },
    {
      "cell_type": "code",
      "source": [
        "#resumo(train, 'Total da Fatura', False)"
      ],
      "metadata": {
        "id": "EzMoGwIMI3RY"
      },
      "execution_count": 125,
      "outputs": []
    },
    {
      "cell_type": "code",
      "source": [
        "#feita a análise geral de todas as colunas/variáveis, notei que algumas respostas podem ser alteradas de object para inteira, com \"no\" sendo 0 e, \"yes\" sendo 1."
      ],
      "metadata": {
        "id": "uV9dV97rI9nm"
      },
      "execution_count": 126,
      "outputs": []
    },
    {
      "cell_type": "code",
      "source": [],
      "metadata": {
        "id": "yVgBpNM3Trj1"
      },
      "execution_count": 126,
      "outputs": []
    },
    {
      "cell_type": "markdown",
      "source": [
        "# Renomeando linhas"
      ],
      "metadata": {
        "id": "07VEZ0HtTsVI"
      }
    },
    {
      "cell_type": "code",
      "source": [
        "train['Sexo'].replace({'Female': 0, 'Male': 1}, inplace = True)"
      ],
      "metadata": {
        "id": "Nl1qsvUM_05e"
      },
      "execution_count": 127,
      "outputs": []
    },
    {
      "cell_type": "code",
      "source": [
        "train['Parceiro/a'].replace({'No': 0, 'Yes': 1}, inplace = True)"
      ],
      "metadata": {
        "id": "Q4ImKYB8A3W2"
      },
      "execution_count": 128,
      "outputs": []
    },
    {
      "cell_type": "code",
      "source": [
        "train['Dependentes'].replace({'No': 0, 'Yes': 1}, inplace = True)"
      ],
      "metadata": {
        "id": "yrBFA0N0GOQv"
      },
      "execution_count": 129,
      "outputs": []
    },
    {
      "cell_type": "code",
      "source": [
        "train['Serviço de telefone'].replace({'No': 0, 'Yes': 1}, inplace = True)"
      ],
      "metadata": {
        "id": "6jbMFrU6OKWG"
      },
      "execution_count": 130,
      "outputs": []
    },
    {
      "cell_type": "code",
      "source": [
        "train['+de 1 linha phone'].replace({'No': 0, 'Yes': 1, 'No phone service': 2}, inplace = True)"
      ],
      "metadata": {
        "id": "yYK_oE_OOVNG"
      },
      "execution_count": 131,
      "outputs": []
    },
    {
      "cell_type": "code",
      "source": [
        "train['Internet'].replace({'DSL': 0, 'Fiber optic': 1, 'No': 2}, inplace = True)"
      ],
      "metadata": {
        "id": "L0Zzp4Z4OmwF"
      },
      "execution_count": 132,
      "outputs": []
    },
    {
      "cell_type": "code",
      "source": [
        "train['Segurança online'].replace({'No': 0, 'Yes': 1, 'No internet service': 2}, inplace = True)"
      ],
      "metadata": {
        "id": "4TkvNrTiOtPL"
      },
      "execution_count": 133,
      "outputs": []
    },
    {
      "cell_type": "code",
      "source": [
        "train['Serviço Backup'].replace({'No': 0, 'Yes': 1, 'No internet service': 2}, inplace = True)"
      ],
      "metadata": {
        "id": "xulC-YgdPF0S"
      },
      "execution_count": 134,
      "outputs": []
    },
    {
      "cell_type": "code",
      "source": [
        "train['Proteção'].replace({'No': 0, 'Yes': 1, 'No internet service': 2}, inplace = True)"
      ],
      "metadata": {
        "id": "S9VqhghSPNVb"
      },
      "execution_count": 135,
      "outputs": []
    },
    {
      "cell_type": "code",
      "source": [
        "train['Suporte técnico'].replace({'No': 0, 'Yes': 1, 'No internet service': 2}, inplace = True)"
      ],
      "metadata": {
        "id": "mHxJXAU2P29m"
      },
      "execution_count": 136,
      "outputs": []
    },
    {
      "cell_type": "code",
      "source": [
        "train['StreamingTV'].replace({'No': 0, 'Yes': 1, 'No internet service': 2}, inplace = True)"
      ],
      "metadata": {
        "id": "zthqS3yzQQvJ"
      },
      "execution_count": 137,
      "outputs": []
    },
    {
      "cell_type": "code",
      "source": [
        "train['StreamingMovies'].replace({'No': 0, 'Yes': 1, 'No internet service': 2}, inplace = True)"
      ],
      "metadata": {
        "id": "P2j9-fx3Qa4a"
      },
      "execution_count": 138,
      "outputs": []
    },
    {
      "cell_type": "code",
      "source": [
        "train['Tipo de Contrato'].replace({'Month-to-month': 0, 'One year': 1, 'Two year': 2}, inplace = True)"
      ],
      "metadata": {
        "id": "mzsrgRBkRRGx"
      },
      "execution_count": 139,
      "outputs": []
    },
    {
      "cell_type": "code",
      "source": [
        "train['Fatura em papel'].replace({'No': 0, 'Yes': 1}, inplace = True)"
      ],
      "metadata": {
        "id": "fw-TvgfXReRl"
      },
      "execution_count": 140,
      "outputs": []
    },
    {
      "cell_type": "code",
      "source": [
        "train['Forma de Pgto'].replace({'Electronic check': 0, 'Mailed check': 1, 'Bank transfer (automatic)': 2, 'Credit card (automatic)': 3}, inplace = True)"
      ],
      "metadata": {
        "id": "fgNYtOGgRy1q"
      },
      "execution_count": 141,
      "outputs": []
    },
    {
      "cell_type": "code",
      "source": [
        "train['Ainda Cliente?'].replace({'No': 0, 'Yes': 1}, inplace = True)"
      ],
      "metadata": {
        "id": "v4_UDsgrR-kc"
      },
      "execution_count": 142,
      "outputs": []
    },
    {
      "cell_type": "code",
      "source": [
        "train.info()"
      ],
      "metadata": {
        "colab": {
          "base_uri": "https://localhost:8080/"
        },
        "id": "QgqD_r02SxY-",
        "outputId": "0d0379ed-3199-4fe2-d67d-9a5900bf1338"
      },
      "execution_count": 143,
      "outputs": [
        {
          "output_type": "stream",
          "name": "stdout",
          "text": [
            "<class 'pandas.core.frame.DataFrame'>\n",
            "RangeIndex: 7043 entries, 0 to 7042\n",
            "Data columns (total 21 columns):\n",
            " #   Column               Non-Null Count  Dtype  \n",
            "---  ------               --------------  -----  \n",
            " 0   Id                   7043 non-null   object \n",
            " 1   Sexo                 7043 non-null   int64  \n",
            " 2   Idoso                7043 non-null   int64  \n",
            " 3   Parceiro/a           7043 non-null   int64  \n",
            " 4   Dependentes          7043 non-null   int64  \n",
            " 5   Meses sob contrato   7043 non-null   int64  \n",
            " 6   Serviço de telefone  7043 non-null   int64  \n",
            " 7   +de 1 linha phone    7043 non-null   int64  \n",
            " 8   Internet             7043 non-null   int64  \n",
            " 9   Segurança online     7043 non-null   int64  \n",
            " 10  Serviço Backup       7043 non-null   int64  \n",
            " 11  Proteção             7043 non-null   int64  \n",
            " 12  Suporte técnico      7043 non-null   int64  \n",
            " 13  StreamingTV          7043 non-null   int64  \n",
            " 14  StreamingMovies      7043 non-null   int64  \n",
            " 15  Tipo de Contrato     7043 non-null   int64  \n",
            " 16  Fatura em papel      7043 non-null   int64  \n",
            " 17  Forma de Pgto        7043 non-null   int64  \n",
            " 18  Valor do Plano       7043 non-null   float64\n",
            " 19  Total da Fatura      7043 non-null   object \n",
            " 20  Ainda Cliente?       7043 non-null   int64  \n",
            "dtypes: float64(1), int64(18), object(2)\n",
            "memory usage: 1.1+ MB\n"
          ]
        }
      ]
    },
    {
      "cell_type": "code",
      "source": [
        "#convertendo object em float"
      ],
      "metadata": {
        "id": "YJ8oeSLLT4gg"
      },
      "execution_count": 144,
      "outputs": []
    },
    {
      "cell_type": "code",
      "source": [
        "train['Total da Fatura'] = pd.to_numeric(train['Total da Fatura'], errors = 'coerce')\n",
        "train"
      ],
      "metadata": {
        "colab": {
          "base_uri": "https://localhost:8080/",
          "height": 676
        },
        "id": "6Oh5VwrfhUJn",
        "outputId": "c9b41a1c-e6a4-4ef1-cbf7-af7de0672ce4"
      },
      "execution_count": 147,
      "outputs": [
        {
          "output_type": "execute_result",
          "data": {
            "text/plain": [
              "              Id  Sexo  Idoso  Parceiro/a  Dependentes  Meses sob contrato  \\\n",
              "0     7590-VHVEG     0      0           1            0                   1   \n",
              "1     5575-GNVDE     1      0           0            0                  34   \n",
              "2     3668-QPYBK     1      0           0            0                   2   \n",
              "3     7795-CFOCW     1      0           0            0                  45   \n",
              "4     9237-HQITU     0      0           0            0                   2   \n",
              "...          ...   ...    ...         ...          ...                 ...   \n",
              "7038  6840-RESVB     1      0           1            1                  24   \n",
              "7039  2234-XADUH     0      0           1            1                  72   \n",
              "7040  4801-JZAZL     0      0           1            1                  11   \n",
              "7041  8361-LTMKD     1      1           1            0                   4   \n",
              "7042  3186-AJIEK     1      0           0            0                  66   \n",
              "\n",
              "      Serviço de telefone  +de 1 linha phone  Internet  Segurança online  \\\n",
              "0                       0                  2         0                 0   \n",
              "1                       1                  0         0                 1   \n",
              "2                       1                  0         0                 1   \n",
              "3                       0                  2         0                 1   \n",
              "4                       1                  0         1                 0   \n",
              "...                   ...                ...       ...               ...   \n",
              "7038                    1                  1         0                 1   \n",
              "7039                    1                  1         1                 0   \n",
              "7040                    0                  2         0                 1   \n",
              "7041                    1                  1         1                 0   \n",
              "7042                    1                  0         1                 1   \n",
              "\n",
              "      Serviço Backup  Proteção  Suporte técnico  StreamingTV  StreamingMovies  \\\n",
              "0                  1         0                0            0                0   \n",
              "1                  0         1                0            0                0   \n",
              "2                  1         0                0            0                0   \n",
              "3                  0         1                1            0                0   \n",
              "4                  0         0                0            0                0   \n",
              "...              ...       ...              ...          ...              ...   \n",
              "7038               0         1                1            1                1   \n",
              "7039               1         1                0            1                1   \n",
              "7040               0         0                0            0                0   \n",
              "7041               0         0                0            0                0   \n",
              "7042               0         1                1            1                1   \n",
              "\n",
              "      Tipo de Contrato  Fatura em papel  Forma de Pgto  Valor do Plano  \\\n",
              "0                    0                1              0           29.85   \n",
              "1                    1                0              1           56.95   \n",
              "2                    0                1              1           53.85   \n",
              "3                    1                0              2           42.30   \n",
              "4                    0                1              0           70.70   \n",
              "...                ...              ...            ...             ...   \n",
              "7038                 1                1              1           84.80   \n",
              "7039                 1                1              3          103.20   \n",
              "7040                 0                1              0           29.60   \n",
              "7041                 0                1              1           74.40   \n",
              "7042                 2                1              2          105.65   \n",
              "\n",
              "      Total da Fatura  Ainda Cliente?  \n",
              "0               29.85               0  \n",
              "1             1889.50               0  \n",
              "2              108.15               1  \n",
              "3             1840.75               0  \n",
              "4              151.65               1  \n",
              "...               ...             ...  \n",
              "7038          1990.50               0  \n",
              "7039          7362.90               0  \n",
              "7040           346.45               0  \n",
              "7041           306.60               1  \n",
              "7042          6844.50               0  \n",
              "\n",
              "[7043 rows x 21 columns]"
            ],
            "text/html": [
              "\n",
              "  <div id=\"df-7b26addd-c308-4855-9423-cf54901346c9\">\n",
              "    <div class=\"colab-df-container\">\n",
              "      <div>\n",
              "<style scoped>\n",
              "    .dataframe tbody tr th:only-of-type {\n",
              "        vertical-align: middle;\n",
              "    }\n",
              "\n",
              "    .dataframe tbody tr th {\n",
              "        vertical-align: top;\n",
              "    }\n",
              "\n",
              "    .dataframe thead th {\n",
              "        text-align: right;\n",
              "    }\n",
              "</style>\n",
              "<table border=\"1\" class=\"dataframe\">\n",
              "  <thead>\n",
              "    <tr style=\"text-align: right;\">\n",
              "      <th></th>\n",
              "      <th>Id</th>\n",
              "      <th>Sexo</th>\n",
              "      <th>Idoso</th>\n",
              "      <th>Parceiro/a</th>\n",
              "      <th>Dependentes</th>\n",
              "      <th>Meses sob contrato</th>\n",
              "      <th>Serviço de telefone</th>\n",
              "      <th>+de 1 linha phone</th>\n",
              "      <th>Internet</th>\n",
              "      <th>Segurança online</th>\n",
              "      <th>Serviço Backup</th>\n",
              "      <th>Proteção</th>\n",
              "      <th>Suporte técnico</th>\n",
              "      <th>StreamingTV</th>\n",
              "      <th>StreamingMovies</th>\n",
              "      <th>Tipo de Contrato</th>\n",
              "      <th>Fatura em papel</th>\n",
              "      <th>Forma de Pgto</th>\n",
              "      <th>Valor do Plano</th>\n",
              "      <th>Total da Fatura</th>\n",
              "      <th>Ainda Cliente?</th>\n",
              "    </tr>\n",
              "  </thead>\n",
              "  <tbody>\n",
              "    <tr>\n",
              "      <th>0</th>\n",
              "      <td>7590-VHVEG</td>\n",
              "      <td>0</td>\n",
              "      <td>0</td>\n",
              "      <td>1</td>\n",
              "      <td>0</td>\n",
              "      <td>1</td>\n",
              "      <td>0</td>\n",
              "      <td>2</td>\n",
              "      <td>0</td>\n",
              "      <td>0</td>\n",
              "      <td>1</td>\n",
              "      <td>0</td>\n",
              "      <td>0</td>\n",
              "      <td>0</td>\n",
              "      <td>0</td>\n",
              "      <td>0</td>\n",
              "      <td>1</td>\n",
              "      <td>0</td>\n",
              "      <td>29.85</td>\n",
              "      <td>29.85</td>\n",
              "      <td>0</td>\n",
              "    </tr>\n",
              "    <tr>\n",
              "      <th>1</th>\n",
              "      <td>5575-GNVDE</td>\n",
              "      <td>1</td>\n",
              "      <td>0</td>\n",
              "      <td>0</td>\n",
              "      <td>0</td>\n",
              "      <td>34</td>\n",
              "      <td>1</td>\n",
              "      <td>0</td>\n",
              "      <td>0</td>\n",
              "      <td>1</td>\n",
              "      <td>0</td>\n",
              "      <td>1</td>\n",
              "      <td>0</td>\n",
              "      <td>0</td>\n",
              "      <td>0</td>\n",
              "      <td>1</td>\n",
              "      <td>0</td>\n",
              "      <td>1</td>\n",
              "      <td>56.95</td>\n",
              "      <td>1889.50</td>\n",
              "      <td>0</td>\n",
              "    </tr>\n",
              "    <tr>\n",
              "      <th>2</th>\n",
              "      <td>3668-QPYBK</td>\n",
              "      <td>1</td>\n",
              "      <td>0</td>\n",
              "      <td>0</td>\n",
              "      <td>0</td>\n",
              "      <td>2</td>\n",
              "      <td>1</td>\n",
              "      <td>0</td>\n",
              "      <td>0</td>\n",
              "      <td>1</td>\n",
              "      <td>1</td>\n",
              "      <td>0</td>\n",
              "      <td>0</td>\n",
              "      <td>0</td>\n",
              "      <td>0</td>\n",
              "      <td>0</td>\n",
              "      <td>1</td>\n",
              "      <td>1</td>\n",
              "      <td>53.85</td>\n",
              "      <td>108.15</td>\n",
              "      <td>1</td>\n",
              "    </tr>\n",
              "    <tr>\n",
              "      <th>3</th>\n",
              "      <td>7795-CFOCW</td>\n",
              "      <td>1</td>\n",
              "      <td>0</td>\n",
              "      <td>0</td>\n",
              "      <td>0</td>\n",
              "      <td>45</td>\n",
              "      <td>0</td>\n",
              "      <td>2</td>\n",
              "      <td>0</td>\n",
              "      <td>1</td>\n",
              "      <td>0</td>\n",
              "      <td>1</td>\n",
              "      <td>1</td>\n",
              "      <td>0</td>\n",
              "      <td>0</td>\n",
              "      <td>1</td>\n",
              "      <td>0</td>\n",
              "      <td>2</td>\n",
              "      <td>42.30</td>\n",
              "      <td>1840.75</td>\n",
              "      <td>0</td>\n",
              "    </tr>\n",
              "    <tr>\n",
              "      <th>4</th>\n",
              "      <td>9237-HQITU</td>\n",
              "      <td>0</td>\n",
              "      <td>0</td>\n",
              "      <td>0</td>\n",
              "      <td>0</td>\n",
              "      <td>2</td>\n",
              "      <td>1</td>\n",
              "      <td>0</td>\n",
              "      <td>1</td>\n",
              "      <td>0</td>\n",
              "      <td>0</td>\n",
              "      <td>0</td>\n",
              "      <td>0</td>\n",
              "      <td>0</td>\n",
              "      <td>0</td>\n",
              "      <td>0</td>\n",
              "      <td>1</td>\n",
              "      <td>0</td>\n",
              "      <td>70.70</td>\n",
              "      <td>151.65</td>\n",
              "      <td>1</td>\n",
              "    </tr>\n",
              "    <tr>\n",
              "      <th>...</th>\n",
              "      <td>...</td>\n",
              "      <td>...</td>\n",
              "      <td>...</td>\n",
              "      <td>...</td>\n",
              "      <td>...</td>\n",
              "      <td>...</td>\n",
              "      <td>...</td>\n",
              "      <td>...</td>\n",
              "      <td>...</td>\n",
              "      <td>...</td>\n",
              "      <td>...</td>\n",
              "      <td>...</td>\n",
              "      <td>...</td>\n",
              "      <td>...</td>\n",
              "      <td>...</td>\n",
              "      <td>...</td>\n",
              "      <td>...</td>\n",
              "      <td>...</td>\n",
              "      <td>...</td>\n",
              "      <td>...</td>\n",
              "      <td>...</td>\n",
              "    </tr>\n",
              "    <tr>\n",
              "      <th>7038</th>\n",
              "      <td>6840-RESVB</td>\n",
              "      <td>1</td>\n",
              "      <td>0</td>\n",
              "      <td>1</td>\n",
              "      <td>1</td>\n",
              "      <td>24</td>\n",
              "      <td>1</td>\n",
              "      <td>1</td>\n",
              "      <td>0</td>\n",
              "      <td>1</td>\n",
              "      <td>0</td>\n",
              "      <td>1</td>\n",
              "      <td>1</td>\n",
              "      <td>1</td>\n",
              "      <td>1</td>\n",
              "      <td>1</td>\n",
              "      <td>1</td>\n",
              "      <td>1</td>\n",
              "      <td>84.80</td>\n",
              "      <td>1990.50</td>\n",
              "      <td>0</td>\n",
              "    </tr>\n",
              "    <tr>\n",
              "      <th>7039</th>\n",
              "      <td>2234-XADUH</td>\n",
              "      <td>0</td>\n",
              "      <td>0</td>\n",
              "      <td>1</td>\n",
              "      <td>1</td>\n",
              "      <td>72</td>\n",
              "      <td>1</td>\n",
              "      <td>1</td>\n",
              "      <td>1</td>\n",
              "      <td>0</td>\n",
              "      <td>1</td>\n",
              "      <td>1</td>\n",
              "      <td>0</td>\n",
              "      <td>1</td>\n",
              "      <td>1</td>\n",
              "      <td>1</td>\n",
              "      <td>1</td>\n",
              "      <td>3</td>\n",
              "      <td>103.20</td>\n",
              "      <td>7362.90</td>\n",
              "      <td>0</td>\n",
              "    </tr>\n",
              "    <tr>\n",
              "      <th>7040</th>\n",
              "      <td>4801-JZAZL</td>\n",
              "      <td>0</td>\n",
              "      <td>0</td>\n",
              "      <td>1</td>\n",
              "      <td>1</td>\n",
              "      <td>11</td>\n",
              "      <td>0</td>\n",
              "      <td>2</td>\n",
              "      <td>0</td>\n",
              "      <td>1</td>\n",
              "      <td>0</td>\n",
              "      <td>0</td>\n",
              "      <td>0</td>\n",
              "      <td>0</td>\n",
              "      <td>0</td>\n",
              "      <td>0</td>\n",
              "      <td>1</td>\n",
              "      <td>0</td>\n",
              "      <td>29.60</td>\n",
              "      <td>346.45</td>\n",
              "      <td>0</td>\n",
              "    </tr>\n",
              "    <tr>\n",
              "      <th>7041</th>\n",
              "      <td>8361-LTMKD</td>\n",
              "      <td>1</td>\n",
              "      <td>1</td>\n",
              "      <td>1</td>\n",
              "      <td>0</td>\n",
              "      <td>4</td>\n",
              "      <td>1</td>\n",
              "      <td>1</td>\n",
              "      <td>1</td>\n",
              "      <td>0</td>\n",
              "      <td>0</td>\n",
              "      <td>0</td>\n",
              "      <td>0</td>\n",
              "      <td>0</td>\n",
              "      <td>0</td>\n",
              "      <td>0</td>\n",
              "      <td>1</td>\n",
              "      <td>1</td>\n",
              "      <td>74.40</td>\n",
              "      <td>306.60</td>\n",
              "      <td>1</td>\n",
              "    </tr>\n",
              "    <tr>\n",
              "      <th>7042</th>\n",
              "      <td>3186-AJIEK</td>\n",
              "      <td>1</td>\n",
              "      <td>0</td>\n",
              "      <td>0</td>\n",
              "      <td>0</td>\n",
              "      <td>66</td>\n",
              "      <td>1</td>\n",
              "      <td>0</td>\n",
              "      <td>1</td>\n",
              "      <td>1</td>\n",
              "      <td>0</td>\n",
              "      <td>1</td>\n",
              "      <td>1</td>\n",
              "      <td>1</td>\n",
              "      <td>1</td>\n",
              "      <td>2</td>\n",
              "      <td>1</td>\n",
              "      <td>2</td>\n",
              "      <td>105.65</td>\n",
              "      <td>6844.50</td>\n",
              "      <td>0</td>\n",
              "    </tr>\n",
              "  </tbody>\n",
              "</table>\n",
              "<p>7043 rows × 21 columns</p>\n",
              "</div>\n",
              "      <button class=\"colab-df-convert\" onclick=\"convertToInteractive('df-7b26addd-c308-4855-9423-cf54901346c9')\"\n",
              "              title=\"Convert this dataframe to an interactive table.\"\n",
              "              style=\"display:none;\">\n",
              "        \n",
              "  <svg xmlns=\"http://www.w3.org/2000/svg\" height=\"24px\"viewBox=\"0 0 24 24\"\n",
              "       width=\"24px\">\n",
              "    <path d=\"M0 0h24v24H0V0z\" fill=\"none\"/>\n",
              "    <path d=\"M18.56 5.44l.94 2.06.94-2.06 2.06-.94-2.06-.94-.94-2.06-.94 2.06-2.06.94zm-11 1L8.5 8.5l.94-2.06 2.06-.94-2.06-.94L8.5 2.5l-.94 2.06-2.06.94zm10 10l.94 2.06.94-2.06 2.06-.94-2.06-.94-.94-2.06-.94 2.06-2.06.94z\"/><path d=\"M17.41 7.96l-1.37-1.37c-.4-.4-.92-.59-1.43-.59-.52 0-1.04.2-1.43.59L10.3 9.45l-7.72 7.72c-.78.78-.78 2.05 0 2.83L4 21.41c.39.39.9.59 1.41.59.51 0 1.02-.2 1.41-.59l7.78-7.78 2.81-2.81c.8-.78.8-2.07 0-2.86zM5.41 20L4 18.59l7.72-7.72 1.47 1.35L5.41 20z\"/>\n",
              "  </svg>\n",
              "      </button>\n",
              "      \n",
              "  <style>\n",
              "    .colab-df-container {\n",
              "      display:flex;\n",
              "      flex-wrap:wrap;\n",
              "      gap: 12px;\n",
              "    }\n",
              "\n",
              "    .colab-df-convert {\n",
              "      background-color: #E8F0FE;\n",
              "      border: none;\n",
              "      border-radius: 50%;\n",
              "      cursor: pointer;\n",
              "      display: none;\n",
              "      fill: #1967D2;\n",
              "      height: 32px;\n",
              "      padding: 0 0 0 0;\n",
              "      width: 32px;\n",
              "    }\n",
              "\n",
              "    .colab-df-convert:hover {\n",
              "      background-color: #E2EBFA;\n",
              "      box-shadow: 0px 1px 2px rgba(60, 64, 67, 0.3), 0px 1px 3px 1px rgba(60, 64, 67, 0.15);\n",
              "      fill: #174EA6;\n",
              "    }\n",
              "\n",
              "    [theme=dark] .colab-df-convert {\n",
              "      background-color: #3B4455;\n",
              "      fill: #D2E3FC;\n",
              "    }\n",
              "\n",
              "    [theme=dark] .colab-df-convert:hover {\n",
              "      background-color: #434B5C;\n",
              "      box-shadow: 0px 1px 3px 1px rgba(0, 0, 0, 0.15);\n",
              "      filter: drop-shadow(0px 1px 2px rgba(0, 0, 0, 0.3));\n",
              "      fill: #FFFFFF;\n",
              "    }\n",
              "  </style>\n",
              "\n",
              "      <script>\n",
              "        const buttonEl =\n",
              "          document.querySelector('#df-7b26addd-c308-4855-9423-cf54901346c9 button.colab-df-convert');\n",
              "        buttonEl.style.display =\n",
              "          google.colab.kernel.accessAllowed ? 'block' : 'none';\n",
              "\n",
              "        async function convertToInteractive(key) {\n",
              "          const element = document.querySelector('#df-7b26addd-c308-4855-9423-cf54901346c9');\n",
              "          const dataTable =\n",
              "            await google.colab.kernel.invokeFunction('convertToInteractive',\n",
              "                                                     [key], {});\n",
              "          if (!dataTable) return;\n",
              "\n",
              "          const docLinkHtml = 'Like what you see? Visit the ' +\n",
              "            '<a target=\"_blank\" href=https://colab.research.google.com/notebooks/data_table.ipynb>data table notebook</a>'\n",
              "            + ' to learn more about interactive tables.';\n",
              "          element.innerHTML = '';\n",
              "          dataTable['output_type'] = 'display_data';\n",
              "          await google.colab.output.renderOutput(dataTable, element);\n",
              "          const docLink = document.createElement('div');\n",
              "          docLink.innerHTML = docLinkHtml;\n",
              "          element.appendChild(docLink);\n",
              "        }\n",
              "      </script>\n",
              "    </div>\n",
              "  </div>\n",
              "  "
            ]
          },
          "metadata": {},
          "execution_count": 147
        }
      ]
    },
    {
      "cell_type": "code",
      "source": [
        "train.info()"
      ],
      "metadata": {
        "colab": {
          "base_uri": "https://localhost:8080/"
        },
        "id": "cOsfYYmNjMfj",
        "outputId": "98aead97-8958-4568-ee57-cc9b217fcddb"
      },
      "execution_count": 148,
      "outputs": [
        {
          "output_type": "stream",
          "name": "stdout",
          "text": [
            "<class 'pandas.core.frame.DataFrame'>\n",
            "RangeIndex: 7043 entries, 0 to 7042\n",
            "Data columns (total 21 columns):\n",
            " #   Column               Non-Null Count  Dtype  \n",
            "---  ------               --------------  -----  \n",
            " 0   Id                   7043 non-null   object \n",
            " 1   Sexo                 7043 non-null   int64  \n",
            " 2   Idoso                7043 non-null   int64  \n",
            " 3   Parceiro/a           7043 non-null   int64  \n",
            " 4   Dependentes          7043 non-null   int64  \n",
            " 5   Meses sob contrato   7043 non-null   int64  \n",
            " 6   Serviço de telefone  7043 non-null   int64  \n",
            " 7   +de 1 linha phone    7043 non-null   int64  \n",
            " 8   Internet             7043 non-null   int64  \n",
            " 9   Segurança online     7043 non-null   int64  \n",
            " 10  Serviço Backup       7043 non-null   int64  \n",
            " 11  Proteção             7043 non-null   int64  \n",
            " 12  Suporte técnico      7043 non-null   int64  \n",
            " 13  StreamingTV          7043 non-null   int64  \n",
            " 14  StreamingMovies      7043 non-null   int64  \n",
            " 15  Tipo de Contrato     7043 non-null   int64  \n",
            " 16  Fatura em papel      7043 non-null   int64  \n",
            " 17  Forma de Pgto        7043 non-null   int64  \n",
            " 18  Valor do Plano       7043 non-null   float64\n",
            " 19  Total da Fatura      7032 non-null   float64\n",
            " 20  Ainda Cliente?       7043 non-null   int64  \n",
            "dtypes: float64(2), int64(18), object(1)\n",
            "memory usage: 1.1+ MB\n"
          ]
        }
      ]
    },
    {
      "cell_type": "code",
      "source": [
        "#elementos para o preproessamento\n",
        "from sklearn.model_selection import train_test_split\n",
        "from sklearn.pipeline import Pipeline\n",
        "from sklearn.impute import SimpleImputer\n",
        "from sklearn.preprocessing import OneHotEncoder\n",
        "from sklearn.compose import ColumnTransformer"
      ],
      "metadata": {
        "id": "VfUtDnK-j2xK"
      },
      "execution_count": 150,
      "outputs": []
    },
    {
      "cell_type": "code",
      "source": [
        "#bibliotecas de machine learning"
      ],
      "metadata": {
        "id": "-dLINQHVngXC"
      },
      "execution_count": 151,
      "outputs": []
    },
    {
      "cell_type": "code",
      "source": [],
      "metadata": {
        "id": "tgs0RSjkn1Y6"
      },
      "execution_count": null,
      "outputs": []
    }
  ]
}