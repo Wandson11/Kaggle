{
  "nbformat": 4,
  "nbformat_minor": 0,
  "metadata": {
    "colab": {
      "provenance": []
    },
    "kernelspec": {
      "name": "python3",
      "display_name": "Python 3"
    },
    "language_info": {
      "name": "python"
    }
  },
  "cells": [
    {
      "cell_type": "code",
      "execution_count": 641,
      "metadata": {
        "id": "PtStpZbSekHD"
      },
      "outputs": [],
      "source": [
        "import pandas as pd\n",
        "import seaborn as sns\n",
        "import matplotlib.pyplot as plt\n",
        "import numpy as np"
      ]
    },
    {
      "cell_type": "code",
      "source": [
        "import zipfile"
      ],
      "metadata": {
        "id": "Hz4XLmFofh5M"
      },
      "execution_count": 642,
      "outputs": []
    },
    {
      "cell_type": "code",
      "source": [
        "with zipfile.ZipFile('/content/archive.zip') as a:\n",
        "  print(*a.namelist())"
      ],
      "metadata": {
        "colab": {
          "base_uri": "https://localhost:8080/"
        },
        "id": "WEzeYIGCfql-",
        "outputId": "3f8a5a7d-b3ed-419c-fb49-89c689a170b4"
      },
      "execution_count": 643,
      "outputs": [
        {
          "output_type": "stream",
          "name": "stdout",
          "text": [
            "WA_Fn-UseC_-Telco-Customer-Churn.csv\n"
          ]
        }
      ]
    },
    {
      "cell_type": "code",
      "source": [
        "with zipfile.ZipFile('/content/archive.zip') as a:\n",
        "  with a.open('WA_Fn-UseC_-Telco-Customer-Churn.csv') as b:\n",
        "    train = pd.read_csv(b)"
      ],
      "metadata": {
        "id": "i183f2AzgBVj"
      },
      "execution_count": 644,
      "outputs": []
    },
    {
      "cell_type": "code",
      "source": [
        "train"
      ],
      "metadata": {
        "colab": {
          "base_uri": "https://localhost:8080/",
          "height": 661
        },
        "id": "JQjHpPYXgdxe",
        "outputId": "84315666-d200-48b3-c8c2-f6e34ee5ca05"
      },
      "execution_count": 645,
      "outputs": [
        {
          "output_type": "execute_result",
          "data": {
            "text/plain": [
              "      customerID  gender  SeniorCitizen Partner Dependents  tenure  \\\n",
              "0     7590-VHVEG  Female              0     Yes         No       1   \n",
              "1     5575-GNVDE    Male              0      No         No      34   \n",
              "2     3668-QPYBK    Male              0      No         No       2   \n",
              "3     7795-CFOCW    Male              0      No         No      45   \n",
              "4     9237-HQITU  Female              0      No         No       2   \n",
              "...          ...     ...            ...     ...        ...     ...   \n",
              "7038  6840-RESVB    Male              0     Yes        Yes      24   \n",
              "7039  2234-XADUH  Female              0     Yes        Yes      72   \n",
              "7040  4801-JZAZL  Female              0     Yes        Yes      11   \n",
              "7041  8361-LTMKD    Male              1     Yes         No       4   \n",
              "7042  3186-AJIEK    Male              0      No         No      66   \n",
              "\n",
              "     PhoneService     MultipleLines InternetService OnlineSecurity  \\\n",
              "0              No  No phone service             DSL             No   \n",
              "1             Yes                No             DSL            Yes   \n",
              "2             Yes                No             DSL            Yes   \n",
              "3              No  No phone service             DSL            Yes   \n",
              "4             Yes                No     Fiber optic             No   \n",
              "...           ...               ...             ...            ...   \n",
              "7038          Yes               Yes             DSL            Yes   \n",
              "7039          Yes               Yes     Fiber optic             No   \n",
              "7040           No  No phone service             DSL            Yes   \n",
              "7041          Yes               Yes     Fiber optic             No   \n",
              "7042          Yes                No     Fiber optic            Yes   \n",
              "\n",
              "     OnlineBackup DeviceProtection TechSupport StreamingTV StreamingMovies  \\\n",
              "0             Yes               No          No          No              No   \n",
              "1              No              Yes          No          No              No   \n",
              "2             Yes               No          No          No              No   \n",
              "3              No              Yes         Yes          No              No   \n",
              "4              No               No          No          No              No   \n",
              "...           ...              ...         ...         ...             ...   \n",
              "7038           No              Yes         Yes         Yes             Yes   \n",
              "7039          Yes              Yes          No         Yes             Yes   \n",
              "7040           No               No          No          No              No   \n",
              "7041           No               No          No          No              No   \n",
              "7042           No              Yes         Yes         Yes             Yes   \n",
              "\n",
              "            Contract PaperlessBilling              PaymentMethod  \\\n",
              "0     Month-to-month              Yes           Electronic check   \n",
              "1           One year               No               Mailed check   \n",
              "2     Month-to-month              Yes               Mailed check   \n",
              "3           One year               No  Bank transfer (automatic)   \n",
              "4     Month-to-month              Yes           Electronic check   \n",
              "...              ...              ...                        ...   \n",
              "7038        One year              Yes               Mailed check   \n",
              "7039        One year              Yes    Credit card (automatic)   \n",
              "7040  Month-to-month              Yes           Electronic check   \n",
              "7041  Month-to-month              Yes               Mailed check   \n",
              "7042        Two year              Yes  Bank transfer (automatic)   \n",
              "\n",
              "      MonthlyCharges TotalCharges Churn  \n",
              "0              29.85        29.85    No  \n",
              "1              56.95       1889.5    No  \n",
              "2              53.85       108.15   Yes  \n",
              "3              42.30      1840.75    No  \n",
              "4              70.70       151.65   Yes  \n",
              "...              ...          ...   ...  \n",
              "7038           84.80       1990.5    No  \n",
              "7039          103.20       7362.9    No  \n",
              "7040           29.60       346.45    No  \n",
              "7041           74.40        306.6   Yes  \n",
              "7042          105.65       6844.5    No  \n",
              "\n",
              "[7043 rows x 21 columns]"
            ],
            "text/html": [
              "\n",
              "  <div id=\"df-45b47bbb-0e2b-4f5b-8607-94fcf3fb6e67\">\n",
              "    <div class=\"colab-df-container\">\n",
              "      <div>\n",
              "<style scoped>\n",
              "    .dataframe tbody tr th:only-of-type {\n",
              "        vertical-align: middle;\n",
              "    }\n",
              "\n",
              "    .dataframe tbody tr th {\n",
              "        vertical-align: top;\n",
              "    }\n",
              "\n",
              "    .dataframe thead th {\n",
              "        text-align: right;\n",
              "    }\n",
              "</style>\n",
              "<table border=\"1\" class=\"dataframe\">\n",
              "  <thead>\n",
              "    <tr style=\"text-align: right;\">\n",
              "      <th></th>\n",
              "      <th>customerID</th>\n",
              "      <th>gender</th>\n",
              "      <th>SeniorCitizen</th>\n",
              "      <th>Partner</th>\n",
              "      <th>Dependents</th>\n",
              "      <th>tenure</th>\n",
              "      <th>PhoneService</th>\n",
              "      <th>MultipleLines</th>\n",
              "      <th>InternetService</th>\n",
              "      <th>OnlineSecurity</th>\n",
              "      <th>OnlineBackup</th>\n",
              "      <th>DeviceProtection</th>\n",
              "      <th>TechSupport</th>\n",
              "      <th>StreamingTV</th>\n",
              "      <th>StreamingMovies</th>\n",
              "      <th>Contract</th>\n",
              "      <th>PaperlessBilling</th>\n",
              "      <th>PaymentMethod</th>\n",
              "      <th>MonthlyCharges</th>\n",
              "      <th>TotalCharges</th>\n",
              "      <th>Churn</th>\n",
              "    </tr>\n",
              "  </thead>\n",
              "  <tbody>\n",
              "    <tr>\n",
              "      <th>0</th>\n",
              "      <td>7590-VHVEG</td>\n",
              "      <td>Female</td>\n",
              "      <td>0</td>\n",
              "      <td>Yes</td>\n",
              "      <td>No</td>\n",
              "      <td>1</td>\n",
              "      <td>No</td>\n",
              "      <td>No phone service</td>\n",
              "      <td>DSL</td>\n",
              "      <td>No</td>\n",
              "      <td>Yes</td>\n",
              "      <td>No</td>\n",
              "      <td>No</td>\n",
              "      <td>No</td>\n",
              "      <td>No</td>\n",
              "      <td>Month-to-month</td>\n",
              "      <td>Yes</td>\n",
              "      <td>Electronic check</td>\n",
              "      <td>29.85</td>\n",
              "      <td>29.85</td>\n",
              "      <td>No</td>\n",
              "    </tr>\n",
              "    <tr>\n",
              "      <th>1</th>\n",
              "      <td>5575-GNVDE</td>\n",
              "      <td>Male</td>\n",
              "      <td>0</td>\n",
              "      <td>No</td>\n",
              "      <td>No</td>\n",
              "      <td>34</td>\n",
              "      <td>Yes</td>\n",
              "      <td>No</td>\n",
              "      <td>DSL</td>\n",
              "      <td>Yes</td>\n",
              "      <td>No</td>\n",
              "      <td>Yes</td>\n",
              "      <td>No</td>\n",
              "      <td>No</td>\n",
              "      <td>No</td>\n",
              "      <td>One year</td>\n",
              "      <td>No</td>\n",
              "      <td>Mailed check</td>\n",
              "      <td>56.95</td>\n",
              "      <td>1889.5</td>\n",
              "      <td>No</td>\n",
              "    </tr>\n",
              "    <tr>\n",
              "      <th>2</th>\n",
              "      <td>3668-QPYBK</td>\n",
              "      <td>Male</td>\n",
              "      <td>0</td>\n",
              "      <td>No</td>\n",
              "      <td>No</td>\n",
              "      <td>2</td>\n",
              "      <td>Yes</td>\n",
              "      <td>No</td>\n",
              "      <td>DSL</td>\n",
              "      <td>Yes</td>\n",
              "      <td>Yes</td>\n",
              "      <td>No</td>\n",
              "      <td>No</td>\n",
              "      <td>No</td>\n",
              "      <td>No</td>\n",
              "      <td>Month-to-month</td>\n",
              "      <td>Yes</td>\n",
              "      <td>Mailed check</td>\n",
              "      <td>53.85</td>\n",
              "      <td>108.15</td>\n",
              "      <td>Yes</td>\n",
              "    </tr>\n",
              "    <tr>\n",
              "      <th>3</th>\n",
              "      <td>7795-CFOCW</td>\n",
              "      <td>Male</td>\n",
              "      <td>0</td>\n",
              "      <td>No</td>\n",
              "      <td>No</td>\n",
              "      <td>45</td>\n",
              "      <td>No</td>\n",
              "      <td>No phone service</td>\n",
              "      <td>DSL</td>\n",
              "      <td>Yes</td>\n",
              "      <td>No</td>\n",
              "      <td>Yes</td>\n",
              "      <td>Yes</td>\n",
              "      <td>No</td>\n",
              "      <td>No</td>\n",
              "      <td>One year</td>\n",
              "      <td>No</td>\n",
              "      <td>Bank transfer (automatic)</td>\n",
              "      <td>42.30</td>\n",
              "      <td>1840.75</td>\n",
              "      <td>No</td>\n",
              "    </tr>\n",
              "    <tr>\n",
              "      <th>4</th>\n",
              "      <td>9237-HQITU</td>\n",
              "      <td>Female</td>\n",
              "      <td>0</td>\n",
              "      <td>No</td>\n",
              "      <td>No</td>\n",
              "      <td>2</td>\n",
              "      <td>Yes</td>\n",
              "      <td>No</td>\n",
              "      <td>Fiber optic</td>\n",
              "      <td>No</td>\n",
              "      <td>No</td>\n",
              "      <td>No</td>\n",
              "      <td>No</td>\n",
              "      <td>No</td>\n",
              "      <td>No</td>\n",
              "      <td>Month-to-month</td>\n",
              "      <td>Yes</td>\n",
              "      <td>Electronic check</td>\n",
              "      <td>70.70</td>\n",
              "      <td>151.65</td>\n",
              "      <td>Yes</td>\n",
              "    </tr>\n",
              "    <tr>\n",
              "      <th>...</th>\n",
              "      <td>...</td>\n",
              "      <td>...</td>\n",
              "      <td>...</td>\n",
              "      <td>...</td>\n",
              "      <td>...</td>\n",
              "      <td>...</td>\n",
              "      <td>...</td>\n",
              "      <td>...</td>\n",
              "      <td>...</td>\n",
              "      <td>...</td>\n",
              "      <td>...</td>\n",
              "      <td>...</td>\n",
              "      <td>...</td>\n",
              "      <td>...</td>\n",
              "      <td>...</td>\n",
              "      <td>...</td>\n",
              "      <td>...</td>\n",
              "      <td>...</td>\n",
              "      <td>...</td>\n",
              "      <td>...</td>\n",
              "      <td>...</td>\n",
              "    </tr>\n",
              "    <tr>\n",
              "      <th>7038</th>\n",
              "      <td>6840-RESVB</td>\n",
              "      <td>Male</td>\n",
              "      <td>0</td>\n",
              "      <td>Yes</td>\n",
              "      <td>Yes</td>\n",
              "      <td>24</td>\n",
              "      <td>Yes</td>\n",
              "      <td>Yes</td>\n",
              "      <td>DSL</td>\n",
              "      <td>Yes</td>\n",
              "      <td>No</td>\n",
              "      <td>Yes</td>\n",
              "      <td>Yes</td>\n",
              "      <td>Yes</td>\n",
              "      <td>Yes</td>\n",
              "      <td>One year</td>\n",
              "      <td>Yes</td>\n",
              "      <td>Mailed check</td>\n",
              "      <td>84.80</td>\n",
              "      <td>1990.5</td>\n",
              "      <td>No</td>\n",
              "    </tr>\n",
              "    <tr>\n",
              "      <th>7039</th>\n",
              "      <td>2234-XADUH</td>\n",
              "      <td>Female</td>\n",
              "      <td>0</td>\n",
              "      <td>Yes</td>\n",
              "      <td>Yes</td>\n",
              "      <td>72</td>\n",
              "      <td>Yes</td>\n",
              "      <td>Yes</td>\n",
              "      <td>Fiber optic</td>\n",
              "      <td>No</td>\n",
              "      <td>Yes</td>\n",
              "      <td>Yes</td>\n",
              "      <td>No</td>\n",
              "      <td>Yes</td>\n",
              "      <td>Yes</td>\n",
              "      <td>One year</td>\n",
              "      <td>Yes</td>\n",
              "      <td>Credit card (automatic)</td>\n",
              "      <td>103.20</td>\n",
              "      <td>7362.9</td>\n",
              "      <td>No</td>\n",
              "    </tr>\n",
              "    <tr>\n",
              "      <th>7040</th>\n",
              "      <td>4801-JZAZL</td>\n",
              "      <td>Female</td>\n",
              "      <td>0</td>\n",
              "      <td>Yes</td>\n",
              "      <td>Yes</td>\n",
              "      <td>11</td>\n",
              "      <td>No</td>\n",
              "      <td>No phone service</td>\n",
              "      <td>DSL</td>\n",
              "      <td>Yes</td>\n",
              "      <td>No</td>\n",
              "      <td>No</td>\n",
              "      <td>No</td>\n",
              "      <td>No</td>\n",
              "      <td>No</td>\n",
              "      <td>Month-to-month</td>\n",
              "      <td>Yes</td>\n",
              "      <td>Electronic check</td>\n",
              "      <td>29.60</td>\n",
              "      <td>346.45</td>\n",
              "      <td>No</td>\n",
              "    </tr>\n",
              "    <tr>\n",
              "      <th>7041</th>\n",
              "      <td>8361-LTMKD</td>\n",
              "      <td>Male</td>\n",
              "      <td>1</td>\n",
              "      <td>Yes</td>\n",
              "      <td>No</td>\n",
              "      <td>4</td>\n",
              "      <td>Yes</td>\n",
              "      <td>Yes</td>\n",
              "      <td>Fiber optic</td>\n",
              "      <td>No</td>\n",
              "      <td>No</td>\n",
              "      <td>No</td>\n",
              "      <td>No</td>\n",
              "      <td>No</td>\n",
              "      <td>No</td>\n",
              "      <td>Month-to-month</td>\n",
              "      <td>Yes</td>\n",
              "      <td>Mailed check</td>\n",
              "      <td>74.40</td>\n",
              "      <td>306.6</td>\n",
              "      <td>Yes</td>\n",
              "    </tr>\n",
              "    <tr>\n",
              "      <th>7042</th>\n",
              "      <td>3186-AJIEK</td>\n",
              "      <td>Male</td>\n",
              "      <td>0</td>\n",
              "      <td>No</td>\n",
              "      <td>No</td>\n",
              "      <td>66</td>\n",
              "      <td>Yes</td>\n",
              "      <td>No</td>\n",
              "      <td>Fiber optic</td>\n",
              "      <td>Yes</td>\n",
              "      <td>No</td>\n",
              "      <td>Yes</td>\n",
              "      <td>Yes</td>\n",
              "      <td>Yes</td>\n",
              "      <td>Yes</td>\n",
              "      <td>Two year</td>\n",
              "      <td>Yes</td>\n",
              "      <td>Bank transfer (automatic)</td>\n",
              "      <td>105.65</td>\n",
              "      <td>6844.5</td>\n",
              "      <td>No</td>\n",
              "    </tr>\n",
              "  </tbody>\n",
              "</table>\n",
              "<p>7043 rows × 21 columns</p>\n",
              "</div>\n",
              "      <button class=\"colab-df-convert\" onclick=\"convertToInteractive('df-45b47bbb-0e2b-4f5b-8607-94fcf3fb6e67')\"\n",
              "              title=\"Convert this dataframe to an interactive table.\"\n",
              "              style=\"display:none;\">\n",
              "        \n",
              "  <svg xmlns=\"http://www.w3.org/2000/svg\" height=\"24px\"viewBox=\"0 0 24 24\"\n",
              "       width=\"24px\">\n",
              "    <path d=\"M0 0h24v24H0V0z\" fill=\"none\"/>\n",
              "    <path d=\"M18.56 5.44l.94 2.06.94-2.06 2.06-.94-2.06-.94-.94-2.06-.94 2.06-2.06.94zm-11 1L8.5 8.5l.94-2.06 2.06-.94-2.06-.94L8.5 2.5l-.94 2.06-2.06.94zm10 10l.94 2.06.94-2.06 2.06-.94-2.06-.94-.94-2.06-.94 2.06-2.06.94z\"/><path d=\"M17.41 7.96l-1.37-1.37c-.4-.4-.92-.59-1.43-.59-.52 0-1.04.2-1.43.59L10.3 9.45l-7.72 7.72c-.78.78-.78 2.05 0 2.83L4 21.41c.39.39.9.59 1.41.59.51 0 1.02-.2 1.41-.59l7.78-7.78 2.81-2.81c.8-.78.8-2.07 0-2.86zM5.41 20L4 18.59l7.72-7.72 1.47 1.35L5.41 20z\"/>\n",
              "  </svg>\n",
              "      </button>\n",
              "      \n",
              "  <style>\n",
              "    .colab-df-container {\n",
              "      display:flex;\n",
              "      flex-wrap:wrap;\n",
              "      gap: 12px;\n",
              "    }\n",
              "\n",
              "    .colab-df-convert {\n",
              "      background-color: #E8F0FE;\n",
              "      border: none;\n",
              "      border-radius: 50%;\n",
              "      cursor: pointer;\n",
              "      display: none;\n",
              "      fill: #1967D2;\n",
              "      height: 32px;\n",
              "      padding: 0 0 0 0;\n",
              "      width: 32px;\n",
              "    }\n",
              "\n",
              "    .colab-df-convert:hover {\n",
              "      background-color: #E2EBFA;\n",
              "      box-shadow: 0px 1px 2px rgba(60, 64, 67, 0.3), 0px 1px 3px 1px rgba(60, 64, 67, 0.15);\n",
              "      fill: #174EA6;\n",
              "    }\n",
              "\n",
              "    [theme=dark] .colab-df-convert {\n",
              "      background-color: #3B4455;\n",
              "      fill: #D2E3FC;\n",
              "    }\n",
              "\n",
              "    [theme=dark] .colab-df-convert:hover {\n",
              "      background-color: #434B5C;\n",
              "      box-shadow: 0px 1px 3px 1px rgba(0, 0, 0, 0.15);\n",
              "      filter: drop-shadow(0px 1px 2px rgba(0, 0, 0, 0.3));\n",
              "      fill: #FFFFFF;\n",
              "    }\n",
              "  </style>\n",
              "\n",
              "      <script>\n",
              "        const buttonEl =\n",
              "          document.querySelector('#df-45b47bbb-0e2b-4f5b-8607-94fcf3fb6e67 button.colab-df-convert');\n",
              "        buttonEl.style.display =\n",
              "          google.colab.kernel.accessAllowed ? 'block' : 'none';\n",
              "\n",
              "        async function convertToInteractive(key) {\n",
              "          const element = document.querySelector('#df-45b47bbb-0e2b-4f5b-8607-94fcf3fb6e67');\n",
              "          const dataTable =\n",
              "            await google.colab.kernel.invokeFunction('convertToInteractive',\n",
              "                                                     [key], {});\n",
              "          if (!dataTable) return;\n",
              "\n",
              "          const docLinkHtml = 'Like what you see? Visit the ' +\n",
              "            '<a target=\"_blank\" href=https://colab.research.google.com/notebooks/data_table.ipynb>data table notebook</a>'\n",
              "            + ' to learn more about interactive tables.';\n",
              "          element.innerHTML = '';\n",
              "          dataTable['output_type'] = 'display_data';\n",
              "          await google.colab.output.renderOutput(dataTable, element);\n",
              "          const docLink = document.createElement('div');\n",
              "          docLink.innerHTML = docLinkHtml;\n",
              "          element.appendChild(docLink);\n",
              "        }\n",
              "      </script>\n",
              "    </div>\n",
              "  </div>\n",
              "  "
            ]
          },
          "metadata": {},
          "execution_count": 645
        }
      ]
    },
    {
      "cell_type": "code",
      "source": [
        "train.columns"
      ],
      "metadata": {
        "colab": {
          "base_uri": "https://localhost:8080/"
        },
        "id": "ABwVK-rXr2m9",
        "outputId": "cbf62df6-68fc-4130-db6b-23a0d3c0b6ef"
      },
      "execution_count": 646,
      "outputs": [
        {
          "output_type": "execute_result",
          "data": {
            "text/plain": [
              "Index(['customerID', 'gender', 'SeniorCitizen', 'Partner', 'Dependents',\n",
              "       'tenure', 'PhoneService', 'MultipleLines', 'InternetService',\n",
              "       'OnlineSecurity', 'OnlineBackup', 'DeviceProtection', 'TechSupport',\n",
              "       'StreamingTV', 'StreamingMovies', 'Contract', 'PaperlessBilling',\n",
              "       'PaymentMethod', 'MonthlyCharges', 'TotalCharges', 'Churn'],\n",
              "      dtype='object')"
            ]
          },
          "metadata": {},
          "execution_count": 646
        }
      ]
    },
    {
      "cell_type": "code",
      "source": [
        "'''\n",
        "'customerID': Id individual;\n",
        "'gender': sexo do cliente;\n",
        "'SeniorCitizen': se o cliente é idoso ou não (1: idoso, 0: não idoso);\n",
        "'Partner': se o cliente tem companheiro (yes e no);\n",
        "'Dependents': se o cliente possue dependentes (yes e no);\n",
        "'tenure': números de meses que o cliente esteve vinculado a empresa;\n",
        "'PhoneService': Se o cliente tem atendimento telefônico ou não (yes e no);\n",
        "'MultipleLines': Se que o cliente possui varias linhas telefonicas (yes, no e \"No phone service\")\n",
        "'InternetService': Provedor de internet do cliente (DSL, Fiber optic, No);\n",
        "'OnlineSecurity': se o cliente tem serviço de segurança de internet (yes, no e \"No internet service\");\n",
        "'OnlineBackup': se o cliente possui serviço de backup online;\n",
        "'DeviceProtection': se o cliente possui proteção do dispositivo;\n",
        "'TechSupport': suporte técnico;\n",
        "'StreamingTV': se o cliente possui serviço de streaming pra tv;\n",
        "'StreamingMovies': se o cliente possui servço de streaming de filme\n",
        "'Contract': tipo de contrato (mensal, anual)\n",
        "'PaperlessBilling': se a fatura é em papel;\n",
        "'PaymentMethod': forma de pagamento;\n",
        "'MonthlyCharges': o valor da cobrança/plano;\n",
        "'TotalCharges': cobrança total;\n",
        "'Churn': se a empresa perdeu o cliente.\n",
        "'''"
      ],
      "metadata": {
        "colab": {
          "base_uri": "https://localhost:8080/",
          "height": 105
        },
        "id": "xP6qbxeBr8Sk",
        "outputId": "d64666fe-fffe-4209-ca30-f9bbea4688ea"
      },
      "execution_count": 647,
      "outputs": [
        {
          "output_type": "execute_result",
          "data": {
            "text/plain": [
              "'\\n\\'customerID\\': Id individual;\\n\\'gender\\': sexo do cliente;\\n\\'SeniorCitizen\\': se o cliente é idoso ou não (1: idoso, 0: não idoso);\\n\\'Partner\\': se o cliente tem companheiro (yes e no);\\n\\'Dependents\\': se o cliente possue dependentes (yes e no);\\n\\'tenure\\': números de meses que o cliente esteve vinculado a empresa;\\n\\'PhoneService\\': Se o cliente tem atendimento telefônico ou não (yes e no);\\n\\'MultipleLines\\': Se que o cliente possui varias linhas telefonicas (yes, no e \"No phone service\")\\n\\'InternetService\\': Provedor de internet do cliente (DSL, Fiber optic, No);\\n\\'OnlineSecurity\\': se o cliente tem serviço de segurança de internet (yes, no e \"No internet service\");\\n\\'OnlineBackup\\': se o cliente possui serviço de backup online;\\n\\'DeviceProtection\\': se o cliente possui proteção do dispositivo;\\n\\'TechSupport\\': suporte técnico;\\n\\'StreamingTV\\': se o cliente possui serviço de streaming pra tv;\\n\\'StreamingMovies\\': se o cliente possui servço de streaming de filme\\n\\'Contract\\': tipo de contrato (mensal, anual)\\n\\'PaperlessBilling\\': se a fatura é em papel;\\n\\'PaymentMethod\\': forma de pagamento;\\n\\'MonthlyCharges\\': o valor da cobrança/plano;\\n\\'TotalCharges\\': cobrança total;\\n\\'Churn\\': se a empresa perdeu o cliente.\\n'"
            ],
            "application/vnd.google.colaboratory.intrinsic+json": {
              "type": "string"
            }
          },
          "metadata": {},
          "execution_count": 647
        }
      ]
    },
    {
      "cell_type": "code",
      "source": [
        "pd.get_option('max_columns')"
      ],
      "metadata": {
        "colab": {
          "base_uri": "https://localhost:8080/"
        },
        "id": "-T8HMUoxge4v",
        "outputId": "da78a1a0-1200-41c3-a520-8fc070affe66"
      },
      "execution_count": 648,
      "outputs": [
        {
          "output_type": "execute_result",
          "data": {
            "text/plain": [
              "50"
            ]
          },
          "metadata": {},
          "execution_count": 648
        }
      ]
    },
    {
      "cell_type": "code",
      "source": [
        "pd.set_option('max_columns', 50)"
      ],
      "metadata": {
        "id": "NVv4sTdRhMZs"
      },
      "execution_count": 649,
      "outputs": []
    },
    {
      "cell_type": "code",
      "source": [
        "train"
      ],
      "metadata": {
        "colab": {
          "base_uri": "https://localhost:8080/",
          "height": 661
        },
        "id": "6LQWx9KQhSUN",
        "outputId": "40ff9053-c383-4cfe-b3ec-d92a710d88b5"
      },
      "execution_count": 650,
      "outputs": [
        {
          "output_type": "execute_result",
          "data": {
            "text/plain": [
              "      customerID  gender  SeniorCitizen Partner Dependents  tenure  \\\n",
              "0     7590-VHVEG  Female              0     Yes         No       1   \n",
              "1     5575-GNVDE    Male              0      No         No      34   \n",
              "2     3668-QPYBK    Male              0      No         No       2   \n",
              "3     7795-CFOCW    Male              0      No         No      45   \n",
              "4     9237-HQITU  Female              0      No         No       2   \n",
              "...          ...     ...            ...     ...        ...     ...   \n",
              "7038  6840-RESVB    Male              0     Yes        Yes      24   \n",
              "7039  2234-XADUH  Female              0     Yes        Yes      72   \n",
              "7040  4801-JZAZL  Female              0     Yes        Yes      11   \n",
              "7041  8361-LTMKD    Male              1     Yes         No       4   \n",
              "7042  3186-AJIEK    Male              0      No         No      66   \n",
              "\n",
              "     PhoneService     MultipleLines InternetService OnlineSecurity  \\\n",
              "0              No  No phone service             DSL             No   \n",
              "1             Yes                No             DSL            Yes   \n",
              "2             Yes                No             DSL            Yes   \n",
              "3              No  No phone service             DSL            Yes   \n",
              "4             Yes                No     Fiber optic             No   \n",
              "...           ...               ...             ...            ...   \n",
              "7038          Yes               Yes             DSL            Yes   \n",
              "7039          Yes               Yes     Fiber optic             No   \n",
              "7040           No  No phone service             DSL            Yes   \n",
              "7041          Yes               Yes     Fiber optic             No   \n",
              "7042          Yes                No     Fiber optic            Yes   \n",
              "\n",
              "     OnlineBackup DeviceProtection TechSupport StreamingTV StreamingMovies  \\\n",
              "0             Yes               No          No          No              No   \n",
              "1              No              Yes          No          No              No   \n",
              "2             Yes               No          No          No              No   \n",
              "3              No              Yes         Yes          No              No   \n",
              "4              No               No          No          No              No   \n",
              "...           ...              ...         ...         ...             ...   \n",
              "7038           No              Yes         Yes         Yes             Yes   \n",
              "7039          Yes              Yes          No         Yes             Yes   \n",
              "7040           No               No          No          No              No   \n",
              "7041           No               No          No          No              No   \n",
              "7042           No              Yes         Yes         Yes             Yes   \n",
              "\n",
              "            Contract PaperlessBilling              PaymentMethod  \\\n",
              "0     Month-to-month              Yes           Electronic check   \n",
              "1           One year               No               Mailed check   \n",
              "2     Month-to-month              Yes               Mailed check   \n",
              "3           One year               No  Bank transfer (automatic)   \n",
              "4     Month-to-month              Yes           Electronic check   \n",
              "...              ...              ...                        ...   \n",
              "7038        One year              Yes               Mailed check   \n",
              "7039        One year              Yes    Credit card (automatic)   \n",
              "7040  Month-to-month              Yes           Electronic check   \n",
              "7041  Month-to-month              Yes               Mailed check   \n",
              "7042        Two year              Yes  Bank transfer (automatic)   \n",
              "\n",
              "      MonthlyCharges TotalCharges Churn  \n",
              "0              29.85        29.85    No  \n",
              "1              56.95       1889.5    No  \n",
              "2              53.85       108.15   Yes  \n",
              "3              42.30      1840.75    No  \n",
              "4              70.70       151.65   Yes  \n",
              "...              ...          ...   ...  \n",
              "7038           84.80       1990.5    No  \n",
              "7039          103.20       7362.9    No  \n",
              "7040           29.60       346.45    No  \n",
              "7041           74.40        306.6   Yes  \n",
              "7042          105.65       6844.5    No  \n",
              "\n",
              "[7043 rows x 21 columns]"
            ],
            "text/html": [
              "\n",
              "  <div id=\"df-5212235c-2e5d-4176-8724-b637a2dde22a\">\n",
              "    <div class=\"colab-df-container\">\n",
              "      <div>\n",
              "<style scoped>\n",
              "    .dataframe tbody tr th:only-of-type {\n",
              "        vertical-align: middle;\n",
              "    }\n",
              "\n",
              "    .dataframe tbody tr th {\n",
              "        vertical-align: top;\n",
              "    }\n",
              "\n",
              "    .dataframe thead th {\n",
              "        text-align: right;\n",
              "    }\n",
              "</style>\n",
              "<table border=\"1\" class=\"dataframe\">\n",
              "  <thead>\n",
              "    <tr style=\"text-align: right;\">\n",
              "      <th></th>\n",
              "      <th>customerID</th>\n",
              "      <th>gender</th>\n",
              "      <th>SeniorCitizen</th>\n",
              "      <th>Partner</th>\n",
              "      <th>Dependents</th>\n",
              "      <th>tenure</th>\n",
              "      <th>PhoneService</th>\n",
              "      <th>MultipleLines</th>\n",
              "      <th>InternetService</th>\n",
              "      <th>OnlineSecurity</th>\n",
              "      <th>OnlineBackup</th>\n",
              "      <th>DeviceProtection</th>\n",
              "      <th>TechSupport</th>\n",
              "      <th>StreamingTV</th>\n",
              "      <th>StreamingMovies</th>\n",
              "      <th>Contract</th>\n",
              "      <th>PaperlessBilling</th>\n",
              "      <th>PaymentMethod</th>\n",
              "      <th>MonthlyCharges</th>\n",
              "      <th>TotalCharges</th>\n",
              "      <th>Churn</th>\n",
              "    </tr>\n",
              "  </thead>\n",
              "  <tbody>\n",
              "    <tr>\n",
              "      <th>0</th>\n",
              "      <td>7590-VHVEG</td>\n",
              "      <td>Female</td>\n",
              "      <td>0</td>\n",
              "      <td>Yes</td>\n",
              "      <td>No</td>\n",
              "      <td>1</td>\n",
              "      <td>No</td>\n",
              "      <td>No phone service</td>\n",
              "      <td>DSL</td>\n",
              "      <td>No</td>\n",
              "      <td>Yes</td>\n",
              "      <td>No</td>\n",
              "      <td>No</td>\n",
              "      <td>No</td>\n",
              "      <td>No</td>\n",
              "      <td>Month-to-month</td>\n",
              "      <td>Yes</td>\n",
              "      <td>Electronic check</td>\n",
              "      <td>29.85</td>\n",
              "      <td>29.85</td>\n",
              "      <td>No</td>\n",
              "    </tr>\n",
              "    <tr>\n",
              "      <th>1</th>\n",
              "      <td>5575-GNVDE</td>\n",
              "      <td>Male</td>\n",
              "      <td>0</td>\n",
              "      <td>No</td>\n",
              "      <td>No</td>\n",
              "      <td>34</td>\n",
              "      <td>Yes</td>\n",
              "      <td>No</td>\n",
              "      <td>DSL</td>\n",
              "      <td>Yes</td>\n",
              "      <td>No</td>\n",
              "      <td>Yes</td>\n",
              "      <td>No</td>\n",
              "      <td>No</td>\n",
              "      <td>No</td>\n",
              "      <td>One year</td>\n",
              "      <td>No</td>\n",
              "      <td>Mailed check</td>\n",
              "      <td>56.95</td>\n",
              "      <td>1889.5</td>\n",
              "      <td>No</td>\n",
              "    </tr>\n",
              "    <tr>\n",
              "      <th>2</th>\n",
              "      <td>3668-QPYBK</td>\n",
              "      <td>Male</td>\n",
              "      <td>0</td>\n",
              "      <td>No</td>\n",
              "      <td>No</td>\n",
              "      <td>2</td>\n",
              "      <td>Yes</td>\n",
              "      <td>No</td>\n",
              "      <td>DSL</td>\n",
              "      <td>Yes</td>\n",
              "      <td>Yes</td>\n",
              "      <td>No</td>\n",
              "      <td>No</td>\n",
              "      <td>No</td>\n",
              "      <td>No</td>\n",
              "      <td>Month-to-month</td>\n",
              "      <td>Yes</td>\n",
              "      <td>Mailed check</td>\n",
              "      <td>53.85</td>\n",
              "      <td>108.15</td>\n",
              "      <td>Yes</td>\n",
              "    </tr>\n",
              "    <tr>\n",
              "      <th>3</th>\n",
              "      <td>7795-CFOCW</td>\n",
              "      <td>Male</td>\n",
              "      <td>0</td>\n",
              "      <td>No</td>\n",
              "      <td>No</td>\n",
              "      <td>45</td>\n",
              "      <td>No</td>\n",
              "      <td>No phone service</td>\n",
              "      <td>DSL</td>\n",
              "      <td>Yes</td>\n",
              "      <td>No</td>\n",
              "      <td>Yes</td>\n",
              "      <td>Yes</td>\n",
              "      <td>No</td>\n",
              "      <td>No</td>\n",
              "      <td>One year</td>\n",
              "      <td>No</td>\n",
              "      <td>Bank transfer (automatic)</td>\n",
              "      <td>42.30</td>\n",
              "      <td>1840.75</td>\n",
              "      <td>No</td>\n",
              "    </tr>\n",
              "    <tr>\n",
              "      <th>4</th>\n",
              "      <td>9237-HQITU</td>\n",
              "      <td>Female</td>\n",
              "      <td>0</td>\n",
              "      <td>No</td>\n",
              "      <td>No</td>\n",
              "      <td>2</td>\n",
              "      <td>Yes</td>\n",
              "      <td>No</td>\n",
              "      <td>Fiber optic</td>\n",
              "      <td>No</td>\n",
              "      <td>No</td>\n",
              "      <td>No</td>\n",
              "      <td>No</td>\n",
              "      <td>No</td>\n",
              "      <td>No</td>\n",
              "      <td>Month-to-month</td>\n",
              "      <td>Yes</td>\n",
              "      <td>Electronic check</td>\n",
              "      <td>70.70</td>\n",
              "      <td>151.65</td>\n",
              "      <td>Yes</td>\n",
              "    </tr>\n",
              "    <tr>\n",
              "      <th>...</th>\n",
              "      <td>...</td>\n",
              "      <td>...</td>\n",
              "      <td>...</td>\n",
              "      <td>...</td>\n",
              "      <td>...</td>\n",
              "      <td>...</td>\n",
              "      <td>...</td>\n",
              "      <td>...</td>\n",
              "      <td>...</td>\n",
              "      <td>...</td>\n",
              "      <td>...</td>\n",
              "      <td>...</td>\n",
              "      <td>...</td>\n",
              "      <td>...</td>\n",
              "      <td>...</td>\n",
              "      <td>...</td>\n",
              "      <td>...</td>\n",
              "      <td>...</td>\n",
              "      <td>...</td>\n",
              "      <td>...</td>\n",
              "      <td>...</td>\n",
              "    </tr>\n",
              "    <tr>\n",
              "      <th>7038</th>\n",
              "      <td>6840-RESVB</td>\n",
              "      <td>Male</td>\n",
              "      <td>0</td>\n",
              "      <td>Yes</td>\n",
              "      <td>Yes</td>\n",
              "      <td>24</td>\n",
              "      <td>Yes</td>\n",
              "      <td>Yes</td>\n",
              "      <td>DSL</td>\n",
              "      <td>Yes</td>\n",
              "      <td>No</td>\n",
              "      <td>Yes</td>\n",
              "      <td>Yes</td>\n",
              "      <td>Yes</td>\n",
              "      <td>Yes</td>\n",
              "      <td>One year</td>\n",
              "      <td>Yes</td>\n",
              "      <td>Mailed check</td>\n",
              "      <td>84.80</td>\n",
              "      <td>1990.5</td>\n",
              "      <td>No</td>\n",
              "    </tr>\n",
              "    <tr>\n",
              "      <th>7039</th>\n",
              "      <td>2234-XADUH</td>\n",
              "      <td>Female</td>\n",
              "      <td>0</td>\n",
              "      <td>Yes</td>\n",
              "      <td>Yes</td>\n",
              "      <td>72</td>\n",
              "      <td>Yes</td>\n",
              "      <td>Yes</td>\n",
              "      <td>Fiber optic</td>\n",
              "      <td>No</td>\n",
              "      <td>Yes</td>\n",
              "      <td>Yes</td>\n",
              "      <td>No</td>\n",
              "      <td>Yes</td>\n",
              "      <td>Yes</td>\n",
              "      <td>One year</td>\n",
              "      <td>Yes</td>\n",
              "      <td>Credit card (automatic)</td>\n",
              "      <td>103.20</td>\n",
              "      <td>7362.9</td>\n",
              "      <td>No</td>\n",
              "    </tr>\n",
              "    <tr>\n",
              "      <th>7040</th>\n",
              "      <td>4801-JZAZL</td>\n",
              "      <td>Female</td>\n",
              "      <td>0</td>\n",
              "      <td>Yes</td>\n",
              "      <td>Yes</td>\n",
              "      <td>11</td>\n",
              "      <td>No</td>\n",
              "      <td>No phone service</td>\n",
              "      <td>DSL</td>\n",
              "      <td>Yes</td>\n",
              "      <td>No</td>\n",
              "      <td>No</td>\n",
              "      <td>No</td>\n",
              "      <td>No</td>\n",
              "      <td>No</td>\n",
              "      <td>Month-to-month</td>\n",
              "      <td>Yes</td>\n",
              "      <td>Electronic check</td>\n",
              "      <td>29.60</td>\n",
              "      <td>346.45</td>\n",
              "      <td>No</td>\n",
              "    </tr>\n",
              "    <tr>\n",
              "      <th>7041</th>\n",
              "      <td>8361-LTMKD</td>\n",
              "      <td>Male</td>\n",
              "      <td>1</td>\n",
              "      <td>Yes</td>\n",
              "      <td>No</td>\n",
              "      <td>4</td>\n",
              "      <td>Yes</td>\n",
              "      <td>Yes</td>\n",
              "      <td>Fiber optic</td>\n",
              "      <td>No</td>\n",
              "      <td>No</td>\n",
              "      <td>No</td>\n",
              "      <td>No</td>\n",
              "      <td>No</td>\n",
              "      <td>No</td>\n",
              "      <td>Month-to-month</td>\n",
              "      <td>Yes</td>\n",
              "      <td>Mailed check</td>\n",
              "      <td>74.40</td>\n",
              "      <td>306.6</td>\n",
              "      <td>Yes</td>\n",
              "    </tr>\n",
              "    <tr>\n",
              "      <th>7042</th>\n",
              "      <td>3186-AJIEK</td>\n",
              "      <td>Male</td>\n",
              "      <td>0</td>\n",
              "      <td>No</td>\n",
              "      <td>No</td>\n",
              "      <td>66</td>\n",
              "      <td>Yes</td>\n",
              "      <td>No</td>\n",
              "      <td>Fiber optic</td>\n",
              "      <td>Yes</td>\n",
              "      <td>No</td>\n",
              "      <td>Yes</td>\n",
              "      <td>Yes</td>\n",
              "      <td>Yes</td>\n",
              "      <td>Yes</td>\n",
              "      <td>Two year</td>\n",
              "      <td>Yes</td>\n",
              "      <td>Bank transfer (automatic)</td>\n",
              "      <td>105.65</td>\n",
              "      <td>6844.5</td>\n",
              "      <td>No</td>\n",
              "    </tr>\n",
              "  </tbody>\n",
              "</table>\n",
              "<p>7043 rows × 21 columns</p>\n",
              "</div>\n",
              "      <button class=\"colab-df-convert\" onclick=\"convertToInteractive('df-5212235c-2e5d-4176-8724-b637a2dde22a')\"\n",
              "              title=\"Convert this dataframe to an interactive table.\"\n",
              "              style=\"display:none;\">\n",
              "        \n",
              "  <svg xmlns=\"http://www.w3.org/2000/svg\" height=\"24px\"viewBox=\"0 0 24 24\"\n",
              "       width=\"24px\">\n",
              "    <path d=\"M0 0h24v24H0V0z\" fill=\"none\"/>\n",
              "    <path d=\"M18.56 5.44l.94 2.06.94-2.06 2.06-.94-2.06-.94-.94-2.06-.94 2.06-2.06.94zm-11 1L8.5 8.5l.94-2.06 2.06-.94-2.06-.94L8.5 2.5l-.94 2.06-2.06.94zm10 10l.94 2.06.94-2.06 2.06-.94-2.06-.94-.94-2.06-.94 2.06-2.06.94z\"/><path d=\"M17.41 7.96l-1.37-1.37c-.4-.4-.92-.59-1.43-.59-.52 0-1.04.2-1.43.59L10.3 9.45l-7.72 7.72c-.78.78-.78 2.05 0 2.83L4 21.41c.39.39.9.59 1.41.59.51 0 1.02-.2 1.41-.59l7.78-7.78 2.81-2.81c.8-.78.8-2.07 0-2.86zM5.41 20L4 18.59l7.72-7.72 1.47 1.35L5.41 20z\"/>\n",
              "  </svg>\n",
              "      </button>\n",
              "      \n",
              "  <style>\n",
              "    .colab-df-container {\n",
              "      display:flex;\n",
              "      flex-wrap:wrap;\n",
              "      gap: 12px;\n",
              "    }\n",
              "\n",
              "    .colab-df-convert {\n",
              "      background-color: #E8F0FE;\n",
              "      border: none;\n",
              "      border-radius: 50%;\n",
              "      cursor: pointer;\n",
              "      display: none;\n",
              "      fill: #1967D2;\n",
              "      height: 32px;\n",
              "      padding: 0 0 0 0;\n",
              "      width: 32px;\n",
              "    }\n",
              "\n",
              "    .colab-df-convert:hover {\n",
              "      background-color: #E2EBFA;\n",
              "      box-shadow: 0px 1px 2px rgba(60, 64, 67, 0.3), 0px 1px 3px 1px rgba(60, 64, 67, 0.15);\n",
              "      fill: #174EA6;\n",
              "    }\n",
              "\n",
              "    [theme=dark] .colab-df-convert {\n",
              "      background-color: #3B4455;\n",
              "      fill: #D2E3FC;\n",
              "    }\n",
              "\n",
              "    [theme=dark] .colab-df-convert:hover {\n",
              "      background-color: #434B5C;\n",
              "      box-shadow: 0px 1px 3px 1px rgba(0, 0, 0, 0.15);\n",
              "      filter: drop-shadow(0px 1px 2px rgba(0, 0, 0, 0.3));\n",
              "      fill: #FFFFFF;\n",
              "    }\n",
              "  </style>\n",
              "\n",
              "      <script>\n",
              "        const buttonEl =\n",
              "          document.querySelector('#df-5212235c-2e5d-4176-8724-b637a2dde22a button.colab-df-convert');\n",
              "        buttonEl.style.display =\n",
              "          google.colab.kernel.accessAllowed ? 'block' : 'none';\n",
              "\n",
              "        async function convertToInteractive(key) {\n",
              "          const element = document.querySelector('#df-5212235c-2e5d-4176-8724-b637a2dde22a');\n",
              "          const dataTable =\n",
              "            await google.colab.kernel.invokeFunction('convertToInteractive',\n",
              "                                                     [key], {});\n",
              "          if (!dataTable) return;\n",
              "\n",
              "          const docLinkHtml = 'Like what you see? Visit the ' +\n",
              "            '<a target=\"_blank\" href=https://colab.research.google.com/notebooks/data_table.ipynb>data table notebook</a>'\n",
              "            + ' to learn more about interactive tables.';\n",
              "          element.innerHTML = '';\n",
              "          dataTable['output_type'] = 'display_data';\n",
              "          await google.colab.output.renderOutput(dataTable, element);\n",
              "          const docLink = document.createElement('div');\n",
              "          docLink.innerHTML = docLinkHtml;\n",
              "          element.appendChild(docLink);\n",
              "        }\n",
              "      </script>\n",
              "    </div>\n",
              "  </div>\n",
              "  "
            ]
          },
          "metadata": {},
          "execution_count": 650
        }
      ]
    },
    {
      "cell_type": "code",
      "source": [
        "train.info()"
      ],
      "metadata": {
        "colab": {
          "base_uri": "https://localhost:8080/"
        },
        "id": "dWbIDS4DhTR1",
        "outputId": "ca6e6c0f-de1a-4ff3-afd2-0a62fea7e855"
      },
      "execution_count": 651,
      "outputs": [
        {
          "output_type": "stream",
          "name": "stdout",
          "text": [
            "<class 'pandas.core.frame.DataFrame'>\n",
            "RangeIndex: 7043 entries, 0 to 7042\n",
            "Data columns (total 21 columns):\n",
            " #   Column            Non-Null Count  Dtype  \n",
            "---  ------            --------------  -----  \n",
            " 0   customerID        7043 non-null   object \n",
            " 1   gender            7043 non-null   object \n",
            " 2   SeniorCitizen     7043 non-null   int64  \n",
            " 3   Partner           7043 non-null   object \n",
            " 4   Dependents        7043 non-null   object \n",
            " 5   tenure            7043 non-null   int64  \n",
            " 6   PhoneService      7043 non-null   object \n",
            " 7   MultipleLines     7043 non-null   object \n",
            " 8   InternetService   7043 non-null   object \n",
            " 9   OnlineSecurity    7043 non-null   object \n",
            " 10  OnlineBackup      7043 non-null   object \n",
            " 11  DeviceProtection  7043 non-null   object \n",
            " 12  TechSupport       7043 non-null   object \n",
            " 13  StreamingTV       7043 non-null   object \n",
            " 14  StreamingMovies   7043 non-null   object \n",
            " 15  Contract          7043 non-null   object \n",
            " 16  PaperlessBilling  7043 non-null   object \n",
            " 17  PaymentMethod     7043 non-null   object \n",
            " 18  MonthlyCharges    7043 non-null   float64\n",
            " 19  TotalCharges      7043 non-null   object \n",
            " 20  Churn             7043 non-null   object \n",
            "dtypes: float64(1), int64(2), object(18)\n",
            "memory usage: 1.1+ MB\n"
          ]
        }
      ]
    },
    {
      "cell_type": "code",
      "source": [
        "[c for c in train.columns if train[c].dtype in ['int64']]"
      ],
      "metadata": {
        "colab": {
          "base_uri": "https://localhost:8080/"
        },
        "id": "tbniMoQRin28",
        "outputId": "d2bfaca8-9dd0-42f6-c32b-a8a905654586"
      },
      "execution_count": 652,
      "outputs": [
        {
          "output_type": "execute_result",
          "data": {
            "text/plain": [
              "['SeniorCitizen', 'tenure']"
            ]
          },
          "metadata": {},
          "execution_count": 652
        }
      ]
    },
    {
      "cell_type": "code",
      "source": [
        "#2 colunas de valores inteiros"
      ],
      "metadata": {
        "id": "R_MzoPcejYVw"
      },
      "execution_count": 653,
      "outputs": []
    },
    {
      "cell_type": "code",
      "source": [
        "[c for c in train.columns if train[c].dtype in ['float64']]"
      ],
      "metadata": {
        "colab": {
          "base_uri": "https://localhost:8080/"
        },
        "id": "tylkTkIZjbHi",
        "outputId": "8486ef44-d58c-46e1-8372-aadf9dec36d0"
      },
      "execution_count": 654,
      "outputs": [
        {
          "output_type": "execute_result",
          "data": {
            "text/plain": [
              "['MonthlyCharges']"
            ]
          },
          "metadata": {},
          "execution_count": 654
        }
      ]
    },
    {
      "cell_type": "code",
      "source": [
        "#uma coluna de valor float"
      ],
      "metadata": {
        "id": "Dkm8aIjyjtKp"
      },
      "execution_count": 655,
      "outputs": []
    },
    {
      "cell_type": "code",
      "source": [
        "[c for c in train.columns if train[c].dtype in ['object']]"
      ],
      "metadata": {
        "colab": {
          "base_uri": "https://localhost:8080/"
        },
        "id": "oPF9UmqOjw8x",
        "outputId": "03389625-eb1f-434a-886a-bed77d927ad6"
      },
      "execution_count": 656,
      "outputs": [
        {
          "output_type": "execute_result",
          "data": {
            "text/plain": [
              "['customerID',\n",
              " 'gender',\n",
              " 'Partner',\n",
              " 'Dependents',\n",
              " 'PhoneService',\n",
              " 'MultipleLines',\n",
              " 'InternetService',\n",
              " 'OnlineSecurity',\n",
              " 'OnlineBackup',\n",
              " 'DeviceProtection',\n",
              " 'TechSupport',\n",
              " 'StreamingTV',\n",
              " 'StreamingMovies',\n",
              " 'Contract',\n",
              " 'PaperlessBilling',\n",
              " 'PaymentMethod',\n",
              " 'TotalCharges',\n",
              " 'Churn']"
            ]
          },
          "metadata": {},
          "execution_count": 656
        }
      ]
    },
    {
      "cell_type": "code",
      "source": [
        "#18 colunas object"
      ],
      "metadata": {
        "id": "tYY7HRGNp6bx"
      },
      "execution_count": 657,
      "outputs": []
    },
    {
      "cell_type": "code",
      "source": [
        "train.isnull().sum()"
      ],
      "metadata": {
        "colab": {
          "base_uri": "https://localhost:8080/"
        },
        "id": "JSb1mkn2iWCb",
        "outputId": "4891eb0f-bf7d-42cd-8790-a151203bbd78"
      },
      "execution_count": 658,
      "outputs": [
        {
          "output_type": "execute_result",
          "data": {
            "text/plain": [
              "customerID          0\n",
              "gender              0\n",
              "SeniorCitizen       0\n",
              "Partner             0\n",
              "Dependents          0\n",
              "tenure              0\n",
              "PhoneService        0\n",
              "MultipleLines       0\n",
              "InternetService     0\n",
              "OnlineSecurity      0\n",
              "OnlineBackup        0\n",
              "DeviceProtection    0\n",
              "TechSupport         0\n",
              "StreamingTV         0\n",
              "StreamingMovies     0\n",
              "Contract            0\n",
              "PaperlessBilling    0\n",
              "PaymentMethod       0\n",
              "MonthlyCharges      0\n",
              "TotalCharges        0\n",
              "Churn               0\n",
              "dtype: int64"
            ]
          },
          "metadata": {},
          "execution_count": 658
        }
      ]
    },
    {
      "cell_type": "code",
      "source": [
        "train.duplicated().sum()"
      ],
      "metadata": {
        "colab": {
          "base_uri": "https://localhost:8080/"
        },
        "id": "IBpzEyFCibGK",
        "outputId": "cc749445-4498-4f6f-d973-4635356803b0"
      },
      "execution_count": 659,
      "outputs": [
        {
          "output_type": "execute_result",
          "data": {
            "text/plain": [
              "0"
            ]
          },
          "metadata": {},
          "execution_count": 659
        }
      ]
    },
    {
      "cell_type": "code",
      "source": [
        "#sem valores nulos e duplicados"
      ],
      "metadata": {
        "id": "igJHbm-tieQn"
      },
      "execution_count": 660,
      "outputs": []
    },
    {
      "cell_type": "code",
      "source": [
        "train.describe()"
      ],
      "metadata": {
        "colab": {
          "base_uri": "https://localhost:8080/",
          "height": 300
        },
        "id": "Otd6SXTUigqm",
        "outputId": "c80559f1-ee7a-47d8-edc5-a90054cb041e"
      },
      "execution_count": 661,
      "outputs": [
        {
          "output_type": "execute_result",
          "data": {
            "text/plain": [
              "       SeniorCitizen       tenure  MonthlyCharges\n",
              "count    7043.000000  7043.000000     7043.000000\n",
              "mean        0.162147    32.371149       64.761692\n",
              "std         0.368612    24.559481       30.090047\n",
              "min         0.000000     0.000000       18.250000\n",
              "25%         0.000000     9.000000       35.500000\n",
              "50%         0.000000    29.000000       70.350000\n",
              "75%         0.000000    55.000000       89.850000\n",
              "max         1.000000    72.000000      118.750000"
            ],
            "text/html": [
              "\n",
              "  <div id=\"df-a6091740-47d9-4a63-b97c-c0ccb2fa90da\">\n",
              "    <div class=\"colab-df-container\">\n",
              "      <div>\n",
              "<style scoped>\n",
              "    .dataframe tbody tr th:only-of-type {\n",
              "        vertical-align: middle;\n",
              "    }\n",
              "\n",
              "    .dataframe tbody tr th {\n",
              "        vertical-align: top;\n",
              "    }\n",
              "\n",
              "    .dataframe thead th {\n",
              "        text-align: right;\n",
              "    }\n",
              "</style>\n",
              "<table border=\"1\" class=\"dataframe\">\n",
              "  <thead>\n",
              "    <tr style=\"text-align: right;\">\n",
              "      <th></th>\n",
              "      <th>SeniorCitizen</th>\n",
              "      <th>tenure</th>\n",
              "      <th>MonthlyCharges</th>\n",
              "    </tr>\n",
              "  </thead>\n",
              "  <tbody>\n",
              "    <tr>\n",
              "      <th>count</th>\n",
              "      <td>7043.000000</td>\n",
              "      <td>7043.000000</td>\n",
              "      <td>7043.000000</td>\n",
              "    </tr>\n",
              "    <tr>\n",
              "      <th>mean</th>\n",
              "      <td>0.162147</td>\n",
              "      <td>32.371149</td>\n",
              "      <td>64.761692</td>\n",
              "    </tr>\n",
              "    <tr>\n",
              "      <th>std</th>\n",
              "      <td>0.368612</td>\n",
              "      <td>24.559481</td>\n",
              "      <td>30.090047</td>\n",
              "    </tr>\n",
              "    <tr>\n",
              "      <th>min</th>\n",
              "      <td>0.000000</td>\n",
              "      <td>0.000000</td>\n",
              "      <td>18.250000</td>\n",
              "    </tr>\n",
              "    <tr>\n",
              "      <th>25%</th>\n",
              "      <td>0.000000</td>\n",
              "      <td>9.000000</td>\n",
              "      <td>35.500000</td>\n",
              "    </tr>\n",
              "    <tr>\n",
              "      <th>50%</th>\n",
              "      <td>0.000000</td>\n",
              "      <td>29.000000</td>\n",
              "      <td>70.350000</td>\n",
              "    </tr>\n",
              "    <tr>\n",
              "      <th>75%</th>\n",
              "      <td>0.000000</td>\n",
              "      <td>55.000000</td>\n",
              "      <td>89.850000</td>\n",
              "    </tr>\n",
              "    <tr>\n",
              "      <th>max</th>\n",
              "      <td>1.000000</td>\n",
              "      <td>72.000000</td>\n",
              "      <td>118.750000</td>\n",
              "    </tr>\n",
              "  </tbody>\n",
              "</table>\n",
              "</div>\n",
              "      <button class=\"colab-df-convert\" onclick=\"convertToInteractive('df-a6091740-47d9-4a63-b97c-c0ccb2fa90da')\"\n",
              "              title=\"Convert this dataframe to an interactive table.\"\n",
              "              style=\"display:none;\">\n",
              "        \n",
              "  <svg xmlns=\"http://www.w3.org/2000/svg\" height=\"24px\"viewBox=\"0 0 24 24\"\n",
              "       width=\"24px\">\n",
              "    <path d=\"M0 0h24v24H0V0z\" fill=\"none\"/>\n",
              "    <path d=\"M18.56 5.44l.94 2.06.94-2.06 2.06-.94-2.06-.94-.94-2.06-.94 2.06-2.06.94zm-11 1L8.5 8.5l.94-2.06 2.06-.94-2.06-.94L8.5 2.5l-.94 2.06-2.06.94zm10 10l.94 2.06.94-2.06 2.06-.94-2.06-.94-.94-2.06-.94 2.06-2.06.94z\"/><path d=\"M17.41 7.96l-1.37-1.37c-.4-.4-.92-.59-1.43-.59-.52 0-1.04.2-1.43.59L10.3 9.45l-7.72 7.72c-.78.78-.78 2.05 0 2.83L4 21.41c.39.39.9.59 1.41.59.51 0 1.02-.2 1.41-.59l7.78-7.78 2.81-2.81c.8-.78.8-2.07 0-2.86zM5.41 20L4 18.59l7.72-7.72 1.47 1.35L5.41 20z\"/>\n",
              "  </svg>\n",
              "      </button>\n",
              "      \n",
              "  <style>\n",
              "    .colab-df-container {\n",
              "      display:flex;\n",
              "      flex-wrap:wrap;\n",
              "      gap: 12px;\n",
              "    }\n",
              "\n",
              "    .colab-df-convert {\n",
              "      background-color: #E8F0FE;\n",
              "      border: none;\n",
              "      border-radius: 50%;\n",
              "      cursor: pointer;\n",
              "      display: none;\n",
              "      fill: #1967D2;\n",
              "      height: 32px;\n",
              "      padding: 0 0 0 0;\n",
              "      width: 32px;\n",
              "    }\n",
              "\n",
              "    .colab-df-convert:hover {\n",
              "      background-color: #E2EBFA;\n",
              "      box-shadow: 0px 1px 2px rgba(60, 64, 67, 0.3), 0px 1px 3px 1px rgba(60, 64, 67, 0.15);\n",
              "      fill: #174EA6;\n",
              "    }\n",
              "\n",
              "    [theme=dark] .colab-df-convert {\n",
              "      background-color: #3B4455;\n",
              "      fill: #D2E3FC;\n",
              "    }\n",
              "\n",
              "    [theme=dark] .colab-df-convert:hover {\n",
              "      background-color: #434B5C;\n",
              "      box-shadow: 0px 1px 3px 1px rgba(0, 0, 0, 0.15);\n",
              "      filter: drop-shadow(0px 1px 2px rgba(0, 0, 0, 0.3));\n",
              "      fill: #FFFFFF;\n",
              "    }\n",
              "  </style>\n",
              "\n",
              "      <script>\n",
              "        const buttonEl =\n",
              "          document.querySelector('#df-a6091740-47d9-4a63-b97c-c0ccb2fa90da button.colab-df-convert');\n",
              "        buttonEl.style.display =\n",
              "          google.colab.kernel.accessAllowed ? 'block' : 'none';\n",
              "\n",
              "        async function convertToInteractive(key) {\n",
              "          const element = document.querySelector('#df-a6091740-47d9-4a63-b97c-c0ccb2fa90da');\n",
              "          const dataTable =\n",
              "            await google.colab.kernel.invokeFunction('convertToInteractive',\n",
              "                                                     [key], {});\n",
              "          if (!dataTable) return;\n",
              "\n",
              "          const docLinkHtml = 'Like what you see? Visit the ' +\n",
              "            '<a target=\"_blank\" href=https://colab.research.google.com/notebooks/data_table.ipynb>data table notebook</a>'\n",
              "            + ' to learn more about interactive tables.';\n",
              "          element.innerHTML = '';\n",
              "          dataTable['output_type'] = 'display_data';\n",
              "          await google.colab.output.renderOutput(dataTable, element);\n",
              "          const docLink = document.createElement('div');\n",
              "          docLink.innerHTML = docLinkHtml;\n",
              "          element.appendChild(docLink);\n",
              "        }\n",
              "      </script>\n",
              "    </div>\n",
              "  </div>\n",
              "  "
            ]
          },
          "metadata": {},
          "execution_count": 661
        }
      ]
    },
    {
      "cell_type": "code",
      "source": [
        "#talvez seja uma boa ideia renomear as colunas e deixar em portugues, para isso usarei o \"renome\""
      ],
      "metadata": {
        "id": "-GDCLlRiiiek"
      },
      "execution_count": 662,
      "outputs": []
    },
    {
      "cell_type": "code",
      "source": [
        "train.columns"
      ],
      "metadata": {
        "id": "CmcewnaB11Bm",
        "colab": {
          "base_uri": "https://localhost:8080/"
        },
        "outputId": "f9da1711-dc1c-4b54-ee7d-a542051a264a"
      },
      "execution_count": 663,
      "outputs": [
        {
          "output_type": "execute_result",
          "data": {
            "text/plain": [
              "Index(['customerID', 'gender', 'SeniorCitizen', 'Partner', 'Dependents',\n",
              "       'tenure', 'PhoneService', 'MultipleLines', 'InternetService',\n",
              "       'OnlineSecurity', 'OnlineBackup', 'DeviceProtection', 'TechSupport',\n",
              "       'StreamingTV', 'StreamingMovies', 'Contract', 'PaperlessBilling',\n",
              "       'PaymentMethod', 'MonthlyCharges', 'TotalCharges', 'Churn'],\n",
              "      dtype='object')"
            ]
          },
          "metadata": {},
          "execution_count": 663
        }
      ]
    },
    {
      "cell_type": "code",
      "source": [
        "train.rename(columns = {\n",
        "    'customerID': 'Id',\n",
        "    'gender': 'Sexo',\n",
        "    'SeniorCitizen': 'Idoso',\n",
        "    'Partner': 'Parceiro/a', \n",
        "    'Dependents': 'Dependentes',\n",
        "    'tenure': 'Meses sob contrato',\n",
        "    'PhoneService': 'Serviço de telefone',\n",
        "    'MultipleLines': '+de 1 linha phone',\n",
        "    'InternetService': 'Internet',\n",
        "    'OnlineSecurity': 'Segurança online',\n",
        "    'OnlineBackup': 'Serviço Backup',\n",
        "    'DeviceProtection': 'Proteção',\n",
        "    'TechSupport': 'Suporte técnico',\n",
        "    'Contract': 'Tipo de Contrato',\n",
        "    'PaperlessBilling': 'Fatura em papel',\n",
        "    'PaymentMethod': 'Forma de Pgto',\n",
        "    'MonthlyCharges': 'Valor do Plano', \n",
        "    'TotalCharges': 'Total da Fatura',\n",
        "    'Churn': 'Rotatividade'\n",
        "}, inplace = True)"
      ],
      "metadata": {
        "id": "EsoN2vQ3K7Sc"
      },
      "execution_count": 664,
      "outputs": []
    },
    {
      "cell_type": "code",
      "source": [
        "train"
      ],
      "metadata": {
        "colab": {
          "base_uri": "https://localhost:8080/",
          "height": 766
        },
        "id": "JUmop1d1Nf54",
        "outputId": "92533f86-733c-40c2-b0d5-744b96454ead"
      },
      "execution_count": 665,
      "outputs": [
        {
          "output_type": "execute_result",
          "data": {
            "text/plain": [
              "              Id    Sexo  Idoso Parceiro/a Dependentes  Meses sob contrato  \\\n",
              "0     7590-VHVEG  Female      0        Yes          No                   1   \n",
              "1     5575-GNVDE    Male      0         No          No                  34   \n",
              "2     3668-QPYBK    Male      0         No          No                   2   \n",
              "3     7795-CFOCW    Male      0         No          No                  45   \n",
              "4     9237-HQITU  Female      0         No          No                   2   \n",
              "...          ...     ...    ...        ...         ...                 ...   \n",
              "7038  6840-RESVB    Male      0        Yes         Yes                  24   \n",
              "7039  2234-XADUH  Female      0        Yes         Yes                  72   \n",
              "7040  4801-JZAZL  Female      0        Yes         Yes                  11   \n",
              "7041  8361-LTMKD    Male      1        Yes          No                   4   \n",
              "7042  3186-AJIEK    Male      0         No          No                  66   \n",
              "\n",
              "     Serviço de telefone +de 1 linha phone     Internet Segurança online  \\\n",
              "0                     No  No phone service          DSL               No   \n",
              "1                    Yes                No          DSL              Yes   \n",
              "2                    Yes                No          DSL              Yes   \n",
              "3                     No  No phone service          DSL              Yes   \n",
              "4                    Yes                No  Fiber optic               No   \n",
              "...                  ...               ...          ...              ...   \n",
              "7038                 Yes               Yes          DSL              Yes   \n",
              "7039                 Yes               Yes  Fiber optic               No   \n",
              "7040                  No  No phone service          DSL              Yes   \n",
              "7041                 Yes               Yes  Fiber optic               No   \n",
              "7042                 Yes                No  Fiber optic              Yes   \n",
              "\n",
              "     Serviço Backup Proteção Suporte técnico StreamingTV StreamingMovies  \\\n",
              "0               Yes       No              No          No              No   \n",
              "1                No      Yes              No          No              No   \n",
              "2               Yes       No              No          No              No   \n",
              "3                No      Yes             Yes          No              No   \n",
              "4                No       No              No          No              No   \n",
              "...             ...      ...             ...         ...             ...   \n",
              "7038             No      Yes             Yes         Yes             Yes   \n",
              "7039            Yes      Yes              No         Yes             Yes   \n",
              "7040             No       No              No          No              No   \n",
              "7041             No       No              No          No              No   \n",
              "7042             No      Yes             Yes         Yes             Yes   \n",
              "\n",
              "     Tipo de Contrato Fatura em papel              Forma de Pgto  \\\n",
              "0      Month-to-month             Yes           Electronic check   \n",
              "1            One year              No               Mailed check   \n",
              "2      Month-to-month             Yes               Mailed check   \n",
              "3            One year              No  Bank transfer (automatic)   \n",
              "4      Month-to-month             Yes           Electronic check   \n",
              "...               ...             ...                        ...   \n",
              "7038         One year             Yes               Mailed check   \n",
              "7039         One year             Yes    Credit card (automatic)   \n",
              "7040   Month-to-month             Yes           Electronic check   \n",
              "7041   Month-to-month             Yes               Mailed check   \n",
              "7042         Two year             Yes  Bank transfer (automatic)   \n",
              "\n",
              "      Valor do Plano Total da Fatura Rotatividade  \n",
              "0              29.85           29.85           No  \n",
              "1              56.95          1889.5           No  \n",
              "2              53.85          108.15          Yes  \n",
              "3              42.30         1840.75           No  \n",
              "4              70.70          151.65          Yes  \n",
              "...              ...             ...          ...  \n",
              "7038           84.80          1990.5           No  \n",
              "7039          103.20          7362.9           No  \n",
              "7040           29.60          346.45           No  \n",
              "7041           74.40           306.6          Yes  \n",
              "7042          105.65          6844.5           No  \n",
              "\n",
              "[7043 rows x 21 columns]"
            ],
            "text/html": [
              "\n",
              "  <div id=\"df-0eb30ebc-8694-4e5b-b836-98910938670d\">\n",
              "    <div class=\"colab-df-container\">\n",
              "      <div>\n",
              "<style scoped>\n",
              "    .dataframe tbody tr th:only-of-type {\n",
              "        vertical-align: middle;\n",
              "    }\n",
              "\n",
              "    .dataframe tbody tr th {\n",
              "        vertical-align: top;\n",
              "    }\n",
              "\n",
              "    .dataframe thead th {\n",
              "        text-align: right;\n",
              "    }\n",
              "</style>\n",
              "<table border=\"1\" class=\"dataframe\">\n",
              "  <thead>\n",
              "    <tr style=\"text-align: right;\">\n",
              "      <th></th>\n",
              "      <th>Id</th>\n",
              "      <th>Sexo</th>\n",
              "      <th>Idoso</th>\n",
              "      <th>Parceiro/a</th>\n",
              "      <th>Dependentes</th>\n",
              "      <th>Meses sob contrato</th>\n",
              "      <th>Serviço de telefone</th>\n",
              "      <th>+de 1 linha phone</th>\n",
              "      <th>Internet</th>\n",
              "      <th>Segurança online</th>\n",
              "      <th>Serviço Backup</th>\n",
              "      <th>Proteção</th>\n",
              "      <th>Suporte técnico</th>\n",
              "      <th>StreamingTV</th>\n",
              "      <th>StreamingMovies</th>\n",
              "      <th>Tipo de Contrato</th>\n",
              "      <th>Fatura em papel</th>\n",
              "      <th>Forma de Pgto</th>\n",
              "      <th>Valor do Plano</th>\n",
              "      <th>Total da Fatura</th>\n",
              "      <th>Rotatividade</th>\n",
              "    </tr>\n",
              "  </thead>\n",
              "  <tbody>\n",
              "    <tr>\n",
              "      <th>0</th>\n",
              "      <td>7590-VHVEG</td>\n",
              "      <td>Female</td>\n",
              "      <td>0</td>\n",
              "      <td>Yes</td>\n",
              "      <td>No</td>\n",
              "      <td>1</td>\n",
              "      <td>No</td>\n",
              "      <td>No phone service</td>\n",
              "      <td>DSL</td>\n",
              "      <td>No</td>\n",
              "      <td>Yes</td>\n",
              "      <td>No</td>\n",
              "      <td>No</td>\n",
              "      <td>No</td>\n",
              "      <td>No</td>\n",
              "      <td>Month-to-month</td>\n",
              "      <td>Yes</td>\n",
              "      <td>Electronic check</td>\n",
              "      <td>29.85</td>\n",
              "      <td>29.85</td>\n",
              "      <td>No</td>\n",
              "    </tr>\n",
              "    <tr>\n",
              "      <th>1</th>\n",
              "      <td>5575-GNVDE</td>\n",
              "      <td>Male</td>\n",
              "      <td>0</td>\n",
              "      <td>No</td>\n",
              "      <td>No</td>\n",
              "      <td>34</td>\n",
              "      <td>Yes</td>\n",
              "      <td>No</td>\n",
              "      <td>DSL</td>\n",
              "      <td>Yes</td>\n",
              "      <td>No</td>\n",
              "      <td>Yes</td>\n",
              "      <td>No</td>\n",
              "      <td>No</td>\n",
              "      <td>No</td>\n",
              "      <td>One year</td>\n",
              "      <td>No</td>\n",
              "      <td>Mailed check</td>\n",
              "      <td>56.95</td>\n",
              "      <td>1889.5</td>\n",
              "      <td>No</td>\n",
              "    </tr>\n",
              "    <tr>\n",
              "      <th>2</th>\n",
              "      <td>3668-QPYBK</td>\n",
              "      <td>Male</td>\n",
              "      <td>0</td>\n",
              "      <td>No</td>\n",
              "      <td>No</td>\n",
              "      <td>2</td>\n",
              "      <td>Yes</td>\n",
              "      <td>No</td>\n",
              "      <td>DSL</td>\n",
              "      <td>Yes</td>\n",
              "      <td>Yes</td>\n",
              "      <td>No</td>\n",
              "      <td>No</td>\n",
              "      <td>No</td>\n",
              "      <td>No</td>\n",
              "      <td>Month-to-month</td>\n",
              "      <td>Yes</td>\n",
              "      <td>Mailed check</td>\n",
              "      <td>53.85</td>\n",
              "      <td>108.15</td>\n",
              "      <td>Yes</td>\n",
              "    </tr>\n",
              "    <tr>\n",
              "      <th>3</th>\n",
              "      <td>7795-CFOCW</td>\n",
              "      <td>Male</td>\n",
              "      <td>0</td>\n",
              "      <td>No</td>\n",
              "      <td>No</td>\n",
              "      <td>45</td>\n",
              "      <td>No</td>\n",
              "      <td>No phone service</td>\n",
              "      <td>DSL</td>\n",
              "      <td>Yes</td>\n",
              "      <td>No</td>\n",
              "      <td>Yes</td>\n",
              "      <td>Yes</td>\n",
              "      <td>No</td>\n",
              "      <td>No</td>\n",
              "      <td>One year</td>\n",
              "      <td>No</td>\n",
              "      <td>Bank transfer (automatic)</td>\n",
              "      <td>42.30</td>\n",
              "      <td>1840.75</td>\n",
              "      <td>No</td>\n",
              "    </tr>\n",
              "    <tr>\n",
              "      <th>4</th>\n",
              "      <td>9237-HQITU</td>\n",
              "      <td>Female</td>\n",
              "      <td>0</td>\n",
              "      <td>No</td>\n",
              "      <td>No</td>\n",
              "      <td>2</td>\n",
              "      <td>Yes</td>\n",
              "      <td>No</td>\n",
              "      <td>Fiber optic</td>\n",
              "      <td>No</td>\n",
              "      <td>No</td>\n",
              "      <td>No</td>\n",
              "      <td>No</td>\n",
              "      <td>No</td>\n",
              "      <td>No</td>\n",
              "      <td>Month-to-month</td>\n",
              "      <td>Yes</td>\n",
              "      <td>Electronic check</td>\n",
              "      <td>70.70</td>\n",
              "      <td>151.65</td>\n",
              "      <td>Yes</td>\n",
              "    </tr>\n",
              "    <tr>\n",
              "      <th>...</th>\n",
              "      <td>...</td>\n",
              "      <td>...</td>\n",
              "      <td>...</td>\n",
              "      <td>...</td>\n",
              "      <td>...</td>\n",
              "      <td>...</td>\n",
              "      <td>...</td>\n",
              "      <td>...</td>\n",
              "      <td>...</td>\n",
              "      <td>...</td>\n",
              "      <td>...</td>\n",
              "      <td>...</td>\n",
              "      <td>...</td>\n",
              "      <td>...</td>\n",
              "      <td>...</td>\n",
              "      <td>...</td>\n",
              "      <td>...</td>\n",
              "      <td>...</td>\n",
              "      <td>...</td>\n",
              "      <td>...</td>\n",
              "      <td>...</td>\n",
              "    </tr>\n",
              "    <tr>\n",
              "      <th>7038</th>\n",
              "      <td>6840-RESVB</td>\n",
              "      <td>Male</td>\n",
              "      <td>0</td>\n",
              "      <td>Yes</td>\n",
              "      <td>Yes</td>\n",
              "      <td>24</td>\n",
              "      <td>Yes</td>\n",
              "      <td>Yes</td>\n",
              "      <td>DSL</td>\n",
              "      <td>Yes</td>\n",
              "      <td>No</td>\n",
              "      <td>Yes</td>\n",
              "      <td>Yes</td>\n",
              "      <td>Yes</td>\n",
              "      <td>Yes</td>\n",
              "      <td>One year</td>\n",
              "      <td>Yes</td>\n",
              "      <td>Mailed check</td>\n",
              "      <td>84.80</td>\n",
              "      <td>1990.5</td>\n",
              "      <td>No</td>\n",
              "    </tr>\n",
              "    <tr>\n",
              "      <th>7039</th>\n",
              "      <td>2234-XADUH</td>\n",
              "      <td>Female</td>\n",
              "      <td>0</td>\n",
              "      <td>Yes</td>\n",
              "      <td>Yes</td>\n",
              "      <td>72</td>\n",
              "      <td>Yes</td>\n",
              "      <td>Yes</td>\n",
              "      <td>Fiber optic</td>\n",
              "      <td>No</td>\n",
              "      <td>Yes</td>\n",
              "      <td>Yes</td>\n",
              "      <td>No</td>\n",
              "      <td>Yes</td>\n",
              "      <td>Yes</td>\n",
              "      <td>One year</td>\n",
              "      <td>Yes</td>\n",
              "      <td>Credit card (automatic)</td>\n",
              "      <td>103.20</td>\n",
              "      <td>7362.9</td>\n",
              "      <td>No</td>\n",
              "    </tr>\n",
              "    <tr>\n",
              "      <th>7040</th>\n",
              "      <td>4801-JZAZL</td>\n",
              "      <td>Female</td>\n",
              "      <td>0</td>\n",
              "      <td>Yes</td>\n",
              "      <td>Yes</td>\n",
              "      <td>11</td>\n",
              "      <td>No</td>\n",
              "      <td>No phone service</td>\n",
              "      <td>DSL</td>\n",
              "      <td>Yes</td>\n",
              "      <td>No</td>\n",
              "      <td>No</td>\n",
              "      <td>No</td>\n",
              "      <td>No</td>\n",
              "      <td>No</td>\n",
              "      <td>Month-to-month</td>\n",
              "      <td>Yes</td>\n",
              "      <td>Electronic check</td>\n",
              "      <td>29.60</td>\n",
              "      <td>346.45</td>\n",
              "      <td>No</td>\n",
              "    </tr>\n",
              "    <tr>\n",
              "      <th>7041</th>\n",
              "      <td>8361-LTMKD</td>\n",
              "      <td>Male</td>\n",
              "      <td>1</td>\n",
              "      <td>Yes</td>\n",
              "      <td>No</td>\n",
              "      <td>4</td>\n",
              "      <td>Yes</td>\n",
              "      <td>Yes</td>\n",
              "      <td>Fiber optic</td>\n",
              "      <td>No</td>\n",
              "      <td>No</td>\n",
              "      <td>No</td>\n",
              "      <td>No</td>\n",
              "      <td>No</td>\n",
              "      <td>No</td>\n",
              "      <td>Month-to-month</td>\n",
              "      <td>Yes</td>\n",
              "      <td>Mailed check</td>\n",
              "      <td>74.40</td>\n",
              "      <td>306.6</td>\n",
              "      <td>Yes</td>\n",
              "    </tr>\n",
              "    <tr>\n",
              "      <th>7042</th>\n",
              "      <td>3186-AJIEK</td>\n",
              "      <td>Male</td>\n",
              "      <td>0</td>\n",
              "      <td>No</td>\n",
              "      <td>No</td>\n",
              "      <td>66</td>\n",
              "      <td>Yes</td>\n",
              "      <td>No</td>\n",
              "      <td>Fiber optic</td>\n",
              "      <td>Yes</td>\n",
              "      <td>No</td>\n",
              "      <td>Yes</td>\n",
              "      <td>Yes</td>\n",
              "      <td>Yes</td>\n",
              "      <td>Yes</td>\n",
              "      <td>Two year</td>\n",
              "      <td>Yes</td>\n",
              "      <td>Bank transfer (automatic)</td>\n",
              "      <td>105.65</td>\n",
              "      <td>6844.5</td>\n",
              "      <td>No</td>\n",
              "    </tr>\n",
              "  </tbody>\n",
              "</table>\n",
              "<p>7043 rows × 21 columns</p>\n",
              "</div>\n",
              "      <button class=\"colab-df-convert\" onclick=\"convertToInteractive('df-0eb30ebc-8694-4e5b-b836-98910938670d')\"\n",
              "              title=\"Convert this dataframe to an interactive table.\"\n",
              "              style=\"display:none;\">\n",
              "        \n",
              "  <svg xmlns=\"http://www.w3.org/2000/svg\" height=\"24px\"viewBox=\"0 0 24 24\"\n",
              "       width=\"24px\">\n",
              "    <path d=\"M0 0h24v24H0V0z\" fill=\"none\"/>\n",
              "    <path d=\"M18.56 5.44l.94 2.06.94-2.06 2.06-.94-2.06-.94-.94-2.06-.94 2.06-2.06.94zm-11 1L8.5 8.5l.94-2.06 2.06-.94-2.06-.94L8.5 2.5l-.94 2.06-2.06.94zm10 10l.94 2.06.94-2.06 2.06-.94-2.06-.94-.94-2.06-.94 2.06-2.06.94z\"/><path d=\"M17.41 7.96l-1.37-1.37c-.4-.4-.92-.59-1.43-.59-.52 0-1.04.2-1.43.59L10.3 9.45l-7.72 7.72c-.78.78-.78 2.05 0 2.83L4 21.41c.39.39.9.59 1.41.59.51 0 1.02-.2 1.41-.59l7.78-7.78 2.81-2.81c.8-.78.8-2.07 0-2.86zM5.41 20L4 18.59l7.72-7.72 1.47 1.35L5.41 20z\"/>\n",
              "  </svg>\n",
              "      </button>\n",
              "      \n",
              "  <style>\n",
              "    .colab-df-container {\n",
              "      display:flex;\n",
              "      flex-wrap:wrap;\n",
              "      gap: 12px;\n",
              "    }\n",
              "\n",
              "    .colab-df-convert {\n",
              "      background-color: #E8F0FE;\n",
              "      border: none;\n",
              "      border-radius: 50%;\n",
              "      cursor: pointer;\n",
              "      display: none;\n",
              "      fill: #1967D2;\n",
              "      height: 32px;\n",
              "      padding: 0 0 0 0;\n",
              "      width: 32px;\n",
              "    }\n",
              "\n",
              "    .colab-df-convert:hover {\n",
              "      background-color: #E2EBFA;\n",
              "      box-shadow: 0px 1px 2px rgba(60, 64, 67, 0.3), 0px 1px 3px 1px rgba(60, 64, 67, 0.15);\n",
              "      fill: #174EA6;\n",
              "    }\n",
              "\n",
              "    [theme=dark] .colab-df-convert {\n",
              "      background-color: #3B4455;\n",
              "      fill: #D2E3FC;\n",
              "    }\n",
              "\n",
              "    [theme=dark] .colab-df-convert:hover {\n",
              "      background-color: #434B5C;\n",
              "      box-shadow: 0px 1px 3px 1px rgba(0, 0, 0, 0.15);\n",
              "      filter: drop-shadow(0px 1px 2px rgba(0, 0, 0, 0.3));\n",
              "      fill: #FFFFFF;\n",
              "    }\n",
              "  </style>\n",
              "\n",
              "      <script>\n",
              "        const buttonEl =\n",
              "          document.querySelector('#df-0eb30ebc-8694-4e5b-b836-98910938670d button.colab-df-convert');\n",
              "        buttonEl.style.display =\n",
              "          google.colab.kernel.accessAllowed ? 'block' : 'none';\n",
              "\n",
              "        async function convertToInteractive(key) {\n",
              "          const element = document.querySelector('#df-0eb30ebc-8694-4e5b-b836-98910938670d');\n",
              "          const dataTable =\n",
              "            await google.colab.kernel.invokeFunction('convertToInteractive',\n",
              "                                                     [key], {});\n",
              "          if (!dataTable) return;\n",
              "\n",
              "          const docLinkHtml = 'Like what you see? Visit the ' +\n",
              "            '<a target=\"_blank\" href=https://colab.research.google.com/notebooks/data_table.ipynb>data table notebook</a>'\n",
              "            + ' to learn more about interactive tables.';\n",
              "          element.innerHTML = '';\n",
              "          dataTable['output_type'] = 'display_data';\n",
              "          await google.colab.output.renderOutput(dataTable, element);\n",
              "          const docLink = document.createElement('div');\n",
              "          docLink.innerHTML = docLinkHtml;\n",
              "          element.appendChild(docLink);\n",
              "        }\n",
              "      </script>\n",
              "    </div>\n",
              "  </div>\n",
              "  "
            ]
          },
          "metadata": {},
          "execution_count": 665
        }
      ]
    },
    {
      "cell_type": "code",
      "source": [],
      "metadata": {
        "id": "wzjAbFq1NhLt"
      },
      "execution_count": 665,
      "outputs": []
    },
    {
      "cell_type": "markdown",
      "source": [
        "# Primeira função: resumo das colunas"
      ],
      "metadata": {
        "id": "gqrbQUWkPUdN"
      }
    },
    {
      "cell_type": "code",
      "source": [
        "def resumo(dataframe, coluna, grafico = True):\n",
        "  print(f'Valores nulo: {dataframe[coluna].isnull().sum()}')\n",
        "  print(f'Quem são os valores únicos: {dataframe[coluna].unique()}')\n",
        "  print(f'Quantos são os valores únicos: {dataframe[coluna].nunique()}')\n",
        "  print(f'Como ficou dividida a quantidade: {dataframe[coluna].value_counts()}')\n",
        "  if grafico == 'True':\n",
        "    sns.countplot(data = dataframe, X = coluna, hue = 'Rotatividade')\n",
        "  else:\n",
        "    sns.displot(data = dataframe, x = coluna, hue = 'Rotatividade')"
      ],
      "metadata": {
        "id": "1Ogz5W0PPbRq"
      },
      "execution_count": 666,
      "outputs": []
    },
    {
      "cell_type": "code",
      "source": [
        "resumo(train, 'Sexo')"
      ],
      "metadata": {
        "colab": {
          "base_uri": "https://localhost:8080/",
          "height": 473
        },
        "id": "akIlSYuURXMN",
        "outputId": "c039de90-70ec-4ec5-e165-86c94671648a"
      },
      "execution_count": 667,
      "outputs": [
        {
          "output_type": "stream",
          "name": "stdout",
          "text": [
            "Valores nulo: 0\n",
            "Quem são os valores únicos: ['Female' 'Male']\n",
            "Quantos são os valores únicos: 2\n",
            "Como ficou dividida a quantidade: Male      3555\n",
            "Female    3488\n",
            "Name: Sexo, dtype: int64\n"
          ]
        },
        {
          "output_type": "display_data",
          "data": {
            "text/plain": [
              "<Figure size 430.875x360 with 1 Axes>"
            ],
            "image/png": "[encoded data removed]"
          },
          "metadata": {
            "needs_background": "light"
          }
        }
      ]
    },
    {
      "cell_type": "code",
      "source": [
        "#como já informado anteriormente, inexistem valores nulos para todas as colunas do dataframe \"train\"\n",
        "#pela imagem, nota-se que em ambos os sexos, a maioria da base de dados da telco, não é de rotatividade da empresa (azul), em cinza, encontra- os que estão em churn\n",
        "#em termos técnicos, nota-se que a diferença de sexo daqueles que são rotativos é mínima\n",
        "#a cor cinza é pq o yes e no estão se sobrepondo."
      ],
      "metadata": {
        "id": "OpOx0nmeRaiI"
      },
      "execution_count": 668,
      "outputs": []
    },
    {
      "cell_type": "code",
      "source": [
        "train.columns"
      ],
      "metadata": {
        "colab": {
          "base_uri": "https://localhost:8080/"
        },
        "id": "Y2I2VG19T0UV",
        "outputId": "79c6f064-ed5d-44ac-ab0d-6c5bcfa1bb21"
      },
      "execution_count": 669,
      "outputs": [
        {
          "output_type": "execute_result",
          "data": {
            "text/plain": [
              "Index(['Id', 'Sexo', 'Idoso', 'Parceiro/a', 'Dependentes',\n",
              "       'Meses sob contrato', 'Serviço de telefone', '+de 1 linha phone',\n",
              "       'Internet', 'Segurança online', 'Serviço Backup', 'Proteção',\n",
              "       'Suporte técnico', 'StreamingTV', 'StreamingMovies', 'Tipo de Contrato',\n",
              "       'Fatura em papel', 'Forma de Pgto', 'Valor do Plano', 'Total da Fatura',\n",
              "       'Rotatividade'],\n",
              "      dtype='object')"
            ]
          },
          "metadata": {},
          "execution_count": 669
        }
      ]
    },
    {
      "cell_type": "code",
      "source": [
        "resumo(train, 'Idoso')"
      ],
      "metadata": {
        "colab": {
          "base_uri": "https://localhost:8080/",
          "height": 473
        },
        "id": "HAYHrXN-UXDe",
        "outputId": "94d3a2b7-a4dc-4d05-ec82-7d8fc690fd96"
      },
      "execution_count": 670,
      "outputs": [
        {
          "output_type": "stream",
          "name": "stdout",
          "text": [
            "Valores nulo: 0\n",
            "Quem são os valores únicos: [0 1]\n",
            "Quantos são os valores únicos: 2\n",
            "Como ficou dividida a quantidade: 0    5901\n",
            "1    1142\n",
            "Name: Idoso, dtype: int64\n"
          ]
        },
        {
          "output_type": "display_data",
          "data": {
            "text/plain": [
              "<Figure size 430.875x360 with 1 Axes>"
            ],
            "image/png": "[encoded data removed]"
          },
          "metadata": {
            "needs_background": "light"
          }
        }
      ]
    },
    {
      "cell_type": "code",
      "source": [
        "#Em idoso, atráves do sistema binário, 0 significa \"Não\" e, 1, \"Sim\"\n",
        "#em posse dessa informação, registra-se que a maioria da base de dados da telco não são idosos, conforme o primeiro gráfico rente ao eixo X.\n",
        "#Além disso, para os \"não idosos\", a maioria esmagadora não é cliente rotativo e para o grupo de idosos, a maioria também não é cliente rotativo da telco, porém,\n",
        "#proporcionalmente, os idosos tendem a ser clientes rotativos, comparados com os não idosos, ou seja, quanto mais jovem menor a tendencia de rotatividade."
      ],
      "metadata": {
        "id": "yB7JwmDOUkjc"
      },
      "execution_count": 671,
      "outputs": []
    },
    {
      "cell_type": "code",
      "source": [
        "train.groupby(train['Idoso'] == 0)['Rotatividade'].value_counts()"
      ],
      "metadata": {
        "colab": {
          "base_uri": "https://localhost:8080/"
        },
        "id": "Ivavwqf0V84_",
        "outputId": "eee00fc0-c2df-41db-ed42-8dbfe13ba780"
      },
      "execution_count": 672,
      "outputs": [
        {
          "output_type": "execute_result",
          "data": {
            "text/plain": [
              "Idoso  Rotatividade\n",
              "False  No               666\n",
              "       Yes              476\n",
              "True   No              4508\n",
              "       Yes             1393\n",
              "Name: Rotatividade, dtype: int64"
            ]
          },
          "metadata": {},
          "execution_count": 672
        }
      ]
    },
    {
      "cell_type": "code",
      "source": [
        "train.groupby(train['Idoso'] == 1)['Rotatividade'].value_counts()"
      ],
      "metadata": {
        "colab": {
          "base_uri": "https://localhost:8080/"
        },
        "id": "By3tCuKdZHU7",
        "outputId": "cc495928-bf92-4233-c575-760143f2621e"
      },
      "execution_count": 673,
      "outputs": [
        {
          "output_type": "execute_result",
          "data": {
            "text/plain": [
              "Idoso  Rotatividade\n",
              "False  No              4508\n",
              "       Yes             1393\n",
              "True   No               666\n",
              "       Yes              476\n",
              "Name: Rotatividade, dtype: int64"
            ]
          },
          "metadata": {},
          "execution_count": 673
        }
      ]
    },
    {
      "cell_type": "code",
      "source": [
        "train[train['Idoso'] == 1]['Rotatividade'].value_counts()"
      ],
      "metadata": {
        "colab": {
          "base_uri": "https://localhost:8080/"
        },
        "id": "bLsl5jevXfrv",
        "outputId": "31cd04c7-0409-41a6-e5d9-714f7f699209"
      },
      "execution_count": 674,
      "outputs": [
        {
          "output_type": "execute_result",
          "data": {
            "text/plain": [
              "No     666\n",
              "Yes    476\n",
              "Name: Rotatividade, dtype: int64"
            ]
          },
          "metadata": {},
          "execution_count": 674
        }
      ]
    },
    {
      "cell_type": "code",
      "source": [
        "476/(666 + 476)\n",
        "#41% dos idosos são rotativos, os demais, 58% não."
      ],
      "metadata": {
        "colab": {
          "base_uri": "https://localhost:8080/"
        },
        "id": "ghol1PGDZtxZ",
        "outputId": "ab81c672-36cd-4aa7-d56c-7cbc721b6f56"
      },
      "execution_count": 675,
      "outputs": [
        {
          "output_type": "execute_result",
          "data": {
            "text/plain": [
              "0.4168126094570928"
            ]
          },
          "metadata": {},
          "execution_count": 675
        }
      ]
    },
    {
      "cell_type": "code",
      "source": [
        "#é melhor usar a segunda forma sem o groupby"
      ],
      "metadata": {
        "id": "WrfPvBK9Zalm"
      },
      "execution_count": 676,
      "outputs": []
    },
    {
      "cell_type": "code",
      "source": [
        "train[train['Idoso'] == 0]['Rotatividade'].value_counts()"
      ],
      "metadata": {
        "colab": {
          "base_uri": "https://localhost:8080/"
        },
        "id": "X3XQPeb7ZeV_",
        "outputId": "fa6c4fea-4ce1-4f1b-fb30-58e8d8bbcd20"
      },
      "execution_count": 677,
      "outputs": [
        {
          "output_type": "execute_result",
          "data": {
            "text/plain": [
              "No     4508\n",
              "Yes    1393\n",
              "Name: Rotatividade, dtype: int64"
            ]
          },
          "metadata": {},
          "execution_count": 677
        }
      ]
    },
    {
      "cell_type": "code",
      "source": [
        "1393/(4508+1393)\n",
        "#já para não idosos, 23% são rotativos, os demais, 77% não são"
      ],
      "metadata": {
        "colab": {
          "base_uri": "https://localhost:8080/"
        },
        "id": "t1paXOzNaHG9",
        "outputId": "815a417a-a4a8-4f5c-8971-b71097345c96"
      },
      "execution_count": 678,
      "outputs": [
        {
          "output_type": "execute_result",
          "data": {
            "text/plain": [
              "0.23606168446026096"
            ]
          },
          "metadata": {},
          "execution_count": 678
        }
      ]
    },
    {
      "cell_type": "code",
      "source": [
        "train.columns"
      ],
      "metadata": {
        "colab": {
          "base_uri": "https://localhost:8080/"
        },
        "id": "R6Ih1moiY1o1",
        "outputId": "3d209015-4bb8-4b37-a96f-7682e8fd9f37"
      },
      "execution_count": 679,
      "outputs": [
        {
          "output_type": "execute_result",
          "data": {
            "text/plain": [
              "Index(['Id', 'Sexo', 'Idoso', 'Parceiro/a', 'Dependentes',\n",
              "       'Meses sob contrato', 'Serviço de telefone', '+de 1 linha phone',\n",
              "       'Internet', 'Segurança online', 'Serviço Backup', 'Proteção',\n",
              "       'Suporte técnico', 'StreamingTV', 'StreamingMovies', 'Tipo de Contrato',\n",
              "       'Fatura em papel', 'Forma de Pgto', 'Valor do Plano', 'Total da Fatura',\n",
              "       'Rotatividade'],\n",
              "      dtype='object')"
            ]
          },
          "metadata": {},
          "execution_count": 679
        }
      ]
    },
    {
      "cell_type": "code",
      "source": [
        "resumo(train, 'Parceiro/a')"
      ],
      "metadata": {
        "colab": {
          "base_uri": "https://localhost:8080/",
          "height": 473
        },
        "id": "7dz1gA7Na88g",
        "outputId": "1607a442-3820-4198-e0e8-f09562a99c77"
      },
      "execution_count": 680,
      "outputs": [
        {
          "output_type": "stream",
          "name": "stdout",
          "text": [
            "Valores nulo: 0\n",
            "Quem são os valores únicos: ['Yes' 'No']\n",
            "Quantos são os valores únicos: 2\n",
            "Como ficou dividida a quantidade: No     3641\n",
            "Yes    3402\n",
            "Name: Parceiro/a, dtype: int64\n"
          ]
        },
        {
          "output_type": "display_data",
          "data": {
            "text/plain": [
              "<Figure size 430.875x360 with 1 Axes>"
            ],
            "image/png": "[encoded data removed]"
          },
          "metadata": {
            "needs_background": "light"
          }
        }
      ]
    },
    {
      "cell_type": "code",
      "source": [
        "#apenas respostas \"yes\" e \"no\"\n",
        "#existem mais \"No\" do que \"yes\", exatos 51,69%\n",
        "#em relação a cliente, a maioria não é rotativo mas para aqueles que responderam não, nota-se que a telco não consegue reter mais do que o \"yes\"\n",
        "#ou seja, quem tem parceiro/a tem menos de ser rotativo no plano da telco"
      ],
      "metadata": {
        "id": "Rsb2Ts7fbB5p"
      },
      "execution_count": 681,
      "outputs": []
    },
    {
      "cell_type": "code",
      "source": [
        "3641/(3641+3402)"
      ],
      "metadata": {
        "colab": {
          "base_uri": "https://localhost:8080/"
        },
        "id": "r6AOa-yVbyDH",
        "outputId": "8debcb56-b8cf-4354-de23-3ce14e551ab9"
      },
      "execution_count": 682,
      "outputs": [
        {
          "output_type": "execute_result",
          "data": {
            "text/plain": [
              "0.5169672014766434"
            ]
          },
          "metadata": {},
          "execution_count": 682
        }
      ]
    },
    {
      "cell_type": "code",
      "source": [
        "train[train['Parceiro/a'] == 'Yes']['Rotatividade'].value_counts()"
      ],
      "metadata": {
        "colab": {
          "base_uri": "https://localhost:8080/"
        },
        "id": "seywrtNJb3t-",
        "outputId": "ee1f5020-7be4-4e33-d0f5-d72f1b46ef3a"
      },
      "execution_count": 683,
      "outputs": [
        {
          "output_type": "execute_result",
          "data": {
            "text/plain": [
              "No     2733\n",
              "Yes     669\n",
              "Name: Rotatividade, dtype: int64"
            ]
          },
          "metadata": {},
          "execution_count": 683
        }
      ]
    },
    {
      "cell_type": "code",
      "source": [
        "train.groupby(train['Parceiro/a'])['Rotatividade'].value_counts()"
      ],
      "metadata": {
        "colab": {
          "base_uri": "https://localhost:8080/"
        },
        "id": "nRV3dfA2c_wD",
        "outputId": "985516b6-bafd-4c6e-88e4-247723254688"
      },
      "execution_count": 684,
      "outputs": [
        {
          "output_type": "execute_result",
          "data": {
            "text/plain": [
              "Parceiro/a  Rotatividade\n",
              "No          No              2441\n",
              "            Yes             1200\n",
              "Yes         No              2733\n",
              "            Yes              669\n",
              "Name: Rotatividade, dtype: int64"
            ]
          },
          "metadata": {},
          "execution_count": 684
        }
      ]
    },
    {
      "cell_type": "code",
      "source": [
        "2441/(2441+1200)\n",
        "#os sem parceiros, tendem a manter o plano da telco, onde sob o total, perfazem 67,04%, os demais, 32,95% "
      ],
      "metadata": {
        "colab": {
          "base_uri": "https://localhost:8080/"
        },
        "id": "UHzkVib1dPJZ",
        "outputId": "0204af53-59f1-45a7-ae75-9a4beb74acc0"
      },
      "execution_count": 685,
      "outputs": [
        {
          "output_type": "execute_result",
          "data": {
            "text/plain": [
              "0.6704202142268607"
            ]
          },
          "metadata": {},
          "execution_count": 685
        }
      ]
    },
    {
      "cell_type": "code",
      "source": [
        "2733/(669+2733)\n",
        "#Já para os que tinham parceiros, esse percentual vai para 80,33% e os rotativos oscilgam para baixo, perfazendo a 19,66%"
      ],
      "metadata": {
        "colab": {
          "base_uri": "https://localhost:8080/"
        },
        "id": "V_eD3w1zfsWh",
        "outputId": "2b7797c7-7998-40cc-dd17-561ddfc7d23e"
      },
      "execution_count": 686,
      "outputs": [
        {
          "output_type": "execute_result",
          "data": {
            "text/plain": [
              "0.8033509700176367"
            ]
          },
          "metadata": {},
          "execution_count": 686
        }
      ]
    },
    {
      "cell_type": "code",
      "source": [
        "train.columns"
      ],
      "metadata": {
        "colab": {
          "base_uri": "https://localhost:8080/"
        },
        "id": "vxToFlhdf9C-",
        "outputId": "926d9935-ed96-490b-9287-68a21cf0ffdf"
      },
      "execution_count": 687,
      "outputs": [
        {
          "output_type": "execute_result",
          "data": {
            "text/plain": [
              "Index(['Id', 'Sexo', 'Idoso', 'Parceiro/a', 'Dependentes',\n",
              "       'Meses sob contrato', 'Serviço de telefone', '+de 1 linha phone',\n",
              "       'Internet', 'Segurança online', 'Serviço Backup', 'Proteção',\n",
              "       'Suporte técnico', 'StreamingTV', 'StreamingMovies', 'Tipo de Contrato',\n",
              "       'Fatura em papel', 'Forma de Pgto', 'Valor do Plano', 'Total da Fatura',\n",
              "       'Rotatividade'],\n",
              "      dtype='object')"
            ]
          },
          "metadata": {},
          "execution_count": 687
        }
      ]
    },
    {
      "cell_type": "code",
      "source": [
        "resumo(train, 'Dependentes')"
      ],
      "metadata": {
        "colab": {
          "base_uri": "https://localhost:8080/",
          "height": 473
        },
        "id": "kOYXESTJgkrg",
        "outputId": "0e5fb502-84f2-453c-e182-d1deaf1ec927"
      },
      "execution_count": 688,
      "outputs": [
        {
          "output_type": "stream",
          "name": "stdout",
          "text": [
            "Valores nulo: 0\n",
            "Quem são os valores únicos: ['No' 'Yes']\n",
            "Quantos são os valores únicos: 2\n",
            "Como ficou dividida a quantidade: No     4933\n",
            "Yes    2110\n",
            "Name: Dependentes, dtype: int64\n"
          ]
        },
        {
          "output_type": "display_data",
          "data": {
            "text/plain": [
              "<Figure size 430.875x360 with 1 Axes>"
            ],
            "image/png": "[encoded data removed]"
          },
          "metadata": {
            "needs_background": "light"
          }
        }
      ]
    },
    {
      "cell_type": "code",
      "source": [
        "#sobre dependentes, existem apenas respostas \"Sim\" e \"Não\"\n",
        "#4933 responderam \"não\" para dependentes e 2110 para \"Sim\"\n",
        "#dos que responderam \"não\", nota-se que a maioria não é cliente rotativo,o mesmo ocorre com os que responderam \"yes\""
      ],
      "metadata": {
        "id": "DKPsenqMhL9x"
      },
      "execution_count": 689,
      "outputs": []
    },
    {
      "cell_type": "code",
      "source": [
        "train.groupby(train['Dependentes'])['Rotatividade'].value_counts()"
      ],
      "metadata": {
        "colab": {
          "base_uri": "https://localhost:8080/"
        },
        "id": "9TT4D4r4nfAO",
        "outputId": "686765e0-267c-4ae0-8a92-b1d16874bb67"
      },
      "execution_count": 690,
      "outputs": [
        {
          "output_type": "execute_result",
          "data": {
            "text/plain": [
              "Dependentes  Rotatividade\n",
              "No           No              3390\n",
              "             Yes             1543\n",
              "Yes          No              1784\n",
              "             Yes              326\n",
              "Name: Rotatividade, dtype: int64"
            ]
          },
          "metadata": {},
          "execution_count": 690
        }
      ]
    },
    {
      "cell_type": "code",
      "source": [
        "#para aqueles que responderam não para dependentes, 31,27% são clientes rotativos, os demais, 68.73, são clientes fixos\n",
        "1543/(3390+1543)\n",
        "#para aqueles que respodenram \"Sim\", apenas 15% ainda estavam como clientes rotativos da empresa telco, em que 85 são fixos\n",
        "326/(326+1784)"
      ],
      "metadata": {
        "colab": {
          "base_uri": "https://localhost:8080/"
        },
        "id": "-hji59cZoGv4",
        "outputId": "ee10fdde-0f35-4b93-ab97-39ba7f3dd1b7"
      },
      "execution_count": 691,
      "outputs": [
        {
          "output_type": "execute_result",
          "data": {
            "text/plain": [
              "0.15450236966824646"
            ]
          },
          "metadata": {},
          "execution_count": 691
        }
      ]
    },
    {
      "cell_type": "code",
      "source": [
        "train.columns"
      ],
      "metadata": {
        "colab": {
          "base_uri": "https://localhost:8080/"
        },
        "id": "vp2zfZCHpAp8",
        "outputId": "633b91a8-adf8-4f9d-d98d-26dfbe167914"
      },
      "execution_count": 692,
      "outputs": [
        {
          "output_type": "execute_result",
          "data": {
            "text/plain": [
              "Index(['Id', 'Sexo', 'Idoso', 'Parceiro/a', 'Dependentes',\n",
              "       'Meses sob contrato', 'Serviço de telefone', '+de 1 linha phone',\n",
              "       'Internet', 'Segurança online', 'Serviço Backup', 'Proteção',\n",
              "       'Suporte técnico', 'StreamingTV', 'StreamingMovies', 'Tipo de Contrato',\n",
              "       'Fatura em papel', 'Forma de Pgto', 'Valor do Plano', 'Total da Fatura',\n",
              "       'Rotatividade'],\n",
              "      dtype='object')"
            ]
          },
          "metadata": {},
          "execution_count": 692
        }
      ]
    },
    {
      "cell_type": "code",
      "source": [
        "resumo(train, 'Meses sob contrato')"
      ],
      "metadata": {
        "colab": {
          "base_uri": "https://localhost:8080/",
          "height": 682
        },
        "id": "ZwYf6iTUpw7P",
        "outputId": "2e976d09-1099-455d-a526-b46c32edbb95"
      },
      "execution_count": 693,
      "outputs": [
        {
          "output_type": "stream",
          "name": "stdout",
          "text": [
            "Valores nulo: 0\n",
            "Quem são os valores únicos: [ 1 34  2 45  8 22 10 28 62 13 16 58 49 25 69 52 71 21 12 30 47 72 17 27\n",
            "  5 46 11 70 63 43 15 60 18 66  9  3 31 50 64 56  7 42 35 48 29 65 38 68\n",
            " 32 55 37 36 41  6  4 33 67 23 57 61 14 20 53 40 59 24 44 19 54 51 26  0\n",
            " 39]\n",
            "Quantos são os valores únicos: 73\n",
            "Como ficou dividida a quantidade: 1     613\n",
            "72    362\n",
            "2     238\n",
            "3     200\n",
            "4     176\n",
            "     ... \n",
            "28     57\n",
            "39     56\n",
            "44     51\n",
            "36     50\n",
            "0      11\n",
            "Name: Meses sob contrato, Length: 73, dtype: int64\n"
          ]
        },
        {
          "output_type": "display_data",
          "data": {
            "text/plain": [
              "<Figure size 430.875x360 with 1 Axes>"
            ],
            "image/png": "[encoded data removed]"
          },
          "metadata": {
            "needs_background": "light"
          }
        }
      ]
    },
    {
      "cell_type": "code",
      "source": [
        "# ao todo são 73 valores únicos\n",
        "#a quantidade de meses mais frequente é \"1 mes\" com 613 aparições seguido por \"72 meses\" com 362.\n",
        "#os grupos foram divididos de 5 em 5 meses e a primeira faixa, é onde se tem a maior quantidade de gente que é cliente rotativo, ou seja, novos clientes são mais propensos a desistir da telco\n",
        "#em todas as demais se sobresai o não rotativo, onde com o passar dos meses, há um claro aumento de clientes tornando não rotativo e sendo inserido no roll de clientes da telco."
      ],
      "metadata": {
        "id": "oJ363Bb-p19H"
      },
      "execution_count": 694,
      "outputs": []
    },
    {
      "cell_type": "code",
      "source": [
        "resumo(train, 'Serviço de telefone')"
      ],
      "metadata": {
        "colab": {
          "base_uri": "https://localhost:8080/",
          "height": 473
        },
        "id": "BcWU1N47sigG",
        "outputId": "403b04bc-1d18-4b8d-e6a7-472a8451a9a1"
      },
      "execution_count": 695,
      "outputs": [
        {
          "output_type": "stream",
          "name": "stdout",
          "text": [
            "Valores nulo: 0\n",
            "Quem são os valores únicos: ['No' 'Yes']\n",
            "Quantos são os valores únicos: 2\n",
            "Como ficou dividida a quantidade: Yes    6361\n",
            "No      682\n",
            "Name: Serviço de telefone, dtype: int64\n"
          ]
        },
        {
          "output_type": "display_data",
          "data": {
            "text/plain": [
              "<Figure size 430.875x360 with 1 Axes>"
            ],
            "image/png": "[encoded data removed]"
          },
          "metadata": {
            "needs_background": "light"
          }
        }
      ]
    },
    {
      "cell_type": "code",
      "source": [
        "#para serviço de telefone, existem apenas duas respsotas, sim e nao.\n",
        "#foram 6361 resposta para \"yes\" e apenas 682 para \"no\"\n",
        "#examinando o gráfico, nota-se que a base de clientes que responderam sim é muito maior que o não, até pelo volume"
      ],
      "metadata": {
        "id": "vHZr6IultaMM"
      },
      "execution_count": 696,
      "outputs": []
    },
    {
      "cell_type": "code",
      "source": [
        "train.groupby(train['Serviço de telefone'])['Rotatividade'].value_counts()"
      ],
      "metadata": {
        "colab": {
          "base_uri": "https://localhost:8080/"
        },
        "id": "qurAEXbZuY1l",
        "outputId": "37c1109e-5ac5-41ac-f1e8-ac812aad080f"
      },
      "execution_count": 697,
      "outputs": [
        {
          "output_type": "execute_result",
          "data": {
            "text/plain": [
              "Serviço de telefone  Rotatividade\n",
              "No                   No               512\n",
              "                     Yes              170\n",
              "Yes                  No              4662\n",
              "                     Yes             1699\n",
              "Name: Rotatividade, dtype: int64"
            ]
          },
          "metadata": {},
          "execution_count": 697
        }
      ]
    },
    {
      "cell_type": "code",
      "source": [
        "#dos que responderam \"Nao\", 24,92% são rotativos.\n",
        "170/(170+512)\n",
        "#já para os que responderam \"sim\", 26,70% são rotativos, ou seja, um percentual muito similar ao do não.\n",
        "1699/(1699+4662)"
      ],
      "metadata": {
        "colab": {
          "base_uri": "https://localhost:8080/"
        },
        "id": "YyWpkQggufOP",
        "outputId": "22012e83-9901-4399-839a-8efc713d492f"
      },
      "execution_count": 698,
      "outputs": [
        {
          "output_type": "execute_result",
          "data": {
            "text/plain": [
              "0.2670963684955196"
            ]
          },
          "metadata": {},
          "execution_count": 698
        }
      ]
    },
    {
      "cell_type": "code",
      "source": [
        "train.columns"
      ],
      "metadata": {
        "id": "tqGeSuGcumWD",
        "colab": {
          "base_uri": "https://localhost:8080/"
        },
        "outputId": "be5f58df-3cc0-4620-d685-f1a072503bce"
      },
      "execution_count": 699,
      "outputs": [
        {
          "output_type": "execute_result",
          "data": {
            "text/plain": [
              "Index(['Id', 'Sexo', 'Idoso', 'Parceiro/a', 'Dependentes',\n",
              "       'Meses sob contrato', 'Serviço de telefone', '+de 1 linha phone',\n",
              "       'Internet', 'Segurança online', 'Serviço Backup', 'Proteção',\n",
              "       'Suporte técnico', 'StreamingTV', 'StreamingMovies', 'Tipo de Contrato',\n",
              "       'Fatura em papel', 'Forma de Pgto', 'Valor do Plano', 'Total da Fatura',\n",
              "       'Rotatividade'],\n",
              "      dtype='object')"
            ]
          },
          "metadata": {},
          "execution_count": 699
        }
      ]
    },
    {
      "cell_type": "code",
      "source": [
        "resumo(train, '+de 1 linha phone')"
      ],
      "metadata": {
        "colab": {
          "base_uri": "https://localhost:8080/",
          "height": 491
        },
        "id": "bDbrwXOFVWQm",
        "outputId": "740cc590-2810-4991-add0-11552bd60a38"
      },
      "execution_count": 700,
      "outputs": [
        {
          "output_type": "stream",
          "name": "stdout",
          "text": [
            "Valores nulo: 0\n",
            "Quem são os valores únicos: ['No phone service' 'No' 'Yes']\n",
            "Quantos são os valores únicos: 3\n",
            "Como ficou dividida a quantidade: No                  3390\n",
            "Yes                 2971\n",
            "No phone service     682\n",
            "Name: +de 1 linha phone, dtype: int64\n"
          ]
        },
        {
          "output_type": "display_data",
          "data": {
            "text/plain": [
              "<Figure size 430.875x360 with 1 Axes>"
            ],
            "image/png": "[encoded data removed]"
          },
          "metadata": {
            "needs_background": "light"
          }
        }
      ]
    },
    {
      "cell_type": "code",
      "source": [
        "#em \"+de 1 linha phone\" existem 3 respostas únicas, onde em todas as 3 nota-se uma grande quantidade de cliente não rotativo"
      ],
      "metadata": {
        "id": "e_d49PT1Vba5"
      },
      "execution_count": 701,
      "outputs": []
    },
    {
      "cell_type": "code",
      "source": [
        "train.groupby(train['+de 1 linha phone'])['Rotatividade'].value_counts()"
      ],
      "metadata": {
        "colab": {
          "base_uri": "https://localhost:8080/"
        },
        "id": "3hTalp0KWbiY",
        "outputId": "c713c11c-8605-4ada-a87f-15b6031bb5c3"
      },
      "execution_count": 702,
      "outputs": [
        {
          "output_type": "execute_result",
          "data": {
            "text/plain": [
              "+de 1 linha phone  Rotatividade\n",
              "No                 No              2541\n",
              "                   Yes              849\n",
              "No phone service   No               512\n",
              "                   Yes              170\n",
              "Yes                No              2121\n",
              "                   Yes              850\n",
              "Name: Rotatividade, dtype: int64"
            ]
          },
          "metadata": {},
          "execution_count": 702
        }
      ]
    },
    {
      "cell_type": "code",
      "source": [
        "#para aqueles que não tem + de 1 linha de telefone, 25% ainda são clientes rotativos da telco, os demais, não\n",
        "849/(2541+849)"
      ],
      "metadata": {
        "colab": {
          "base_uri": "https://localhost:8080/"
        },
        "id": "b_ie-jlnWgvT",
        "outputId": "90372310-3425-4165-b43f-9d83802edd57"
      },
      "execution_count": 703,
      "outputs": [
        {
          "output_type": "execute_result",
          "data": {
            "text/plain": [
              "0.2504424778761062"
            ]
          },
          "metadata": {},
          "execution_count": 703
        }
      ]
    },
    {
      "cell_type": "code",
      "source": [
        "#para aqueles sem serviço de telefone, 24,92% são clientes rotativos da telco, ou seja, proporcionalmente muito similar ao \"não\"\n",
        "170/(170+512)"
      ],
      "metadata": {
        "colab": {
          "base_uri": "https://localhost:8080/"
        },
        "id": "BKaMPlJlXCcj",
        "outputId": "1d976214-9154-4b38-fb48-6f1ec1e64a67"
      },
      "execution_count": 704,
      "outputs": [
        {
          "output_type": "execute_result",
          "data": {
            "text/plain": [
              "0.24926686217008798"
            ]
          },
          "metadata": {},
          "execution_count": 704
        }
      ]
    },
    {
      "cell_type": "code",
      "source": [
        "#Por fim, para os que possuem mais de uma linha telefonica, é notado que os mesmos estão levemente acima na quantidade de pessoas que são clientes rotativos da telco, com 28%. \n",
        "850/(850+2121)"
      ],
      "metadata": {
        "colab": {
          "base_uri": "https://localhost:8080/"
        },
        "id": "c7MoPbEOYNay",
        "outputId": "982ecaea-0730-4608-9260-36af2e1ad507"
      },
      "execution_count": 705,
      "outputs": [
        {
          "output_type": "execute_result",
          "data": {
            "text/plain": [
              "0.286098956580276"
            ]
          },
          "metadata": {},
          "execution_count": 705
        }
      ]
    },
    {
      "cell_type": "code",
      "source": [
        "train.columns"
      ],
      "metadata": {
        "colab": {
          "base_uri": "https://localhost:8080/"
        },
        "outputId": "9c041040-488d-4b53-a6a5-e8e81449f274",
        "id": "X9hEFtpxZ2fr"
      },
      "execution_count": 706,
      "outputs": [
        {
          "output_type": "execute_result",
          "data": {
            "text/plain": [
              "Index(['Id', 'Sexo', 'Idoso', 'Parceiro/a', 'Dependentes',\n",
              "       'Meses sob contrato', 'Serviço de telefone', '+de 1 linha phone',\n",
              "       'Internet', 'Segurança online', 'Serviço Backup', 'Proteção',\n",
              "       'Suporte técnico', 'StreamingTV', 'StreamingMovies', 'Tipo de Contrato',\n",
              "       'Fatura em papel', 'Forma de Pgto', 'Valor do Plano', 'Total da Fatura',\n",
              "       'Rotatividade'],\n",
              "      dtype='object')"
            ]
          },
          "metadata": {},
          "execution_count": 706
        }
      ]
    },
    {
      "cell_type": "code",
      "source": [
        "resumo(train, 'Internet')"
      ],
      "metadata": {
        "colab": {
          "base_uri": "https://localhost:8080/",
          "height": 491
        },
        "id": "jE_QGuldZzBX",
        "outputId": "2d95aa51-b7ae-4981-f876-8d19bc250e7c"
      },
      "execution_count": 707,
      "outputs": [
        {
          "output_type": "stream",
          "name": "stdout",
          "text": [
            "Valores nulo: 0\n",
            "Quem são os valores únicos: ['DSL' 'Fiber optic' 'No']\n",
            "Quantos são os valores únicos: 3\n",
            "Como ficou dividida a quantidade: Fiber optic    3096\n",
            "DSL            2421\n",
            "No             1526\n",
            "Name: Internet, dtype: int64\n"
          ]
        },
        {
          "output_type": "display_data",
          "data": {
            "text/plain": [
              "<Figure size 430.875x360 with 1 Axes>"
            ],
            "image/png": "[encoded data removed]"
          },
          "metadata": {
            "needs_background": "light"
          }
        }
      ]
    },
    {
      "cell_type": "code",
      "source": [
        "#em relação ao serviço de internet 78% possuiam um serviço, os demais não.\n",
        "#além disso, nota-se que fibra ótica é o serviço mais assinado e o mesmo tem a maior quantidade de clientes rotativos, como se nota no gráfico acima\n",
        "(3096+2421)/(3096+2421+1526)"
      ],
      "metadata": {
        "colab": {
          "base_uri": "https://localhost:8080/"
        },
        "id": "IlqcxHc2Z7qx",
        "outputId": "3e779774-deed-489c-befb-831152852cab"
      },
      "execution_count": 708,
      "outputs": [
        {
          "output_type": "execute_result",
          "data": {
            "text/plain": [
              "0.7833309669175067"
            ]
          },
          "metadata": {},
          "execution_count": 708
        }
      ]
    },
    {
      "cell_type": "code",
      "source": [
        "train.groupby(train['Internet'])['Rotatividade'].value_counts()"
      ],
      "metadata": {
        "colab": {
          "base_uri": "https://localhost:8080/"
        },
        "id": "2tGLfi1saMvD",
        "outputId": "3f9bbaff-5e3b-496d-fd65-fb523e68d64f"
      },
      "execution_count": 709,
      "outputs": [
        {
          "output_type": "execute_result",
          "data": {
            "text/plain": [
              "Internet     Rotatividade\n",
              "DSL          No              1962\n",
              "             Yes              459\n",
              "Fiber optic  No              1799\n",
              "             Yes             1297\n",
              "No           No              1413\n",
              "             Yes              113\n",
              "Name: Rotatividade, dtype: int64"
            ]
          },
          "metadata": {},
          "execution_count": 709
        }
      ]
    },
    {
      "cell_type": "code",
      "source": [
        "#para dsl, apenas 18% ainda são rotativos da telco\n",
        "459/(1962+459)"
      ],
      "metadata": {
        "colab": {
          "base_uri": "https://localhost:8080/"
        },
        "id": "rVx6-HOqb0DP",
        "outputId": "048d8753-a2bc-4b0a-d5c1-5a4b00bf3b48"
      },
      "execution_count": 710,
      "outputs": [
        {
          "output_type": "execute_result",
          "data": {
            "text/plain": [
              "0.1895910780669145"
            ]
          },
          "metadata": {},
          "execution_count": 710
        }
      ]
    },
    {
      "cell_type": "code",
      "source": [
        "# já para fiber optic, 41,89% estão como clientes rotativos da telco, sendo esse, uma variável com percentual relevante para descobrir o caminho da retenção de clientes\n",
        "#o que no meu entendimento indica que o serviçode fibra ótica da telco não é bom, e isso não tem segurado os clientes\n",
        "1297/(1297+1799)"
      ],
      "metadata": {
        "colab": {
          "base_uri": "https://localhost:8080/"
        },
        "id": "F_jeaFutcEEb",
        "outputId": "b8b3ad95-1753-420f-a0ce-bcbc3c1a64eb"
      },
      "execution_count": 711,
      "outputs": [
        {
          "output_type": "execute_result",
          "data": {
            "text/plain": [
              "0.4189276485788114"
            ]
          },
          "metadata": {},
          "execution_count": 711
        }
      ]
    },
    {
      "cell_type": "code",
      "source": [
        "#e para aqueles que não tinham qualquer serviço de internet, o percentual de rotatividade é baixissimo, de 7,40%\n",
        "#aqueles que NÃO tem o serviço de internet da telco, são claramente mais propensos a continuar com a empresa\n",
        "113/(113+1413)"
      ],
      "metadata": {
        "colab": {
          "base_uri": "https://localhost:8080/"
        },
        "id": "jwsmtXJqcan2",
        "outputId": "026f4745-150c-4f9a-df72-59a2b40977c4"
      },
      "execution_count": 712,
      "outputs": [
        {
          "output_type": "execute_result",
          "data": {
            "text/plain": [
              "0.07404980340760157"
            ]
          },
          "metadata": {},
          "execution_count": 712
        }
      ]
    },
    {
      "cell_type": "code",
      "source": [
        "train.columns"
      ],
      "metadata": {
        "colab": {
          "base_uri": "https://localhost:8080/"
        },
        "id": "B-RZfw6kcsmi",
        "outputId": "981bbe7a-9f77-4dce-aeb9-b24d35b9c063"
      },
      "execution_count": 713,
      "outputs": [
        {
          "output_type": "execute_result",
          "data": {
            "text/plain": [
              "Index(['Id', 'Sexo', 'Idoso', 'Parceiro/a', 'Dependentes',\n",
              "       'Meses sob contrato', 'Serviço de telefone', '+de 1 linha phone',\n",
              "       'Internet', 'Segurança online', 'Serviço Backup', 'Proteção',\n",
              "       'Suporte técnico', 'StreamingTV', 'StreamingMovies', 'Tipo de Contrato',\n",
              "       'Fatura em papel', 'Forma de Pgto', 'Valor do Plano', 'Total da Fatura',\n",
              "       'Rotatividade'],\n",
              "      dtype='object')"
            ]
          },
          "metadata": {},
          "execution_count": 713
        }
      ]
    },
    {
      "cell_type": "code",
      "source": [
        "resumo(train, 'Segurança online')"
      ],
      "metadata": {
        "colab": {
          "base_uri": "https://localhost:8080/",
          "height": 491
        },
        "id": "yFY410Rne7wP",
        "outputId": "36ef3837-3a49-4e05-b7f4-1a7077a18a63"
      },
      "execution_count": 714,
      "outputs": [
        {
          "output_type": "stream",
          "name": "stdout",
          "text": [
            "Valores nulo: 0\n",
            "Quem são os valores únicos: ['No' 'Yes' 'No internet service']\n",
            "Quantos são os valores únicos: 3\n",
            "Como ficou dividida a quantidade: No                     3498\n",
            "Yes                    2019\n",
            "No internet service    1526\n",
            "Name: Segurança online, dtype: int64\n"
          ]
        },
        {
          "output_type": "display_data",
          "data": {
            "text/plain": [
              "<Figure size 430.875x360 with 1 Axes>"
            ],
            "image/png": "[encoded data removed]"
          },
          "metadata": {
            "needs_background": "light"
          }
        }
      ]
    },
    {
      "cell_type": "code",
      "source": [
        "#sobre segurança online, nota-se uma clara tendencia de que aqueles que não tem o serviço de segurança online foram maos propensos a serem clientes rotativos\n",
        "#paralela a essa informação, aqueles que não possuem internet, teem forte tendencia em continuar com a telco.\n",
        "# e para aqueles que tem o serviço de segurança online, nota-se que uma baixa quantidade de gente tende a troca de plano\n",
        "#essa informação pode indicar que o serviço de segurança é relativamente bom."
      ],
      "metadata": {
        "id": "s3iAbj1xfKSS"
      },
      "execution_count": 715,
      "outputs": []
    },
    {
      "cell_type": "code",
      "source": [
        "train.groupby(train['Segurança online'])['Rotatividade'].value_counts()"
      ],
      "metadata": {
        "colab": {
          "base_uri": "https://localhost:8080/"
        },
        "id": "nJAVtjA8hYZ3",
        "outputId": "d665f898-3505-4991-b51d-f419f8946875"
      },
      "execution_count": 716,
      "outputs": [
        {
          "output_type": "execute_result",
          "data": {
            "text/plain": [
              "Segurança online     Rotatividade\n",
              "No                   No              2037\n",
              "                     Yes             1461\n",
              "No internet service  No              1413\n",
              "                     Yes              113\n",
              "Yes                  No              1724\n",
              "                     Yes              295\n",
              "Name: Rotatividade, dtype: int64"
            ]
          },
          "metadata": {},
          "execution_count": 716
        }
      ]
    },
    {
      "cell_type": "code",
      "source": [
        "#para aqueles que não possuem o serviço de segurança online, 41% estavam como clientes rotativos\n",
        "1461/(1461+2037)"
      ],
      "metadata": {
        "colab": {
          "base_uri": "https://localhost:8080/"
        },
        "id": "iiP2hgf5h0h0",
        "outputId": "95c5e0af-8968-4f5d-d0b5-2f187023015f"
      },
      "execution_count": 717,
      "outputs": [
        {
          "output_type": "execute_result",
          "data": {
            "text/plain": [
              "0.4176672384219554"
            ]
          },
          "metadata": {},
          "execution_count": 717
        }
      ]
    },
    {
      "cell_type": "code",
      "source": [
        "#No internet service, existe um baixo percentual de clientes perdidos, perfazendo em 7% para aqueles sem serviço de segurança devido a ausencia de internet\n",
        "113/(113+1413)"
      ],
      "metadata": {
        "colab": {
          "base_uri": "https://localhost:8080/"
        },
        "id": "m6FSyTrah6iJ",
        "outputId": "bce2ab8c-a8fd-442c-acad-68da6e35d262"
      },
      "execution_count": 718,
      "outputs": [
        {
          "output_type": "execute_result",
          "data": {
            "text/plain": [
              "0.07404980340760157"
            ]
          },
          "metadata": {},
          "execution_count": 718
        }
      ]
    },
    {
      "cell_type": "code",
      "source": [
        "#em yes, o percentual de rotatividade fica em 14%, ainda baixo.\n",
        "295/(295+1724)"
      ],
      "metadata": {
        "colab": {
          "base_uri": "https://localhost:8080/"
        },
        "id": "K64ZbxgGjK3f",
        "outputId": "9b55d74c-f400-442e-8acb-378c896a7bea"
      },
      "execution_count": 719,
      "outputs": [
        {
          "output_type": "execute_result",
          "data": {
            "text/plain": [
              "0.14611193660227836"
            ]
          },
          "metadata": {},
          "execution_count": 719
        }
      ]
    },
    {
      "cell_type": "code",
      "source": [
        "train.columns"
      ],
      "metadata": {
        "colab": {
          "base_uri": "https://localhost:8080/"
        },
        "id": "4wwnQA2yjuYV",
        "outputId": "179a5832-d9e6-4df4-c22d-0ae0b5db95c6"
      },
      "execution_count": 720,
      "outputs": [
        {
          "output_type": "execute_result",
          "data": {
            "text/plain": [
              "Index(['Id', 'Sexo', 'Idoso', 'Parceiro/a', 'Dependentes',\n",
              "       'Meses sob contrato', 'Serviço de telefone', '+de 1 linha phone',\n",
              "       'Internet', 'Segurança online', 'Serviço Backup', 'Proteção',\n",
              "       'Suporte técnico', 'StreamingTV', 'StreamingMovies', 'Tipo de Contrato',\n",
              "       'Fatura em papel', 'Forma de Pgto', 'Valor do Plano', 'Total da Fatura',\n",
              "       'Rotatividade'],\n",
              "      dtype='object')"
            ]
          },
          "metadata": {},
          "execution_count": 720
        }
      ]
    },
    {
      "cell_type": "code",
      "source": [
        "resumo(train, 'Serviço Backup')"
      ],
      "metadata": {
        "colab": {
          "base_uri": "https://localhost:8080/",
          "height": 491
        },
        "id": "DpDuqSmrkI0t",
        "outputId": "660c1d36-9a35-41c1-80ac-723d34155a6c"
      },
      "execution_count": 721,
      "outputs": [
        {
          "output_type": "stream",
          "name": "stdout",
          "text": [
            "Valores nulo: 0\n",
            "Quem são os valores únicos: ['Yes' 'No' 'No internet service']\n",
            "Quantos são os valores únicos: 3\n",
            "Como ficou dividida a quantidade: No                     3088\n",
            "Yes                    2429\n",
            "No internet service    1526\n",
            "Name: Serviço Backup, dtype: int64\n"
          ]
        },
        {
          "output_type": "display_data",
          "data": {
            "text/plain": [
              "<Figure size 430.875x360 with 1 Axes>"
            ],
            "image/png": "[encoded data removed]"
          },
          "metadata": {
            "needs_background": "light"
          }
        }
      ]
    },
    {
      "cell_type": "code",
      "source": [
        "#das respostas, Nao, teve 43,56%, enquanto yes teve 34,48% e \"sem serviço de internet\" assumiu 21,66%\n",
        "#Examinando graficamente, nota-se que, para aqueles que não possuam o serviço de backup, a propensaão de continuar é muito mais baixa para daqueles que contrataram o backup (cor cinza)\n",
        "#igualmente a segurança online, o percentual de retenção desse público é maior que o usual.\n",
        "1526/7043"
      ],
      "metadata": {
        "colab": {
          "base_uri": "https://localhost:8080/"
        },
        "id": "4dei1WMfkNEs",
        "outputId": "aaca3aa8-ed4a-4896-d518-754ce25b5a82"
      },
      "execution_count": 722,
      "outputs": [
        {
          "output_type": "execute_result",
          "data": {
            "text/plain": [
              "0.21666903308249325"
            ]
          },
          "metadata": {},
          "execution_count": 722
        }
      ]
    },
    {
      "cell_type": "code",
      "source": [
        "train.groupby(train['Serviço Backup'])['Rotatividade'].value_counts()"
      ],
      "metadata": {
        "colab": {
          "base_uri": "https://localhost:8080/"
        },
        "id": "Mogjr0JKm9d1",
        "outputId": "62c90bd7-6881-4787-ff81-cc8293ff8ba0"
      },
      "execution_count": 723,
      "outputs": [
        {
          "output_type": "execute_result",
          "data": {
            "text/plain": [
              "Serviço Backup       Rotatividade\n",
              "No                   No              1855\n",
              "                     Yes             1233\n",
              "No internet service  No              1413\n",
              "                     Yes              113\n",
              "Yes                  No              1906\n",
              "                     Yes              523\n",
              "Name: Rotatividade, dtype: int64"
            ]
          },
          "metadata": {},
          "execution_count": 723
        }
      ]
    },
    {
      "cell_type": "code",
      "source": [
        "#para os que não contrataram o serviço de backup, 39,92%  são clientes rotativos da telco\n",
        "#Numero esse, muito menos favorável que \"yes\" e \"sem serviço de internet\"\n",
        "1233/(1233+1855)"
      ],
      "metadata": {
        "colab": {
          "base_uri": "https://localhost:8080/"
        },
        "id": "NJ5HfsyKpAQD",
        "outputId": "08d4e8ad-9011-47f4-fc9c-5a784574bea7"
      },
      "execution_count": 724,
      "outputs": [
        {
          "output_type": "execute_result",
          "data": {
            "text/plain": [
              "0.39928756476683935"
            ]
          },
          "metadata": {},
          "execution_count": 724
        }
      ]
    },
    {
      "cell_type": "code",
      "source": [
        "#para os que disseram sim, a rotatividade ficou em 21,51% e os que permanencem com a telco foi de 78,49%\n",
        "523/(523+1906)"
      ],
      "metadata": {
        "colab": {
          "base_uri": "https://localhost:8080/"
        },
        "id": "6rdG1szYpknj",
        "outputId": "835bf3cf-21e6-4be1-ddfa-71794ec21268"
      },
      "execution_count": 725,
      "outputs": [
        {
          "output_type": "execute_result",
          "data": {
            "text/plain": [
              "0.21531494442157267"
            ]
          },
          "metadata": {},
          "execution_count": 725
        }
      ]
    },
    {
      "cell_type": "code",
      "source": [
        "#e para os \"sem serviço de internet\", apenas 7% se mantiveram como cliente rotativos, os demais continuam com a empresa\n",
        "113/(113+1413)"
      ],
      "metadata": {
        "colab": {
          "base_uri": "https://localhost:8080/"
        },
        "id": "OXVl4dyFqAkG",
        "outputId": "35613f1b-ff08-4638-e84c-e50246a94a3b"
      },
      "execution_count": 726,
      "outputs": [
        {
          "output_type": "execute_result",
          "data": {
            "text/plain": [
              "0.07404980340760157"
            ]
          },
          "metadata": {},
          "execution_count": 726
        }
      ]
    },
    {
      "cell_type": "code",
      "source": [
        "train.columns"
      ],
      "metadata": {
        "colab": {
          "base_uri": "https://localhost:8080/"
        },
        "id": "2arU0hWlqeSz",
        "outputId": "d4e7fd04-b422-49e1-b2cf-9473670361ab"
      },
      "execution_count": 727,
      "outputs": [
        {
          "output_type": "execute_result",
          "data": {
            "text/plain": [
              "Index(['Id', 'Sexo', 'Idoso', 'Parceiro/a', 'Dependentes',\n",
              "       'Meses sob contrato', 'Serviço de telefone', '+de 1 linha phone',\n",
              "       'Internet', 'Segurança online', 'Serviço Backup', 'Proteção',\n",
              "       'Suporte técnico', 'StreamingTV', 'StreamingMovies', 'Tipo de Contrato',\n",
              "       'Fatura em papel', 'Forma de Pgto', 'Valor do Plano', 'Total da Fatura',\n",
              "       'Rotatividade'],\n",
              "      dtype='object')"
            ]
          },
          "metadata": {},
          "execution_count": 727
        }
      ]
    },
    {
      "cell_type": "code",
      "source": [
        "resumo(train, 'Proteção')"
      ],
      "metadata": {
        "colab": {
          "base_uri": "https://localhost:8080/",
          "height": 491
        },
        "id": "tskTvcLcqki7",
        "outputId": "e3be1268-73a8-4265-e176-8390e50a6948"
      },
      "execution_count": 728,
      "outputs": [
        {
          "output_type": "stream",
          "name": "stdout",
          "text": [
            "Valores nulo: 0\n",
            "Quem são os valores únicos: ['No' 'Yes' 'No internet service']\n",
            "Quantos são os valores únicos: 3\n",
            "Como ficou dividida a quantidade: No                     3095\n",
            "Yes                    2422\n",
            "No internet service    1526\n",
            "Name: Proteção, dtype: int64\n"
          ]
        },
        {
          "output_type": "display_data",
          "data": {
            "text/plain": [
              "<Figure size 430.875x360 with 1 Axes>"
            ],
            "image/png": "[encoded data removed]"
          },
          "metadata": {
            "needs_background": "light"
          }
        }
      ]
    },
    {
      "cell_type": "code",
      "source": [
        "#das 3 respostas possiveis para proteção, No é a que possui maior quantidade perfazendo quase 44% das respostas.\n",
        "#para \"sim\", a resposta foi dada em 34% dos casos e para \"no internet service\" foi de 21%\n",
        "#examinando o gráfico, registra-se que, para aqueles que não possuem a prorteção, uma maior quantidade de clientes não são retidos.\n",
        "1526/7043"
      ],
      "metadata": {
        "colab": {
          "base_uri": "https://localhost:8080/"
        },
        "id": "fhWpsJqzqx-W",
        "outputId": "771dbd3e-1ba6-4b1d-eb2a-e8c67d972bc5"
      },
      "execution_count": 729,
      "outputs": [
        {
          "output_type": "execute_result",
          "data": {
            "text/plain": [
              "0.21666903308249325"
            ]
          },
          "metadata": {},
          "execution_count": 729
        }
      ]
    },
    {
      "cell_type": "code",
      "source": [
        "train.groupby(train['Proteção'])['Rotatividade'].value_counts()"
      ],
      "metadata": {
        "colab": {
          "base_uri": "https://localhost:8080/"
        },
        "id": "PdPeETJcrBnz",
        "outputId": "ea2f7b6c-1326-4059-b224-4c39a255c85f"
      },
      "execution_count": 730,
      "outputs": [
        {
          "output_type": "execute_result",
          "data": {
            "text/plain": [
              "Proteção             Rotatividade\n",
              "No                   No              1884\n",
              "                     Yes             1211\n",
              "No internet service  No              1413\n",
              "                     Yes              113\n",
              "Yes                  No              1877\n",
              "                     Yes              545\n",
              "Name: Rotatividade, dtype: int64"
            ]
          },
          "metadata": {},
          "execution_count": 730
        }
      ]
    },
    {
      "cell_type": "code",
      "source": [
        "#para aqueles sem proteção, 1211 o equivalente a 39,12% ainda são clientes rotativos da telco\n",
        "#em contraponto, para os que responderam sim, 22,50% são rotativos e os mesmos 7% para aqueles sem plano de internet\n",
        "#ou seja, quase o dobro de clientes retidos para aqueles que contrataram a proteção da telco\n",
        "545/(545+1877)"
      ],
      "metadata": {
        "colab": {
          "base_uri": "https://localhost:8080/"
        },
        "id": "wvK4XWyEr2_f",
        "outputId": "6d90e01c-8a27-4d78-83ab-71337ad2effe"
      },
      "execution_count": 731,
      "outputs": [
        {
          "output_type": "execute_result",
          "data": {
            "text/plain": [
              "0.2250206440957886"
            ]
          },
          "metadata": {},
          "execution_count": 731
        }
      ]
    },
    {
      "cell_type": "code",
      "source": [
        "train.columns"
      ],
      "metadata": {
        "colab": {
          "base_uri": "https://localhost:8080/"
        },
        "id": "4CKlDBaSvQ1E",
        "outputId": "d0ab737c-6d09-4c40-f051-db083c32f3c1"
      },
      "execution_count": 732,
      "outputs": [
        {
          "output_type": "execute_result",
          "data": {
            "text/plain": [
              "Index(['Id', 'Sexo', 'Idoso', 'Parceiro/a', 'Dependentes',\n",
              "       'Meses sob contrato', 'Serviço de telefone', '+de 1 linha phone',\n",
              "       'Internet', 'Segurança online', 'Serviço Backup', 'Proteção',\n",
              "       'Suporte técnico', 'StreamingTV', 'StreamingMovies', 'Tipo de Contrato',\n",
              "       'Fatura em papel', 'Forma de Pgto', 'Valor do Plano', 'Total da Fatura',\n",
              "       'Rotatividade'],\n",
              "      dtype='object')"
            ]
          },
          "metadata": {},
          "execution_count": 732
        }
      ]
    },
    {
      "cell_type": "code",
      "source": [
        "resumo(train, 'Suporte técnico')"
      ],
      "metadata": {
        "colab": {
          "base_uri": "https://localhost:8080/",
          "height": 491
        },
        "id": "DA-jL6JeyZJn",
        "outputId": "21d005ae-ff8f-4663-8aea-a3c9508fd411"
      },
      "execution_count": 733,
      "outputs": [
        {
          "output_type": "stream",
          "name": "stdout",
          "text": [
            "Valores nulo: 0\n",
            "Quem são os valores únicos: ['No' 'Yes' 'No internet service']\n",
            "Quantos são os valores únicos: 3\n",
            "Como ficou dividida a quantidade: No                     3473\n",
            "Yes                    2044\n",
            "No internet service    1526\n",
            "Name: Suporte técnico, dtype: int64\n"
          ]
        },
        {
          "output_type": "display_data",
          "data": {
            "text/plain": [
              "<Figure size 430.875x360 with 1 Axes>"
            ],
            "image/png": "[encoded data removed]"
          },
          "metadata": {
            "needs_background": "light"
          }
        }
      ]
    },
    {
      "cell_type": "code",
      "source": [
        "#seguindo a tendencia das variáveis anteriores, quem não contratou os serviços a mais da telco, tem maior tendencia de deixar a empresa.\n",
        "#quase 50% das respostas foram não, seguido por sim que perfez 29%\n",
        "2044/7043"
      ],
      "metadata": {
        "colab": {
          "base_uri": "https://localhost:8080/"
        },
        "id": "FbR7_hgFyfa4",
        "outputId": "4a648fa2-d95b-4127-a5c0-91ead81ae395"
      },
      "execution_count": 734,
      "outputs": [
        {
          "output_type": "execute_result",
          "data": {
            "text/plain": [
              "0.2902172369728809"
            ]
          },
          "metadata": {},
          "execution_count": 734
        }
      ]
    },
    {
      "cell_type": "code",
      "source": [
        "train.groupby(train['Suporte técnico'])['Rotatividade'].value_counts()"
      ],
      "metadata": {
        "colab": {
          "base_uri": "https://localhost:8080/"
        },
        "id": "3kmGUcFfzK91",
        "outputId": "3e48edaf-ab33-4e61-8ea3-eb8823e06351"
      },
      "execution_count": 735,
      "outputs": [
        {
          "output_type": "execute_result",
          "data": {
            "text/plain": [
              "Suporte técnico      Rotatividade\n",
              "No                   No              2027\n",
              "                     Yes             1446\n",
              "No internet service  No              1413\n",
              "                     Yes              113\n",
              "Yes                  No              1734\n",
              "                     Yes              310\n",
              "Name: Rotatividade, dtype: int64"
            ]
          },
          "metadata": {},
          "execution_count": 735
        }
      ]
    },
    {
      "cell_type": "code",
      "source": [
        "#41% dos que não possuem serviço de suporte técnico, são dos chamados rotativos\n",
        "1446/(2027+1446)"
      ],
      "metadata": {
        "colab": {
          "base_uri": "https://localhost:8080/"
        },
        "id": "tgqIByl_zsmz",
        "outputId": "fb421a3e-1516-439c-b567-e9959e802659"
      },
      "execution_count": 736,
      "outputs": [
        {
          "output_type": "execute_result",
          "data": {
            "text/plain": [
              "0.4163547365390153"
            ]
          },
          "metadata": {},
          "execution_count": 736
        }
      ]
    },
    {
      "cell_type": "code",
      "source": [
        "#para aqueles que contrataram o serviço, apenas 15% são de rotativos\n",
        "310/(310+1734)"
      ],
      "metadata": {
        "colab": {
          "base_uri": "https://localhost:8080/"
        },
        "id": "c0l4JX86zzrr",
        "outputId": "702aa05a-006d-4b1b-834b-8f195a580499"
      },
      "execution_count": 737,
      "outputs": [
        {
          "output_type": "execute_result",
          "data": {
            "text/plain": [
              "0.15166340508806261"
            ]
          },
          "metadata": {},
          "execution_count": 737
        }
      ]
    },
    {
      "cell_type": "code",
      "source": [
        "resumo(train, 'StreamingTV')"
      ],
      "metadata": {
        "colab": {
          "base_uri": "https://localhost:8080/",
          "height": 491
        },
        "id": "1P9Zgoa60Bty",
        "outputId": "21a2b6e3-884e-439c-e2cd-0662d087a471"
      },
      "execution_count": 738,
      "outputs": [
        {
          "output_type": "stream",
          "name": "stdout",
          "text": [
            "Valores nulo: 0\n",
            "Quem são os valores únicos: ['No' 'Yes' 'No internet service']\n",
            "Quantos são os valores únicos: 3\n",
            "Como ficou dividida a quantidade: No                     2810\n",
            "Yes                    2707\n",
            "No internet service    1526\n",
            "Name: StreamingTV, dtype: int64\n"
          ]
        },
        {
          "output_type": "display_data",
          "data": {
            "text/plain": [
              "<Figure size 430.875x360 with 1 Axes>"
            ],
            "image/png": "[encoded data removed]"
          },
          "metadata": {
            "needs_background": "light"
          }
        }
      ]
    },
    {
      "cell_type": "code",
      "source": [
        "#em streamingtv, 39,89% responderam que não possuem o serviço, enquanto outros 38,43% responderam possuir\n",
        "#com uma diferença pequena separando o no e o yes, verifica-se que em no, existe uma leve tendencia de não retenção dos clientes.\n",
        "2707/7043"
      ],
      "metadata": {
        "colab": {
          "base_uri": "https://localhost:8080/"
        },
        "id": "UrGdFgYg0n3x",
        "outputId": "4f67b835-2e95-45bf-d5f2-abcb796be24a"
      },
      "execution_count": 739,
      "outputs": [
        {
          "output_type": "execute_result",
          "data": {
            "text/plain": [
              "0.38435325855459324"
            ]
          },
          "metadata": {},
          "execution_count": 739
        }
      ]
    },
    {
      "cell_type": "code",
      "source": [
        "train.groupby(train['StreamingTV'])['Rotatividade'].value_counts()"
      ],
      "metadata": {
        "colab": {
          "base_uri": "https://localhost:8080/"
        },
        "id": "Nb56V9Q00wIj",
        "outputId": "c82dd393-389a-48b3-e4ff-9789ccea5dab"
      },
      "execution_count": 740,
      "outputs": [
        {
          "output_type": "execute_result",
          "data": {
            "text/plain": [
              "StreamingTV          Rotatividade\n",
              "No                   No              1868\n",
              "                     Yes              942\n",
              "No internet service  No              1413\n",
              "                     Yes              113\n",
              "Yes                  No              1893\n",
              "                     Yes              814\n",
              "Name: Rotatividade, dtype: int64"
            ]
          },
          "metadata": {},
          "execution_count": 740
        }
      ]
    },
    {
      "cell_type": "code",
      "source": [
        "#para aqueles que não tem o serviço de streaming, 33,52% são rotativos\n",
        "#ja para aqueles que tem, o percentual é de 30,07%.\n",
        "814/(814+1893)"
      ],
      "metadata": {
        "colab": {
          "base_uri": "https://localhost:8080/"
        },
        "id": "6_FXz85I2Js9",
        "outputId": "189987ef-cb9c-4f3d-9f96-312c4bf1d5d8"
      },
      "execution_count": 741,
      "outputs": [
        {
          "output_type": "execute_result",
          "data": {
            "text/plain": [
              "0.30070188400443293"
            ]
          },
          "metadata": {},
          "execution_count": 741
        }
      ]
    },
    {
      "cell_type": "code",
      "source": [
        "resumo(train, 'StreamingMovies')"
      ],
      "metadata": {
        "colab": {
          "base_uri": "https://localhost:8080/",
          "height": 491
        },
        "id": "F3UI7pbd2c0j",
        "outputId": "7aa93e79-5134-43a2-cbd6-89d93107c01f"
      },
      "execution_count": 742,
      "outputs": [
        {
          "output_type": "stream",
          "name": "stdout",
          "text": [
            "Valores nulo: 0\n",
            "Quem são os valores únicos: ['No' 'Yes' 'No internet service']\n",
            "Quantos são os valores únicos: 3\n",
            "Como ficou dividida a quantidade: No                     2785\n",
            "Yes                    2732\n",
            "No internet service    1526\n",
            "Name: StreamingMovies, dtype: int64\n"
          ]
        },
        {
          "output_type": "display_data",
          "data": {
            "text/plain": [
              "<Figure size 430.875x360 with 1 Axes>"
            ],
            "image/png": "[encoded data removed]"
          },
          "metadata": {
            "needs_background": "light"
          }
        }
      ]
    },
    {
      "cell_type": "code",
      "source": [
        "train.groupby(train['StreamingMovies'])['Rotatividade'].value_counts()"
      ],
      "metadata": {
        "colab": {
          "base_uri": "https://localhost:8080/"
        },
        "id": "Q51qQlWo3EwJ",
        "outputId": "ae5fdc2d-3c80-4844-9118-5e9fa57f0322"
      },
      "execution_count": 743,
      "outputs": [
        {
          "output_type": "execute_result",
          "data": {
            "text/plain": [
              "StreamingMovies      Rotatividade\n",
              "No                   No              1847\n",
              "                     Yes              938\n",
              "No internet service  No              1413\n",
              "                     Yes              113\n",
              "Yes                  No              1914\n",
              "                     Yes              818\n",
              "Name: Rotatividade, dtype: int64"
            ]
          },
          "metadata": {},
          "execution_count": 743
        }
      ]
    },
    {
      "cell_type": "code",
      "source": [
        "#comparativamente aos demais serviços, nota-se uma diferença, o \"yes\" se aproximou do \"Não\"\n",
        "#Para os que não tinha o streaming movies, 33,68% sao de clientes rotativos\n",
        "#enquaato que o yes, ainda possui 29,94% de pessoas que estão sob a premissa de clientes rotativos.\n",
        "818/(818+1914)"
      ],
      "metadata": {
        "colab": {
          "base_uri": "https://localhost:8080/"
        },
        "id": "0zLycGUC84yR",
        "outputId": "498b42b9-dba6-4810-c408-026bbe8f7bb8"
      },
      "execution_count": 744,
      "outputs": [
        {
          "output_type": "execute_result",
          "data": {
            "text/plain": [
              "0.29941434846266474"
            ]
          },
          "metadata": {},
          "execution_count": 744
        }
      ]
    },
    {
      "cell_type": "code",
      "source": [
        "resumo(train, 'Tipo de Contrato')"
      ],
      "metadata": {
        "colab": {
          "base_uri": "https://localhost:8080/",
          "height": 491
        },
        "id": "jWeF_AnE-1S-",
        "outputId": "1542d137-bf47-40da-ca03-56b70a02bee8"
      },
      "execution_count": 745,
      "outputs": [
        {
          "output_type": "stream",
          "name": "stdout",
          "text": [
            "Valores nulo: 0\n",
            "Quem são os valores únicos: ['Month-to-month' 'One year' 'Two year']\n",
            "Quantos são os valores únicos: 3\n",
            "Como ficou dividida a quantidade: Month-to-month    3875\n",
            "Two year          1695\n",
            "One year          1473\n",
            "Name: Tipo de Contrato, dtype: int64\n"
          ]
        },
        {
          "output_type": "display_data",
          "data": {
            "text/plain": [
              "<Figure size 430.875x360 with 1 Axes>"
            ],
            "image/png": "[encoded data removed]"
          },
          "metadata": {
            "needs_background": "light"
          }
        }
      ]
    },
    {
      "cell_type": "code",
      "source": [
        "#em tipo de contrato existe 3 modelos: mes, anual e dois anos.\n",
        "#dessas 3 respostas possiveis, o mensal corresponde ao montante de 55%, seguido pelo contrato de 2 anos (24%) e por 1 ano (21%)\n",
        "#examinando o gráfico, verifica-se claramente que a maioria dos clientes estão vinculados ao plano mensal.\n",
        "1473/7043"
      ],
      "metadata": {
        "colab": {
          "base_uri": "https://localhost:8080/"
        },
        "id": "rKeqha1UAhTV",
        "outputId": "2325ab69-1d78-457f-a176-7a08fd1d841b"
      },
      "execution_count": 746,
      "outputs": [
        {
          "output_type": "execute_result",
          "data": {
            "text/plain": [
              "0.20914383075394008"
            ]
          },
          "metadata": {},
          "execution_count": 746
        }
      ]
    },
    {
      "cell_type": "code",
      "source": [
        "train.groupby(train['Tipo de Contrato'])['Rotatividade'].value_counts()"
      ],
      "metadata": {
        "colab": {
          "base_uri": "https://localhost:8080/"
        },
        "id": "aN9gWweUBFGK",
        "outputId": "0ff81472-67ad-4146-f1f6-1b0fca5b6d8b"
      },
      "execution_count": 747,
      "outputs": [
        {
          "output_type": "execute_result",
          "data": {
            "text/plain": [
              "Tipo de Contrato  Rotatividade\n",
              "Month-to-month    No              2220\n",
              "                  Yes             1655\n",
              "One year          No              1307\n",
              "                  Yes              166\n",
              "Two year          No              1647\n",
              "                  Yes               48\n",
              "Name: Rotatividade, dtype: int64"
            ]
          },
          "metadata": {},
          "execution_count": 747
        }
      ]
    },
    {
      "cell_type": "code",
      "source": [
        "#para o plano mensal, existem 42,70% de clientes rotativos, percentual relativamente alto\n",
        "#já para o contrato de 2 anos, apenas 11,26% ainda estão como rotativos\n",
        "#e para o contrato anual, apenas 2% são rotativos\n",
        "1655/(1655+2220)"
      ],
      "metadata": {
        "colab": {
          "base_uri": "https://localhost:8080/"
        },
        "id": "JpKMWjDiCdGi",
        "outputId": "128b7e16-ce42-4d96-d52b-e3187c2213e5"
      },
      "execution_count": 748,
      "outputs": [
        {
          "output_type": "execute_result",
          "data": {
            "text/plain": [
              "0.4270967741935484"
            ]
          },
          "metadata": {},
          "execution_count": 748
        }
      ]
    },
    {
      "cell_type": "code",
      "source": [
        "166/(166+1307)"
      ],
      "metadata": {
        "colab": {
          "base_uri": "https://localhost:8080/"
        },
        "id": "5U8xDfAPDLUK",
        "outputId": "b29165e2-dbfb-455e-fb7d-36b1065860db"
      },
      "execution_count": 749,
      "outputs": [
        {
          "output_type": "execute_result",
          "data": {
            "text/plain": [
              "0.11269517990495587"
            ]
          },
          "metadata": {},
          "execution_count": 749
        }
      ]
    },
    {
      "cell_type": "code",
      "source": [
        "48/(48+1647)"
      ],
      "metadata": {
        "colab": {
          "base_uri": "https://localhost:8080/"
        },
        "id": "DD7kTb3qDYrB",
        "outputId": "322a8896-812d-4ef1-a390-298d1c3ba38e"
      },
      "execution_count": 750,
      "outputs": [
        {
          "output_type": "execute_result",
          "data": {
            "text/plain": [
              "0.02831858407079646"
            ]
          },
          "metadata": {},
          "execution_count": 750
        }
      ]
    },
    {
      "cell_type": "code",
      "source": [
        "train.columns"
      ],
      "metadata": {
        "colab": {
          "base_uri": "https://localhost:8080/"
        },
        "id": "JMLc-S22DiJT",
        "outputId": "64de5ba3-8634-47af-c737-d35a1020fe5b"
      },
      "execution_count": 751,
      "outputs": [
        {
          "output_type": "execute_result",
          "data": {
            "text/plain": [
              "Index(['Id', 'Sexo', 'Idoso', 'Parceiro/a', 'Dependentes',\n",
              "       'Meses sob contrato', 'Serviço de telefone', '+de 1 linha phone',\n",
              "       'Internet', 'Segurança online', 'Serviço Backup', 'Proteção',\n",
              "       'Suporte técnico', 'StreamingTV', 'StreamingMovies', 'Tipo de Contrato',\n",
              "       'Fatura em papel', 'Forma de Pgto', 'Valor do Plano', 'Total da Fatura',\n",
              "       'Rotatividade'],\n",
              "      dtype='object')"
            ]
          },
          "metadata": {},
          "execution_count": 751
        }
      ]
    },
    {
      "cell_type": "code",
      "source": [
        "resumo(train, 'Fatura em papel')"
      ],
      "metadata": {
        "colab": {
          "base_uri": "https://localhost:8080/",
          "height": 473
        },
        "id": "5B6iUK2ND7_S",
        "outputId": "16a872de-2de8-4592-ef97-3a04645337f5"
      },
      "execution_count": 752,
      "outputs": [
        {
          "output_type": "stream",
          "name": "stdout",
          "text": [
            "Valores nulo: 0\n",
            "Quem são os valores únicos: ['Yes' 'No']\n",
            "Quantos são os valores únicos: 2\n",
            "Como ficou dividida a quantidade: Yes    4171\n",
            "No     2872\n",
            "Name: Fatura em papel, dtype: int64\n"
          ]
        },
        {
          "output_type": "display_data",
          "data": {
            "text/plain": [
              "<Figure size 430.875x360 with 1 Axes>"
            ],
            "image/png": "[encoded data removed]"
          },
          "metadata": {
            "needs_background": "light"
          }
        }
      ]
    },
    {
      "cell_type": "code",
      "source": [
        "#59% dos clientes optaram pela fatura em papel, desses 33% sçao formados por clientes rotativos\n",
        "#os demais 41%, apenas 16% ainda são rotativos\n",
        "4171/(4171+2872)"
      ],
      "metadata": {
        "colab": {
          "base_uri": "https://localhost:8080/"
        },
        "id": "L_I1cefIEDde",
        "outputId": "75e93e89-05df-4433-83cf-85332506d315"
      },
      "execution_count": 753,
      "outputs": [
        {
          "output_type": "execute_result",
          "data": {
            "text/plain": [
              "0.5922192247621753"
            ]
          },
          "metadata": {},
          "execution_count": 753
        }
      ]
    },
    {
      "cell_type": "code",
      "source": [
        "train.groupby(train['Fatura em papel'])['Rotatividade'].value_counts()"
      ],
      "metadata": {
        "colab": {
          "base_uri": "https://localhost:8080/"
        },
        "id": "ADJmff7YESfK",
        "outputId": "8fd426c1-f33e-4bfe-eed1-6abb18e6dc58"
      },
      "execution_count": 754,
      "outputs": [
        {
          "output_type": "execute_result",
          "data": {
            "text/plain": [
              "Fatura em papel  Rotatividade\n",
              "No               No              2403\n",
              "                 Yes              469\n",
              "Yes              No              2771\n",
              "                 Yes             1400\n",
              "Name: Rotatividade, dtype: int64"
            ]
          },
          "metadata": {},
          "execution_count": 754
        }
      ]
    },
    {
      "cell_type": "code",
      "source": [
        "1400/(1400+2771)"
      ],
      "metadata": {
        "colab": {
          "base_uri": "https://localhost:8080/"
        },
        "id": "fMnBIUOUEhRz",
        "outputId": "b1d61d1b-18d5-4a39-e32a-e6d5e077a7b2"
      },
      "execution_count": 755,
      "outputs": [
        {
          "output_type": "execute_result",
          "data": {
            "text/plain": [
              "0.33565092304003835"
            ]
          },
          "metadata": {},
          "execution_count": 755
        }
      ]
    },
    {
      "cell_type": "code",
      "source": [
        "469/(469+2403)"
      ],
      "metadata": {
        "colab": {
          "base_uri": "https://localhost:8080/"
        },
        "id": "ntwN5orwEum2",
        "outputId": "d2f24ffe-e881-4dec-e823-af273b25e9fb"
      },
      "execution_count": 756,
      "outputs": [
        {
          "output_type": "execute_result",
          "data": {
            "text/plain": [
              "0.1633008356545961"
            ]
          },
          "metadata": {},
          "execution_count": 756
        }
      ]
    },
    {
      "cell_type": "code",
      "source": [
        "resumo(train, 'Forma de Pgto')"
      ],
      "metadata": {
        "colab": {
          "base_uri": "https://localhost:8080/",
          "height": 525
        },
        "id": "VrLp2DhJE7Fr",
        "outputId": "e53116ff-d9d0-43da-c81b-74c4d1fa92fc"
      },
      "execution_count": 757,
      "outputs": [
        {
          "output_type": "stream",
          "name": "stdout",
          "text": [
            "Valores nulo: 0\n",
            "Quem são os valores únicos: ['Electronic check' 'Mailed check' 'Bank transfer (automatic)'\n",
            " 'Credit card (automatic)']\n",
            "Quantos são os valores únicos: 4\n",
            "Como ficou dividida a quantidade: Electronic check             2365\n",
            "Mailed check                 1612\n",
            "Bank transfer (automatic)    1544\n",
            "Credit card (automatic)      1522\n",
            "Name: Forma de Pgto, dtype: int64\n"
          ]
        },
        {
          "output_type": "display_data",
          "data": {
            "text/plain": [
              "<Figure size 430.875x360 with 1 Axes>"
            ],
            "image/png": "[encoded data removed]"
          },
          "metadata": {
            "needs_background": "light"
          }
        }
      ]
    },
    {
      "cell_type": "code",
      "source": [
        "#são 4 respostas para \"Forma de Pgto\"\n",
        "#33,57% optou por Electronic check, onde 45% ainda são rotativos, sendo esse o percentual mais alto;\n",
        "#22,88% por Mailed check, 19,10% são clientes rotativos da telco;\n",
        "#21,92% por Bank transfer (automatic) e 16,70% ainda são rotativos;\n",
        "#21,61% por Credit card (automatic) onde 15,24% permanecem como rotativos.\n",
        "1522/7043"
      ],
      "metadata": {
        "colab": {
          "base_uri": "https://localhost:8080/"
        },
        "id": "6GZCTIr9FTV1",
        "outputId": "0642bc10-0582-486f-a194-cfdfed49606b"
      },
      "execution_count": 758,
      "outputs": [
        {
          "output_type": "execute_result",
          "data": {
            "text/plain": [
              "0.2161010932841119"
            ]
          },
          "metadata": {},
          "execution_count": 758
        }
      ]
    },
    {
      "cell_type": "code",
      "source": [
        "train.groupby(train['Forma de Pgto'])['Rotatividade'].value_counts()"
      ],
      "metadata": {
        "colab": {
          "base_uri": "https://localhost:8080/"
        },
        "id": "nEC3iDuAFjWm",
        "outputId": "9eba7422-7b20-4987-8fdf-a5e7410e8966"
      },
      "execution_count": 759,
      "outputs": [
        {
          "output_type": "execute_result",
          "data": {
            "text/plain": [
              "Forma de Pgto              Rotatividade\n",
              "Bank transfer (automatic)  No              1286\n",
              "                           Yes              258\n",
              "Credit card (automatic)    No              1290\n",
              "                           Yes              232\n",
              "Electronic check           No              1294\n",
              "                           Yes             1071\n",
              "Mailed check               No              1304\n",
              "                           Yes              308\n",
              "Name: Rotatividade, dtype: int64"
            ]
          },
          "metadata": {},
          "execution_count": 759
        }
      ]
    },
    {
      "cell_type": "code",
      "source": [
        "232/(232+1290)"
      ],
      "metadata": {
        "colab": {
          "base_uri": "https://localhost:8080/"
        },
        "id": "7MIsqpwcGjY9",
        "outputId": "07931518-8135-48f8-8613-c85a9fafa129"
      },
      "execution_count": 760,
      "outputs": [
        {
          "output_type": "execute_result",
          "data": {
            "text/plain": [
              "0.15243101182654403"
            ]
          },
          "metadata": {},
          "execution_count": 760
        }
      ]
    },
    {
      "cell_type": "code",
      "source": [
        "resumo(train, 'Valor do Plano')"
      ],
      "metadata": {
        "colab": {
          "base_uri": "https://localhost:8080/",
          "height": 629
        },
        "id": "X_ik0CsYGrju",
        "outputId": "7616f433-ed29-4d5e-f0d3-483969665edd"
      },
      "execution_count": 761,
      "outputs": [
        {
          "output_type": "stream",
          "name": "stdout",
          "text": [
            "Valores nulo: 0\n",
            "Quem são os valores únicos: [29.85 56.95 53.85 ... 63.1  44.2  78.7 ]\n",
            "Quantos são os valores únicos: 1585\n",
            "Como ficou dividida a quantidade: 20.05     61\n",
            "19.85     45\n",
            "19.95     44\n",
            "19.90     44\n",
            "20.00     43\n",
            "          ..\n",
            "23.65      1\n",
            "114.70     1\n",
            "43.65      1\n",
            "87.80      1\n",
            "78.70      1\n",
            "Name: Valor do Plano, Length: 1585, dtype: int64\n"
          ]
        },
        {
          "output_type": "display_data",
          "data": {
            "text/plain": [
              "<Figure size 430.875x360 with 1 Axes>"
            ],
            "image/png": "[encoded data removed]"
          },
          "metadata": {
            "needs_background": "light"
          }
        }
      ]
    },
    {
      "cell_type": "code",
      "source": [
        "#o valor de plano com a maior faixa de não retenção, são justamente as intermediárias(70 a 100), conforme visualizado no gráfico acima\n",
        "#a maior retenção se encontra nas faixas iniciais."
      ],
      "metadata": {
        "id": "Of7xu7ekHXDM"
      },
      "execution_count": 762,
      "outputs": []
    },
    {
      "cell_type": "code",
      "source": [
        "train.columns"
      ],
      "metadata": {
        "colab": {
          "base_uri": "https://localhost:8080/"
        },
        "id": "rTk0wLGyI2Tf",
        "outputId": "be69df79-06f1-4a26-c777-4b149d8eecc7"
      },
      "execution_count": 763,
      "outputs": [
        {
          "output_type": "execute_result",
          "data": {
            "text/plain": [
              "Index(['Id', 'Sexo', 'Idoso', 'Parceiro/a', 'Dependentes',\n",
              "       'Meses sob contrato', 'Serviço de telefone', '+de 1 linha phone',\n",
              "       'Internet', 'Segurança online', 'Serviço Backup', 'Proteção',\n",
              "       'Suporte técnico', 'StreamingTV', 'StreamingMovies', 'Tipo de Contrato',\n",
              "       'Fatura em papel', 'Forma de Pgto', 'Valor do Plano', 'Total da Fatura',\n",
              "       'Rotatividade'],\n",
              "      dtype='object')"
            ]
          },
          "metadata": {},
          "execution_count": 763
        }
      ]
    },
    {
      "cell_type": "code",
      "source": [
        "train.head()"
      ],
      "metadata": {
        "colab": {
          "base_uri": "https://localhost:8080/",
          "height": 427
        },
        "id": "HUJ1ydYT-eNW",
        "outputId": "142c3787-b9d7-450e-c49d-41b80f605405"
      },
      "execution_count": 764,
      "outputs": [
        {
          "output_type": "execute_result",
          "data": {
            "text/plain": [
              "           Id    Sexo  Idoso Parceiro/a Dependentes  Meses sob contrato  \\\n",
              "0  7590-VHVEG  Female      0        Yes          No                   1   \n",
              "1  5575-GNVDE    Male      0         No          No                  34   \n",
              "2  3668-QPYBK    Male      0         No          No                   2   \n",
              "3  7795-CFOCW    Male      0         No          No                  45   \n",
              "4  9237-HQITU  Female      0         No          No                   2   \n",
              "\n",
              "  Serviço de telefone +de 1 linha phone     Internet Segurança online  \\\n",
              "0                  No  No phone service          DSL               No   \n",
              "1                 Yes                No          DSL              Yes   \n",
              "2                 Yes                No          DSL              Yes   \n",
              "3                  No  No phone service          DSL              Yes   \n",
              "4                 Yes                No  Fiber optic               No   \n",
              "\n",
              "  Serviço Backup Proteção Suporte técnico StreamingTV StreamingMovies  \\\n",
              "0            Yes       No              No          No              No   \n",
              "1             No      Yes              No          No              No   \n",
              "2            Yes       No              No          No              No   \n",
              "3             No      Yes             Yes          No              No   \n",
              "4             No       No              No          No              No   \n",
              "\n",
              "  Tipo de Contrato Fatura em papel              Forma de Pgto  Valor do Plano  \\\n",
              "0   Month-to-month             Yes           Electronic check           29.85   \n",
              "1         One year              No               Mailed check           56.95   \n",
              "2   Month-to-month             Yes               Mailed check           53.85   \n",
              "3         One year              No  Bank transfer (automatic)           42.30   \n",
              "4   Month-to-month             Yes           Electronic check           70.70   \n",
              "\n",
              "  Total da Fatura Rotatividade  \n",
              "0           29.85           No  \n",
              "1          1889.5           No  \n",
              "2          108.15          Yes  \n",
              "3         1840.75           No  \n",
              "4          151.65          Yes  "
            ],
            "text/html": [
              "\n",
              "  <div id=\"df-dd4bddb5-93eb-4494-808d-ee7a95712eaf\">\n",
              "    <div class=\"colab-df-container\">\n",
              "      <div>\n",
              "<style scoped>\n",
              "    .dataframe tbody tr th:only-of-type {\n",
              "        vertical-align: middle;\n",
              "    }\n",
              "\n",
              "    .dataframe tbody tr th {\n",
              "        vertical-align: top;\n",
              "    }\n",
              "\n",
              "    .dataframe thead th {\n",
              "        text-align: right;\n",
              "    }\n",
              "</style>\n",
              "<table border=\"1\" class=\"dataframe\">\n",
              "  <thead>\n",
              "    <tr style=\"text-align: right;\">\n",
              "      <th></th>\n",
              "      <th>Id</th>\n",
              "      <th>Sexo</th>\n",
              "      <th>Idoso</th>\n",
              "      <th>Parceiro/a</th>\n",
              "      <th>Dependentes</th>\n",
              "      <th>Meses sob contrato</th>\n",
              "      <th>Serviço de telefone</th>\n",
              "      <th>+de 1 linha phone</th>\n",
              "      <th>Internet</th>\n",
              "      <th>Segurança online</th>\n",
              "      <th>Serviço Backup</th>\n",
              "      <th>Proteção</th>\n",
              "      <th>Suporte técnico</th>\n",
              "      <th>StreamingTV</th>\n",
              "      <th>StreamingMovies</th>\n",
              "      <th>Tipo de Contrato</th>\n",
              "      <th>Fatura em papel</th>\n",
              "      <th>Forma de Pgto</th>\n",
              "      <th>Valor do Plano</th>\n",
              "      <th>Total da Fatura</th>\n",
              "      <th>Rotatividade</th>\n",
              "    </tr>\n",
              "  </thead>\n",
              "  <tbody>\n",
              "    <tr>\n",
              "      <th>0</th>\n",
              "      <td>7590-VHVEG</td>\n",
              "      <td>Female</td>\n",
              "      <td>0</td>\n",
              "      <td>Yes</td>\n",
              "      <td>No</td>\n",
              "      <td>1</td>\n",
              "      <td>No</td>\n",
              "      <td>No phone service</td>\n",
              "      <td>DSL</td>\n",
              "      <td>No</td>\n",
              "      <td>Yes</td>\n",
              "      <td>No</td>\n",
              "      <td>No</td>\n",
              "      <td>No</td>\n",
              "      <td>No</td>\n",
              "      <td>Month-to-month</td>\n",
              "      <td>Yes</td>\n",
              "      <td>Electronic check</td>\n",
              "      <td>29.85</td>\n",
              "      <td>29.85</td>\n",
              "      <td>No</td>\n",
              "    </tr>\n",
              "    <tr>\n",
              "      <th>1</th>\n",
              "      <td>5575-GNVDE</td>\n",
              "      <td>Male</td>\n",
              "      <td>0</td>\n",
              "      <td>No</td>\n",
              "      <td>No</td>\n",
              "      <td>34</td>\n",
              "      <td>Yes</td>\n",
              "      <td>No</td>\n",
              "      <td>DSL</td>\n",
              "      <td>Yes</td>\n",
              "      <td>No</td>\n",
              "      <td>Yes</td>\n",
              "      <td>No</td>\n",
              "      <td>No</td>\n",
              "      <td>No</td>\n",
              "      <td>One year</td>\n",
              "      <td>No</td>\n",
              "      <td>Mailed check</td>\n",
              "      <td>56.95</td>\n",
              "      <td>1889.5</td>\n",
              "      <td>No</td>\n",
              "    </tr>\n",
              "    <tr>\n",
              "      <th>2</th>\n",
              "      <td>3668-QPYBK</td>\n",
              "      <td>Male</td>\n",
              "      <td>0</td>\n",
              "      <td>No</td>\n",
              "      <td>No</td>\n",
              "      <td>2</td>\n",
              "      <td>Yes</td>\n",
              "      <td>No</td>\n",
              "      <td>DSL</td>\n",
              "      <td>Yes</td>\n",
              "      <td>Yes</td>\n",
              "      <td>No</td>\n",
              "      <td>No</td>\n",
              "      <td>No</td>\n",
              "      <td>No</td>\n",
              "      <td>Month-to-month</td>\n",
              "      <td>Yes</td>\n",
              "      <td>Mailed check</td>\n",
              "      <td>53.85</td>\n",
              "      <td>108.15</td>\n",
              "      <td>Yes</td>\n",
              "    </tr>\n",
              "    <tr>\n",
              "      <th>3</th>\n",
              "      <td>7795-CFOCW</td>\n",
              "      <td>Male</td>\n",
              "      <td>0</td>\n",
              "      <td>No</td>\n",
              "      <td>No</td>\n",
              "      <td>45</td>\n",
              "      <td>No</td>\n",
              "      <td>No phone service</td>\n",
              "      <td>DSL</td>\n",
              "      <td>Yes</td>\n",
              "      <td>No</td>\n",
              "      <td>Yes</td>\n",
              "      <td>Yes</td>\n",
              "      <td>No</td>\n",
              "      <td>No</td>\n",
              "      <td>One year</td>\n",
              "      <td>No</td>\n",
              "      <td>Bank transfer (automatic)</td>\n",
              "      <td>42.30</td>\n",
              "      <td>1840.75</td>\n",
              "      <td>No</td>\n",
              "    </tr>\n",
              "    <tr>\n",
              "      <th>4</th>\n",
              "      <td>9237-HQITU</td>\n",
              "      <td>Female</td>\n",
              "      <td>0</td>\n",
              "      <td>No</td>\n",
              "      <td>No</td>\n",
              "      <td>2</td>\n",
              "      <td>Yes</td>\n",
              "      <td>No</td>\n",
              "      <td>Fiber optic</td>\n",
              "      <td>No</td>\n",
              "      <td>No</td>\n",
              "      <td>No</td>\n",
              "      <td>No</td>\n",
              "      <td>No</td>\n",
              "      <td>No</td>\n",
              "      <td>Month-to-month</td>\n",
              "      <td>Yes</td>\n",
              "      <td>Electronic check</td>\n",
              "      <td>70.70</td>\n",
              "      <td>151.65</td>\n",
              "      <td>Yes</td>\n",
              "    </tr>\n",
              "  </tbody>\n",
              "</table>\n",
              "</div>\n",
              "      <button class=\"colab-df-convert\" onclick=\"convertToInteractive('df-dd4bddb5-93eb-4494-808d-ee7a95712eaf')\"\n",
              "              title=\"Convert this dataframe to an interactive table.\"\n",
              "              style=\"display:none;\">\n",
              "        \n",
              "  <svg xmlns=\"http://www.w3.org/2000/svg\" height=\"24px\"viewBox=\"0 0 24 24\"\n",
              "       width=\"24px\">\n",
              "    <path d=\"M0 0h24v24H0V0z\" fill=\"none\"/>\n",
              "    <path d=\"M18.56 5.44l.94 2.06.94-2.06 2.06-.94-2.06-.94-.94-2.06-.94 2.06-2.06.94zm-11 1L8.5 8.5l.94-2.06 2.06-.94-2.06-.94L8.5 2.5l-.94 2.06-2.06.94zm10 10l.94 2.06.94-2.06 2.06-.94-2.06-.94-.94-2.06-.94 2.06-2.06.94z\"/><path d=\"M17.41 7.96l-1.37-1.37c-.4-.4-.92-.59-1.43-.59-.52 0-1.04.2-1.43.59L10.3 9.45l-7.72 7.72c-.78.78-.78 2.05 0 2.83L4 21.41c.39.39.9.59 1.41.59.51 0 1.02-.2 1.41-.59l7.78-7.78 2.81-2.81c.8-.78.8-2.07 0-2.86zM5.41 20L4 18.59l7.72-7.72 1.47 1.35L5.41 20z\"/>\n",
              "  </svg>\n",
              "      </button>\n",
              "      \n",
              "  <style>\n",
              "    .colab-df-container {\n",
              "      display:flex;\n",
              "      flex-wrap:wrap;\n",
              "      gap: 12px;\n",
              "    }\n",
              "\n",
              "    .colab-df-convert {\n",
              "      background-color: #E8F0FE;\n",
              "      border: none;\n",
              "      border-radius: 50%;\n",
              "      cursor: pointer;\n",
              "      display: none;\n",
              "      fill: #1967D2;\n",
              "      height: 32px;\n",
              "      padding: 0 0 0 0;\n",
              "      width: 32px;\n",
              "    }\n",
              "\n",
              "    .colab-df-convert:hover {\n",
              "      background-color: #E2EBFA;\n",
              "      box-shadow: 0px 1px 2px rgba(60, 64, 67, 0.3), 0px 1px 3px 1px rgba(60, 64, 67, 0.15);\n",
              "      fill: #174EA6;\n",
              "    }\n",
              "\n",
              "    [theme=dark] .colab-df-convert {\n",
              "      background-color: #3B4455;\n",
              "      fill: #D2E3FC;\n",
              "    }\n",
              "\n",
              "    [theme=dark] .colab-df-convert:hover {\n",
              "      background-color: #434B5C;\n",
              "      box-shadow: 0px 1px 3px 1px rgba(0, 0, 0, 0.15);\n",
              "      filter: drop-shadow(0px 1px 2px rgba(0, 0, 0, 0.3));\n",
              "      fill: #FFFFFF;\n",
              "    }\n",
              "  </style>\n",
              "\n",
              "      <script>\n",
              "        const buttonEl =\n",
              "          document.querySelector('#df-dd4bddb5-93eb-4494-808d-ee7a95712eaf button.colab-df-convert');\n",
              "        buttonEl.style.display =\n",
              "          google.colab.kernel.accessAllowed ? 'block' : 'none';\n",
              "\n",
              "        async function convertToInteractive(key) {\n",
              "          const element = document.querySelector('#df-dd4bddb5-93eb-4494-808d-ee7a95712eaf');\n",
              "          const dataTable =\n",
              "            await google.colab.kernel.invokeFunction('convertToInteractive',\n",
              "                                                     [key], {});\n",
              "          if (!dataTable) return;\n",
              "\n",
              "          const docLinkHtml = 'Like what you see? Visit the ' +\n",
              "            '<a target=\"_blank\" href=https://colab.research.google.com/notebooks/data_table.ipynb>data table notebook</a>'\n",
              "            + ' to learn more about interactive tables.';\n",
              "          element.innerHTML = '';\n",
              "          dataTable['output_type'] = 'display_data';\n",
              "          await google.colab.output.renderOutput(dataTable, element);\n",
              "          const docLink = document.createElement('div');\n",
              "          docLink.innerHTML = docLinkHtml;\n",
              "          element.appendChild(docLink);\n",
              "        }\n",
              "      </script>\n",
              "    </div>\n",
              "  </div>\n",
              "  "
            ]
          },
          "metadata": {},
          "execution_count": 764
        }
      ]
    },
    {
      "cell_type": "code",
      "source": [
        "#resumo(train, 'Total da Fatura', False)"
      ],
      "metadata": {
        "id": "EzMoGwIMI3RY"
      },
      "execution_count": 765,
      "outputs": []
    },
    {
      "cell_type": "code",
      "source": [
        "#feita a análise geral de todas as colunas/variáveis, notei que algumas respostas podem ser alteradas de object para inteira, com \"no\" sendo 0 e, \"yes\" sendo 1."
      ],
      "metadata": {
        "id": "uV9dV97rI9nm"
      },
      "execution_count": 766,
      "outputs": []
    },
    {
      "cell_type": "code",
      "source": [],
      "metadata": {
        "id": "WzRWf6T4I6Z_"
      },
      "execution_count": 766,
      "outputs": []
    },
    {
      "cell_type": "markdown",
      "source": [
        "# Excluindo Id"
      ],
      "metadata": {
        "id": "39z34uzAJZ0x"
      }
    },
    {
      "cell_type": "code",
      "source": [
        "train.drop('Id', axis = 1, inplace = True)"
      ],
      "metadata": {
        "id": "TxxEKN7vJdGI"
      },
      "execution_count": 767,
      "outputs": []
    },
    {
      "cell_type": "markdown",
      "source": [
        "# Importância dos recursos"
      ],
      "metadata": {
        "id": "PMBQGXL2I7QO"
      }
    },
    {
      "cell_type": "code",
      "source": [
        "def compute_mutual_information(categorical_serie):\n",
        "    return mutual_info_score(categorical_serie, train.Rotatividade)\n",
        "\n",
        "# select categorial variables excluding the response variable \n",
        "\n",
        "categorical_variables = train.select_dtypes(include=object).drop('Rotatividade', axis = 1)\n",
        "\n",
        "# compute the mutual information score between each categorical variable and the target\n",
        "feature_importance = categorical_variables.apply(compute_mutual_information).sort_values(ascending=False)\n",
        "\n",
        "# visualize feature importance\n",
        "print(feature_importance)"
      ],
      "metadata": {
        "id": "wnYAp4HSOyff",
        "colab": {
          "base_uri": "https://localhost:8080/"
        },
        "outputId": "c306cf0d-8500-4d47-e555-1e9fe4114549"
      },
      "execution_count": 768,
      "outputs": [
        {
          "output_type": "stream",
          "name": "stdout",
          "text": [
            "Total da Fatura        0.537173\n",
            "Tipo de Contrato       0.098453\n",
            "Segurança online       0.064677\n",
            "Suporte técnico        0.063021\n",
            "Internet               0.055574\n",
            "Serviço Backup         0.046792\n",
            "Forma de Pgto          0.044519\n",
            "Proteção               0.043917\n",
            "StreamingMovies        0.032001\n",
            "StreamingTV            0.031908\n",
            "Fatura em papel        0.019194\n",
            "Dependentes            0.014467\n",
            "Parceiro/a             0.011454\n",
            "+de 1 linha phone      0.000801\n",
            "Serviço de telefone    0.000072\n",
            "Sexo                   0.000037\n",
            "dtype: float64\n"
          ]
        }
      ]
    },
    {
      "cell_type": "code",
      "source": [
        "#Só funciona quando as saidas estão no estado normal, depois da conversão em valores númericos, dá erro"
      ],
      "metadata": {
        "id": "yVgBpNM3Trj1"
      },
      "execution_count": 769,
      "outputs": []
    },
    {
      "cell_type": "markdown",
      "source": [
        "# Renomeando linhas"
      ],
      "metadata": {
        "id": "07VEZ0HtTsVI"
      }
    },
    {
      "cell_type": "code",
      "source": [
        "train['Sexo'].replace({'Female': 0, 'Male': 1}, inplace = True)"
      ],
      "metadata": {
        "id": "Nl1qsvUM_05e"
      },
      "execution_count": 770,
      "outputs": []
    },
    {
      "cell_type": "code",
      "source": [
        "train['Parceiro/a'].replace({'No': 0, 'Yes': 1}, inplace = True)"
      ],
      "metadata": {
        "id": "Q4ImKYB8A3W2"
      },
      "execution_count": 771,
      "outputs": []
    },
    {
      "cell_type": "code",
      "source": [
        "train['Dependentes'].replace({'No': 0, 'Yes': 1}, inplace = True)"
      ],
      "metadata": {
        "id": "yrBFA0N0GOQv"
      },
      "execution_count": 772,
      "outputs": []
    },
    {
      "cell_type": "code",
      "source": [
        "train['Serviço de telefone'].replace({'No': 0, 'Yes': 1}, inplace = True)"
      ],
      "metadata": {
        "id": "6jbMFrU6OKWG"
      },
      "execution_count": 773,
      "outputs": []
    },
    {
      "cell_type": "code",
      "source": [
        "train['+de 1 linha phone'].replace({'No': 0, 'Yes': 1, 'No phone service': 2}, inplace = True)"
      ],
      "metadata": {
        "id": "yYK_oE_OOVNG"
      },
      "execution_count": 774,
      "outputs": []
    },
    {
      "cell_type": "code",
      "source": [
        "train['Internet'].replace({'DSL': 0, 'Fiber optic': 1, 'No': 2}, inplace = True)"
      ],
      "metadata": {
        "id": "L0Zzp4Z4OmwF"
      },
      "execution_count": 775,
      "outputs": []
    },
    {
      "cell_type": "code",
      "source": [
        "train['Segurança online'].replace({'No': 0, 'Yes': 1, 'No internet service': 2}, inplace = True)"
      ],
      "metadata": {
        "id": "4TkvNrTiOtPL"
      },
      "execution_count": 776,
      "outputs": []
    },
    {
      "cell_type": "code",
      "source": [
        "train['Serviço Backup'].replace({'No': 0, 'Yes': 1, 'No internet service': 2}, inplace = True)"
      ],
      "metadata": {
        "id": "xulC-YgdPF0S"
      },
      "execution_count": 777,
      "outputs": []
    },
    {
      "cell_type": "code",
      "source": [
        "train['Proteção'].replace({'No': 0, 'Yes': 1, 'No internet service': 2}, inplace = True)"
      ],
      "metadata": {
        "id": "S9VqhghSPNVb"
      },
      "execution_count": 778,
      "outputs": []
    },
    {
      "cell_type": "code",
      "source": [
        "train['Suporte técnico'].replace({'No': 0, 'Yes': 1, 'No internet service': 2}, inplace = True)"
      ],
      "metadata": {
        "id": "mHxJXAU2P29m"
      },
      "execution_count": 779,
      "outputs": []
    },
    {
      "cell_type": "code",
      "source": [
        "train['StreamingTV'].replace({'No': 0, 'Yes': 1, 'No internet service': 2}, inplace = True)"
      ],
      "metadata": {
        "id": "zthqS3yzQQvJ"
      },
      "execution_count": 780,
      "outputs": []
    },
    {
      "cell_type": "code",
      "source": [
        "train['StreamingMovies'].replace({'No': 0, 'Yes': 1, 'No internet service': 2}, inplace = True)"
      ],
      "metadata": {
        "id": "P2j9-fx3Qa4a"
      },
      "execution_count": 781,
      "outputs": []
    },
    {
      "cell_type": "code",
      "source": [
        "train['Tipo de Contrato'].replace({'Month-to-month': 0, 'One year': 1, 'Two year': 2}, inplace = True)"
      ],
      "metadata": {
        "id": "mzsrgRBkRRGx"
      },
      "execution_count": 782,
      "outputs": []
    },
    {
      "cell_type": "code",
      "source": [
        "train['Fatura em papel'].replace({'No': 0, 'Yes': 1}, inplace = True)"
      ],
      "metadata": {
        "id": "fw-TvgfXReRl"
      },
      "execution_count": 783,
      "outputs": []
    },
    {
      "cell_type": "code",
      "source": [
        "train['Forma de Pgto'].replace({'Electronic check': 0, 'Mailed check': 1, 'Bank transfer (automatic)': 2, 'Credit card (automatic)': 3}, inplace = True)"
      ],
      "metadata": {
        "id": "fgNYtOGgRy1q"
      },
      "execution_count": 784,
      "outputs": []
    },
    {
      "cell_type": "code",
      "source": [
        "train['Rotatividade'].replace({'No': 0, 'Yes': 1}, inplace = True)"
      ],
      "metadata": {
        "id": "v4_UDsgrR-kc"
      },
      "execution_count": 785,
      "outputs": []
    },
    {
      "cell_type": "code",
      "source": [
        "train.info()"
      ],
      "metadata": {
        "colab": {
          "base_uri": "https://localhost:8080/"
        },
        "id": "QgqD_r02SxY-",
        "outputId": "a045045b-2870-4aa3-ff4b-2d662212d5f6"
      },
      "execution_count": 786,
      "outputs": [
        {
          "output_type": "stream",
          "name": "stdout",
          "text": [
            "<class 'pandas.core.frame.DataFrame'>\n",
            "RangeIndex: 7043 entries, 0 to 7042\n",
            "Data columns (total 20 columns):\n",
            " #   Column               Non-Null Count  Dtype  \n",
            "---  ------               --------------  -----  \n",
            " 0   Sexo                 7043 non-null   int64  \n",
            " 1   Idoso                7043 non-null   int64  \n",
            " 2   Parceiro/a           7043 non-null   int64  \n",
            " 3   Dependentes          7043 non-null   int64  \n",
            " 4   Meses sob contrato   7043 non-null   int64  \n",
            " 5   Serviço de telefone  7043 non-null   int64  \n",
            " 6   +de 1 linha phone    7043 non-null   int64  \n",
            " 7   Internet             7043 non-null   int64  \n",
            " 8   Segurança online     7043 non-null   int64  \n",
            " 9   Serviço Backup       7043 non-null   int64  \n",
            " 10  Proteção             7043 non-null   int64  \n",
            " 11  Suporte técnico      7043 non-null   int64  \n",
            " 12  StreamingTV          7043 non-null   int64  \n",
            " 13  StreamingMovies      7043 non-null   int64  \n",
            " 14  Tipo de Contrato     7043 non-null   int64  \n",
            " 15  Fatura em papel      7043 non-null   int64  \n",
            " 16  Forma de Pgto        7043 non-null   int64  \n",
            " 17  Valor do Plano       7043 non-null   float64\n",
            " 18  Total da Fatura      7043 non-null   object \n",
            " 19  Rotatividade         7043 non-null   int64  \n",
            "dtypes: float64(1), int64(18), object(1)\n",
            "memory usage: 1.1+ MB\n"
          ]
        }
      ]
    },
    {
      "cell_type": "code",
      "source": [
        "#convertendo object em float"
      ],
      "metadata": {
        "id": "YJ8oeSLLT4gg"
      },
      "execution_count": 787,
      "outputs": []
    },
    {
      "cell_type": "code",
      "source": [
        "train['Total da Fatura'] = pd.to_numeric(train['Total da Fatura'], errors = 'coerce')\n",
        "train"
      ],
      "metadata": {
        "colab": {
          "base_uri": "https://localhost:8080/",
          "height": 502
        },
        "id": "6Oh5VwrfhUJn",
        "outputId": "102cf6a2-bc9e-4ed6-b821-5094b48f72f1"
      },
      "execution_count": 788,
      "outputs": [
        {
          "output_type": "execute_result",
          "data": {
            "text/plain": [
              "      Sexo  Idoso  Parceiro/a  Dependentes  Meses sob contrato  \\\n",
              "0        0      0           1            0                   1   \n",
              "1        1      0           0            0                  34   \n",
              "2        1      0           0            0                   2   \n",
              "3        1      0           0            0                  45   \n",
              "4        0      0           0            0                   2   \n",
              "...    ...    ...         ...          ...                 ...   \n",
              "7038     1      0           1            1                  24   \n",
              "7039     0      0           1            1                  72   \n",
              "7040     0      0           1            1                  11   \n",
              "7041     1      1           1            0                   4   \n",
              "7042     1      0           0            0                  66   \n",
              "\n",
              "      Serviço de telefone  +de 1 linha phone  Internet  Segurança online  \\\n",
              "0                       0                  2         0                 0   \n",
              "1                       1                  0         0                 1   \n",
              "2                       1                  0         0                 1   \n",
              "3                       0                  2         0                 1   \n",
              "4                       1                  0         1                 0   \n",
              "...                   ...                ...       ...               ...   \n",
              "7038                    1                  1         0                 1   \n",
              "7039                    1                  1         1                 0   \n",
              "7040                    0                  2         0                 1   \n",
              "7041                    1                  1         1                 0   \n",
              "7042                    1                  0         1                 1   \n",
              "\n",
              "      Serviço Backup  Proteção  Suporte técnico  StreamingTV  StreamingMovies  \\\n",
              "0                  1         0                0            0                0   \n",
              "1                  0         1                0            0                0   \n",
              "2                  1         0                0            0                0   \n",
              "3                  0         1                1            0                0   \n",
              "4                  0         0                0            0                0   \n",
              "...              ...       ...              ...          ...              ...   \n",
              "7038               0         1                1            1                1   \n",
              "7039               1         1                0            1                1   \n",
              "7040               0         0                0            0                0   \n",
              "7041               0         0                0            0                0   \n",
              "7042               0         1                1            1                1   \n",
              "\n",
              "      Tipo de Contrato  Fatura em papel  Forma de Pgto  Valor do Plano  \\\n",
              "0                    0                1              0           29.85   \n",
              "1                    1                0              1           56.95   \n",
              "2                    0                1              1           53.85   \n",
              "3                    1                0              2           42.30   \n",
              "4                    0                1              0           70.70   \n",
              "...                ...              ...            ...             ...   \n",
              "7038                 1                1              1           84.80   \n",
              "7039                 1                1              3          103.20   \n",
              "7040                 0                1              0           29.60   \n",
              "7041                 0                1              1           74.40   \n",
              "7042                 2                1              2          105.65   \n",
              "\n",
              "      Total da Fatura  Rotatividade  \n",
              "0               29.85             0  \n",
              "1             1889.50             0  \n",
              "2              108.15             1  \n",
              "3             1840.75             0  \n",
              "4              151.65             1  \n",
              "...               ...           ...  \n",
              "7038          1990.50             0  \n",
              "7039          7362.90             0  \n",
              "7040           346.45             0  \n",
              "7041           306.60             1  \n",
              "7042          6844.50             0  \n",
              "\n",
              "[7043 rows x 20 columns]"
            ],
            "text/html": [
              "\n",
              "  <div id=\"df-013af23a-cdc7-4cd6-875d-15e74c16cf18\">\n",
              "    <div class=\"colab-df-container\">\n",
              "      <div>\n",
              "<style scoped>\n",
              "    .dataframe tbody tr th:only-of-type {\n",
              "        vertical-align: middle;\n",
              "    }\n",
              "\n",
              "    .dataframe tbody tr th {\n",
              "        vertical-align: top;\n",
              "    }\n",
              "\n",
              "    .dataframe thead th {\n",
              "        text-align: right;\n",
              "    }\n",
              "</style>\n",
              "<table border=\"1\" class=\"dataframe\">\n",
              "  <thead>\n",
              "    <tr style=\"text-align: right;\">\n",
              "      <th></th>\n",
              "      <th>Sexo</th>\n",
              "      <th>Idoso</th>\n",
              "      <th>Parceiro/a</th>\n",
              "      <th>Dependentes</th>\n",
              "      <th>Meses sob contrato</th>\n",
              "      <th>Serviço de telefone</th>\n",
              "      <th>+de 1 linha phone</th>\n",
              "      <th>Internet</th>\n",
              "      <th>Segurança online</th>\n",
              "      <th>Serviço Backup</th>\n",
              "      <th>Proteção</th>\n",
              "      <th>Suporte técnico</th>\n",
              "      <th>StreamingTV</th>\n",
              "      <th>StreamingMovies</th>\n",
              "      <th>Tipo de Contrato</th>\n",
              "      <th>Fatura em papel</th>\n",
              "      <th>Forma de Pgto</th>\n",
              "      <th>Valor do Plano</th>\n",
              "      <th>Total da Fatura</th>\n",
              "      <th>Rotatividade</th>\n",
              "    </tr>\n",
              "  </thead>\n",
              "  <tbody>\n",
              "    <tr>\n",
              "      <th>0</th>\n",
              "      <td>0</td>\n",
              "      <td>0</td>\n",
              "      <td>1</td>\n",
              "      <td>0</td>\n",
              "      <td>1</td>\n",
              "      <td>0</td>\n",
              "      <td>2</td>\n",
              "      <td>0</td>\n",
              "      <td>0</td>\n",
              "      <td>1</td>\n",
              "      <td>0</td>\n",
              "      <td>0</td>\n",
              "      <td>0</td>\n",
              "      <td>0</td>\n",
              "      <td>0</td>\n",
              "      <td>1</td>\n",
              "      <td>0</td>\n",
              "      <td>29.85</td>\n",
              "      <td>29.85</td>\n",
              "      <td>0</td>\n",
              "    </tr>\n",
              "    <tr>\n",
              "      <th>1</th>\n",
              "      <td>1</td>\n",
              "      <td>0</td>\n",
              "      <td>0</td>\n",
              "      <td>0</td>\n",
              "      <td>34</td>\n",
              "      <td>1</td>\n",
              "      <td>0</td>\n",
              "      <td>0</td>\n",
              "      <td>1</td>\n",
              "      <td>0</td>\n",
              "      <td>1</td>\n",
              "      <td>0</td>\n",
              "      <td>0</td>\n",
              "      <td>0</td>\n",
              "      <td>1</td>\n",
              "      <td>0</td>\n",
              "      <td>1</td>\n",
              "      <td>56.95</td>\n",
              "      <td>1889.50</td>\n",
              "      <td>0</td>\n",
              "    </tr>\n",
              "    <tr>\n",
              "      <th>2</th>\n",
              "      <td>1</td>\n",
              "      <td>0</td>\n",
              "      <td>0</td>\n",
              "      <td>0</td>\n",
              "      <td>2</td>\n",
              "      <td>1</td>\n",
              "      <td>0</td>\n",
              "      <td>0</td>\n",
              "      <td>1</td>\n",
              "      <td>1</td>\n",
              "      <td>0</td>\n",
              "      <td>0</td>\n",
              "      <td>0</td>\n",
              "      <td>0</td>\n",
              "      <td>0</td>\n",
              "      <td>1</td>\n",
              "      <td>1</td>\n",
              "      <td>53.85</td>\n",
              "      <td>108.15</td>\n",
              "      <td>1</td>\n",
              "    </tr>\n",
              "    <tr>\n",
              "      <th>3</th>\n",
              "      <td>1</td>\n",
              "      <td>0</td>\n",
              "      <td>0</td>\n",
              "      <td>0</td>\n",
              "      <td>45</td>\n",
              "      <td>0</td>\n",
              "      <td>2</td>\n",
              "      <td>0</td>\n",
              "      <td>1</td>\n",
              "      <td>0</td>\n",
              "      <td>1</td>\n",
              "      <td>1</td>\n",
              "      <td>0</td>\n",
              "      <td>0</td>\n",
              "      <td>1</td>\n",
              "      <td>0</td>\n",
              "      <td>2</td>\n",
              "      <td>42.30</td>\n",
              "      <td>1840.75</td>\n",
              "      <td>0</td>\n",
              "    </tr>\n",
              "    <tr>\n",
              "      <th>4</th>\n",
              "      <td>0</td>\n",
              "      <td>0</td>\n",
              "      <td>0</td>\n",
              "      <td>0</td>\n",
              "      <td>2</td>\n",
              "      <td>1</td>\n",
              "      <td>0</td>\n",
              "      <td>1</td>\n",
              "      <td>0</td>\n",
              "      <td>0</td>\n",
              "      <td>0</td>\n",
              "      <td>0</td>\n",
              "      <td>0</td>\n",
              "      <td>0</td>\n",
              "      <td>0</td>\n",
              "      <td>1</td>\n",
              "      <td>0</td>\n",
              "      <td>70.70</td>\n",
              "      <td>151.65</td>\n",
              "      <td>1</td>\n",
              "    </tr>\n",
              "    <tr>\n",
              "      <th>...</th>\n",
              "      <td>...</td>\n",
              "      <td>...</td>\n",
              "      <td>...</td>\n",
              "      <td>...</td>\n",
              "      <td>...</td>\n",
              "      <td>...</td>\n",
              "      <td>...</td>\n",
              "      <td>...</td>\n",
              "      <td>...</td>\n",
              "      <td>...</td>\n",
              "      <td>...</td>\n",
              "      <td>...</td>\n",
              "      <td>...</td>\n",
              "      <td>...</td>\n",
              "      <td>...</td>\n",
              "      <td>...</td>\n",
              "      <td>...</td>\n",
              "      <td>...</td>\n",
              "      <td>...</td>\n",
              "      <td>...</td>\n",
              "    </tr>\n",
              "    <tr>\n",
              "      <th>7038</th>\n",
              "      <td>1</td>\n",
              "      <td>0</td>\n",
              "      <td>1</td>\n",
              "      <td>1</td>\n",
              "      <td>24</td>\n",
              "      <td>1</td>\n",
              "      <td>1</td>\n",
              "      <td>0</td>\n",
              "      <td>1</td>\n",
              "      <td>0</td>\n",
              "      <td>1</td>\n",
              "      <td>1</td>\n",
              "      <td>1</td>\n",
              "      <td>1</td>\n",
              "      <td>1</td>\n",
              "      <td>1</td>\n",
              "      <td>1</td>\n",
              "      <td>84.80</td>\n",
              "      <td>1990.50</td>\n",
              "      <td>0</td>\n",
              "    </tr>\n",
              "    <tr>\n",
              "      <th>7039</th>\n",
              "      <td>0</td>\n",
              "      <td>0</td>\n",
              "      <td>1</td>\n",
              "      <td>1</td>\n",
              "      <td>72</td>\n",
              "      <td>1</td>\n",
              "      <td>1</td>\n",
              "      <td>1</td>\n",
              "      <td>0</td>\n",
              "      <td>1</td>\n",
              "      <td>1</td>\n",
              "      <td>0</td>\n",
              "      <td>1</td>\n",
              "      <td>1</td>\n",
              "      <td>1</td>\n",
              "      <td>1</td>\n",
              "      <td>3</td>\n",
              "      <td>103.20</td>\n",
              "      <td>7362.90</td>\n",
              "      <td>0</td>\n",
              "    </tr>\n",
              "    <tr>\n",
              "      <th>7040</th>\n",
              "      <td>0</td>\n",
              "      <td>0</td>\n",
              "      <td>1</td>\n",
              "      <td>1</td>\n",
              "      <td>11</td>\n",
              "      <td>0</td>\n",
              "      <td>2</td>\n",
              "      <td>0</td>\n",
              "      <td>1</td>\n",
              "      <td>0</td>\n",
              "      <td>0</td>\n",
              "      <td>0</td>\n",
              "      <td>0</td>\n",
              "      <td>0</td>\n",
              "      <td>0</td>\n",
              "      <td>1</td>\n",
              "      <td>0</td>\n",
              "      <td>29.60</td>\n",
              "      <td>346.45</td>\n",
              "      <td>0</td>\n",
              "    </tr>\n",
              "    <tr>\n",
              "      <th>7041</th>\n",
              "      <td>1</td>\n",
              "      <td>1</td>\n",
              "      <td>1</td>\n",
              "      <td>0</td>\n",
              "      <td>4</td>\n",
              "      <td>1</td>\n",
              "      <td>1</td>\n",
              "      <td>1</td>\n",
              "      <td>0</td>\n",
              "      <td>0</td>\n",
              "      <td>0</td>\n",
              "      <td>0</td>\n",
              "      <td>0</td>\n",
              "      <td>0</td>\n",
              "      <td>0</td>\n",
              "      <td>1</td>\n",
              "      <td>1</td>\n",
              "      <td>74.40</td>\n",
              "      <td>306.60</td>\n",
              "      <td>1</td>\n",
              "    </tr>\n",
              "    <tr>\n",
              "      <th>7042</th>\n",
              "      <td>1</td>\n",
              "      <td>0</td>\n",
              "      <td>0</td>\n",
              "      <td>0</td>\n",
              "      <td>66</td>\n",
              "      <td>1</td>\n",
              "      <td>0</td>\n",
              "      <td>1</td>\n",
              "      <td>1</td>\n",
              "      <td>0</td>\n",
              "      <td>1</td>\n",
              "      <td>1</td>\n",
              "      <td>1</td>\n",
              "      <td>1</td>\n",
              "      <td>2</td>\n",
              "      <td>1</td>\n",
              "      <td>2</td>\n",
              "      <td>105.65</td>\n",
              "      <td>6844.50</td>\n",
              "      <td>0</td>\n",
              "    </tr>\n",
              "  </tbody>\n",
              "</table>\n",
              "<p>7043 rows × 20 columns</p>\n",
              "</div>\n",
              "      <button class=\"colab-df-convert\" onclick=\"convertToInteractive('df-013af23a-cdc7-4cd6-875d-15e74c16cf18')\"\n",
              "              title=\"Convert this dataframe to an interactive table.\"\n",
              "              style=\"display:none;\">\n",
              "        \n",
              "  <svg xmlns=\"http://www.w3.org/2000/svg\" height=\"24px\"viewBox=\"0 0 24 24\"\n",
              "       width=\"24px\">\n",
              "    <path d=\"M0 0h24v24H0V0z\" fill=\"none\"/>\n",
              "    <path d=\"M18.56 5.44l.94 2.06.94-2.06 2.06-.94-2.06-.94-.94-2.06-.94 2.06-2.06.94zm-11 1L8.5 8.5l.94-2.06 2.06-.94-2.06-.94L8.5 2.5l-.94 2.06-2.06.94zm10 10l.94 2.06.94-2.06 2.06-.94-2.06-.94-.94-2.06-.94 2.06-2.06.94z\"/><path d=\"M17.41 7.96l-1.37-1.37c-.4-.4-.92-.59-1.43-.59-.52 0-1.04.2-1.43.59L10.3 9.45l-7.72 7.72c-.78.78-.78 2.05 0 2.83L4 21.41c.39.39.9.59 1.41.59.51 0 1.02-.2 1.41-.59l7.78-7.78 2.81-2.81c.8-.78.8-2.07 0-2.86zM5.41 20L4 18.59l7.72-7.72 1.47 1.35L5.41 20z\"/>\n",
              "  </svg>\n",
              "      </button>\n",
              "      \n",
              "  <style>\n",
              "    .colab-df-container {\n",
              "      display:flex;\n",
              "      flex-wrap:wrap;\n",
              "      gap: 12px;\n",
              "    }\n",
              "\n",
              "    .colab-df-convert {\n",
              "      background-color: #E8F0FE;\n",
              "      border: none;\n",
              "      border-radius: 50%;\n",
              "      cursor: pointer;\n",
              "      display: none;\n",
              "      fill: #1967D2;\n",
              "      height: 32px;\n",
              "      padding: 0 0 0 0;\n",
              "      width: 32px;\n",
              "    }\n",
              "\n",
              "    .colab-df-convert:hover {\n",
              "      background-color: #E2EBFA;\n",
              "      box-shadow: 0px 1px 2px rgba(60, 64, 67, 0.3), 0px 1px 3px 1px rgba(60, 64, 67, 0.15);\n",
              "      fill: #174EA6;\n",
              "    }\n",
              "\n",
              "    [theme=dark] .colab-df-convert {\n",
              "      background-color: #3B4455;\n",
              "      fill: #D2E3FC;\n",
              "    }\n",
              "\n",
              "    [theme=dark] .colab-df-convert:hover {\n",
              "      background-color: #434B5C;\n",
              "      box-shadow: 0px 1px 3px 1px rgba(0, 0, 0, 0.15);\n",
              "      filter: drop-shadow(0px 1px 2px rgba(0, 0, 0, 0.3));\n",
              "      fill: #FFFFFF;\n",
              "    }\n",
              "  </style>\n",
              "\n",
              "      <script>\n",
              "        const buttonEl =\n",
              "          document.querySelector('#df-013af23a-cdc7-4cd6-875d-15e74c16cf18 button.colab-df-convert');\n",
              "        buttonEl.style.display =\n",
              "          google.colab.kernel.accessAllowed ? 'block' : 'none';\n",
              "\n",
              "        async function convertToInteractive(key) {\n",
              "          const element = document.querySelector('#df-013af23a-cdc7-4cd6-875d-15e74c16cf18');\n",
              "          const dataTable =\n",
              "            await google.colab.kernel.invokeFunction('convertToInteractive',\n",
              "                                                     [key], {});\n",
              "          if (!dataTable) return;\n",
              "\n",
              "          const docLinkHtml = 'Like what you see? Visit the ' +\n",
              "            '<a target=\"_blank\" href=https://colab.research.google.com/notebooks/data_table.ipynb>data table notebook</a>'\n",
              "            + ' to learn more about interactive tables.';\n",
              "          element.innerHTML = '';\n",
              "          dataTable['output_type'] = 'display_data';\n",
              "          await google.colab.output.renderOutput(dataTable, element);\n",
              "          const docLink = document.createElement('div');\n",
              "          docLink.innerHTML = docLinkHtml;\n",
              "          element.appendChild(docLink);\n",
              "        }\n",
              "      </script>\n",
              "    </div>\n",
              "  </div>\n",
              "  "
            ]
          },
          "metadata": {},
          "execution_count": 788
        }
      ]
    },
    {
      "cell_type": "code",
      "source": [
        "train.info()"
      ],
      "metadata": {
        "colab": {
          "base_uri": "https://localhost:8080/"
        },
        "id": "cOsfYYmNjMfj",
        "outputId": "436cce7b-31b7-4bc8-922c-eb536fcfb4e0"
      },
      "execution_count": 789,
      "outputs": [
        {
          "output_type": "stream",
          "name": "stdout",
          "text": [
            "<class 'pandas.core.frame.DataFrame'>\n",
            "RangeIndex: 7043 entries, 0 to 7042\n",
            "Data columns (total 20 columns):\n",
            " #   Column               Non-Null Count  Dtype  \n",
            "---  ------               --------------  -----  \n",
            " 0   Sexo                 7043 non-null   int64  \n",
            " 1   Idoso                7043 non-null   int64  \n",
            " 2   Parceiro/a           7043 non-null   int64  \n",
            " 3   Dependentes          7043 non-null   int64  \n",
            " 4   Meses sob contrato   7043 non-null   int64  \n",
            " 5   Serviço de telefone  7043 non-null   int64  \n",
            " 6   +de 1 linha phone    7043 non-null   int64  \n",
            " 7   Internet             7043 non-null   int64  \n",
            " 8   Segurança online     7043 non-null   int64  \n",
            " 9   Serviço Backup       7043 non-null   int64  \n",
            " 10  Proteção             7043 non-null   int64  \n",
            " 11  Suporte técnico      7043 non-null   int64  \n",
            " 12  StreamingTV          7043 non-null   int64  \n",
            " 13  StreamingMovies      7043 non-null   int64  \n",
            " 14  Tipo de Contrato     7043 non-null   int64  \n",
            " 15  Fatura em papel      7043 non-null   int64  \n",
            " 16  Forma de Pgto        7043 non-null   int64  \n",
            " 17  Valor do Plano       7043 non-null   float64\n",
            " 18  Total da Fatura      7032 non-null   float64\n",
            " 19  Rotatividade         7043 non-null   int64  \n",
            "dtypes: float64(2), int64(18)\n",
            "memory usage: 1.1 MB\n"
          ]
        }
      ]
    },
    {
      "cell_type": "code",
      "source": [
        "#ajusta a coluna \"Tolta da Fatura\" nota-se que existiam 11 valores ausentes.\n",
        "abacate = train.isnull().sum()\n",
        "print(abacate[abacate>0])"
      ],
      "metadata": {
        "colab": {
          "base_uri": "https://localhost:8080/"
        },
        "id": "pogODS5pcoy8",
        "outputId": "33deb514-6596-47e8-9808-3c0018f96410"
      },
      "execution_count": 790,
      "outputs": [
        {
          "output_type": "stream",
          "name": "stdout",
          "text": [
            "Total da Fatura    11\n",
            "dtype: int64\n"
          ]
        }
      ]
    },
    {
      "cell_type": "code",
      "source": [
        "train[train['Total da Fatura'].isnull()]"
      ],
      "metadata": {
        "colab": {
          "base_uri": "https://localhost:8080/",
          "height": 473
        },
        "id": "LSTo2FscdYJv",
        "outputId": "128c831a-5a84-48d6-a00b-c068f0233097"
      },
      "execution_count": 791,
      "outputs": [
        {
          "output_type": "execute_result",
          "data": {
            "text/plain": [
              "      Sexo  Idoso  Parceiro/a  Dependentes  Meses sob contrato  \\\n",
              "488      0      0           1            1                   0   \n",
              "753      1      0           0            1                   0   \n",
              "936      0      0           1            1                   0   \n",
              "1082     1      0           1            1                   0   \n",
              "1340     0      0           1            1                   0   \n",
              "3331     1      0           1            1                   0   \n",
              "3826     1      0           1            1                   0   \n",
              "4380     0      0           1            1                   0   \n",
              "5218     1      0           1            1                   0   \n",
              "6670     0      0           1            1                   0   \n",
              "6754     1      0           0            1                   0   \n",
              "\n",
              "      Serviço de telefone  +de 1 linha phone  Internet  Segurança online  \\\n",
              "488                     0                  2         0                 1   \n",
              "753                     1                  0         2                 2   \n",
              "936                     1                  0         0                 1   \n",
              "1082                    1                  1         2                 2   \n",
              "1340                    0                  2         0                 1   \n",
              "3331                    1                  0         2                 2   \n",
              "3826                    1                  1         2                 2   \n",
              "4380                    1                  0         2                 2   \n",
              "5218                    1                  0         2                 2   \n",
              "6670                    1                  1         0                 0   \n",
              "6754                    1                  1         0                 1   \n",
              "\n",
              "      Serviço Backup  Proteção  Suporte técnico  StreamingTV  StreamingMovies  \\\n",
              "488                0         1                1            1                0   \n",
              "753                2         2                2            2                2   \n",
              "936                1         1                0            1                1   \n",
              "1082               2         2                2            2                2   \n",
              "1340               1         1                1            1                0   \n",
              "3331               2         2                2            2                2   \n",
              "3826               2         2                2            2                2   \n",
              "4380               2         2                2            2                2   \n",
              "5218               2         2                2            2                2   \n",
              "6670               1         1                1            1                0   \n",
              "6754               1         0                1            0                0   \n",
              "\n",
              "      Tipo de Contrato  Fatura em papel  Forma de Pgto  Valor do Plano  \\\n",
              "488                  2                1              2           52.55   \n",
              "753                  2                0              1           20.25   \n",
              "936                  2                0              1           80.85   \n",
              "1082                 2                0              1           25.75   \n",
              "1340                 2                0              3           56.05   \n",
              "3331                 2                0              1           19.85   \n",
              "3826                 2                0              1           25.35   \n",
              "4380                 2                0              1           20.00   \n",
              "5218                 1                1              1           19.70   \n",
              "6670                 2                0              1           73.35   \n",
              "6754                 2                1              2           61.90   \n",
              "\n",
              "      Total da Fatura  Rotatividade  \n",
              "488               NaN             0  \n",
              "753               NaN             0  \n",
              "936               NaN             0  \n",
              "1082              NaN             0  \n",
              "1340              NaN             0  \n",
              "3331              NaN             0  \n",
              "3826              NaN             0  \n",
              "4380              NaN             0  \n",
              "5218              NaN             0  \n",
              "6670              NaN             0  \n",
              "6754              NaN             0  "
            ],
            "text/html": [
              "\n",
              "  <div id=\"df-0436581b-2bc6-444b-a20e-01c874ef48c0\">\n",
              "    <div class=\"colab-df-container\">\n",
              "      <div>\n",
              "<style scoped>\n",
              "    .dataframe tbody tr th:only-of-type {\n",
              "        vertical-align: middle;\n",
              "    }\n",
              "\n",
              "    .dataframe tbody tr th {\n",
              "        vertical-align: top;\n",
              "    }\n",
              "\n",
              "    .dataframe thead th {\n",
              "        text-align: right;\n",
              "    }\n",
              "</style>\n",
              "<table border=\"1\" class=\"dataframe\">\n",
              "  <thead>\n",
              "    <tr style=\"text-align: right;\">\n",
              "      <th></th>\n",
              "      <th>Sexo</th>\n",
              "      <th>Idoso</th>\n",
              "      <th>Parceiro/a</th>\n",
              "      <th>Dependentes</th>\n",
              "      <th>Meses sob contrato</th>\n",
              "      <th>Serviço de telefone</th>\n",
              "      <th>+de 1 linha phone</th>\n",
              "      <th>Internet</th>\n",
              "      <th>Segurança online</th>\n",
              "      <th>Serviço Backup</th>\n",
              "      <th>Proteção</th>\n",
              "      <th>Suporte técnico</th>\n",
              "      <th>StreamingTV</th>\n",
              "      <th>StreamingMovies</th>\n",
              "      <th>Tipo de Contrato</th>\n",
              "      <th>Fatura em papel</th>\n",
              "      <th>Forma de Pgto</th>\n",
              "      <th>Valor do Plano</th>\n",
              "      <th>Total da Fatura</th>\n",
              "      <th>Rotatividade</th>\n",
              "    </tr>\n",
              "  </thead>\n",
              "  <tbody>\n",
              "    <tr>\n",
              "      <th>488</th>\n",
              "      <td>0</td>\n",
              "      <td>0</td>\n",
              "      <td>1</td>\n",
              "      <td>1</td>\n",
              "      <td>0</td>\n",
              "      <td>0</td>\n",
              "      <td>2</td>\n",
              "      <td>0</td>\n",
              "      <td>1</td>\n",
              "      <td>0</td>\n",
              "      <td>1</td>\n",
              "      <td>1</td>\n",
              "      <td>1</td>\n",
              "      <td>0</td>\n",
              "      <td>2</td>\n",
              "      <td>1</td>\n",
              "      <td>2</td>\n",
              "      <td>52.55</td>\n",
              "      <td>NaN</td>\n",
              "      <td>0</td>\n",
              "    </tr>\n",
              "    <tr>\n",
              "      <th>753</th>\n",
              "      <td>1</td>\n",
              "      <td>0</td>\n",
              "      <td>0</td>\n",
              "      <td>1</td>\n",
              "      <td>0</td>\n",
              "      <td>1</td>\n",
              "      <td>0</td>\n",
              "      <td>2</td>\n",
              "      <td>2</td>\n",
              "      <td>2</td>\n",
              "      <td>2</td>\n",
              "      <td>2</td>\n",
              "      <td>2</td>\n",
              "      <td>2</td>\n",
              "      <td>2</td>\n",
              "      <td>0</td>\n",
              "      <td>1</td>\n",
              "      <td>20.25</td>\n",
              "      <td>NaN</td>\n",
              "      <td>0</td>\n",
              "    </tr>\n",
              "    <tr>\n",
              "      <th>936</th>\n",
              "      <td>0</td>\n",
              "      <td>0</td>\n",
              "      <td>1</td>\n",
              "      <td>1</td>\n",
              "      <td>0</td>\n",
              "      <td>1</td>\n",
              "      <td>0</td>\n",
              "      <td>0</td>\n",
              "      <td>1</td>\n",
              "      <td>1</td>\n",
              "      <td>1</td>\n",
              "      <td>0</td>\n",
              "      <td>1</td>\n",
              "      <td>1</td>\n",
              "      <td>2</td>\n",
              "      <td>0</td>\n",
              "      <td>1</td>\n",
              "      <td>80.85</td>\n",
              "      <td>NaN</td>\n",
              "      <td>0</td>\n",
              "    </tr>\n",
              "    <tr>\n",
              "      <th>1082</th>\n",
              "      <td>1</td>\n",
              "      <td>0</td>\n",
              "      <td>1</td>\n",
              "      <td>1</td>\n",
              "      <td>0</td>\n",
              "      <td>1</td>\n",
              "      <td>1</td>\n",
              "      <td>2</td>\n",
              "      <td>2</td>\n",
              "      <td>2</td>\n",
              "      <td>2</td>\n",
              "      <td>2</td>\n",
              "      <td>2</td>\n",
              "      <td>2</td>\n",
              "      <td>2</td>\n",
              "      <td>0</td>\n",
              "      <td>1</td>\n",
              "      <td>25.75</td>\n",
              "      <td>NaN</td>\n",
              "      <td>0</td>\n",
              "    </tr>\n",
              "    <tr>\n",
              "      <th>1340</th>\n",
              "      <td>0</td>\n",
              "      <td>0</td>\n",
              "      <td>1</td>\n",
              "      <td>1</td>\n",
              "      <td>0</td>\n",
              "      <td>0</td>\n",
              "      <td>2</td>\n",
              "      <td>0</td>\n",
              "      <td>1</td>\n",
              "      <td>1</td>\n",
              "      <td>1</td>\n",
              "      <td>1</td>\n",
              "      <td>1</td>\n",
              "      <td>0</td>\n",
              "      <td>2</td>\n",
              "      <td>0</td>\n",
              "      <td>3</td>\n",
              "      <td>56.05</td>\n",
              "      <td>NaN</td>\n",
              "      <td>0</td>\n",
              "    </tr>\n",
              "    <tr>\n",
              "      <th>3331</th>\n",
              "      <td>1</td>\n",
              "      <td>0</td>\n",
              "      <td>1</td>\n",
              "      <td>1</td>\n",
              "      <td>0</td>\n",
              "      <td>1</td>\n",
              "      <td>0</td>\n",
              "      <td>2</td>\n",
              "      <td>2</td>\n",
              "      <td>2</td>\n",
              "      <td>2</td>\n",
              "      <td>2</td>\n",
              "      <td>2</td>\n",
              "      <td>2</td>\n",
              "      <td>2</td>\n",
              "      <td>0</td>\n",
              "      <td>1</td>\n",
              "      <td>19.85</td>\n",
              "      <td>NaN</td>\n",
              "      <td>0</td>\n",
              "    </tr>\n",
              "    <tr>\n",
              "      <th>3826</th>\n",
              "      <td>1</td>\n",
              "      <td>0</td>\n",
              "      <td>1</td>\n",
              "      <td>1</td>\n",
              "      <td>0</td>\n",
              "      <td>1</td>\n",
              "      <td>1</td>\n",
              "      <td>2</td>\n",
              "      <td>2</td>\n",
              "      <td>2</td>\n",
              "      <td>2</td>\n",
              "      <td>2</td>\n",
              "      <td>2</td>\n",
              "      <td>2</td>\n",
              "      <td>2</td>\n",
              "      <td>0</td>\n",
              "      <td>1</td>\n",
              "      <td>25.35</td>\n",
              "      <td>NaN</td>\n",
              "      <td>0</td>\n",
              "    </tr>\n",
              "    <tr>\n",
              "      <th>4380</th>\n",
              "      <td>0</td>\n",
              "      <td>0</td>\n",
              "      <td>1</td>\n",
              "      <td>1</td>\n",
              "      <td>0</td>\n",
              "      <td>1</td>\n",
              "      <td>0</td>\n",
              "      <td>2</td>\n",
              "      <td>2</td>\n",
              "      <td>2</td>\n",
              "      <td>2</td>\n",
              "      <td>2</td>\n",
              "      <td>2</td>\n",
              "      <td>2</td>\n",
              "      <td>2</td>\n",
              "      <td>0</td>\n",
              "      <td>1</td>\n",
              "      <td>20.00</td>\n",
              "      <td>NaN</td>\n",
              "      <td>0</td>\n",
              "    </tr>\n",
              "    <tr>\n",
              "      <th>5218</th>\n",
              "      <td>1</td>\n",
              "      <td>0</td>\n",
              "      <td>1</td>\n",
              "      <td>1</td>\n",
              "      <td>0</td>\n",
              "      <td>1</td>\n",
              "      <td>0</td>\n",
              "      <td>2</td>\n",
              "      <td>2</td>\n",
              "      <td>2</td>\n",
              "      <td>2</td>\n",
              "      <td>2</td>\n",
              "      <td>2</td>\n",
              "      <td>2</td>\n",
              "      <td>1</td>\n",
              "      <td>1</td>\n",
              "      <td>1</td>\n",
              "      <td>19.70</td>\n",
              "      <td>NaN</td>\n",
              "      <td>0</td>\n",
              "    </tr>\n",
              "    <tr>\n",
              "      <th>6670</th>\n",
              "      <td>0</td>\n",
              "      <td>0</td>\n",
              "      <td>1</td>\n",
              "      <td>1</td>\n",
              "      <td>0</td>\n",
              "      <td>1</td>\n",
              "      <td>1</td>\n",
              "      <td>0</td>\n",
              "      <td>0</td>\n",
              "      <td>1</td>\n",
              "      <td>1</td>\n",
              "      <td>1</td>\n",
              "      <td>1</td>\n",
              "      <td>0</td>\n",
              "      <td>2</td>\n",
              "      <td>0</td>\n",
              "      <td>1</td>\n",
              "      <td>73.35</td>\n",
              "      <td>NaN</td>\n",
              "      <td>0</td>\n",
              "    </tr>\n",
              "    <tr>\n",
              "      <th>6754</th>\n",
              "      <td>1</td>\n",
              "      <td>0</td>\n",
              "      <td>0</td>\n",
              "      <td>1</td>\n",
              "      <td>0</td>\n",
              "      <td>1</td>\n",
              "      <td>1</td>\n",
              "      <td>0</td>\n",
              "      <td>1</td>\n",
              "      <td>1</td>\n",
              "      <td>0</td>\n",
              "      <td>1</td>\n",
              "      <td>0</td>\n",
              "      <td>0</td>\n",
              "      <td>2</td>\n",
              "      <td>1</td>\n",
              "      <td>2</td>\n",
              "      <td>61.90</td>\n",
              "      <td>NaN</td>\n",
              "      <td>0</td>\n",
              "    </tr>\n",
              "  </tbody>\n",
              "</table>\n",
              "</div>\n",
              "      <button class=\"colab-df-convert\" onclick=\"convertToInteractive('df-0436581b-2bc6-444b-a20e-01c874ef48c0')\"\n",
              "              title=\"Convert this dataframe to an interactive table.\"\n",
              "              style=\"display:none;\">\n",
              "        \n",
              "  <svg xmlns=\"http://www.w3.org/2000/svg\" height=\"24px\"viewBox=\"0 0 24 24\"\n",
              "       width=\"24px\">\n",
              "    <path d=\"M0 0h24v24H0V0z\" fill=\"none\"/>\n",
              "    <path d=\"M18.56 5.44l.94 2.06.94-2.06 2.06-.94-2.06-.94-.94-2.06-.94 2.06-2.06.94zm-11 1L8.5 8.5l.94-2.06 2.06-.94-2.06-.94L8.5 2.5l-.94 2.06-2.06.94zm10 10l.94 2.06.94-2.06 2.06-.94-2.06-.94-.94-2.06-.94 2.06-2.06.94z\"/><path d=\"M17.41 7.96l-1.37-1.37c-.4-.4-.92-.59-1.43-.59-.52 0-1.04.2-1.43.59L10.3 9.45l-7.72 7.72c-.78.78-.78 2.05 0 2.83L4 21.41c.39.39.9.59 1.41.59.51 0 1.02-.2 1.41-.59l7.78-7.78 2.81-2.81c.8-.78.8-2.07 0-2.86zM5.41 20L4 18.59l7.72-7.72 1.47 1.35L5.41 20z\"/>\n",
              "  </svg>\n",
              "      </button>\n",
              "      \n",
              "  <style>\n",
              "    .colab-df-container {\n",
              "      display:flex;\n",
              "      flex-wrap:wrap;\n",
              "      gap: 12px;\n",
              "    }\n",
              "\n",
              "    .colab-df-convert {\n",
              "      background-color: #E8F0FE;\n",
              "      border: none;\n",
              "      border-radius: 50%;\n",
              "      cursor: pointer;\n",
              "      display: none;\n",
              "      fill: #1967D2;\n",
              "      height: 32px;\n",
              "      padding: 0 0 0 0;\n",
              "      width: 32px;\n",
              "    }\n",
              "\n",
              "    .colab-df-convert:hover {\n",
              "      background-color: #E2EBFA;\n",
              "      box-shadow: 0px 1px 2px rgba(60, 64, 67, 0.3), 0px 1px 3px 1px rgba(60, 64, 67, 0.15);\n",
              "      fill: #174EA6;\n",
              "    }\n",
              "\n",
              "    [theme=dark] .colab-df-convert {\n",
              "      background-color: #3B4455;\n",
              "      fill: #D2E3FC;\n",
              "    }\n",
              "\n",
              "    [theme=dark] .colab-df-convert:hover {\n",
              "      background-color: #434B5C;\n",
              "      box-shadow: 0px 1px 3px 1px rgba(0, 0, 0, 0.15);\n",
              "      filter: drop-shadow(0px 1px 2px rgba(0, 0, 0, 0.3));\n",
              "      fill: #FFFFFF;\n",
              "    }\n",
              "  </style>\n",
              "\n",
              "      <script>\n",
              "        const buttonEl =\n",
              "          document.querySelector('#df-0436581b-2bc6-444b-a20e-01c874ef48c0 button.colab-df-convert');\n",
              "        buttonEl.style.display =\n",
              "          google.colab.kernel.accessAllowed ? 'block' : 'none';\n",
              "\n",
              "        async function convertToInteractive(key) {\n",
              "          const element = document.querySelector('#df-0436581b-2bc6-444b-a20e-01c874ef48c0');\n",
              "          const dataTable =\n",
              "            await google.colab.kernel.invokeFunction('convertToInteractive',\n",
              "                                                     [key], {});\n",
              "          if (!dataTable) return;\n",
              "\n",
              "          const docLinkHtml = 'Like what you see? Visit the ' +\n",
              "            '<a target=\"_blank\" href=https://colab.research.google.com/notebooks/data_table.ipynb>data table notebook</a>'\n",
              "            + ' to learn more about interactive tables.';\n",
              "          element.innerHTML = '';\n",
              "          dataTable['output_type'] = 'display_data';\n",
              "          await google.colab.output.renderOutput(dataTable, element);\n",
              "          const docLink = document.createElement('div');\n",
              "          docLink.innerHTML = docLinkHtml;\n",
              "          element.appendChild(docLink);\n",
              "        }\n",
              "      </script>\n",
              "    </div>\n",
              "  </div>\n",
              "  "
            ]
          },
          "metadata": {},
          "execution_count": 791
        }
      ]
    },
    {
      "cell_type": "code",
      "source": [
        "#elementos para o preproessamento\n",
        "from sklearn.model_selection import train_test_split\n",
        "from sklearn.pipeline import Pipeline\n",
        "from sklearn.impute import SimpleImputer\n",
        "from sklearn.preprocessing import OneHotEncoder\n",
        "from sklearn.compose import ColumnTransformer"
      ],
      "metadata": {
        "id": "VfUtDnK-j2xK"
      },
      "execution_count": 792,
      "outputs": []
    },
    {
      "cell_type": "code",
      "source": [
        "#bibliotecas de machine learning\n",
        "from sklearn.ensemble import RandomForestClassifier\n",
        "from sklearn.ensemble import GradientBoostingClassifier\n",
        "from sklearn.ensemble import AdaBoostClassifier\n",
        "from sklearn.linear_model import LogisticRegression\n",
        "from xgboost import XGBRegressor"
      ],
      "metadata": {
        "id": "-dLINQHVngXC"
      },
      "execution_count": 793,
      "outputs": []
    },
    {
      "cell_type": "code",
      "source": [
        "#bibliotecas auxiliares\n",
        "from sklearn.metrics import classification_report\n",
        "from sklearn.metrics import confusion_matrix\n",
        "from sklearn.model_selection import cross_val_score\n",
        "from sklearn.metrics import mean_absolute_error\n",
        "from sklearn.metrics import mutual_info_score"
      ],
      "metadata": {
        "id": "tgs0RSjkn1Y6"
      },
      "execution_count": 794,
      "outputs": []
    },
    {
      "cell_type": "markdown",
      "source": [
        "# função para testar modelos"
      ],
      "metadata": {
        "id": "7GGgloCs_RXx"
      }
    },
    {
      "cell_type": "code",
      "source": [
        "def modelo(dataframe, maquina):\n",
        "  X = dataframe.drop('Rotatividade', axis = 1)\n",
        "  y = dataframe['Rotatividade']\n",
        "\n",
        "  X_train, X_valid, y_train, y_valid = train_test_split(X, y, train_size= 0.7, test_size=0.3)\n",
        "\n",
        "  colunas_numericas = [n for n in X_train.columns if X_train[n].dtype in ['float64']]\n",
        "  colunas_categoricas = [m for m in X_train.columns if X_train[m].dtype in ['int64']]\n",
        "  colunas_totais = colunas_numericas+colunas_categoricas\n",
        "\n",
        "  X_train = X_train[colunas_totais].copy()\n",
        "  X_valid = X_valid[colunas_totais].copy()\n",
        "\n",
        "  #preprocessamento\n",
        "\n",
        "  imputacao = SimpleImputer(strategy = 'mean')\n",
        "\n",
        "  categoricos = Pipeline(steps=[\n",
        "    ('imputacao', SimpleImputer(strategy='most_frequent')),\n",
        "    ('onehotenconder', OneHotEncoder(sparse=False, handle_unknown='ignore'))\n",
        "  ])\n",
        "\n",
        "  preprocessor = ColumnTransformer(transformers = [\n",
        "      ('num', imputacao, colunas_numericas),\n",
        "      ('cat', categoricos, colunas_categoricas)\n",
        "  ])\n",
        "\n",
        "  modelo = maquina()\n",
        "  ml = Pipeline(steps=[\n",
        "      ('pre', preprocessor),\n",
        "      ('learning', modelo)\n",
        "  ])\n",
        "\n",
        "  ml.fit(X_train, y_train)\n",
        "  score_train = ml.score(X_train, y_train)\n",
        "  print(f'Acurácia treino: {score_train * 100:.2f}%')\n",
        "\n",
        "  score_valid = ml.score(X_valid, y_valid)\n",
        "  print(f'Acurácia com validação cruzada: {score_valid*100:.2f}%')\n",
        "  \n",
        "\n",
        "  scores = cross_val_score(ml, X_train, y_train, cv=5, scoring='accuracy')\n",
        "\n",
        "  print(f'Média com validação cruzada:', scores.mean())\n",
        "  print(f'Desvio Padrão da validação cruzada:', scores.std())\n",
        "\n",
        "  preds = ml.predict(X_valid)\n",
        "  print('Classification report')\n",
        "  print(classification_report(y_valid, preds))\n",
        "\n",
        "\n",
        "  print('Confusion Matrix')\n",
        "  print(confusion_matrix(y_valid, preds))\n",
        "\n",
        "  return score_train, score_valid"
      ],
      "metadata": {
        "id": "FHkjU38P_ejj"
      },
      "execution_count": 795,
      "outputs": []
    },
    {
      "cell_type": "code",
      "source": [
        "acc_rf, acc_rf_cv = modelo(train, RandomForestClassifier)"
      ],
      "metadata": {
        "colab": {
          "base_uri": "https://localhost:8080/"
        },
        "id": "nn0i1RaoL0Fh",
        "outputId": "2d91e31a-73bb-49c6-f71a-31f2cdcf6c45"
      },
      "execution_count": 796,
      "outputs": [
        {
          "output_type": "stream",
          "name": "stdout",
          "text": [
            "Acurácia treino: 99.84%\n",
            "Acurácia com validação cruzada: 79.03%\n",
            "Média com validação cruzada: 0.7926977687626775\n",
            "Desvio Padrão da validação cruzada: 0.009418407112571138\n",
            "Classification report\n",
            "              precision    recall  f1-score   support\n",
            "\n",
            "           0       0.83      0.91      0.86      1550\n",
            "           1       0.65      0.47      0.55       563\n",
            "\n",
            "    accuracy                           0.79      2113\n",
            "   macro avg       0.74      0.69      0.70      2113\n",
            "weighted avg       0.78      0.79      0.78      2113\n",
            "\n",
            "Confusion Matrix\n",
            "[[1404  146]\n",
            " [ 297  266]]\n"
          ]
        }
      ]
    },
    {
      "cell_type": "code",
      "source": [
        "acc_boos, acc_boos_cv = modelo(train, GradientBoostingClassifier)"
      ],
      "metadata": {
        "colab": {
          "base_uri": "https://localhost:8080/"
        },
        "id": "EChu09e5L_WI",
        "outputId": "1987f298-3580-4d9d-8437-76ad8745aca3"
      },
      "execution_count": 797,
      "outputs": [
        {
          "output_type": "stream",
          "name": "stdout",
          "text": [
            "Acurácia treino: 82.78%\n",
            "Acurácia com validação cruzada: 80.74%\n",
            "Média com validação cruzada: 0.7941176470588236\n",
            "Desvio Padrão da validação cruzada: 0.00968546562784043\n",
            "Classification report\n",
            "              precision    recall  f1-score   support\n",
            "\n",
            "           0       0.84      0.91      0.87      1553\n",
            "           1       0.68      0.52      0.59       560\n",
            "\n",
            "    accuracy                           0.81      2113\n",
            "   macro avg       0.76      0.72      0.73      2113\n",
            "weighted avg       0.80      0.81      0.80      2113\n",
            "\n",
            "Confusion Matrix\n",
            "[[1415  138]\n",
            " [ 269  291]]\n"
          ]
        }
      ]
    },
    {
      "cell_type": "code",
      "source": [
        "acc_ada, acc_ada_cv = modelo(train, AdaBoostClassifier)"
      ],
      "metadata": {
        "colab": {
          "base_uri": "https://localhost:8080/"
        },
        "id": "tHMvG0h-OHh1",
        "outputId": "2e798987-d5c9-4a45-982c-f72454c9382d"
      },
      "execution_count": 798,
      "outputs": [
        {
          "output_type": "stream",
          "name": "stdout",
          "text": [
            "Acurácia treino: 80.34%\n",
            "Acurácia com validação cruzada: 80.50%\n",
            "Média com validação cruzada: 0.7912778904665314\n",
            "Desvio Padrão da validação cruzada: 0.01146358714072599\n",
            "Classification report\n",
            "              precision    recall  f1-score   support\n",
            "\n",
            "           0       0.85      0.90      0.87      1564\n",
            "           1       0.65      0.54      0.59       549\n",
            "\n",
            "    accuracy                           0.81      2113\n",
            "   macro avg       0.75      0.72      0.73      2113\n",
            "weighted avg       0.80      0.81      0.80      2113\n",
            "\n",
            "Confusion Matrix\n",
            "[[1404  160]\n",
            " [ 252  297]]\n"
          ]
        }
      ]
    },
    {
      "cell_type": "code",
      "source": [
        "train"
      ],
      "metadata": {
        "colab": {
          "base_uri": "https://localhost:8080/",
          "height": 502
        },
        "id": "kOTdk6ij97aT",
        "outputId": "26cfc119-ce3b-47d1-ace7-3180c62aae06"
      },
      "execution_count": 799,
      "outputs": [
        {
          "output_type": "execute_result",
          "data": {
            "text/plain": [
              "      Sexo  Idoso  Parceiro/a  Dependentes  Meses sob contrato  \\\n",
              "0        0      0           1            0                   1   \n",
              "1        1      0           0            0                  34   \n",
              "2        1      0           0            0                   2   \n",
              "3        1      0           0            0                  45   \n",
              "4        0      0           0            0                   2   \n",
              "...    ...    ...         ...          ...                 ...   \n",
              "7038     1      0           1            1                  24   \n",
              "7039     0      0           1            1                  72   \n",
              "7040     0      0           1            1                  11   \n",
              "7041     1      1           1            0                   4   \n",
              "7042     1      0           0            0                  66   \n",
              "\n",
              "      Serviço de telefone  +de 1 linha phone  Internet  Segurança online  \\\n",
              "0                       0                  2         0                 0   \n",
              "1                       1                  0         0                 1   \n",
              "2                       1                  0         0                 1   \n",
              "3                       0                  2         0                 1   \n",
              "4                       1                  0         1                 0   \n",
              "...                   ...                ...       ...               ...   \n",
              "7038                    1                  1         0                 1   \n",
              "7039                    1                  1         1                 0   \n",
              "7040                    0                  2         0                 1   \n",
              "7041                    1                  1         1                 0   \n",
              "7042                    1                  0         1                 1   \n",
              "\n",
              "      Serviço Backup  Proteção  Suporte técnico  StreamingTV  StreamingMovies  \\\n",
              "0                  1         0                0            0                0   \n",
              "1                  0         1                0            0                0   \n",
              "2                  1         0                0            0                0   \n",
              "3                  0         1                1            0                0   \n",
              "4                  0         0                0            0                0   \n",
              "...              ...       ...              ...          ...              ...   \n",
              "7038               0         1                1            1                1   \n",
              "7039               1         1                0            1                1   \n",
              "7040               0         0                0            0                0   \n",
              "7041               0         0                0            0                0   \n",
              "7042               0         1                1            1                1   \n",
              "\n",
              "      Tipo de Contrato  Fatura em papel  Forma de Pgto  Valor do Plano  \\\n",
              "0                    0                1              0           29.85   \n",
              "1                    1                0              1           56.95   \n",
              "2                    0                1              1           53.85   \n",
              "3                    1                0              2           42.30   \n",
              "4                    0                1              0           70.70   \n",
              "...                ...              ...            ...             ...   \n",
              "7038                 1                1              1           84.80   \n",
              "7039                 1                1              3          103.20   \n",
              "7040                 0                1              0           29.60   \n",
              "7041                 0                1              1           74.40   \n",
              "7042                 2                1              2          105.65   \n",
              "\n",
              "      Total da Fatura  Rotatividade  \n",
              "0               29.85             0  \n",
              "1             1889.50             0  \n",
              "2              108.15             1  \n",
              "3             1840.75             0  \n",
              "4              151.65             1  \n",
              "...               ...           ...  \n",
              "7038          1990.50             0  \n",
              "7039          7362.90             0  \n",
              "7040           346.45             0  \n",
              "7041           306.60             1  \n",
              "7042          6844.50             0  \n",
              "\n",
              "[7043 rows x 20 columns]"
            ],
            "text/html": [
              "\n",
              "  <div id=\"df-4b5abb22-d94a-4f9a-9ee3-8c5c8e38813f\">\n",
              "    <div class=\"colab-df-container\">\n",
              "      <div>\n",
              "<style scoped>\n",
              "    .dataframe tbody tr th:only-of-type {\n",
              "        vertical-align: middle;\n",
              "    }\n",
              "\n",
              "    .dataframe tbody tr th {\n",
              "        vertical-align: top;\n",
              "    }\n",
              "\n",
              "    .dataframe thead th {\n",
              "        text-align: right;\n",
              "    }\n",
              "</style>\n",
              "<table border=\"1\" class=\"dataframe\">\n",
              "  <thead>\n",
              "    <tr style=\"text-align: right;\">\n",
              "      <th></th>\n",
              "      <th>Sexo</th>\n",
              "      <th>Idoso</th>\n",
              "      <th>Parceiro/a</th>\n",
              "      <th>Dependentes</th>\n",
              "      <th>Meses sob contrato</th>\n",
              "      <th>Serviço de telefone</th>\n",
              "      <th>+de 1 linha phone</th>\n",
              "      <th>Internet</th>\n",
              "      <th>Segurança online</th>\n",
              "      <th>Serviço Backup</th>\n",
              "      <th>Proteção</th>\n",
              "      <th>Suporte técnico</th>\n",
              "      <th>StreamingTV</th>\n",
              "      <th>StreamingMovies</th>\n",
              "      <th>Tipo de Contrato</th>\n",
              "      <th>Fatura em papel</th>\n",
              "      <th>Forma de Pgto</th>\n",
              "      <th>Valor do Plano</th>\n",
              "      <th>Total da Fatura</th>\n",
              "      <th>Rotatividade</th>\n",
              "    </tr>\n",
              "  </thead>\n",
              "  <tbody>\n",
              "    <tr>\n",
              "      <th>0</th>\n",
              "      <td>0</td>\n",
              "      <td>0</td>\n",
              "      <td>1</td>\n",
              "      <td>0</td>\n",
              "      <td>1</td>\n",
              "      <td>0</td>\n",
              "      <td>2</td>\n",
              "      <td>0</td>\n",
              "      <td>0</td>\n",
              "      <td>1</td>\n",
              "      <td>0</td>\n",
              "      <td>0</td>\n",
              "      <td>0</td>\n",
              "      <td>0</td>\n",
              "      <td>0</td>\n",
              "      <td>1</td>\n",
              "      <td>0</td>\n",
              "      <td>29.85</td>\n",
              "      <td>29.85</td>\n",
              "      <td>0</td>\n",
              "    </tr>\n",
              "    <tr>\n",
              "      <th>1</th>\n",
              "      <td>1</td>\n",
              "      <td>0</td>\n",
              "      <td>0</td>\n",
              "      <td>0</td>\n",
              "      <td>34</td>\n",
              "      <td>1</td>\n",
              "      <td>0</td>\n",
              "      <td>0</td>\n",
              "      <td>1</td>\n",
              "      <td>0</td>\n",
              "      <td>1</td>\n",
              "      <td>0</td>\n",
              "      <td>0</td>\n",
              "      <td>0</td>\n",
              "      <td>1</td>\n",
              "      <td>0</td>\n",
              "      <td>1</td>\n",
              "      <td>56.95</td>\n",
              "      <td>1889.50</td>\n",
              "      <td>0</td>\n",
              "    </tr>\n",
              "    <tr>\n",
              "      <th>2</th>\n",
              "      <td>1</td>\n",
              "      <td>0</td>\n",
              "      <td>0</td>\n",
              "      <td>0</td>\n",
              "      <td>2</td>\n",
              "      <td>1</td>\n",
              "      <td>0</td>\n",
              "      <td>0</td>\n",
              "      <td>1</td>\n",
              "      <td>1</td>\n",
              "      <td>0</td>\n",
              "      <td>0</td>\n",
              "      <td>0</td>\n",
              "      <td>0</td>\n",
              "      <td>0</td>\n",
              "      <td>1</td>\n",
              "      <td>1</td>\n",
              "      <td>53.85</td>\n",
              "      <td>108.15</td>\n",
              "      <td>1</td>\n",
              "    </tr>\n",
              "    <tr>\n",
              "      <th>3</th>\n",
              "      <td>1</td>\n",
              "      <td>0</td>\n",
              "      <td>0</td>\n",
              "      <td>0</td>\n",
              "      <td>45</td>\n",
              "      <td>0</td>\n",
              "      <td>2</td>\n",
              "      <td>0</td>\n",
              "      <td>1</td>\n",
              "      <td>0</td>\n",
              "      <td>1</td>\n",
              "      <td>1</td>\n",
              "      <td>0</td>\n",
              "      <td>0</td>\n",
              "      <td>1</td>\n",
              "      <td>0</td>\n",
              "      <td>2</td>\n",
              "      <td>42.30</td>\n",
              "      <td>1840.75</td>\n",
              "      <td>0</td>\n",
              "    </tr>\n",
              "    <tr>\n",
              "      <th>4</th>\n",
              "      <td>0</td>\n",
              "      <td>0</td>\n",
              "      <td>0</td>\n",
              "      <td>0</td>\n",
              "      <td>2</td>\n",
              "      <td>1</td>\n",
              "      <td>0</td>\n",
              "      <td>1</td>\n",
              "      <td>0</td>\n",
              "      <td>0</td>\n",
              "      <td>0</td>\n",
              "      <td>0</td>\n",
              "      <td>0</td>\n",
              "      <td>0</td>\n",
              "      <td>0</td>\n",
              "      <td>1</td>\n",
              "      <td>0</td>\n",
              "      <td>70.70</td>\n",
              "      <td>151.65</td>\n",
              "      <td>1</td>\n",
              "    </tr>\n",
              "    <tr>\n",
              "      <th>...</th>\n",
              "      <td>...</td>\n",
              "      <td>...</td>\n",
              "      <td>...</td>\n",
              "      <td>...</td>\n",
              "      <td>...</td>\n",
              "      <td>...</td>\n",
              "      <td>...</td>\n",
              "      <td>...</td>\n",
              "      <td>...</td>\n",
              "      <td>...</td>\n",
              "      <td>...</td>\n",
              "      <td>...</td>\n",
              "      <td>...</td>\n",
              "      <td>...</td>\n",
              "      <td>...</td>\n",
              "      <td>...</td>\n",
              "      <td>...</td>\n",
              "      <td>...</td>\n",
              "      <td>...</td>\n",
              "      <td>...</td>\n",
              "    </tr>\n",
              "    <tr>\n",
              "      <th>7038</th>\n",
              "      <td>1</td>\n",
              "      <td>0</td>\n",
              "      <td>1</td>\n",
              "      <td>1</td>\n",
              "      <td>24</td>\n",
              "      <td>1</td>\n",
              "      <td>1</td>\n",
              "      <td>0</td>\n",
              "      <td>1</td>\n",
              "      <td>0</td>\n",
              "      <td>1</td>\n",
              "      <td>1</td>\n",
              "      <td>1</td>\n",
              "      <td>1</td>\n",
              "      <td>1</td>\n",
              "      <td>1</td>\n",
              "      <td>1</td>\n",
              "      <td>84.80</td>\n",
              "      <td>1990.50</td>\n",
              "      <td>0</td>\n",
              "    </tr>\n",
              "    <tr>\n",
              "      <th>7039</th>\n",
              "      <td>0</td>\n",
              "      <td>0</td>\n",
              "      <td>1</td>\n",
              "      <td>1</td>\n",
              "      <td>72</td>\n",
              "      <td>1</td>\n",
              "      <td>1</td>\n",
              "      <td>1</td>\n",
              "      <td>0</td>\n",
              "      <td>1</td>\n",
              "      <td>1</td>\n",
              "      <td>0</td>\n",
              "      <td>1</td>\n",
              "      <td>1</td>\n",
              "      <td>1</td>\n",
              "      <td>1</td>\n",
              "      <td>3</td>\n",
              "      <td>103.20</td>\n",
              "      <td>7362.90</td>\n",
              "      <td>0</td>\n",
              "    </tr>\n",
              "    <tr>\n",
              "      <th>7040</th>\n",
              "      <td>0</td>\n",
              "      <td>0</td>\n",
              "      <td>1</td>\n",
              "      <td>1</td>\n",
              "      <td>11</td>\n",
              "      <td>0</td>\n",
              "      <td>2</td>\n",
              "      <td>0</td>\n",
              "      <td>1</td>\n",
              "      <td>0</td>\n",
              "      <td>0</td>\n",
              "      <td>0</td>\n",
              "      <td>0</td>\n",
              "      <td>0</td>\n",
              "      <td>0</td>\n",
              "      <td>1</td>\n",
              "      <td>0</td>\n",
              "      <td>29.60</td>\n",
              "      <td>346.45</td>\n",
              "      <td>0</td>\n",
              "    </tr>\n",
              "    <tr>\n",
              "      <th>7041</th>\n",
              "      <td>1</td>\n",
              "      <td>1</td>\n",
              "      <td>1</td>\n",
              "      <td>0</td>\n",
              "      <td>4</td>\n",
              "      <td>1</td>\n",
              "      <td>1</td>\n",
              "      <td>1</td>\n",
              "      <td>0</td>\n",
              "      <td>0</td>\n",
              "      <td>0</td>\n",
              "      <td>0</td>\n",
              "      <td>0</td>\n",
              "      <td>0</td>\n",
              "      <td>0</td>\n",
              "      <td>1</td>\n",
              "      <td>1</td>\n",
              "      <td>74.40</td>\n",
              "      <td>306.60</td>\n",
              "      <td>1</td>\n",
              "    </tr>\n",
              "    <tr>\n",
              "      <th>7042</th>\n",
              "      <td>1</td>\n",
              "      <td>0</td>\n",
              "      <td>0</td>\n",
              "      <td>0</td>\n",
              "      <td>66</td>\n",
              "      <td>1</td>\n",
              "      <td>0</td>\n",
              "      <td>1</td>\n",
              "      <td>1</td>\n",
              "      <td>0</td>\n",
              "      <td>1</td>\n",
              "      <td>1</td>\n",
              "      <td>1</td>\n",
              "      <td>1</td>\n",
              "      <td>2</td>\n",
              "      <td>1</td>\n",
              "      <td>2</td>\n",
              "      <td>105.65</td>\n",
              "      <td>6844.50</td>\n",
              "      <td>0</td>\n",
              "    </tr>\n",
              "  </tbody>\n",
              "</table>\n",
              "<p>7043 rows × 20 columns</p>\n",
              "</div>\n",
              "      <button class=\"colab-df-convert\" onclick=\"convertToInteractive('df-4b5abb22-d94a-4f9a-9ee3-8c5c8e38813f')\"\n",
              "              title=\"Convert this dataframe to an interactive table.\"\n",
              "              style=\"display:none;\">\n",
              "        \n",
              "  <svg xmlns=\"http://www.w3.org/2000/svg\" height=\"24px\"viewBox=\"0 0 24 24\"\n",
              "       width=\"24px\">\n",
              "    <path d=\"M0 0h24v24H0V0z\" fill=\"none\"/>\n",
              "    <path d=\"M18.56 5.44l.94 2.06.94-2.06 2.06-.94-2.06-.94-.94-2.06-.94 2.06-2.06.94zm-11 1L8.5 8.5l.94-2.06 2.06-.94-2.06-.94L8.5 2.5l-.94 2.06-2.06.94zm10 10l.94 2.06.94-2.06 2.06-.94-2.06-.94-.94-2.06-.94 2.06-2.06.94z\"/><path d=\"M17.41 7.96l-1.37-1.37c-.4-.4-.92-.59-1.43-.59-.52 0-1.04.2-1.43.59L10.3 9.45l-7.72 7.72c-.78.78-.78 2.05 0 2.83L4 21.41c.39.39.9.59 1.41.59.51 0 1.02-.2 1.41-.59l7.78-7.78 2.81-2.81c.8-.78.8-2.07 0-2.86zM5.41 20L4 18.59l7.72-7.72 1.47 1.35L5.41 20z\"/>\n",
              "  </svg>\n",
              "      </button>\n",
              "      \n",
              "  <style>\n",
              "    .colab-df-container {\n",
              "      display:flex;\n",
              "      flex-wrap:wrap;\n",
              "      gap: 12px;\n",
              "    }\n",
              "\n",
              "    .colab-df-convert {\n",
              "      background-color: #E8F0FE;\n",
              "      border: none;\n",
              "      border-radius: 50%;\n",
              "      cursor: pointer;\n",
              "      display: none;\n",
              "      fill: #1967D2;\n",
              "      height: 32px;\n",
              "      padding: 0 0 0 0;\n",
              "      width: 32px;\n",
              "    }\n",
              "\n",
              "    .colab-df-convert:hover {\n",
              "      background-color: #E2EBFA;\n",
              "      box-shadow: 0px 1px 2px rgba(60, 64, 67, 0.3), 0px 1px 3px 1px rgba(60, 64, 67, 0.15);\n",
              "      fill: #174EA6;\n",
              "    }\n",
              "\n",
              "    [theme=dark] .colab-df-convert {\n",
              "      background-color: #3B4455;\n",
              "      fill: #D2E3FC;\n",
              "    }\n",
              "\n",
              "    [theme=dark] .colab-df-convert:hover {\n",
              "      background-color: #434B5C;\n",
              "      box-shadow: 0px 1px 3px 1px rgba(0, 0, 0, 0.15);\n",
              "      filter: drop-shadow(0px 1px 2px rgba(0, 0, 0, 0.3));\n",
              "      fill: #FFFFFF;\n",
              "    }\n",
              "  </style>\n",
              "\n",
              "      <script>\n",
              "        const buttonEl =\n",
              "          document.querySelector('#df-4b5abb22-d94a-4f9a-9ee3-8c5c8e38813f button.colab-df-convert');\n",
              "        buttonEl.style.display =\n",
              "          google.colab.kernel.accessAllowed ? 'block' : 'none';\n",
              "\n",
              "        async function convertToInteractive(key) {\n",
              "          const element = document.querySelector('#df-4b5abb22-d94a-4f9a-9ee3-8c5c8e38813f');\n",
              "          const dataTable =\n",
              "            await google.colab.kernel.invokeFunction('convertToInteractive',\n",
              "                                                     [key], {});\n",
              "          if (!dataTable) return;\n",
              "\n",
              "          const docLinkHtml = 'Like what you see? Visit the ' +\n",
              "            '<a target=\"_blank\" href=https://colab.research.google.com/notebooks/data_table.ipynb>data table notebook</a>'\n",
              "            + ' to learn more about interactive tables.';\n",
              "          element.innerHTML = '';\n",
              "          dataTable['output_type'] = 'display_data';\n",
              "          await google.colab.output.renderOutput(dataTable, element);\n",
              "          const docLink = document.createElement('div');\n",
              "          docLink.innerHTML = docLinkHtml;\n",
              "          element.appendChild(docLink);\n",
              "        }\n",
              "      </script>\n",
              "    </div>\n",
              "  </div>\n",
              "  "
            ]
          },
          "metadata": {},
          "execution_count": 799
        }
      ]
    },
    {
      "cell_type": "code",
      "source": [],
      "metadata": {
        "id": "Djx18EI8Gbb9"
      },
      "execution_count": 800,
      "outputs": []
    }
  ]
}